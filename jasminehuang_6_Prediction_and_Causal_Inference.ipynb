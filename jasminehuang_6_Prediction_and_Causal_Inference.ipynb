{
  "cells": [
    {
      "cell_type": "markdown",
      "metadata": {
        "id": "MMiiqh-t08Ps"
      },
      "source": [
        "# Week 6 - Prediction & Causal Inference\n",
        "\n",
        "Last week, we explored (supervised) text classification, where we train a model to learn associations between text and some classification or value connected with it (e.g., what distinguishes a winning argument before the Supreme Court; can we extend our judgment regarding what documents are relevant to my thesis project to all of Google News; etc.) Classification often uses a representative sample of text about which we want to make inferences and then we use machine learning to learn \"true\" assignments and classify the rest.\n",
        "\n",
        "This week, we explore two different types of inferences to out-of-sample populations. _Prediction_ involves our reasoned expectation regarding an unobserved state of the world, given the world in which we live and on which we have trained our prediction algorithm. Often this prediction is about the future world. We don't expect the U.S. Congress to talk about the identical things today and tomorrow, but today should contain some useful information. by contrast _causal inference_ poses the related by distinct challenge of our reasoned expectations regarding an unobserved state of the world IF we intervene in some way. In other words, what does the intervention cause, and how can we predict it to change the world. Causality has a deeply contested history in social science and philosophy, but it usually involves an \"if,\" a difference between two counterfactual worlds, one where an event occurs and one where it doesn't.\n",
        "\n",
        "Causal questions in text analysis may place the text in one or more of many positions we explore below: as cause, effect, confounder, mediator (or moderator), or collider. For example, assuming that everything spoken can be transcribed into text, saying something mean might hurt someone's feelings (text as cause). Doing something mean might cause someone to say something angry (text as effect). Apologizing might change the influence of doing something mean (text as mediator/moderator). A compliment might obscure the effect of doing something mean (text as confounder). And yelling something audaciously mean might yield a loud, emotional response, which both influence the likelihood that the interaction was recorded and subjected to analysis (text as collider). As you can see, in a single conversation, text can play all of these roles. Why do we care about cause and effect with text? Because while words appear to exert power in the world, which words spoken under what circumstances by whom? Causal analysis attempts to get at the question, if _X_ was written or spoken, _Y_ would happen."
      ]
    },
    {
      "cell_type": "code",
      "execution_count": null,
      "metadata": {
        "id": "44QxaK-j08P1"
      },
      "outputs": [],
      "source": [
        "%%capture\n",
        "#Special module written for this class\n",
        "#This provides access to data and to helper functions from previous weeks\n",
        "#Make sure you update it before starting this notebook\n",
        "!pip install -U git+git://github.com/UChicago-Computational-Content-Analysis/lucem_illud.git\n",
        "!pip install transformers\n",
        "import lucem_illud #\n",
        "#All these packages need to be installed from pip\n",
        "import requests #For getting files\n",
        "import zipfile #For managing zips\n",
        "import numpy as np #For arrays\n",
        "import scipy as sp #For some stats\n",
        "import pandas as pd #Gives us DataFrames\n",
        "import numpy as np #Math and matrices\n",
        "import matplotlib.pyplot as plt #For graphics\n",
        "\n",
        "# statsmodels is a popular Python statistics package\n",
        "import statsmodels.api as sm\n",
        "# Let's also import its graphics module\n",
        "import statsmodels.graphics.api as smg\n",
        "# And the mediation module\n",
        "from statsmodels.stats.mediation import Mediation\n",
        "\n",
        "# Pipelines to add text-based quantiative variables for regressions\n",
        "from transformers import pipeline\n",
        "\n",
        "# We have a lot of features, so let's set Pandas to show all of them.\n",
        "pd.set_option('display.max_columns', None)"
      ]
    },
    {
      "cell_type": "markdown",
      "metadata": {
        "id": "LdtGW8JH08P4"
      },
      "source": [
        "# Prediction\n",
        "We can make predictions about a range of different text 'populations'. We can use texts in English to predict their translations in French. We can use newspaper articles from 2012 to 2022 to forecast the contents of 2023 newspaper articles (e.g., a [time series](https://en.wikipedia.org/wiki/Time_series)). Or we can \"nowcast\" by using real-time social information such as Tweets to predict when an important event is happening, such as a riot.\n",
        "\n",
        "If we don't have any information about how the new population will vary from the population we modeled, then prediction is implemented in the same way as in-sample inference. E.g., if you have a categorization of 2022 emails as spam or ham, you could predict whether 2023 emails are spam the same way you predicted 2022 emails. On the other hand, if you have new information, such as a trend beginning in December 2022 for spam emails to have \"Urgent:\" in the subject line, your 2023 prediction may differ by putting more weight on that indicator relative to others.\n",
        "\n",
        "In this way, prediction is similar to the classifications we performed last last week, incorporating multidimensional trends (e.g., time, place, source) learnable from your current corpus. We encourage you to think more about this if you are interested in predicting the future of your corpus!"
      ]
    },
    {
      "cell_type": "markdown",
      "metadata": {
        "id": "4ZbS6EJi08P5"
      },
      "source": [
        "## <font color=\"red\">*Exercise 1*</font>\n",
        "\n",
        "<font color=\"red\">Describe 2 separate predictions relevant to your project and associated texts, which involve predicting text that has not been observed based on patterns that have. Then, in a single, short paragraph, describe a research design through which you could use textual features and the tools of classification and regression to evaluate these predictions."
      ]
    },
    {
      "cell_type": "markdown",
      "source": [
        "I am interested in whether there's a statistically significant difference in the the length of lyrics and their genres. That is, do the genres of the songs X affect the numbers of words Y in lyrics? Does the gender Z of the artist affect both the length of the songs Y and the genres of the music X?\n",
        "I think certain genres (like rap music, for example) would have longer lyrics. Additionally, \"group\" performers might have longer lyrics as well, comparing to singular acts. \n",
        "\n",
        "To answer these questions, I perform record linkage to get gender information and group status (collapsed into one column \"Gender\"). I also extract the genre information from my dataset which comes with a tag columns with lists of all tags associated with the song. I will perform regressio analysis and access the strength and direction of the relationship by looking at relevent statistics like p=value and coefficient, t-statistic and R-squared."
      ],
      "metadata": {
        "id": "3znNbrKq1xtU"
      }
    },
    {
      "cell_type": "markdown",
      "metadata": {
        "id": "PtC4dYOy08P6"
      },
      "source": [
        "# Text in causal inference\n",
        "\n",
        "In causal inference, we are interested in the effect of a _treatment_ on an _outcome_. There are five types of variables that could be directly involved in our causal model, and any could be a text variable. This figure from [Keith et al. 2020](https://aclanthology.org/2020.acl-main.474.pdf) concisely shows the five positions for variables in acyclic (i.e., no arrows flow back into themselves) causal inference: treatment, mediator, outcome, confounder, and collider.\n",
        "\n",
        "<img src=\"https://raw.githubusercontent.com/UChicago-Computational-Content-Analysis/Homework-Notebooks/main/week-6/img/causal_diagram.png\" alt=\"https://raw.githubusercontent.com/UChicago-Computational-Content-Analysis/Homework-Notebooks/main/week-6/img/causal_diagram.png\" style=\"width:500px\">\n",
        "\n",
        "\"Text as treatment\" means the effect of text on other variables. For example, how does the news coverage of a politician affect their election chance? How does the sentiment of a Reddit post affect its upvotes?\n",
        "\n",
        "Whether we're interested in text as treatment, mediator, outcome, or confounder, we have at our disposal the same causal inference strategies used with other forms of data, such as matching, difference in difference, regression discontinuity, and instrumental variables. Each of these methods usually gives you a more precise conditional identification of the causal influence than regressing an effect on a singular (purported) cause. For example, one of the readings for this week, [Saha 2019](https://doi.org/10.1145/3292522.3326032), uses propensity score matching, which is a straightforward method that works on most datasets (see Professor Gary King on [coarsened exact matching](https://www.youtube.com/watch?v=tvMyjDi4dyg)). For this assignment, we do not detail each of these causal strategies, but note several courses at UChicago that introduce these methods, as well as online textbooks (e.g., Scott Cunningham's [Causal Inference: The Mixtape](https://mixtape.scunning.com/)).\n",
        "\n",
        "You can do causal inference on any sort of text data as long as you have a plausible _identification_ strategy, meaning an argument that you can correctly identify a causal effect if one exists using your data and analysis. For example, if you have a data from a randomized controlled trial (RCT) where you intervene randomly with some treatment, you can identify a causal effect with relative ease. Text exhibits a wide array of dependencies making unconditional randomization impossible, but we will attempt strategies that approach it. "
      ]
    },
    {
      "cell_type": "markdown",
      "metadata": {
        "id": "_BA_dCcb08P6"
      },
      "source": [
        "# Text as treatment and outcome\n",
        "\n",
        "To illustrate text as treatment and outcome, we will analyze a dataset of internet arguments. We have 8,895 pairs of comments, where one person makes a statement and the other responds. Our research question is thus: _How does the text of the first commenter affect the text of the respondent?_\n",
        "\n",
        "The data comes from the [Internet Argument Corpus](https://nlds.soe.ucsc.edu/iac). Let's load the data and take a look."
      ]
    },
    {
      "cell_type": "code",
      "execution_count": null,
      "metadata": {
        "id": "IWi8CO-o08P7"
      },
      "outputs": [],
      "source": [
        "url = 'http://nldslab.soe.ucsc.edu/iac/iac_v1.1.zip'\n",
        "\n",
        "req = requests.get(url)\n",
        "\n",
        "filename = url.split('/')[-1]\n",
        "with open(filename,'wb') as output_file:\n",
        "    output_file.write(req.content)\n",
        "print('Downloaded file: ' + url)"
      ]
    },
    {
      "cell_type": "code",
      "execution_count": null,
      "metadata": {
        "id": "1YvDUIIC08P8"
      },
      "outputs": [],
      "source": [
        "with zipfile.ZipFile('iac_v1.1.zip') as z:\n",
        "   with z.open('iac_v1.1/data/fourforums/annotations/mechanical_turk/qr_averages.csv') as f:\n",
        "      qr = pd.read_csv(f)\n",
        "\n",
        "   with z.open('iac_v1.1/data/fourforums/annotations/mechanical_turk/qr_meta.csv') as f:\n",
        "      md = pd.read_csv(f)\n",
        "\n",
        "# columns = ['key', 'nicenasty', 'questioning-asserting', 'negotiate-attack', 'fact-feeling']\n",
        "# qr_sub = qr[columns]\n",
        "# qr_sub = qr\n",
        "\n",
        "pairs = qr.merge(md, how='inner', on='key')\n",
        "pairs = pairs[~pairs.quote_post_id.isnull() & ~pairs.response_post_id.isnull()]\n",
        "pairs"
      ]
    },
    {
      "cell_type": "markdown",
      "metadata": {
        "id": "GuTyusms08P9"
      },
      "source": [
        "Note that each comment and response were annotated by workers on Amazon Mechanical Turk, which we piloted last week. Variables like \"agree-disagree\" are the averages of annotations made by workers on Mechanical Turk on an 11-point Likert scale (-5 to 5) using a slider. Workers were asked questions, and then had the opportunity to note whether or not their were \"unsure\" about their assessment (Boolean - Y/N):\n",
        "\n",
        "* __agree/disagree__ (Boolean -- Y/N): Does the respondent agree (0) OR disagree (1) with the prior post?\n",
        "* __sarcasm__ (Boolean -- Y/N): Is the respondent using sarcasm (1 - Y; 0 - N)?\n",
        "* __fact/feeling__  (-5 to 5): Is the respondent attempting to make a fact based argument (-5) OR appealing to feelings and emotions (+5)?\n",
        "* __attack/insult__ (-5 to 5): Is the respondent being supportive/respectful (-5) OR are they attacking/insulting in their writing (+5)?\n",
        "* __nice/nasty__ (-5 to 5): Is the respondent attempting to be nice (-5) OR is their attitude fairly nasty (+5)?\n",
        "* __audience__ (-5 to 5): Is the respondent's arguments intended more to be interacting directly with the original poster (-5) OR with a wider audience (+5)?\n",
        "* __undercutting__ (-5 to 5): Is the argument of the respondent targeted at the entirety of the original poster's argument (-5) OR is the argument of the respondent targed at a more specific idea within the post (+5)?\n",
        "* __negotiate/attack__ (-5 to 5): Does the respondent seem to have an argument of their own (-5) OR is the respondent simply attacking the original poster's argument (+5)?\n",
        "* __question/assert__ (-5 to 5): Is the respondent questioning the original poster (-5) OR is the respondent asserting their own ideas (+5)?\n",
        "\n",
        "Unfortunately the dataset only has the \"response\" annotated, not the original \"quote.\" However, some \"responses\" in this dataset are also \"quotes,\" meaning we can form triples of quote-response-response. Let's self-merge this dataframe to get these \"r1\" and \"r2\" pairs where both texts have annotations."
      ]
    },
    {
      "cell_type": "code",
      "execution_count": null,
      "metadata": {
        "id": "3JO2el4g08P-"
      },
      "outputs": [],
      "source": [
        "# Self-merge where the 'response' matches another 'quote' in the DataFrame\n",
        "triples = pairs.merge(pairs,left_on='response',right_on='quote',how='inner',suffixes=('_r1','_r2'))\n",
        "\n",
        "# Rename and reorder columns\n",
        "triples = triples.rename(columns={'quote_r1':'quote', 'quote_r2':'response1', 'response_r2':'response2'})\n",
        "triples = triples.drop(columns=['response_r1'])\n",
        "front_columns = [\n",
        "                 'quote','response1','response2','attack_r1','fact-feeling_r1','nicenasty_r1','sarcasm_r1',\n",
        "                 'agreement_r2'\n",
        "                ]\n",
        "triples = triples.dropna(subset=front_columns)\n",
        "triples = triples[front_columns].join(triples.drop(columns=front_columns))\n",
        "\n",
        "# Display triples\n",
        "triples"
      ]
    },
    {
      "cell_type": "markdown",
      "metadata": {
        "id": "1DthMTro08P_"
      },
      "source": [
        "Now we have 1,346 triples of quote-response1-response2, several text variables of response1 (e.g., \"Is the respondent using sarcasm?\") that may predict the agreement of response2. In other words: _Does a sarcastic comment lead to more agreement?_ Of course, as with almost all observational data, there are a number of confounders that make our identification difficult, but for now, let's explore how to run a simple regression in Python of agreement_r2 (dependent variable, commonly known as Y) on sarcasm_r1. Fortunately, we do have a strong case for identifying the direction of causality: Because response1 comes before response2, we can rule out the possibility that response2 affects response1."
      ]
    },
    {
      "cell_type": "code",
      "execution_count": null,
      "metadata": {
        "id": "cVjMONFR08P_"
      },
      "outputs": [],
      "source": [
        "# We build an Ordinary Least Squares (OLS) model of agreement_r2 on sarcasm_r1.\n",
        "# The function sm.add_constant() adds an intercept term to the regression (e.g., b in y = ax + b)\n",
        "y = triples['agreement_r2']\n",
        "X_cols = ['sarcasm_r1']\n",
        "X = sm.add_constant(triples[X_cols])\n",
        "\n",
        "lm1 = sm.OLS(y,X).fit()\n",
        "lm1.summary()"
      ]
    },
    {
      "cell_type": "markdown",
      "metadata": {
        "id": "rka4uI0K08QA"
      },
      "source": [
        "The p-value for sarcasm_r1 is 0.855, which means that we fail to reject the null hypothesis that there is no effect of sarcasm on agreement. However, we have other variables that may be confounding the effect of pure \"attack\" or pure \"sarcasm.\" Let's try adding 3 other annotations to the regression model."
      ]
    },
    {
      "cell_type": "code",
      "execution_count": null,
      "metadata": {
        "id": "w02zvfCO08QA"
      },
      "outputs": [],
      "source": [
        "y = triples['agreement_r2']\n",
        "X_cols = ['attack_r1','fact-feeling_r1','nicenasty_r1','sarcasm_r1']\n",
        "X = sm.add_constant(triples[X_cols])\n",
        "\n",
        "lm2 = sm.OLS(y,X).fit()\n",
        "lm2.summary()"
      ]
    },
    {
      "cell_type": "markdown",
      "metadata": {
        "id": "b7A-z_KE08QB"
      },
      "source": [
        "The condition number (bottom-right of the output above) is 12.8, indicating high correlations between our predictors or collinearity. This is one of many issues to look out for when running regressions. Let's take a look at the correlations:"
      ]
    },
    {
      "cell_type": "code",
      "execution_count": null,
      "metadata": {
        "id": "rGYVj-_u08QB"
      },
      "outputs": [],
      "source": [
        "corr_matrix = np.corrcoef(triples[X_cols].T)\n",
        "smg.plot_corr(corr_matrix, xnames=X_cols)\n",
        "plt.show()"
      ]
    },
    {
      "cell_type": "markdown",
      "metadata": {
        "id": "IZiRXD4308QC"
      },
      "source": [
        "That's very high correlation between attack_r1 and nicenasty_r1 (recall that nasty is +5...this should be no surprise)! We found a significant effect of attack_r1, but not of nicenasty_r1. If we remove attack_r1 from the model, do you think nicenasty_r1 will be significant?"
      ]
    },
    {
      "cell_type": "code",
      "execution_count": null,
      "metadata": {
        "id": "D3qG_py308QC"
      },
      "outputs": [],
      "source": [
        "y = triples['agreement_r2']\n",
        "X_cols = ['fact-feeling_r1','nicenasty_r1','sarcasm_r1']\n",
        "X = sm.add_constant(triples[X_cols])\n",
        "\n",
        "lm2 = sm.OLS(y,X).fit()\n",
        "lm2.summary()"
      ]
    },
    {
      "cell_type": "markdown",
      "metadata": {
        "id": "Gu4gfM-q08QC"
      },
      "source": [
        "Yes, it is! And the t-value is even larger (i.e., stronger evidence of an effect). With this new regression model, we see a significant effect from attack_r1/nicenasty_r1 and sarcasm_r1, indicating both of these dimensions affect whether the response2 agrees with response1. Note that the coefficients are both positive: For attack_r1/nicenasty_r1, this means that a more \"nasty\" comment led to more disagreement, and for sarcasm_r1, this means that a more sarcasistic comment led to more disagreement.\n",
        "\n",
        "For good measure, we can add other variables ourselves, such as sentiment and the character length of the comment. The length may be particularly important based on how it affects the annotations of Mechanical Turk workers. For example, as we were skimming through the data, it seemed like shorter comments were being rated as more nasty. For sentiment, let's use the convenient BERT pipeline we used last week and which we will detail and theorize in weeks to come."
      ]
    },
    {
      "cell_type": "code",
      "execution_count": null,
      "metadata": {
        "id": "XvNKV7Vf08QD"
      },
      "outputs": [],
      "source": [
        "triples['length_r1'] = triples['response1'].apply(lambda x: len(x))\n",
        "triples['length_r2'] = triples['response2'].apply(lambda x: len(x))"
      ]
    },
    {
      "cell_type": "code",
      "execution_count": null,
      "metadata": {
        "id": "zUTQ5vWp08QD"
      },
      "outputs": [],
      "source": [
        "sentiment = pipeline(\"sentiment-analysis\")\n",
        "result = sentiment(\"I hate you\")[0]\n",
        "print(f\"label: {result['label']}, with score: {round(result['score'], 4)}\")"
      ]
    },
    {
      "cell_type": "markdown",
      "metadata": {
        "id": "rP4fAKUd08QD"
      },
      "source": [
        "This version of BERT is built only for texts of up to 512 tokens, so for comments longer than that, we truncate."
      ]
    },
    {
      "cell_type": "code",
      "execution_count": null,
      "metadata": {
        "id": "_ZuomFjv08QD"
      },
      "outputs": [],
      "source": [
        "%%time\n",
        "\n",
        "triples['sentiment_r1'] = triples['response1'].apply(lambda x: sentiment(x[:512])[0]['score'])\n",
        "triples['sentiment_r2'] = triples['response2'].apply(lambda x: sentiment(x[:512])[0]['score'])"
      ]
    },
    {
      "cell_type": "code",
      "execution_count": null,
      "metadata": {
        "id": "JYLg_iY208QE"
      },
      "outputs": [],
      "source": [
        "y = triples['agreement_r2']\n",
        "X_cols = ['fact-feeling_r1','nicenasty_r1','sarcasm_r1','length_r1','sentiment_r1']\n",
        "X = sm.add_constant(triples[X_cols])\n",
        "\n",
        "lm2 = sm.OLS(y,X).fit()\n",
        "lm2.summary()"
      ]
    },
    {
      "cell_type": "code",
      "execution_count": null,
      "metadata": {
        "id": "a8RZ5IgU08QE"
      },
      "outputs": [],
      "source": [
        "corr_matrix = np.corrcoef(triples[X_cols].T)\n",
        "smg.plot_corr(corr_matrix, xnames=X_cols)\n",
        "plt.show()"
      ]
    },
    {
      "cell_type": "markdown",
      "metadata": {
        "id": "RM8s5vAo08QF"
      },
      "source": [
        "The condition number is reasonably high, but our correlatons do not seem too strong. Overall, our finding of significant effects for attack_r1/nasty_r1 and sarcasm_r1 persists with these new controls! This sort of robustness or sensitivity analysis is important for making sure your finding is compelling to yourself and to your audience. Consider doing other robustness checks, such as standardizing these variables before running the regression or adding [robust standard errors](https://en.wikipedia.org/wiki/Heteroscedasticity-consistent_standard_errors). (To be clear, the analysis above would likely not be sufficient as proof of a causal effect for a peer-reviewed journal; you would likely need a more conditional approach using matching, instruments or differences in differences.)"
      ]
    },
    {
      "cell_type": "markdown",
      "metadata": {
        "id": "9-UK_CQO_XPo"
      },
      "source": [
        "## <font color=\"red\">*Exercise 2*</font>\n",
        "\n",
        "<font color=\"red\">Propose a simple causal model in your data, or a different causal model in the annotated Internet Arguments Corpus (e.g., a different treatment, a different outcome), and test it using a linear or logistic regression model. If you are using social media data for your final project, we encourage you to classify or annotate a sample of that data (either compuationally or with human annotators) and examine the effect of texts on replies to that text (e.g., Reddit posts on Reddit comments, Tweets on Twitter replies, YouTube video transcripts on YouTube comments or ratings). You do not need to make a graph of the causal model, but please make it clear (e.g., \"X affects Y, and C affects both X and Y.\").\n",
        "    \n",
        "<font color=\"red\">Also consider using the [ConvoKit datasets](https://convokit.cornell.edu/documentation/datasets.html)! Anytime there is conversation, there is an opportunity to explore the effects of early parts of the conversation on later parts. We will explore this further in Week 8 on Text Generation and Conversation.\n",
        "    \n",
        "<font color=\"red\">***Stretch*** (not required): Propose a more robust identification strategy using either matching, difference in difference, regression discontinuity, or an instrumental variable. Each of these methods usually gives you a more precise identification of the causal effect than a unconditional regression. Scott Cunningham's [Causal Inference: The Mixtape](https://mixtape.scunning.com/) is a free textbook on these topics, and all have good YouTube video explanations."
      ]
    },
    {
      "cell_type": "markdown",
      "source": [
        "\n",
        "My model:\n",
        "\n",
        "Genres --> length of songs\n",
        "\n",
        "\n",
        "Gender of the aritst affects both genres and length of songs"
      ],
      "metadata": {
        "id": "PlRo8ASxKsOH"
      }
    },
    {
      "cell_type": "code",
      "source": [
        "data = pd.read_csv(\"sp_bb_matched.csv\", index_col = 0)\n",
        "data.columns"
      ],
      "metadata": {
        "colab": {
          "base_uri": "https://localhost:8080/"
        },
        "id": "_a8cdHKFLDnD",
        "outputId": "ef877285-9d95-4e36-d762-43c84d4ff7a6"
      },
      "execution_count": null,
      "outputs": [
        {
          "output_type": "execute_result",
          "data": {
            "text/plain": [
              "Index(['artist', 'lyrics', 'year', 'edm', 'latin', 'pop', 'r&b', 'rap', 'rock',\n",
              "       'Gender', 'year_bin', 'artist_lower', 'gender_matched'],\n",
              "      dtype='object')"
            ]
          },
          "metadata": {},
          "execution_count": 5
        }
      ]
    },
    {
      "cell_type": "code",
      "source": [
        "sentiment = pipeline(\"sentiment-analysis\")\n",
        "result = sentiment(\"I hate you\")[0]\n",
        "print(f\"label: {result['label']}, with score: {round(result['score'], 4)}\")"
      ],
      "metadata": {
        "colab": {
          "base_uri": "https://localhost:8080/",
          "height": 162,
          "referenced_widgets": [
            "642f7a091359426ab51709487b35ca02",
            "ce122659d0494dbb83afdcf246eaaf59",
            "eab841ef83cc41399cece064ddc3d019",
            "b356815fc99349c79e996c4fe4b09cad",
            "249bb25cd19a4332a1949f56a5a53710",
            "6aaa6edb82ed47dd9c7835ead88b695d",
            "3689e6c1caac42f5bb581bbe8d44da37",
            "4a7c29e42ec340ceaa7b0329fd4e8b00",
            "30500cb7328f41efac11fc791c64529d",
            "ebee4ed62a0f4e9c84a63fae37e98f45",
            "178c33b804d241ebb5a8197abc8a561f",
            "7cf34e97bc364cb5b736c36525d16b4e",
            "29233f3af8314d8e906bc90e5df8884f",
            "5892d3ec94414341a42df0ec30d9f9ff",
            "35787c94000e4af3bdfaafa3293af8e6",
            "028dc8d16622443aa7b6a14af38d8854",
            "f952dc72c9b84f628ba4a2a791ff36b7",
            "c4197da98fed4489bfd029dbe98fa8d6",
            "035313bec5d541b295d59c0fe792d37c",
            "e9be4e5afd844ccf9ed20de26c2e5cbc",
            "1336a31b65264ae8a7082cf34aebd937",
            "bf28e66781e0485fa637d47b552ad275",
            "b7f879a6c75640dabc2582cbfbe244ff",
            "ebe5035b0a324f9289726595b36c1457",
            "38d171802d4c49148c3ad8956c21a2ba",
            "a2f72ca683d54023b9cc677429a899ac",
            "2b57cf40920148589665e43b5d6bd00a",
            "2dd87fa5076e4c559240e2b13ba03e24",
            "24ad34e09b41426085fe531cabe6cc7f",
            "9dad85d245eb4fd597b58be32d370496",
            "4878557c0e404f7eb473695593439b85",
            "2fe6d848f9654e31bf4f679987252d7f",
            "6b1a5ba4f1fd44d084a0a69ba8262b40",
            "6c2033a57ee149f3945beeaa816b6282",
            "faf1d09b84a84138a3f0346cc2d3a9c5",
            "153d7b7f9e484c3aa1f86589bfdf1f97",
            "16e775e0633546a5940c30f3cd0ea285",
            "6c78b2bb8ab64105ac993d970d74bf39",
            "f82734ac067b46cdac89b813b6a900ee",
            "c3c1370a92d44d99a1d7b5f6efb4bea2",
            "3f8c1ceeeb9241ef94c479de3d34ab08",
            "238f40f9d68e462dbd25287502213d47",
            "bc6ad31ec5d843c8ba9176cfe02ec591",
            "a520caaec98845818632e52478cb5592"
          ]
        },
        "id": "fxAkmkTk65Xp",
        "outputId": "2eef2aad-d41e-4519-87d3-1d9290e7f4a7"
      },
      "execution_count": null,
      "outputs": [
        {
          "output_type": "display_data",
          "data": {
            "application/vnd.jupyter.widget-view+json": {
              "model_id": "642f7a091359426ab51709487b35ca02",
              "version_minor": 0,
              "version_major": 2
            },
            "text/plain": [
              "Downloading:   0%|          | 0.00/629 [00:00<?, ?B/s]"
            ]
          },
          "metadata": {}
        },
        {
          "output_type": "display_data",
          "data": {
            "application/vnd.jupyter.widget-view+json": {
              "model_id": "7cf34e97bc364cb5b736c36525d16b4e",
              "version_minor": 0,
              "version_major": 2
            },
            "text/plain": [
              "Downloading:   0%|          | 0.00/255M [00:00<?, ?B/s]"
            ]
          },
          "metadata": {}
        },
        {
          "output_type": "display_data",
          "data": {
            "application/vnd.jupyter.widget-view+json": {
              "model_id": "b7f879a6c75640dabc2582cbfbe244ff",
              "version_minor": 0,
              "version_major": 2
            },
            "text/plain": [
              "Downloading:   0%|          | 0.00/48.0 [00:00<?, ?B/s]"
            ]
          },
          "metadata": {}
        },
        {
          "output_type": "display_data",
          "data": {
            "application/vnd.jupyter.widget-view+json": {
              "model_id": "6c2033a57ee149f3945beeaa816b6282",
              "version_minor": 0,
              "version_major": 2
            },
            "text/plain": [
              "Downloading:   0%|          | 0.00/226k [00:00<?, ?B/s]"
            ]
          },
          "metadata": {}
        },
        {
          "output_type": "stream",
          "name": "stdout",
          "text": [
            "label: NEGATIVE, with score: 0.9991\n"
          ]
        }
      ]
    },
    {
      "cell_type": "code",
      "source": [
        "data.gender_matched.value_counts()"
      ],
      "metadata": {
        "colab": {
          "base_uri": "https://localhost:8080/"
        },
        "id": "M-g1eJw-Nelh",
        "outputId": "1dea206f-70e1-4211-ed59-f880aa76cfcd"
      },
      "execution_count": null,
      "outputs": [
        {
          "output_type": "execute_result",
          "data": {
            "text/plain": [
              "male                 6775\n",
              "Unknown              4660\n",
              "Group                4604\n",
              "female               1759\n",
              "non-binary             42\n",
              "genderfluid            21\n",
              "androgynous            10\n",
              "genderqueer             7\n",
              "transgender woman       5\n",
              "Name: gender_matched, dtype: int64"
            ]
          },
          "metadata": {},
          "execution_count": 14
        }
      ]
    },
    {
      "cell_type": "code",
      "source": [
        "gender = data.loc[data.gender_matched.isin(['male', 'Group', 'female'])]"
      ],
      "metadata": {
        "id": "6Yzzw-rKNRqJ"
      },
      "execution_count": null,
      "outputs": []
    },
    {
      "cell_type": "code",
      "source": [
        "gender['sentiment'] = gender['lyrics'].apply(lambda x: sentiment(x[:512])[0]['score'])"
      ],
      "metadata": {
        "colab": {
          "base_uri": "https://localhost:8080/",
          "height": 1000
        },
        "id": "axePGtuT7Oel",
        "outputId": "b77b5f67-2df5-469f-fbfd-3d60a6076142"
      },
      "execution_count": null,
      "outputs": [
        {
          "output_type": "error",
          "ename": "RuntimeError",
          "evalue": "ignored",
          "traceback": [
            "\u001b[0;31m---------------------------------------------------------------------------\u001b[0m",
            "\u001b[0;31mRuntimeError\u001b[0m                              Traceback (most recent call last)",
            "\u001b[0;32m<ipython-input-11-d5d2a05ba240>\u001b[0m in \u001b[0;36m<module>\u001b[0;34m()\u001b[0m\n\u001b[0;32m----> 1\u001b[0;31m \u001b[0mgender\u001b[0m\u001b[0;34m[\u001b[0m\u001b[0;34m'sentiment'\u001b[0m\u001b[0;34m]\u001b[0m \u001b[0;34m=\u001b[0m \u001b[0mgender\u001b[0m\u001b[0;34m[\u001b[0m\u001b[0;34m'lyrics'\u001b[0m\u001b[0;34m]\u001b[0m\u001b[0;34m.\u001b[0m\u001b[0mapply\u001b[0m\u001b[0;34m(\u001b[0m\u001b[0;32mlambda\u001b[0m \u001b[0mx\u001b[0m\u001b[0;34m:\u001b[0m \u001b[0msentiment\u001b[0m\u001b[0;34m(\u001b[0m\u001b[0mx\u001b[0m\u001b[0;34m[\u001b[0m\u001b[0;34m:\u001b[0m\u001b[0;36m512\u001b[0m\u001b[0;34m]\u001b[0m\u001b[0;34m)\u001b[0m\u001b[0;34m[\u001b[0m\u001b[0;36m0\u001b[0m\u001b[0;34m]\u001b[0m\u001b[0;34m[\u001b[0m\u001b[0;34m'score'\u001b[0m\u001b[0;34m]\u001b[0m\u001b[0;34m)\u001b[0m\u001b[0;34m\u001b[0m\u001b[0;34m\u001b[0m\u001b[0m\n\u001b[0m",
            "\u001b[0;32m/usr/local/lib/python3.7/dist-packages/pandas/core/series.py\u001b[0m in \u001b[0;36mapply\u001b[0;34m(self, func, convert_dtype, args, **kwargs)\u001b[0m\n\u001b[1;32m   4355\u001b[0m         \u001b[0mdtype\u001b[0m\u001b[0;34m:\u001b[0m \u001b[0mfloat64\u001b[0m\u001b[0;34m\u001b[0m\u001b[0;34m\u001b[0m\u001b[0m\n\u001b[1;32m   4356\u001b[0m         \"\"\"\n\u001b[0;32m-> 4357\u001b[0;31m         \u001b[0;32mreturn\u001b[0m \u001b[0mSeriesApply\u001b[0m\u001b[0;34m(\u001b[0m\u001b[0mself\u001b[0m\u001b[0;34m,\u001b[0m \u001b[0mfunc\u001b[0m\u001b[0;34m,\u001b[0m \u001b[0mconvert_dtype\u001b[0m\u001b[0;34m,\u001b[0m \u001b[0margs\u001b[0m\u001b[0;34m,\u001b[0m \u001b[0mkwargs\u001b[0m\u001b[0;34m)\u001b[0m\u001b[0;34m.\u001b[0m\u001b[0mapply\u001b[0m\u001b[0;34m(\u001b[0m\u001b[0;34m)\u001b[0m\u001b[0;34m\u001b[0m\u001b[0;34m\u001b[0m\u001b[0m\n\u001b[0m\u001b[1;32m   4358\u001b[0m \u001b[0;34m\u001b[0m\u001b[0m\n\u001b[1;32m   4359\u001b[0m     def _reduce(\n",
            "\u001b[0;32m/usr/local/lib/python3.7/dist-packages/pandas/core/apply.py\u001b[0m in \u001b[0;36mapply\u001b[0;34m(self)\u001b[0m\n\u001b[1;32m   1041\u001b[0m             \u001b[0;32mreturn\u001b[0m \u001b[0mself\u001b[0m\u001b[0;34m.\u001b[0m\u001b[0mapply_str\u001b[0m\u001b[0;34m(\u001b[0m\u001b[0;34m)\u001b[0m\u001b[0;34m\u001b[0m\u001b[0;34m\u001b[0m\u001b[0m\n\u001b[1;32m   1042\u001b[0m \u001b[0;34m\u001b[0m\u001b[0m\n\u001b[0;32m-> 1043\u001b[0;31m         \u001b[0;32mreturn\u001b[0m \u001b[0mself\u001b[0m\u001b[0;34m.\u001b[0m\u001b[0mapply_standard\u001b[0m\u001b[0;34m(\u001b[0m\u001b[0;34m)\u001b[0m\u001b[0;34m\u001b[0m\u001b[0;34m\u001b[0m\u001b[0m\n\u001b[0m\u001b[1;32m   1044\u001b[0m \u001b[0;34m\u001b[0m\u001b[0m\n\u001b[1;32m   1045\u001b[0m     \u001b[0;32mdef\u001b[0m \u001b[0magg\u001b[0m\u001b[0;34m(\u001b[0m\u001b[0mself\u001b[0m\u001b[0;34m)\u001b[0m\u001b[0;34m:\u001b[0m\u001b[0;34m\u001b[0m\u001b[0;34m\u001b[0m\u001b[0m\n",
            "\u001b[0;32m/usr/local/lib/python3.7/dist-packages/pandas/core/apply.py\u001b[0m in \u001b[0;36mapply_standard\u001b[0;34m(self)\u001b[0m\n\u001b[1;32m   1099\u001b[0m                     \u001b[0mvalues\u001b[0m\u001b[0;34m,\u001b[0m\u001b[0;34m\u001b[0m\u001b[0;34m\u001b[0m\u001b[0m\n\u001b[1;32m   1100\u001b[0m                     \u001b[0mf\u001b[0m\u001b[0;34m,\u001b[0m  \u001b[0;31m# type: ignore[arg-type]\u001b[0m\u001b[0;34m\u001b[0m\u001b[0;34m\u001b[0m\u001b[0m\n\u001b[0;32m-> 1101\u001b[0;31m                     \u001b[0mconvert\u001b[0m\u001b[0;34m=\u001b[0m\u001b[0mself\u001b[0m\u001b[0;34m.\u001b[0m\u001b[0mconvert_dtype\u001b[0m\u001b[0;34m,\u001b[0m\u001b[0;34m\u001b[0m\u001b[0;34m\u001b[0m\u001b[0m\n\u001b[0m\u001b[1;32m   1102\u001b[0m                 )\n\u001b[1;32m   1103\u001b[0m \u001b[0;34m\u001b[0m\u001b[0m\n",
            "\u001b[0;32m/usr/local/lib/python3.7/dist-packages/pandas/_libs/lib.pyx\u001b[0m in \u001b[0;36mpandas._libs.lib.map_infer\u001b[0;34m()\u001b[0m\n",
            "\u001b[0;32m<ipython-input-11-d5d2a05ba240>\u001b[0m in \u001b[0;36m<lambda>\u001b[0;34m(x)\u001b[0m\n\u001b[0;32m----> 1\u001b[0;31m \u001b[0mgender\u001b[0m\u001b[0;34m[\u001b[0m\u001b[0;34m'sentiment'\u001b[0m\u001b[0;34m]\u001b[0m \u001b[0;34m=\u001b[0m \u001b[0mgender\u001b[0m\u001b[0;34m[\u001b[0m\u001b[0;34m'lyrics'\u001b[0m\u001b[0;34m]\u001b[0m\u001b[0;34m.\u001b[0m\u001b[0mapply\u001b[0m\u001b[0;34m(\u001b[0m\u001b[0;32mlambda\u001b[0m \u001b[0mx\u001b[0m\u001b[0;34m:\u001b[0m \u001b[0msentiment\u001b[0m\u001b[0;34m(\u001b[0m\u001b[0mx\u001b[0m\u001b[0;34m[\u001b[0m\u001b[0;34m:\u001b[0m\u001b[0;36m512\u001b[0m\u001b[0;34m]\u001b[0m\u001b[0;34m)\u001b[0m\u001b[0;34m[\u001b[0m\u001b[0;36m0\u001b[0m\u001b[0;34m]\u001b[0m\u001b[0;34m[\u001b[0m\u001b[0;34m'score'\u001b[0m\u001b[0;34m]\u001b[0m\u001b[0;34m)\u001b[0m\u001b[0;34m\u001b[0m\u001b[0;34m\u001b[0m\u001b[0m\n\u001b[0m",
            "\u001b[0;32m/usr/local/lib/python3.7/dist-packages/transformers/pipelines/text_classification.py\u001b[0m in \u001b[0;36m__call__\u001b[0;34m(self, *args, **kwargs)\u001b[0m\n\u001b[1;32m    123\u001b[0m             \u001b[0mIf\u001b[0m\u001b[0;31m \u001b[0m\u001b[0;31m`\u001b[0m\u001b[0mself\u001b[0m\u001b[0;34m.\u001b[0m\u001b[0mreturn_all_scores\u001b[0m\u001b[0;34m=\u001b[0m\u001b[0;32mTrue\u001b[0m\u001b[0;31m`\u001b[0m\u001b[0;34m,\u001b[0m \u001b[0mone\u001b[0m \u001b[0msuch\u001b[0m \u001b[0mdictionary\u001b[0m \u001b[0;32mis\u001b[0m \u001b[0mreturned\u001b[0m \u001b[0mper\u001b[0m \u001b[0mlabel\u001b[0m\u001b[0;34m.\u001b[0m\u001b[0;34m\u001b[0m\u001b[0;34m\u001b[0m\u001b[0m\n\u001b[1;32m    124\u001b[0m         \"\"\"\n\u001b[0;32m--> 125\u001b[0;31m         \u001b[0mresult\u001b[0m \u001b[0;34m=\u001b[0m \u001b[0msuper\u001b[0m\u001b[0;34m(\u001b[0m\u001b[0;34m)\u001b[0m\u001b[0;34m.\u001b[0m\u001b[0m__call__\u001b[0m\u001b[0;34m(\u001b[0m\u001b[0;34m*\u001b[0m\u001b[0margs\u001b[0m\u001b[0;34m,\u001b[0m \u001b[0;34m**\u001b[0m\u001b[0mkwargs\u001b[0m\u001b[0;34m)\u001b[0m\u001b[0;34m\u001b[0m\u001b[0;34m\u001b[0m\u001b[0m\n\u001b[0m\u001b[1;32m    126\u001b[0m         \u001b[0;32mif\u001b[0m \u001b[0misinstance\u001b[0m\u001b[0;34m(\u001b[0m\u001b[0margs\u001b[0m\u001b[0;34m[\u001b[0m\u001b[0;36m0\u001b[0m\u001b[0;34m]\u001b[0m\u001b[0;34m,\u001b[0m \u001b[0mstr\u001b[0m\u001b[0;34m)\u001b[0m\u001b[0;34m:\u001b[0m\u001b[0;34m\u001b[0m\u001b[0;34m\u001b[0m\u001b[0m\n\u001b[1;32m    127\u001b[0m             \u001b[0;31m# This pipeline is odd, and return a list when single item is run\u001b[0m\u001b[0;34m\u001b[0m\u001b[0;34m\u001b[0m\u001b[0;34m\u001b[0m\u001b[0m\n",
            "\u001b[0;32m/usr/local/lib/python3.7/dist-packages/transformers/pipelines/base.py\u001b[0m in \u001b[0;36m__call__\u001b[0;34m(self, inputs, num_workers, batch_size, *args, **kwargs)\u001b[0m\n\u001b[1;32m   1004\u001b[0m             \u001b[0;32mreturn\u001b[0m \u001b[0mself\u001b[0m\u001b[0;34m.\u001b[0m\u001b[0miterate\u001b[0m\u001b[0;34m(\u001b[0m\u001b[0minputs\u001b[0m\u001b[0;34m,\u001b[0m \u001b[0mpreprocess_params\u001b[0m\u001b[0;34m,\u001b[0m \u001b[0mforward_params\u001b[0m\u001b[0;34m,\u001b[0m \u001b[0mpostprocess_params\u001b[0m\u001b[0;34m)\u001b[0m\u001b[0;34m\u001b[0m\u001b[0;34m\u001b[0m\u001b[0m\n\u001b[1;32m   1005\u001b[0m         \u001b[0;32melse\u001b[0m\u001b[0;34m:\u001b[0m\u001b[0;34m\u001b[0m\u001b[0;34m\u001b[0m\u001b[0m\n\u001b[0;32m-> 1006\u001b[0;31m             \u001b[0;32mreturn\u001b[0m \u001b[0mself\u001b[0m\u001b[0;34m.\u001b[0m\u001b[0mrun_single\u001b[0m\u001b[0;34m(\u001b[0m\u001b[0minputs\u001b[0m\u001b[0;34m,\u001b[0m \u001b[0mpreprocess_params\u001b[0m\u001b[0;34m,\u001b[0m \u001b[0mforward_params\u001b[0m\u001b[0;34m,\u001b[0m \u001b[0mpostprocess_params\u001b[0m\u001b[0;34m)\u001b[0m\u001b[0;34m\u001b[0m\u001b[0;34m\u001b[0m\u001b[0m\n\u001b[0m\u001b[1;32m   1007\u001b[0m \u001b[0;34m\u001b[0m\u001b[0m\n\u001b[1;32m   1008\u001b[0m     \u001b[0;32mdef\u001b[0m \u001b[0mrun_multi\u001b[0m\u001b[0;34m(\u001b[0m\u001b[0mself\u001b[0m\u001b[0;34m,\u001b[0m \u001b[0minputs\u001b[0m\u001b[0;34m,\u001b[0m \u001b[0mpreprocess_params\u001b[0m\u001b[0;34m,\u001b[0m \u001b[0mforward_params\u001b[0m\u001b[0;34m,\u001b[0m \u001b[0mpostprocess_params\u001b[0m\u001b[0;34m)\u001b[0m\u001b[0;34m:\u001b[0m\u001b[0;34m\u001b[0m\u001b[0;34m\u001b[0m\u001b[0m\n",
            "\u001b[0;32m/usr/local/lib/python3.7/dist-packages/transformers/pipelines/base.py\u001b[0m in \u001b[0;36mrun_single\u001b[0;34m(self, inputs, preprocess_params, forward_params, postprocess_params)\u001b[0m\n\u001b[1;32m   1011\u001b[0m     \u001b[0;32mdef\u001b[0m \u001b[0mrun_single\u001b[0m\u001b[0;34m(\u001b[0m\u001b[0mself\u001b[0m\u001b[0;34m,\u001b[0m \u001b[0minputs\u001b[0m\u001b[0;34m,\u001b[0m \u001b[0mpreprocess_params\u001b[0m\u001b[0;34m,\u001b[0m \u001b[0mforward_params\u001b[0m\u001b[0;34m,\u001b[0m \u001b[0mpostprocess_params\u001b[0m\u001b[0;34m)\u001b[0m\u001b[0;34m:\u001b[0m\u001b[0;34m\u001b[0m\u001b[0;34m\u001b[0m\u001b[0m\n\u001b[1;32m   1012\u001b[0m         \u001b[0mmodel_inputs\u001b[0m \u001b[0;34m=\u001b[0m \u001b[0mself\u001b[0m\u001b[0;34m.\u001b[0m\u001b[0mpreprocess\u001b[0m\u001b[0;34m(\u001b[0m\u001b[0minputs\u001b[0m\u001b[0;34m,\u001b[0m \u001b[0;34m**\u001b[0m\u001b[0mpreprocess_params\u001b[0m\u001b[0;34m)\u001b[0m\u001b[0;34m\u001b[0m\u001b[0;34m\u001b[0m\u001b[0m\n\u001b[0;32m-> 1013\u001b[0;31m         \u001b[0mmodel_outputs\u001b[0m \u001b[0;34m=\u001b[0m \u001b[0mself\u001b[0m\u001b[0;34m.\u001b[0m\u001b[0mforward\u001b[0m\u001b[0;34m(\u001b[0m\u001b[0mmodel_inputs\u001b[0m\u001b[0;34m,\u001b[0m \u001b[0;34m**\u001b[0m\u001b[0mforward_params\u001b[0m\u001b[0;34m)\u001b[0m\u001b[0;34m\u001b[0m\u001b[0;34m\u001b[0m\u001b[0m\n\u001b[0m\u001b[1;32m   1014\u001b[0m         \u001b[0moutputs\u001b[0m \u001b[0;34m=\u001b[0m \u001b[0mself\u001b[0m\u001b[0;34m.\u001b[0m\u001b[0mpostprocess\u001b[0m\u001b[0;34m(\u001b[0m\u001b[0mmodel_outputs\u001b[0m\u001b[0;34m,\u001b[0m \u001b[0;34m**\u001b[0m\u001b[0mpostprocess_params\u001b[0m\u001b[0;34m)\u001b[0m\u001b[0;34m\u001b[0m\u001b[0;34m\u001b[0m\u001b[0m\n\u001b[1;32m   1015\u001b[0m         \u001b[0;32mreturn\u001b[0m \u001b[0moutputs\u001b[0m\u001b[0;34m\u001b[0m\u001b[0;34m\u001b[0m\u001b[0m\n",
            "\u001b[0;32m/usr/local/lib/python3.7/dist-packages/transformers/pipelines/base.py\u001b[0m in \u001b[0;36mforward\u001b[0;34m(self, model_inputs, **forward_params)\u001b[0m\n\u001b[1;32m    921\u001b[0m                 \u001b[0;32mwith\u001b[0m \u001b[0minference_context\u001b[0m\u001b[0;34m(\u001b[0m\u001b[0;34m)\u001b[0m\u001b[0;34m:\u001b[0m\u001b[0;34m\u001b[0m\u001b[0;34m\u001b[0m\u001b[0m\n\u001b[1;32m    922\u001b[0m                     \u001b[0mmodel_inputs\u001b[0m \u001b[0;34m=\u001b[0m \u001b[0mself\u001b[0m\u001b[0;34m.\u001b[0m\u001b[0m_ensure_tensor_on_device\u001b[0m\u001b[0;34m(\u001b[0m\u001b[0mmodel_inputs\u001b[0m\u001b[0;34m,\u001b[0m \u001b[0mdevice\u001b[0m\u001b[0;34m=\u001b[0m\u001b[0mself\u001b[0m\u001b[0;34m.\u001b[0m\u001b[0mdevice\u001b[0m\u001b[0;34m)\u001b[0m\u001b[0;34m\u001b[0m\u001b[0;34m\u001b[0m\u001b[0m\n\u001b[0;32m--> 923\u001b[0;31m                     \u001b[0mmodel_outputs\u001b[0m \u001b[0;34m=\u001b[0m \u001b[0mself\u001b[0m\u001b[0;34m.\u001b[0m\u001b[0m_forward\u001b[0m\u001b[0;34m(\u001b[0m\u001b[0mmodel_inputs\u001b[0m\u001b[0;34m,\u001b[0m \u001b[0;34m**\u001b[0m\u001b[0mforward_params\u001b[0m\u001b[0;34m)\u001b[0m\u001b[0;34m\u001b[0m\u001b[0;34m\u001b[0m\u001b[0m\n\u001b[0m\u001b[1;32m    924\u001b[0m                     \u001b[0mmodel_outputs\u001b[0m \u001b[0;34m=\u001b[0m \u001b[0mself\u001b[0m\u001b[0;34m.\u001b[0m\u001b[0m_ensure_tensor_on_device\u001b[0m\u001b[0;34m(\u001b[0m\u001b[0mmodel_outputs\u001b[0m\u001b[0;34m,\u001b[0m \u001b[0mdevice\u001b[0m\u001b[0;34m=\u001b[0m\u001b[0mtorch\u001b[0m\u001b[0;34m.\u001b[0m\u001b[0mdevice\u001b[0m\u001b[0;34m(\u001b[0m\u001b[0;34m\"cpu\"\u001b[0m\u001b[0;34m)\u001b[0m\u001b[0;34m)\u001b[0m\u001b[0;34m\u001b[0m\u001b[0;34m\u001b[0m\u001b[0m\n\u001b[1;32m    925\u001b[0m             \u001b[0;32melse\u001b[0m\u001b[0;34m:\u001b[0m\u001b[0;34m\u001b[0m\u001b[0;34m\u001b[0m\u001b[0m\n",
            "\u001b[0;32m/usr/local/lib/python3.7/dist-packages/transformers/pipelines/text_classification.py\u001b[0m in \u001b[0;36m_forward\u001b[0;34m(self, model_inputs)\u001b[0m\n\u001b[1;32m    135\u001b[0m \u001b[0;34m\u001b[0m\u001b[0m\n\u001b[1;32m    136\u001b[0m     \u001b[0;32mdef\u001b[0m \u001b[0m_forward\u001b[0m\u001b[0;34m(\u001b[0m\u001b[0mself\u001b[0m\u001b[0;34m,\u001b[0m \u001b[0mmodel_inputs\u001b[0m\u001b[0;34m)\u001b[0m\u001b[0;34m:\u001b[0m\u001b[0;34m\u001b[0m\u001b[0;34m\u001b[0m\u001b[0m\n\u001b[0;32m--> 137\u001b[0;31m         \u001b[0;32mreturn\u001b[0m \u001b[0mself\u001b[0m\u001b[0;34m.\u001b[0m\u001b[0mmodel\u001b[0m\u001b[0;34m(\u001b[0m\u001b[0;34m**\u001b[0m\u001b[0mmodel_inputs\u001b[0m\u001b[0;34m)\u001b[0m\u001b[0;34m\u001b[0m\u001b[0;34m\u001b[0m\u001b[0m\n\u001b[0m\u001b[1;32m    138\u001b[0m \u001b[0;34m\u001b[0m\u001b[0m\n\u001b[1;32m    139\u001b[0m     \u001b[0;32mdef\u001b[0m \u001b[0mpostprocess\u001b[0m\u001b[0;34m(\u001b[0m\u001b[0mself\u001b[0m\u001b[0;34m,\u001b[0m \u001b[0mmodel_outputs\u001b[0m\u001b[0;34m,\u001b[0m \u001b[0mfunction_to_apply\u001b[0m\u001b[0;34m=\u001b[0m\u001b[0;32mNone\u001b[0m\u001b[0;34m,\u001b[0m \u001b[0mreturn_all_scores\u001b[0m\u001b[0;34m=\u001b[0m\u001b[0;32mFalse\u001b[0m\u001b[0;34m)\u001b[0m\u001b[0;34m:\u001b[0m\u001b[0;34m\u001b[0m\u001b[0;34m\u001b[0m\u001b[0m\n",
            "\u001b[0;32m/usr/local/lib/python3.7/dist-packages/torch/nn/modules/module.py\u001b[0m in \u001b[0;36m_call_impl\u001b[0;34m(self, *input, **kwargs)\u001b[0m\n\u001b[1;32m   1100\u001b[0m         if not (self._backward_hooks or self._forward_hooks or self._forward_pre_hooks or _global_backward_hooks\n\u001b[1;32m   1101\u001b[0m                 or _global_forward_hooks or _global_forward_pre_hooks):\n\u001b[0;32m-> 1102\u001b[0;31m             \u001b[0;32mreturn\u001b[0m \u001b[0mforward_call\u001b[0m\u001b[0;34m(\u001b[0m\u001b[0;34m*\u001b[0m\u001b[0minput\u001b[0m\u001b[0;34m,\u001b[0m \u001b[0;34m**\u001b[0m\u001b[0mkwargs\u001b[0m\u001b[0;34m)\u001b[0m\u001b[0;34m\u001b[0m\u001b[0;34m\u001b[0m\u001b[0m\n\u001b[0m\u001b[1;32m   1103\u001b[0m         \u001b[0;31m# Do not call functions when jit is used\u001b[0m\u001b[0;34m\u001b[0m\u001b[0;34m\u001b[0m\u001b[0;34m\u001b[0m\u001b[0m\n\u001b[1;32m   1104\u001b[0m         \u001b[0mfull_backward_hooks\u001b[0m\u001b[0;34m,\u001b[0m \u001b[0mnon_full_backward_hooks\u001b[0m \u001b[0;34m=\u001b[0m \u001b[0;34m[\u001b[0m\u001b[0;34m]\u001b[0m\u001b[0;34m,\u001b[0m \u001b[0;34m[\u001b[0m\u001b[0;34m]\u001b[0m\u001b[0;34m\u001b[0m\u001b[0;34m\u001b[0m\u001b[0m\n",
            "\u001b[0;32m/usr/local/lib/python3.7/dist-packages/transformers/models/distilbert/modeling_distilbert.py\u001b[0m in \u001b[0;36mforward\u001b[0;34m(self, input_ids, attention_mask, head_mask, inputs_embeds, labels, output_attentions, output_hidden_states, return_dict)\u001b[0m\n\u001b[1;32m    732\u001b[0m             \u001b[0moutput_attentions\u001b[0m\u001b[0;34m=\u001b[0m\u001b[0moutput_attentions\u001b[0m\u001b[0;34m,\u001b[0m\u001b[0;34m\u001b[0m\u001b[0;34m\u001b[0m\u001b[0m\n\u001b[1;32m    733\u001b[0m             \u001b[0moutput_hidden_states\u001b[0m\u001b[0;34m=\u001b[0m\u001b[0moutput_hidden_states\u001b[0m\u001b[0;34m,\u001b[0m\u001b[0;34m\u001b[0m\u001b[0;34m\u001b[0m\u001b[0m\n\u001b[0;32m--> 734\u001b[0;31m             \u001b[0mreturn_dict\u001b[0m\u001b[0;34m=\u001b[0m\u001b[0mreturn_dict\u001b[0m\u001b[0;34m,\u001b[0m\u001b[0;34m\u001b[0m\u001b[0;34m\u001b[0m\u001b[0m\n\u001b[0m\u001b[1;32m    735\u001b[0m         )\n\u001b[1;32m    736\u001b[0m         \u001b[0mhidden_state\u001b[0m \u001b[0;34m=\u001b[0m \u001b[0mdistilbert_output\u001b[0m\u001b[0;34m[\u001b[0m\u001b[0;36m0\u001b[0m\u001b[0;34m]\u001b[0m  \u001b[0;31m# (bs, seq_len, dim)\u001b[0m\u001b[0;34m\u001b[0m\u001b[0;34m\u001b[0m\u001b[0m\n",
            "\u001b[0;32m/usr/local/lib/python3.7/dist-packages/torch/nn/modules/module.py\u001b[0m in \u001b[0;36m_call_impl\u001b[0;34m(self, *input, **kwargs)\u001b[0m\n\u001b[1;32m   1100\u001b[0m         if not (self._backward_hooks or self._forward_hooks or self._forward_pre_hooks or _global_backward_hooks\n\u001b[1;32m   1101\u001b[0m                 or _global_forward_hooks or _global_forward_pre_hooks):\n\u001b[0;32m-> 1102\u001b[0;31m             \u001b[0;32mreturn\u001b[0m \u001b[0mforward_call\u001b[0m\u001b[0;34m(\u001b[0m\u001b[0;34m*\u001b[0m\u001b[0minput\u001b[0m\u001b[0;34m,\u001b[0m \u001b[0;34m**\u001b[0m\u001b[0mkwargs\u001b[0m\u001b[0;34m)\u001b[0m\u001b[0;34m\u001b[0m\u001b[0;34m\u001b[0m\u001b[0m\n\u001b[0m\u001b[1;32m   1103\u001b[0m         \u001b[0;31m# Do not call functions when jit is used\u001b[0m\u001b[0;34m\u001b[0m\u001b[0;34m\u001b[0m\u001b[0;34m\u001b[0m\u001b[0m\n\u001b[1;32m   1104\u001b[0m         \u001b[0mfull_backward_hooks\u001b[0m\u001b[0;34m,\u001b[0m \u001b[0mnon_full_backward_hooks\u001b[0m \u001b[0;34m=\u001b[0m \u001b[0;34m[\u001b[0m\u001b[0;34m]\u001b[0m\u001b[0;34m,\u001b[0m \u001b[0;34m[\u001b[0m\u001b[0;34m]\u001b[0m\u001b[0;34m\u001b[0m\u001b[0;34m\u001b[0m\u001b[0m\n",
            "\u001b[0;32m/usr/local/lib/python3.7/dist-packages/transformers/models/distilbert/modeling_distilbert.py\u001b[0m in \u001b[0;36mforward\u001b[0;34m(self, input_ids, attention_mask, head_mask, inputs_embeds, output_attentions, output_hidden_states, return_dict)\u001b[0m\n\u001b[1;32m    546\u001b[0m \u001b[0;34m\u001b[0m\u001b[0m\n\u001b[1;32m    547\u001b[0m         \u001b[0;32mif\u001b[0m \u001b[0minputs_embeds\u001b[0m \u001b[0;32mis\u001b[0m \u001b[0;32mNone\u001b[0m\u001b[0;34m:\u001b[0m\u001b[0;34m\u001b[0m\u001b[0;34m\u001b[0m\u001b[0m\n\u001b[0;32m--> 548\u001b[0;31m             \u001b[0minputs_embeds\u001b[0m \u001b[0;34m=\u001b[0m \u001b[0mself\u001b[0m\u001b[0;34m.\u001b[0m\u001b[0membeddings\u001b[0m\u001b[0;34m(\u001b[0m\u001b[0minput_ids\u001b[0m\u001b[0;34m)\u001b[0m  \u001b[0;31m# (bs, seq_length, dim)\u001b[0m\u001b[0;34m\u001b[0m\u001b[0;34m\u001b[0m\u001b[0m\n\u001b[0m\u001b[1;32m    549\u001b[0m         return self.transformer(\n\u001b[1;32m    550\u001b[0m             \u001b[0mx\u001b[0m\u001b[0;34m=\u001b[0m\u001b[0minputs_embeds\u001b[0m\u001b[0;34m,\u001b[0m\u001b[0;34m\u001b[0m\u001b[0;34m\u001b[0m\u001b[0m\n",
            "\u001b[0;32m/usr/local/lib/python3.7/dist-packages/torch/nn/modules/module.py\u001b[0m in \u001b[0;36m_call_impl\u001b[0;34m(self, *input, **kwargs)\u001b[0m\n\u001b[1;32m   1100\u001b[0m         if not (self._backward_hooks or self._forward_hooks or self._forward_pre_hooks or _global_backward_hooks\n\u001b[1;32m   1101\u001b[0m                 or _global_forward_hooks or _global_forward_pre_hooks):\n\u001b[0;32m-> 1102\u001b[0;31m             \u001b[0;32mreturn\u001b[0m \u001b[0mforward_call\u001b[0m\u001b[0;34m(\u001b[0m\u001b[0;34m*\u001b[0m\u001b[0minput\u001b[0m\u001b[0;34m,\u001b[0m \u001b[0;34m**\u001b[0m\u001b[0mkwargs\u001b[0m\u001b[0;34m)\u001b[0m\u001b[0;34m\u001b[0m\u001b[0;34m\u001b[0m\u001b[0m\n\u001b[0m\u001b[1;32m   1103\u001b[0m         \u001b[0;31m# Do not call functions when jit is used\u001b[0m\u001b[0;34m\u001b[0m\u001b[0;34m\u001b[0m\u001b[0;34m\u001b[0m\u001b[0m\n\u001b[1;32m   1104\u001b[0m         \u001b[0mfull_backward_hooks\u001b[0m\u001b[0;34m,\u001b[0m \u001b[0mnon_full_backward_hooks\u001b[0m \u001b[0;34m=\u001b[0m \u001b[0;34m[\u001b[0m\u001b[0;34m]\u001b[0m\u001b[0;34m,\u001b[0m \u001b[0;34m[\u001b[0m\u001b[0;34m]\u001b[0m\u001b[0;34m\u001b[0m\u001b[0;34m\u001b[0m\u001b[0m\n",
            "\u001b[0;32m/usr/local/lib/python3.7/dist-packages/transformers/models/distilbert/modeling_distilbert.py\u001b[0m in \u001b[0;36mforward\u001b[0;34m(self, input_ids)\u001b[0m\n\u001b[1;32m    131\u001b[0m         \u001b[0mposition_embeddings\u001b[0m \u001b[0;34m=\u001b[0m \u001b[0mself\u001b[0m\u001b[0;34m.\u001b[0m\u001b[0mposition_embeddings\u001b[0m\u001b[0;34m(\u001b[0m\u001b[0mposition_ids\u001b[0m\u001b[0;34m)\u001b[0m  \u001b[0;31m# (bs, max_seq_length, dim)\u001b[0m\u001b[0;34m\u001b[0m\u001b[0;34m\u001b[0m\u001b[0m\n\u001b[1;32m    132\u001b[0m \u001b[0;34m\u001b[0m\u001b[0m\n\u001b[0;32m--> 133\u001b[0;31m         \u001b[0membeddings\u001b[0m \u001b[0;34m=\u001b[0m \u001b[0mword_embeddings\u001b[0m \u001b[0;34m+\u001b[0m \u001b[0mposition_embeddings\u001b[0m  \u001b[0;31m# (bs, max_seq_length, dim)\u001b[0m\u001b[0;34m\u001b[0m\u001b[0;34m\u001b[0m\u001b[0m\n\u001b[0m\u001b[1;32m    134\u001b[0m         \u001b[0membeddings\u001b[0m \u001b[0;34m=\u001b[0m \u001b[0mself\u001b[0m\u001b[0;34m.\u001b[0m\u001b[0mLayerNorm\u001b[0m\u001b[0;34m(\u001b[0m\u001b[0membeddings\u001b[0m\u001b[0;34m)\u001b[0m  \u001b[0;31m# (bs, max_seq_length, dim)\u001b[0m\u001b[0;34m\u001b[0m\u001b[0;34m\u001b[0m\u001b[0m\n\u001b[1;32m    135\u001b[0m         \u001b[0membeddings\u001b[0m \u001b[0;34m=\u001b[0m \u001b[0mself\u001b[0m\u001b[0;34m.\u001b[0m\u001b[0mdropout\u001b[0m\u001b[0;34m(\u001b[0m\u001b[0membeddings\u001b[0m\u001b[0;34m)\u001b[0m  \u001b[0;31m# (bs, max_seq_length, dim)\u001b[0m\u001b[0;34m\u001b[0m\u001b[0;34m\u001b[0m\u001b[0m\n",
            "\u001b[0;31mRuntimeError\u001b[0m: The size of tensor a (587) must match the size of tensor b (512) at non-singleton dimension 1"
          ]
        }
      ]
    },
    {
      "cell_type": "code",
      "source": [
        "gender['lyric_len'] = gender['lyrics'].apply(lambda x: len(x))"
      ],
      "metadata": {
        "colab": {
          "base_uri": "https://localhost:8080/"
        },
        "id": "D9OIq651TsJd",
        "outputId": "b06c1384-f7fd-42ac-c6c0-15941418a269"
      },
      "execution_count": null,
      "outputs": [
        {
          "output_type": "stream",
          "name": "stderr",
          "text": [
            "/usr/local/lib/python3.7/dist-packages/ipykernel_launcher.py:1: SettingWithCopyWarning: \n",
            "A value is trying to be set on a copy of a slice from a DataFrame.\n",
            "Try using .loc[row_indexer,col_indexer] = value instead\n",
            "\n",
            "See the caveats in the documentation: https://pandas.pydata.org/pandas-docs/stable/user_guide/indexing.html#returning-a-view-versus-a-copy\n",
            "  \"\"\"Entry point for launching an IPython kernel.\n"
          ]
        }
      ]
    },
    {
      "cell_type": "code",
      "source": [
        "y = gender['lyric_len']\n",
        "X_cols = ['edm', 'latin', 'pop', 'r&b', 'rap', 'rock']\n",
        "for c in X_cols:\n",
        "    gender[c] = gender[c].astype(int)\n",
        "X = sm.add_constant(gender[X_cols])\n",
        "\n",
        "lm = sm.OLS(y,X).fit()\n",
        "lm.summary()"
      ],
      "metadata": {
        "colab": {
          "base_uri": "https://localhost:8080/",
          "height": 683
        },
        "id": "Z5cYTFn5VtLo",
        "outputId": "184cd734-dcc4-4bb3-a959-34c423e21534"
      },
      "execution_count": null,
      "outputs": [
        {
          "output_type": "stream",
          "name": "stderr",
          "text": [
            "/usr/local/lib/python3.7/dist-packages/ipykernel_launcher.py:4: SettingWithCopyWarning: \n",
            "A value is trying to be set on a copy of a slice from a DataFrame.\n",
            "Try using .loc[row_indexer,col_indexer] = value instead\n",
            "\n",
            "See the caveats in the documentation: https://pandas.pydata.org/pandas-docs/stable/user_guide/indexing.html#returning-a-view-versus-a-copy\n",
            "  after removing the cwd from sys.path.\n"
          ]
        },
        {
          "output_type": "execute_result",
          "data": {
            "text/html": [
              "<table class=\"simpletable\">\n",
              "<caption>OLS Regression Results</caption>\n",
              "<tr>\n",
              "  <th>Dep. Variable:</th>        <td>lyric_len</td>    <th>  R-squared:         </th>  <td>   0.167</td>  \n",
              "</tr>\n",
              "<tr>\n",
              "  <th>Model:</th>                   <td>OLS</td>       <th>  Adj. R-squared:    </th>  <td>   0.167</td>  \n",
              "</tr>\n",
              "<tr>\n",
              "  <th>Method:</th>             <td>Least Squares</td>  <th>  F-statistic:       </th>  <td>   438.8</td>  \n",
              "</tr>\n",
              "<tr>\n",
              "  <th>Date:</th>             <td>Wed, 16 Feb 2022</td> <th>  Prob (F-statistic):</th>   <td>  0.00</td>   \n",
              "</tr>\n",
              "<tr>\n",
              "  <th>Time:</th>                 <td>19:35:33</td>     <th>  Log-Likelihood:    </th> <td>-1.1510e+05</td>\n",
              "</tr>\n",
              "<tr>\n",
              "  <th>No. Observations:</th>      <td> 13138</td>      <th>  AIC:               </th>  <td>2.302e+05</td> \n",
              "</tr>\n",
              "<tr>\n",
              "  <th>Df Residuals:</th>          <td> 13131</td>      <th>  BIC:               </th>  <td>2.303e+05</td> \n",
              "</tr>\n",
              "<tr>\n",
              "  <th>Df Model:</th>              <td>     6</td>      <th>                     </th>      <td> </td>     \n",
              "</tr>\n",
              "<tr>\n",
              "  <th>Covariance Type:</th>      <td>nonrobust</td>    <th>                     </th>      <td> </td>     \n",
              "</tr>\n",
              "</table>\n",
              "<table class=\"simpletable\">\n",
              "<tr>\n",
              "    <td></td>       <th>coef</th>     <th>std err</th>      <th>t</th>      <th>P>|t|</th>  <th>[0.025</th>    <th>0.975]</th>  \n",
              "</tr>\n",
              "<tr>\n",
              "  <th>const</th> <td> 2315.1536</td> <td>   31.050</td> <td>   74.563</td> <td> 0.000</td> <td> 2254.292</td> <td> 2376.016</td>\n",
              "</tr>\n",
              "<tr>\n",
              "  <th>edm</th>   <td> -718.4191</td> <td>   44.916</td> <td>  -15.995</td> <td> 0.000</td> <td> -806.460</td> <td> -630.378</td>\n",
              "</tr>\n",
              "<tr>\n",
              "  <th>latin</th> <td> -140.9369</td> <td>   69.922</td> <td>   -2.016</td> <td> 0.044</td> <td> -277.994</td> <td>   -3.880</td>\n",
              "</tr>\n",
              "<tr>\n",
              "  <th>pop</th>   <td>  111.8019</td> <td>   30.029</td> <td>    3.723</td> <td> 0.000</td> <td>   52.941</td> <td>  170.662</td>\n",
              "</tr>\n",
              "<tr>\n",
              "  <th>r&b</th>   <td> -280.1578</td> <td>   40.669</td> <td>   -6.889</td> <td> 0.000</td> <td> -359.876</td> <td> -200.440</td>\n",
              "</tr>\n",
              "<tr>\n",
              "  <th>rap</th>   <td> 1109.0361</td> <td>   39.594</td> <td>   28.010</td> <td> 0.000</td> <td> 1031.425</td> <td> 1186.647</td>\n",
              "</tr>\n",
              "<tr>\n",
              "  <th>rock</th>  <td> -901.5800</td> <td>   33.356</td> <td>  -27.029</td> <td> 0.000</td> <td> -966.962</td> <td> -836.198</td>\n",
              "</tr>\n",
              "</table>\n",
              "<table class=\"simpletable\">\n",
              "<tr>\n",
              "  <th>Omnibus:</th>       <td>11705.060</td> <th>  Durbin-Watson:     </th>  <td>   1.964</td> \n",
              "</tr>\n",
              "<tr>\n",
              "  <th>Prob(Omnibus):</th>  <td> 0.000</td>   <th>  Jarque-Bera (JB):  </th> <td>581343.520</td>\n",
              "</tr>\n",
              "<tr>\n",
              "  <th>Skew:</th>           <td> 4.136</td>   <th>  Prob(JB):          </th>  <td>    0.00</td> \n",
              "</tr>\n",
              "<tr>\n",
              "  <th>Kurtosis:</th>       <td>34.520</td>   <th>  Cond. No.          </th>  <td>    6.71</td> \n",
              "</tr>\n",
              "</table><br/><br/>Warnings:<br/>[1] Standard Errors assume that the covariance matrix of the errors is correctly specified."
            ],
            "text/plain": [
              "<class 'statsmodels.iolib.summary.Summary'>\n",
              "\"\"\"\n",
              "                            OLS Regression Results                            \n",
              "==============================================================================\n",
              "Dep. Variable:              lyric_len   R-squared:                       0.167\n",
              "Model:                            OLS   Adj. R-squared:                  0.167\n",
              "Method:                 Least Squares   F-statistic:                     438.8\n",
              "Date:                Wed, 16 Feb 2022   Prob (F-statistic):               0.00\n",
              "Time:                        19:35:33   Log-Likelihood:            -1.1510e+05\n",
              "No. Observations:               13138   AIC:                         2.302e+05\n",
              "Df Residuals:                   13131   BIC:                         2.303e+05\n",
              "Df Model:                           6                                         \n",
              "Covariance Type:            nonrobust                                         \n",
              "==============================================================================\n",
              "                 coef    std err          t      P>|t|      [0.025      0.975]\n",
              "------------------------------------------------------------------------------\n",
              "const       2315.1536     31.050     74.563      0.000    2254.292    2376.016\n",
              "edm         -718.4191     44.916    -15.995      0.000    -806.460    -630.378\n",
              "latin       -140.9369     69.922     -2.016      0.044    -277.994      -3.880\n",
              "pop          111.8019     30.029      3.723      0.000      52.941     170.662\n",
              "r&b         -280.1578     40.669     -6.889      0.000    -359.876    -200.440\n",
              "rap         1109.0361     39.594     28.010      0.000    1031.425    1186.647\n",
              "rock        -901.5800     33.356    -27.029      0.000    -966.962    -836.198\n",
              "==============================================================================\n",
              "Omnibus:                    11705.060   Durbin-Watson:                   1.964\n",
              "Prob(Omnibus):                  0.000   Jarque-Bera (JB):           581343.520\n",
              "Skew:                           4.136   Prob(JB):                         0.00\n",
              "Kurtosis:                      34.520   Cond. No.                         6.71\n",
              "==============================================================================\n",
              "\n",
              "Warnings:\n",
              "[1] Standard Errors assume that the covariance matrix of the errors is correctly specified.\n",
              "\"\"\""
            ]
          },
          "metadata": {},
          "execution_count": 20
        }
      ]
    },
    {
      "cell_type": "markdown",
      "source": [
        "We see that all genres related information have very significant effects on the length of the lyrics! Specifically, rap music and pop music have positive effects on length while edm, latin, pop and rock have negative effects!"
      ],
      "metadata": {
        "id": "y-waCgRfYAnw"
      }
    },
    {
      "cell_type": "code",
      "source": [
        "gender = pd.get_dummies(gender, columns = ['gender_matched'])"
      ],
      "metadata": {
        "id": "rF1zgdFRYoDu"
      },
      "execution_count": null,
      "outputs": []
    },
    {
      "cell_type": "code",
      "source": [
        "gender.columns"
      ],
      "metadata": {
        "colab": {
          "base_uri": "https://localhost:8080/"
        },
        "id": "xvzCCwKkY89f",
        "outputId": "ddbdb102-3a0d-473e-f926-aecf9377d869"
      },
      "execution_count": null,
      "outputs": [
        {
          "output_type": "execute_result",
          "data": {
            "text/plain": [
              "Index(['artist', 'lyrics', 'year', 'edm', 'latin', 'pop', 'r&b', 'rap', 'rock',\n",
              "       'Gender', 'year_bin', 'artist_lower', 'lyric_len',\n",
              "       'gender_matched_Group', 'gender_matched_female', 'gender_matched_male'],\n",
              "      dtype='object')"
            ]
          },
          "metadata": {},
          "execution_count": 42
        }
      ]
    },
    {
      "cell_type": "markdown",
      "source": [
        "Now let's add gender info into the model."
      ],
      "metadata": {
        "id": "iMgFH0pfZkaL"
      }
    },
    {
      "cell_type": "code",
      "source": [
        "y = gender['lyric_len']\n",
        "X_cols = ['edm', 'latin', 'pop', 'r&b', 'rap', 'rock', 'gender_matched_Group', 'gender_matched_female', 'gender_matched_male']\n",
        "X = sm.add_constant(gender[X_cols])\n",
        "\n",
        "lm2 = sm.OLS(y,X).fit()\n",
        "lm2.summary()"
      ],
      "metadata": {
        "colab": {
          "base_uri": "https://localhost:8080/",
          "height": 657
        },
        "id": "a4Yspc-rLXme",
        "outputId": "32b76698-8aa2-41a6-fd47-6500215334bf"
      },
      "execution_count": null,
      "outputs": [
        {
          "output_type": "execute_result",
          "data": {
            "text/html": [
              "<table class=\"simpletable\">\n",
              "<caption>OLS Regression Results</caption>\n",
              "<tr>\n",
              "  <th>Dep. Variable:</th>        <td>lyric_len</td>    <th>  R-squared:         </th>  <td>   0.185</td>  \n",
              "</tr>\n",
              "<tr>\n",
              "  <th>Model:</th>                   <td>OLS</td>       <th>  Adj. R-squared:    </th>  <td>   0.185</td>  \n",
              "</tr>\n",
              "<tr>\n",
              "  <th>Method:</th>             <td>Least Squares</td>  <th>  F-statistic:       </th>  <td>   372.6</td>  \n",
              "</tr>\n",
              "<tr>\n",
              "  <th>Date:</th>             <td>Wed, 16 Feb 2022</td> <th>  Prob (F-statistic):</th>   <td>  0.00</td>   \n",
              "</tr>\n",
              "<tr>\n",
              "  <th>Time:</th>                 <td>02:38:07</td>     <th>  Log-Likelihood:    </th> <td>-1.1496e+05</td>\n",
              "</tr>\n",
              "<tr>\n",
              "  <th>No. Observations:</th>      <td> 13138</td>      <th>  AIC:               </th>  <td>2.299e+05</td> \n",
              "</tr>\n",
              "<tr>\n",
              "  <th>Df Residuals:</th>          <td> 13129</td>      <th>  BIC:               </th>  <td>2.300e+05</td> \n",
              "</tr>\n",
              "<tr>\n",
              "  <th>Df Model:</th>              <td>     8</td>      <th>                     </th>      <td> </td>     \n",
              "</tr>\n",
              "<tr>\n",
              "  <th>Covariance Type:</th>      <td>nonrobust</td>    <th>                     </th>      <td> </td>     \n",
              "</tr>\n",
              "</table>\n",
              "<table class=\"simpletable\">\n",
              "<tr>\n",
              "            <td></td>               <th>coef</th>     <th>std err</th>      <th>t</th>      <th>P>|t|</th>  <th>[0.025</th>    <th>0.975]</th>  \n",
              "</tr>\n",
              "<tr>\n",
              "  <th>const</th>                 <td>   8.8e+13</td> <td> 4.72e+15</td> <td>    0.019</td> <td> 0.985</td> <td>-9.17e+15</td> <td> 9.34e+15</td>\n",
              "</tr>\n",
              "<tr>\n",
              "  <th>edm</th>                   <td> -782.2260</td> <td>   44.908</td> <td>  -17.418</td> <td> 0.000</td> <td> -870.253</td> <td> -694.199</td>\n",
              "</tr>\n",
              "<tr>\n",
              "  <th>latin</th>                 <td> -233.0145</td> <td>   69.591</td> <td>   -3.348</td> <td> 0.001</td> <td> -369.424</td> <td>  -96.605</td>\n",
              "</tr>\n",
              "<tr>\n",
              "  <th>pop</th>                   <td>   58.4431</td> <td>   31.645</td> <td>    1.847</td> <td> 0.065</td> <td>   -3.587</td> <td>  120.473</td>\n",
              "</tr>\n",
              "<tr>\n",
              "  <th>r&b</th>                   <td> -296.9164</td> <td>   40.773</td> <td>   -7.282</td> <td> 0.000</td> <td> -376.836</td> <td> -216.996</td>\n",
              "</tr>\n",
              "<tr>\n",
              "  <th>rap</th>                   <td> 1016.6828</td> <td>   39.558</td> <td>   25.701</td> <td> 0.000</td> <td>  939.143</td> <td> 1094.223</td>\n",
              "</tr>\n",
              "<tr>\n",
              "  <th>rock</th>                  <td> -890.1464</td> <td>   33.030</td> <td>  -26.950</td> <td> 0.000</td> <td> -954.890</td> <td> -825.403</td>\n",
              "</tr>\n",
              "<tr>\n",
              "  <th>gender_matched_Group</th>  <td>  -8.8e+13</td> <td> 4.72e+15</td> <td>   -0.019</td> <td> 0.985</td> <td>-9.34e+15</td> <td> 9.17e+15</td>\n",
              "</tr>\n",
              "<tr>\n",
              "  <th>gender_matched_female</th> <td>  -8.8e+13</td> <td> 4.72e+15</td> <td>   -0.019</td> <td> 0.985</td> <td>-9.34e+15</td> <td> 9.17e+15</td>\n",
              "</tr>\n",
              "<tr>\n",
              "  <th>gender_matched_male</th>   <td>  -8.8e+13</td> <td> 4.72e+15</td> <td>   -0.019</td> <td> 0.985</td> <td>-9.34e+15</td> <td> 9.17e+15</td>\n",
              "</tr>\n",
              "</table>\n",
              "<table class=\"simpletable\">\n",
              "<tr>\n",
              "  <th>Omnibus:</th>       <td>11675.953</td> <th>  Durbin-Watson:     </th>  <td>   1.967</td> \n",
              "</tr>\n",
              "<tr>\n",
              "  <th>Prob(Omnibus):</th>  <td> 0.000</td>   <th>  Jarque-Bera (JB):  </th> <td>582846.975</td>\n",
              "</tr>\n",
              "<tr>\n",
              "  <th>Skew:</th>           <td> 4.117</td>   <th>  Prob(JB):          </th>  <td>    0.00</td> \n",
              "</tr>\n",
              "<tr>\n",
              "  <th>Kurtosis:</th>       <td>34.574</td>   <th>  Cond. No.          </th>  <td>9.42e+14</td> \n",
              "</tr>\n",
              "</table><br/><br/>Warnings:<br/>[1] Standard Errors assume that the covariance matrix of the errors is correctly specified.<br/>[2] The smallest eigenvalue is 2.62e-26. This might indicate that there are<br/>strong multicollinearity problems or that the design matrix is singular."
            ],
            "text/plain": [
              "<class 'statsmodels.iolib.summary.Summary'>\n",
              "\"\"\"\n",
              "                            OLS Regression Results                            \n",
              "==============================================================================\n",
              "Dep. Variable:              lyric_len   R-squared:                       0.185\n",
              "Model:                            OLS   Adj. R-squared:                  0.185\n",
              "Method:                 Least Squares   F-statistic:                     372.6\n",
              "Date:                Wed, 16 Feb 2022   Prob (F-statistic):               0.00\n",
              "Time:                        02:38:07   Log-Likelihood:            -1.1496e+05\n",
              "No. Observations:               13138   AIC:                         2.299e+05\n",
              "Df Residuals:                   13129   BIC:                         2.300e+05\n",
              "Df Model:                           8                                         \n",
              "Covariance Type:            nonrobust                                         \n",
              "=========================================================================================\n",
              "                            coef    std err          t      P>|t|      [0.025      0.975]\n",
              "-----------------------------------------------------------------------------------------\n",
              "const                    8.8e+13   4.72e+15      0.019      0.985   -9.17e+15    9.34e+15\n",
              "edm                    -782.2260     44.908    -17.418      0.000    -870.253    -694.199\n",
              "latin                  -233.0145     69.591     -3.348      0.001    -369.424     -96.605\n",
              "pop                      58.4431     31.645      1.847      0.065      -3.587     120.473\n",
              "r&b                    -296.9164     40.773     -7.282      0.000    -376.836    -216.996\n",
              "rap                    1016.6828     39.558     25.701      0.000     939.143    1094.223\n",
              "rock                   -890.1464     33.030    -26.950      0.000    -954.890    -825.403\n",
              "gender_matched_Group    -8.8e+13   4.72e+15     -0.019      0.985   -9.34e+15    9.17e+15\n",
              "gender_matched_female   -8.8e+13   4.72e+15     -0.019      0.985   -9.34e+15    9.17e+15\n",
              "gender_matched_male     -8.8e+13   4.72e+15     -0.019      0.985   -9.34e+15    9.17e+15\n",
              "==============================================================================\n",
              "Omnibus:                    11675.953   Durbin-Watson:                   1.967\n",
              "Prob(Omnibus):                  0.000   Jarque-Bera (JB):           582846.975\n",
              "Skew:                           4.117   Prob(JB):                         0.00\n",
              "Kurtosis:                      34.574   Cond. No.                     9.42e+14\n",
              "==============================================================================\n",
              "\n",
              "Warnings:\n",
              "[1] Standard Errors assume that the covariance matrix of the errors is correctly specified.\n",
              "[2] The smallest eigenvalue is 2.62e-26. This might indicate that there are\n",
              "strong multicollinearity problems or that the design matrix is singular.\n",
              "\"\"\""
            ]
          },
          "metadata": {},
          "execution_count": 43
        }
      ]
    },
    {
      "cell_type": "markdown",
      "source": [
        "Yes! Even with gender, genre info are still significantly affecting the length. The p-values for gender, however, are not statistically significant. We can even add year of the release of the song"
      ],
      "metadata": {
        "id": "bKToCIJ2ZVqR"
      }
    },
    {
      "cell_type": "code",
      "source": [
        "y = gender['lyric_len']\n",
        "X_cols = ['edm', 'latin', 'pop', 'r&b', 'rap', 'rock', 'gender_matched_Group', 'gender_matched_female', 'gender_matched_male', 'year']\n",
        "X = sm.add_constant(gender[X_cols])\n",
        "\n",
        "lm3 = sm.OLS(y,X).fit()\n",
        "lm3.summary()"
      ],
      "metadata": {
        "colab": {
          "base_uri": "https://localhost:8080/",
          "height": 679
        },
        "id": "iHEiM-lnZvur",
        "outputId": "8da67091-713d-41ee-86b5-81cc2758ded0"
      },
      "execution_count": null,
      "outputs": [
        {
          "output_type": "execute_result",
          "data": {
            "text/html": [
              "<table class=\"simpletable\">\n",
              "<caption>OLS Regression Results</caption>\n",
              "<tr>\n",
              "  <th>Dep. Variable:</th>        <td>lyric_len</td>    <th>  R-squared:         </th>  <td>   0.190</td>  \n",
              "</tr>\n",
              "<tr>\n",
              "  <th>Model:</th>                   <td>OLS</td>       <th>  Adj. R-squared:    </th>  <td>   0.190</td>  \n",
              "</tr>\n",
              "<tr>\n",
              "  <th>Method:</th>             <td>Least Squares</td>  <th>  F-statistic:       </th>  <td>   342.9</td>  \n",
              "</tr>\n",
              "<tr>\n",
              "  <th>Date:</th>             <td>Wed, 16 Feb 2022</td> <th>  Prob (F-statistic):</th>   <td>  0.00</td>   \n",
              "</tr>\n",
              "<tr>\n",
              "  <th>Time:</th>                 <td>02:40:33</td>     <th>  Log-Likelihood:    </th> <td>-1.1492e+05</td>\n",
              "</tr>\n",
              "<tr>\n",
              "  <th>No. Observations:</th>      <td> 13138</td>      <th>  AIC:               </th>  <td>2.299e+05</td> \n",
              "</tr>\n",
              "<tr>\n",
              "  <th>Df Residuals:</th>          <td> 13128</td>      <th>  BIC:               </th>  <td>2.299e+05</td> \n",
              "</tr>\n",
              "<tr>\n",
              "  <th>Df Model:</th>              <td>     9</td>      <th>                     </th>      <td> </td>     \n",
              "</tr>\n",
              "<tr>\n",
              "  <th>Covariance Type:</th>      <td>nonrobust</td>    <th>                     </th>      <td> </td>     \n",
              "</tr>\n",
              "</table>\n",
              "<table class=\"simpletable\">\n",
              "<tr>\n",
              "            <td></td>               <th>coef</th>     <th>std err</th>      <th>t</th>      <th>P>|t|</th>  <th>[0.025</th>    <th>0.975]</th>  \n",
              "</tr>\n",
              "<tr>\n",
              "  <th>const</th>                 <td>-1.371e+04</td> <td> 1669.226</td> <td>   -8.212</td> <td> 0.000</td> <td> -1.7e+04</td> <td>-1.04e+04</td>\n",
              "</tr>\n",
              "<tr>\n",
              "  <th>edm</th>                   <td> -824.4013</td> <td>   44.946</td> <td>  -18.342</td> <td> 0.000</td> <td> -912.502</td> <td> -736.300</td>\n",
              "</tr>\n",
              "<tr>\n",
              "  <th>latin</th>                 <td> -233.6276</td> <td>   69.264</td> <td>   -3.373</td> <td> 0.001</td> <td> -369.395</td> <td>  -97.861</td>\n",
              "</tr>\n",
              "<tr>\n",
              "  <th>pop</th>                   <td>   86.0854</td> <td>   30.827</td> <td>    2.793</td> <td> 0.005</td> <td>   25.661</td> <td>  146.510</td>\n",
              "</tr>\n",
              "<tr>\n",
              "  <th>r&b</th>                   <td> -261.9145</td> <td>   40.814</td> <td>   -6.417</td> <td> 0.000</td> <td> -341.916</td> <td> -181.913</td>\n",
              "</tr>\n",
              "<tr>\n",
              "  <th>rap</th>                   <td> 1040.2469</td> <td>   39.495</td> <td>   26.338</td> <td> 0.000</td> <td>  962.830</td> <td> 1117.664</td>\n",
              "</tr>\n",
              "<tr>\n",
              "  <th>rock</th>                  <td> -720.5159</td> <td>   37.642</td> <td>  -19.141</td> <td> 0.000</td> <td> -794.299</td> <td> -646.733</td>\n",
              "</tr>\n",
              "<tr>\n",
              "  <th>gender_matched_Group</th>  <td>-4869.2217</td> <td>  555.908</td> <td>   -8.759</td> <td> 0.000</td> <td>-5958.881</td> <td>-3779.562</td>\n",
              "</tr>\n",
              "<tr>\n",
              "  <th>gender_matched_female</th> <td>-4451.7477</td> <td>  557.222</td> <td>   -7.989</td> <td> 0.000</td> <td>-5543.982</td> <td>-3359.513</td>\n",
              "</tr>\n",
              "<tr>\n",
              "  <th>gender_matched_male</th>   <td>-4386.8971</td> <td>  557.502</td> <td>   -7.869</td> <td> 0.000</td> <td>-5479.681</td> <td>-3294.113</td>\n",
              "</tr>\n",
              "<tr>\n",
              "  <th>year</th>                  <td>   10.2598</td> <td>    1.107</td> <td>    9.272</td> <td> 0.000</td> <td>    8.091</td> <td>   12.429</td>\n",
              "</tr>\n",
              "</table>\n",
              "<table class=\"simpletable\">\n",
              "<tr>\n",
              "  <th>Omnibus:</th>       <td>11619.751</td> <th>  Durbin-Watson:     </th>  <td>   1.978</td> \n",
              "</tr>\n",
              "<tr>\n",
              "  <th>Prob(Omnibus):</th>  <td> 0.000</td>   <th>  Jarque-Bera (JB):  </th> <td>573037.516</td>\n",
              "</tr>\n",
              "<tr>\n",
              "  <th>Skew:</th>           <td> 4.089</td>   <th>  Prob(JB):          </th>  <td>    0.00</td> \n",
              "</tr>\n",
              "<tr>\n",
              "  <th>Kurtosis:</th>       <td>34.304</td>   <th>  Cond. No.          </th>  <td>1.50e+18</td> \n",
              "</tr>\n",
              "</table><br/><br/>Warnings:<br/>[1] Standard Errors assume that the covariance matrix of the errors is correctly specified.<br/>[2] The smallest eigenvalue is 2.35e-26. This might indicate that there are<br/>strong multicollinearity problems or that the design matrix is singular."
            ],
            "text/plain": [
              "<class 'statsmodels.iolib.summary.Summary'>\n",
              "\"\"\"\n",
              "                            OLS Regression Results                            \n",
              "==============================================================================\n",
              "Dep. Variable:              lyric_len   R-squared:                       0.190\n",
              "Model:                            OLS   Adj. R-squared:                  0.190\n",
              "Method:                 Least Squares   F-statistic:                     342.9\n",
              "Date:                Wed, 16 Feb 2022   Prob (F-statistic):               0.00\n",
              "Time:                        02:40:33   Log-Likelihood:            -1.1492e+05\n",
              "No. Observations:               13138   AIC:                         2.299e+05\n",
              "Df Residuals:                   13128   BIC:                         2.299e+05\n",
              "Df Model:                           9                                         \n",
              "Covariance Type:            nonrobust                                         \n",
              "=========================================================================================\n",
              "                            coef    std err          t      P>|t|      [0.025      0.975]\n",
              "-----------------------------------------------------------------------------------------\n",
              "const                 -1.371e+04   1669.226     -8.212      0.000    -1.7e+04   -1.04e+04\n",
              "edm                    -824.4013     44.946    -18.342      0.000    -912.502    -736.300\n",
              "latin                  -233.6276     69.264     -3.373      0.001    -369.395     -97.861\n",
              "pop                      86.0854     30.827      2.793      0.005      25.661     146.510\n",
              "r&b                    -261.9145     40.814     -6.417      0.000    -341.916    -181.913\n",
              "rap                    1040.2469     39.495     26.338      0.000     962.830    1117.664\n",
              "rock                   -720.5159     37.642    -19.141      0.000    -794.299    -646.733\n",
              "gender_matched_Group  -4869.2217    555.908     -8.759      0.000   -5958.881   -3779.562\n",
              "gender_matched_female -4451.7477    557.222     -7.989      0.000   -5543.982   -3359.513\n",
              "gender_matched_male   -4386.8971    557.502     -7.869      0.000   -5479.681   -3294.113\n",
              "year                     10.2598      1.107      9.272      0.000       8.091      12.429\n",
              "==============================================================================\n",
              "Omnibus:                    11619.751   Durbin-Watson:                   1.978\n",
              "Prob(Omnibus):                  0.000   Jarque-Bera (JB):           573037.516\n",
              "Skew:                           4.089   Prob(JB):                         0.00\n",
              "Kurtosis:                      34.304   Cond. No.                     1.50e+18\n",
              "==============================================================================\n",
              "\n",
              "Warnings:\n",
              "[1] Standard Errors assume that the covariance matrix of the errors is correctly specified.\n",
              "[2] The smallest eigenvalue is 2.35e-26. This might indicate that there are\n",
              "strong multicollinearity problems or that the design matrix is singular.\n",
              "\"\"\""
            ]
          },
          "metadata": {},
          "execution_count": 45
        }
      ]
    },
    {
      "cell_type": "markdown",
      "source": [
        "Turns out that year also affects the length of the song!"
      ],
      "metadata": {
        "id": "WgE4B6fgZz9y"
      }
    },
    {
      "cell_type": "code",
      "source": [
        "corr_matrix = np.corrcoef(gender[X_cols].T)\n",
        "smg.plot_corr(corr_matrix, xnames=X_cols)\n",
        "plt.show()"
      ],
      "metadata": {
        "colab": {
          "base_uri": "https://localhost:8080/",
          "height": 297
        },
        "id": "QrDQSaHaTVV9",
        "outputId": "39b5e0c5-82ba-44e2-815a-4166d4b9abbb"
      },
      "execution_count": null,
      "outputs": [
        {
          "output_type": "display_data",
          "data": {
            "image/png": "[encoded data removed]",
            "text/plain": [
              "<Figure size 432x288 with 2 Axes>"
            ]
          },
          "metadata": {
            "needs_background": "light"
          }
        }
      ]
    },
    {
      "cell_type": "markdown",
      "metadata": {
        "id": "oR4E-9CT08QF"
      },
      "source": [
        "## Splitting training and test text\n",
        "Above, we used a number of external measures of text, meaning that the measures were developed without any influence from this dataset. For annotations, it was Mechanical Turk workers measuring the text. For length, that is a mathematical count of characters. For sentiment, it was from a BERT model not trained on the Internet Arguments Corpus.\n",
        "\n",
        "This is not always the case. Consider if we want to make a measure of the text based on topic modeling. We build an LDA topic model of these comments, then we select an appealingly relevant topic and measure what number of words from Topic 1 each comment uses. Can we put that measure in the regression? We could, but it would lead to a biased estimate of the true effect size because our measure is no longer external or exogenous. The measure and model are double-dipping from the same textual information. This is important to keep in mind for your final projects, and for a more thorough explanation and justification, you can read more about this in [Egami et al. 2018](https://arxiv.org/pdf/1802.02163.pdf).\n",
        "\n",
        "One approach to this in the Internet Arguments Corpus would be to build measures with the `pairs` that were not also `triples`. Sometimes we have excess data like this that is similar enough to our regression data, which we can use without reducing our regression sample size. For example, you could abductively generate a keyword-count measure like \"argumentativeness\" or \"thoughtfulness\" from non-triple pairs that isn't already in the annotations, and then count the keywords in the triples. You could develop an LDA model or word embedding measurement on some of the data, and the use it to establish an inferential relationship on the rest of the data. This would avoid contamination."
      ]
    },
    {
      "cell_type": "markdown",
      "metadata": {
        "id": "dKZNVNJT08QF"
      },
      "source": [
        "## <font color=\"red\">*Exercise 3*</font>\n",
        "\n",
        "<font color=\"red\">Propose a measure you could generate to fill in or improve upon the simple causal model you proposed above and how you would split the data (e.g., a % of your main data, a separate-but-informative dataset). You do not have to produce the measure.\n",
        "    \n",
        "<font color=\"red\">***Stretch*** (not required): Produce the measure and integrate it into your statistical analysis. This could be a great approach for your final project!"
      ]
    },
    {
      "cell_type": "markdown",
      "source": [
        "I could use k-fold cross-validation method to validate the results of my regression analysis. K-fold CV splits the training set into k mutually exclusive sets. Each set takes turn to be the validation set and the rest of the folds are used to fit the model. "
      ],
      "metadata": {
        "id": "NnlNvW_FaU77"
      }
    },
    {
      "cell_type": "markdown",
      "metadata": {
        "id": "5H2AOSy408QG"
      },
      "source": [
        "# Text as mediator\n",
        "\n",
        "What if text is instead the _mediator_, meaning it is effected by the teatment and effects the outcome? (A moderator influences the relationship a treatment has on the outcome. This figure from [Bhandari](https://www.scribbr.com/methodology/mediator-vs-moderator/) concisely shows the difference\n",
        "\n",
        "<img src=\"https://cdn.scribbr.com/wp-content/uploads/2021/03/mediator-and-moderator-variables.png\" alt=\"https://cdn.scribbr.com/wp-content/uploads/2021/03/mediator-and-moderator-variables.png\" style=\"width:500px\">\n",
        "The moderating impact of a variable can simply be captured by in/excluding the variable alongside the purported cause of interest.)\n",
        "\n",
        "Let's briefly return to the Internet Arguments Corpus triples and model the effect of the first comment (\"quote\") on the third comment (\"response2\") mediated by the second comment (\"response1\"). Unfortunately we don't have Turker annotations for the first comment, but we can propose a simple mediation model for the propogation of comment length from first to second to third. In other words: _Is there a causal chain of comment length through a conversation?_\n",
        "\n",
        "A two-step mediation model consists of two linear models, one for each step. Let's create length_q and sentiment_q variables for our model."
      ]
    },
    {
      "cell_type": "code",
      "execution_count": null,
      "metadata": {
        "id": "3nvt1P_708QG"
      },
      "outputs": [],
      "source": [
        "triples['length_q'] = triples['quote'].apply(lambda x: len(x))"
      ]
    },
    {
      "cell_type": "code",
      "execution_count": null,
      "metadata": {
        "id": "pcxgrmTw08QG"
      },
      "outputs": [],
      "source": [
        "%%time\n",
        "\n",
        "triples['sentiment_q'] = triples['quote'].apply(lambda x: sentiment(x[:512])[0]['score'])"
      ]
    },
    {
      "cell_type": "markdown",
      "metadata": {
        "id": "Rq1M6ADQ08QG"
      },
      "source": [
        "To run this analysis, statsmodel (sm) has a convenient `Mediation` module that takes in two linear models and outputs a mediation model."
      ]
    },
    {
      "cell_type": "code",
      "execution_count": null,
      "metadata": {
        "id": "IpBLAeuv08QG"
      },
      "outputs": [],
      "source": [
        "# Mediation analysis\n",
        "y = triples['length_r1']\n",
        "X_cols = ['sentiment_q','length_q']\n",
        "X = sm.add_constant(triples[X_cols])\n",
        "mediator_model = sm.OLS(y,X)\n",
        "\n",
        "# For the second step of the mediation model, we can add in other predictors.\n",
        "y = triples['length_r2']\n",
        "X_cols = ['sentiment_q','length_q','fact-feeling_r1','nicenasty_r1','sarcasm_r1','length_r1','sentiment_r1']\n",
        "X = sm.add_constant(triples[X_cols])\n",
        "outcome_model = sm.OLS(y,X)\n",
        "\n",
        "med = Mediation(outcome_model=outcome_model, mediator_model=mediator_model,\n",
        "                exposure='length_q', mediator='length_r1').fit()\n",
        "med.summary()"
      ]
    },
    {
      "cell_type": "markdown",
      "metadata": {
        "id": "7cfr_qyz08QH"
      },
      "source": [
        "It looks like the Average Causal Mediated Effect (ACME) is not significantly different from zero, but the Average Direct Effect (ADE) is. This suggests that the true causal relationship here is more likely:\n",
        "\n",
        "_length_q -> length_r2_\n",
        "\n",
        "than\n",
        "\n",
        "_length_q -> length_r1 -> length_r2_\n",
        "\n",
        "What do you think explains that relationship?"
      ]
    },
    {
      "cell_type": "markdown",
      "metadata": {
        "id": "dDbUb1LZ08QH"
      },
      "source": [
        ""
      ]
    },
    {
      "cell_type": "markdown",
      "metadata": {
        "id": "bVvWluOJ_XPr"
      },
      "source": [
        "## <font color=\"red\">*Exercise 4*</font>\n",
        "\n",
        "<font color=\"red\">Propose a mediation model related to the simple causal model you proposed above (ideally on the dataset you're using for your final project). If you have measures for each variable in the model, run the analysis: You can just copy the \"Mediation analysis\" cell above and replace with your variables. If you do not have measures, do not run the analysis, but be clear as to the effect(s) you would like to estimate and the research design you would use to test them."
      ]
    },
    {
      "cell_type": "markdown",
      "source": [
        "Does Z (year) cause genres difference (Y) which then causes the length of the lyrics (X)?"
      ],
      "metadata": {
        "id": "WIc16QIlcfoR"
      }
    },
    {
      "cell_type": "code",
      "source": [
        "# Mediation analysis\n",
        "y = gender['rap']\n",
        "X_cols = ['gender_matched_Group', 'gender_matched_female', 'gender_matched_male', 'year']\n",
        "X = sm.add_constant(gender[X_cols])\n",
        "mediator_model = sm.OLS(y,X)\n",
        "\n",
        "# For the second step of the mediation model, we can add in other predictors.\n",
        "y = gender['lyric_len']\n",
        "X_cols =  ['edm', 'latin', 'pop', 'r&b', 'rap', 'rock', 'gender_matched_Group', 'gender_matched_female', 'gender_matched_male', 'year']\n",
        "X = sm.add_constant(gender[X_cols])\n",
        "outcome_model = sm.OLS(y,X)\n",
        "\n",
        "med = Mediation(outcome_model=outcome_model, mediator_model=mediator_model,\n",
        "                exposure='year', mediator='rap').fit()\n",
        "med.summary()"
      ],
      "metadata": {
        "colab": {
          "base_uri": "https://localhost:8080/",
          "height": 407
        },
        "id": "glls7KldcZcu",
        "outputId": "8a65cda6-4aba-462e-ed6d-83f3a4f4a66a"
      },
      "execution_count": null,
      "outputs": [
        {
          "output_type": "execute_result",
          "data": {
            "text/html": [
              "\n",
              "  <div id=\"df-d6ad6d89-2bd2-4ee0-98f6-d4deac88db78\">\n",
              "    <div class=\"colab-df-container\">\n",
              "      <div>\n",
              "<style scoped>\n",
              "    .dataframe tbody tr th:only-of-type {\n",
              "        vertical-align: middle;\n",
              "    }\n",
              "\n",
              "    .dataframe tbody tr th {\n",
              "        vertical-align: top;\n",
              "    }\n",
              "\n",
              "    .dataframe thead th {\n",
              "        text-align: right;\n",
              "    }\n",
              "</style>\n",
              "<table border=\"1\" class=\"dataframe\">\n",
              "  <thead>\n",
              "    <tr style=\"text-align: right;\">\n",
              "      <th></th>\n",
              "      <th>Estimate</th>\n",
              "      <th>Lower CI bound</th>\n",
              "      <th>Upper CI bound</th>\n",
              "      <th>P-value</th>\n",
              "    </tr>\n",
              "  </thead>\n",
              "  <tbody>\n",
              "    <tr>\n",
              "      <th>ACME (control)</th>\n",
              "      <td>2.471621</td>\n",
              "      <td>-7.019779</td>\n",
              "      <td>12.369874</td>\n",
              "      <td>0.656</td>\n",
              "    </tr>\n",
              "    <tr>\n",
              "      <th>ACME (treated)</th>\n",
              "      <td>2.471621</td>\n",
              "      <td>-7.019779</td>\n",
              "      <td>12.369874</td>\n",
              "      <td>0.656</td>\n",
              "    </tr>\n",
              "    <tr>\n",
              "      <th>ADE (control)</th>\n",
              "      <td>10.268711</td>\n",
              "      <td>8.236659</td>\n",
              "      <td>12.479387</td>\n",
              "      <td>0.000</td>\n",
              "    </tr>\n",
              "    <tr>\n",
              "      <th>ADE (treated)</th>\n",
              "      <td>10.268711</td>\n",
              "      <td>8.236659</td>\n",
              "      <td>12.479387</td>\n",
              "      <td>0.000</td>\n",
              "    </tr>\n",
              "    <tr>\n",
              "      <th>Total effect</th>\n",
              "      <td>12.740332</td>\n",
              "      <td>3.500594</td>\n",
              "      <td>22.381512</td>\n",
              "      <td>0.006</td>\n",
              "    </tr>\n",
              "    <tr>\n",
              "      <th>Prop. mediated (control)</th>\n",
              "      <td>0.194565</td>\n",
              "      <td>-1.827581</td>\n",
              "      <td>0.549889</td>\n",
              "      <td>0.650</td>\n",
              "    </tr>\n",
              "    <tr>\n",
              "      <th>Prop. mediated (treated)</th>\n",
              "      <td>0.194565</td>\n",
              "      <td>-1.827581</td>\n",
              "      <td>0.549889</td>\n",
              "      <td>0.650</td>\n",
              "    </tr>\n",
              "    <tr>\n",
              "      <th>ACME (average)</th>\n",
              "      <td>2.471621</td>\n",
              "      <td>-7.019779</td>\n",
              "      <td>12.369874</td>\n",
              "      <td>0.656</td>\n",
              "    </tr>\n",
              "    <tr>\n",
              "      <th>ADE (average)</th>\n",
              "      <td>10.268711</td>\n",
              "      <td>8.236659</td>\n",
              "      <td>12.479387</td>\n",
              "      <td>0.000</td>\n",
              "    </tr>\n",
              "    <tr>\n",
              "      <th>Prop. mediated (average)</th>\n",
              "      <td>0.194565</td>\n",
              "      <td>-1.827581</td>\n",
              "      <td>0.549889</td>\n",
              "      <td>0.650</td>\n",
              "    </tr>\n",
              "  </tbody>\n",
              "</table>\n",
              "</div>\n",
              "      <button class=\"colab-df-convert\" onclick=\"convertToInteractive('df-d6ad6d89-2bd2-4ee0-98f6-d4deac88db78')\"\n",
              "              title=\"Convert this dataframe to an interactive table.\"\n",
              "              style=\"display:none;\">\n",
              "        \n",
              "  <svg xmlns=\"http://www.w3.org/2000/svg\" height=\"24px\"viewBox=\"0 0 24 24\"\n",
              "       width=\"24px\">\n",
              "    <path d=\"M0 0h24v24H0V0z\" fill=\"none\"/>\n",
              "    <path d=\"M18.56 5.44l.94 2.06.94-2.06 2.06-.94-2.06-.94-.94-2.06-.94 2.06-2.06.94zm-11 1L8.5 8.5l.94-2.06 2.06-.94-2.06-.94L8.5 2.5l-.94 2.06-2.06.94zm10 10l.94 2.06.94-2.06 2.06-.94-2.06-.94-.94-2.06-.94 2.06-2.06.94z\"/><path d=\"M17.41 7.96l-1.37-1.37c-.4-.4-.92-.59-1.43-.59-.52 0-1.04.2-1.43.59L10.3 9.45l-7.72 7.72c-.78.78-.78 2.05 0 2.83L4 21.41c.39.39.9.59 1.41.59.51 0 1.02-.2 1.41-.59l7.78-7.78 2.81-2.81c.8-.78.8-2.07 0-2.86zM5.41 20L4 18.59l7.72-7.72 1.47 1.35L5.41 20z\"/>\n",
              "  </svg>\n",
              "      </button>\n",
              "      \n",
              "  <style>\n",
              "    .colab-df-container {\n",
              "      display:flex;\n",
              "      flex-wrap:wrap;\n",
              "      gap: 12px;\n",
              "    }\n",
              "\n",
              "    .colab-df-convert {\n",
              "      background-color: #E8F0FE;\n",
              "      border: none;\n",
              "      border-radius: 50%;\n",
              "      cursor: pointer;\n",
              "      display: none;\n",
              "      fill: #1967D2;\n",
              "      height: 32px;\n",
              "      padding: 0 0 0 0;\n",
              "      width: 32px;\n",
              "    }\n",
              "\n",
              "    .colab-df-convert:hover {\n",
              "      background-color: #E2EBFA;\n",
              "      box-shadow: 0px 1px 2px rgba(60, 64, 67, 0.3), 0px 1px 3px 1px rgba(60, 64, 67, 0.15);\n",
              "      fill: #174EA6;\n",
              "    }\n",
              "\n",
              "    [theme=dark] .colab-df-convert {\n",
              "      background-color: #3B4455;\n",
              "      fill: #D2E3FC;\n",
              "    }\n",
              "\n",
              "    [theme=dark] .colab-df-convert:hover {\n",
              "      background-color: #434B5C;\n",
              "      box-shadow: 0px 1px 3px 1px rgba(0, 0, 0, 0.15);\n",
              "      filter: drop-shadow(0px 1px 2px rgba(0, 0, 0, 0.3));\n",
              "      fill: #FFFFFF;\n",
              "    }\n",
              "  </style>\n",
              "\n",
              "      <script>\n",
              "        const buttonEl =\n",
              "          document.querySelector('#df-d6ad6d89-2bd2-4ee0-98f6-d4deac88db78 button.colab-df-convert');\n",
              "        buttonEl.style.display =\n",
              "          google.colab.kernel.accessAllowed ? 'block' : 'none';\n",
              "\n",
              "        async function convertToInteractive(key) {\n",
              "          const element = document.querySelector('#df-d6ad6d89-2bd2-4ee0-98f6-d4deac88db78');\n",
              "          const dataTable =\n",
              "            await google.colab.kernel.invokeFunction('convertToInteractive',\n",
              "                                                     [key], {});\n",
              "          if (!dataTable) return;\n",
              "\n",
              "          const docLinkHtml = 'Like what you see? Visit the ' +\n",
              "            '<a target=\"_blank\" href=https://colab.research.google.com/notebooks/data_table.ipynb>data table notebook</a>'\n",
              "            + ' to learn more about interactive tables.';\n",
              "          element.innerHTML = '';\n",
              "          dataTable['output_type'] = 'display_data';\n",
              "          await google.colab.output.renderOutput(dataTable, element);\n",
              "          const docLink = document.createElement('div');\n",
              "          docLink.innerHTML = docLinkHtml;\n",
              "          element.appendChild(docLink);\n",
              "        }\n",
              "      </script>\n",
              "    </div>\n",
              "  </div>\n",
              "  "
            ],
            "text/plain": [
              "                           Estimate  Lower CI bound  Upper CI bound  P-value\n",
              "ACME (control)             2.471621       -7.019779       12.369874    0.656\n",
              "ACME (treated)             2.471621       -7.019779       12.369874    0.656\n",
              "ADE (control)             10.268711        8.236659       12.479387    0.000\n",
              "ADE (treated)             10.268711        8.236659       12.479387    0.000\n",
              "Total effect              12.740332        3.500594       22.381512    0.006\n",
              "Prop. mediated (control)   0.194565       -1.827581        0.549889    0.650\n",
              "Prop. mediated (treated)   0.194565       -1.827581        0.549889    0.650\n",
              "ACME (average)             2.471621       -7.019779       12.369874    0.656\n",
              "ADE (average)             10.268711        8.236659       12.479387    0.000\n",
              "Prop. mediated (average)   0.194565       -1.827581        0.549889    0.650"
            ]
          },
          "metadata": {},
          "execution_count": 50
        }
      ]
    },
    {
      "cell_type": "markdown",
      "source": [
        "We see that thee Average Causal Mediated Effect (ACME) is not significantly different from zero, but the Average Direct Effect (ADE). That suggests the true causal relationship here is more of:\n",
        "\n",
        "genres -> length of lyrics\n",
        "\n",
        "rather than\n",
        "\n",
        "year -> genres -> length of lyrics"
      ],
      "metadata": {
        "id": "3G003zl8eKwA"
      }
    },
    {
      "cell_type": "markdown",
      "metadata": {
        "id": "QUlrrrNH08QH"
      },
      "source": [
        "# Text as confounder\n",
        "The causal effect we're interested in estimating might not be our causal relationship of interest. Instead, it could be another variable that affects both our treatment and outcome, known as a _confounder_. Recall the [Keith et al. 2020](https://aclanthology.org/2020.acl-main.474.pdf) figure showing the role of a confounder.\n",
        "\n",
        "<img src=\"https://raw.githubusercontent.com/UChicago-Computational-Content-Analysis/Homework-Notebooks/main/week-6/img/causal_diagram.png\" alt=\"https://raw.githubusercontent.com/UChicago-Computational-Content-Analysis/Homework-Notebooks/main/week-6/img/causal_diagram.png\" style=\"width:500px\">\n",
        "\n",
        "Why do we need to control for confounders? If we didn't, we might correctly find that the treatment and outcome are correlated, but rather than one causing the other, they could both be caused by a third variable. For example, if we are studying the effect of the journal a paper is published in on the citations of the paper, we may be worried that the text of the article affects both whether it is published by the journal and whether people cite it.\n",
        "\n",
        "The factors we controlled for in the Internet Arguments Corpus could be seen as confounders, but there are also specific methods to control for text confounders. As an example, we will walk through the method proposed by [Pryzant et al. (2018)](https://nlp.stanford.edu/pubs/pryzant2018lexicon.pdf).\n",
        "\n",
        "Say that we want to know the effect of product descriptions on product popularity. If I'm a shoe seller, how should I describe my shoes to maximize sales? Suppose I have data on sales of other shoes and want to learn from it:\n",
        "\n",
        "| Description   | Brand   | Sales |\n",
        "|---------------|---------|-------|\n",
        "| buy shoes !     | addidas | 15    |\n",
        "| fresh nike shoes !  | nike    | 35    |\n",
        "| nice nike shoes ! | nike    | 17    |\n",
        "\n",
        "It looks like \"nike\" is associated with higher sales! But that doesn't help me very much because I can't just advertise my shoes as Nikes. That would be incorrect and illegal (false advertising). What if we could build a lexicon of words like \"nike\" associated with certain brands and control for that in my analysis? We could then identify brand-agnostic words like \"fresh\" that have the causal effect of interest. This is the approach by Pryzant et al.\n",
        "\n",
        "Instead of shoes, we're going to work with Consumer Financial Protection Bureau (CFPB) complaints. When US residents complain about financial products (e..g, mortgages, credit reports), the CFPB sometimes handles these on a \"timely basis (<15 days)\" and sometimes not. If you want to submit a complaint, how should you word it so you get a timely response? We want to control for the differences in wording that result from different products to identify the causal effect of interest. For example, if saying \"mortgage\" is associated with a timely response, that doesn't mean you should throw \"mortgage\" into your complaint about a credit report.\n",
        "\n",
        "Let's download the data and construct a Pandas DataFrame!"
      ]
    },
    {
      "cell_type": "code",
      "execution_count": null,
      "metadata": {
        "id": "uPNPIOt308QH",
        "colab": {
          "base_uri": "https://localhost:8080/"
        },
        "outputId": "8a7722bc-7cc3-4a1e-db51-2a72f1d7b942"
      },
      "outputs": [
        {
          "output_type": "stream",
          "name": "stdout",
          "text": [
            "Downloaded file: https://files.consumerfinance.gov/ccdb/complaints.csv.zip\n"
          ]
        }
      ],
      "source": [
        "url = 'https://files.consumerfinance.gov/ccdb/complaints.csv.zip'\n",
        "\n",
        "req = requests.get(url)\n",
        "\n",
        "filename = url.split('/')[-1]\n",
        "with open(filename,'wb') as output_file:\n",
        "    output_file.write(req.content)\n",
        "print('Downloaded file: ' + url)"
      ]
    },
    {
      "cell_type": "code",
      "execution_count": null,
      "metadata": {
        "id": "AL-HWxxj08QI"
      },
      "outputs": [],
      "source": [
        "zipfile.ZipFile('complaints.csv.zip').extractall('')"
      ]
    },
    {
      "cell_type": "code",
      "execution_count": null,
      "metadata": {
        "id": "vzB5g5gz08QI",
        "colab": {
          "base_uri": "https://localhost:8080/",
          "height": 1000
        },
        "outputId": "d6d7e140-3176-4533-fa7c-f0c9a8ddf46a"
      },
      "outputs": [
        {
          "output_type": "stream",
          "name": "stderr",
          "text": [
            "/usr/local/lib/python3.7/dist-packages/IPython/core/interactiveshell.py:2882: DtypeWarning: Columns (9) have mixed types.Specify dtype option on import or set low_memory=False.\n",
            "  exec(code_obj, self.user_global_ns, self.user_ns)\n"
          ]
        },
        {
          "output_type": "execute_result",
          "data": {
            "text/html": [
              "\n",
              "  <div id=\"df-c05af5cb-5533-4f48-8d1b-4ac18d4f3397\">\n",
              "    <div class=\"colab-df-container\">\n",
              "      <div>\n",
              "<style scoped>\n",
              "    .dataframe tbody tr th:only-of-type {\n",
              "        vertical-align: middle;\n",
              "    }\n",
              "\n",
              "    .dataframe tbody tr th {\n",
              "        vertical-align: top;\n",
              "    }\n",
              "\n",
              "    .dataframe thead th {\n",
              "        text-align: right;\n",
              "    }\n",
              "</style>\n",
              "<table border=\"1\" class=\"dataframe\">\n",
              "  <thead>\n",
              "    <tr style=\"text-align: right;\">\n",
              "      <th></th>\n",
              "      <th>Date received</th>\n",
              "      <th>Product</th>\n",
              "      <th>Sub-product</th>\n",
              "      <th>Issue</th>\n",
              "      <th>Sub-issue</th>\n",
              "      <th>Consumer complaint narrative</th>\n",
              "      <th>Company public response</th>\n",
              "      <th>Company</th>\n",
              "      <th>State</th>\n",
              "      <th>ZIP code</th>\n",
              "      <th>Tags</th>\n",
              "      <th>Consumer consent provided?</th>\n",
              "      <th>Submitted via</th>\n",
              "      <th>Date sent to company</th>\n",
              "      <th>Company response to consumer</th>\n",
              "      <th>Timely response?</th>\n",
              "      <th>Consumer disputed?</th>\n",
              "      <th>Complaint ID</th>\n",
              "    </tr>\n",
              "  </thead>\n",
              "  <tbody>\n",
              "    <tr>\n",
              "      <th>0</th>\n",
              "      <td>2019-05-03</td>\n",
              "      <td>Student loan</td>\n",
              "      <td>Private student loan</td>\n",
              "      <td>Struggling to repay your loan</td>\n",
              "      <td>Can't get other flexible options for repaying ...</td>\n",
              "      <td>NaN</td>\n",
              "      <td>NaN</td>\n",
              "      <td>Ameritech Financial</td>\n",
              "      <td>FL</td>\n",
              "      <td>33023.0</td>\n",
              "      <td>NaN</td>\n",
              "      <td>Consent not provided</td>\n",
              "      <td>Web</td>\n",
              "      <td>2019-05-15</td>\n",
              "      <td>Untimely response</td>\n",
              "      <td>No</td>\n",
              "      <td>NaN</td>\n",
              "      <td>3231257</td>\n",
              "    </tr>\n",
              "    <tr>\n",
              "      <th>1</th>\n",
              "      <td>2021-12-08</td>\n",
              "      <td>Credit reporting, credit repair services, or o...</td>\n",
              "      <td>Credit reporting</td>\n",
              "      <td>Problem with a credit reporting company's inve...</td>\n",
              "      <td>Their investigation did not fix an error on yo...</td>\n",
              "      <td>First Progress Card was notified throughout th...</td>\n",
              "      <td>NaN</td>\n",
              "      <td>Synovus Bank</td>\n",
              "      <td>DE</td>\n",
              "      <td>19805.0</td>\n",
              "      <td>NaN</td>\n",
              "      <td>Consent provided</td>\n",
              "      <td>Web</td>\n",
              "      <td>2021-12-08</td>\n",
              "      <td>Closed with explanation</td>\n",
              "      <td>Yes</td>\n",
              "      <td>NaN</td>\n",
              "      <td>4984749</td>\n",
              "    </tr>\n",
              "    <tr>\n",
              "      <th>2</th>\n",
              "      <td>2022-02-02</td>\n",
              "      <td>Checking or savings account</td>\n",
              "      <td>Checking account</td>\n",
              "      <td>Managing an account</td>\n",
              "      <td>Problem accessing account</td>\n",
              "      <td>NaN</td>\n",
              "      <td>NaN</td>\n",
              "      <td>KEYCORP</td>\n",
              "      <td>CA</td>\n",
              "      <td>94539.0</td>\n",
              "      <td>NaN</td>\n",
              "      <td>Other</td>\n",
              "      <td>Web</td>\n",
              "      <td>2022-02-02</td>\n",
              "      <td>In progress</td>\n",
              "      <td>Yes</td>\n",
              "      <td>NaN</td>\n",
              "      <td>5177862</td>\n",
              "    </tr>\n",
              "    <tr>\n",
              "      <th>3</th>\n",
              "      <td>2021-12-31</td>\n",
              "      <td>Credit reporting, credit repair services, or o...</td>\n",
              "      <td>Credit reporting</td>\n",
              "      <td>Problem with a credit reporting company's inve...</td>\n",
              "      <td>Was not notified of investigation status or re...</td>\n",
              "      <td>As by Law, under 15 U.S Code 1601- Congression...</td>\n",
              "      <td>Company has responded to the consumer and the ...</td>\n",
              "      <td>Experian Information Solutions Inc.</td>\n",
              "      <td>MD</td>\n",
              "      <td>20744.0</td>\n",
              "      <td>NaN</td>\n",
              "      <td>Consent provided</td>\n",
              "      <td>Web</td>\n",
              "      <td>2021-12-31</td>\n",
              "      <td>Closed with explanation</td>\n",
              "      <td>Yes</td>\n",
              "      <td>NaN</td>\n",
              "      <td>5057575</td>\n",
              "    </tr>\n",
              "    <tr>\n",
              "      <th>4</th>\n",
              "      <td>2022-02-08</td>\n",
              "      <td>Credit reporting, credit repair services, or o...</td>\n",
              "      <td>Credit reporting</td>\n",
              "      <td>Incorrect information on your report</td>\n",
              "      <td>Account status incorrect</td>\n",
              "      <td>NaN</td>\n",
              "      <td>Company has responded to the consumer and the ...</td>\n",
              "      <td>Experian Information Solutions Inc.</td>\n",
              "      <td>MI</td>\n",
              "      <td>48167.0</td>\n",
              "      <td>NaN</td>\n",
              "      <td>NaN</td>\n",
              "      <td>Web</td>\n",
              "      <td>2022-02-08</td>\n",
              "      <td>Closed with explanation</td>\n",
              "      <td>Yes</td>\n",
              "      <td>NaN</td>\n",
              "      <td>5198129</td>\n",
              "    </tr>\n",
              "    <tr>\n",
              "      <th>...</th>\n",
              "      <td>...</td>\n",
              "      <td>...</td>\n",
              "      <td>...</td>\n",
              "      <td>...</td>\n",
              "      <td>...</td>\n",
              "      <td>...</td>\n",
              "      <td>...</td>\n",
              "      <td>...</td>\n",
              "      <td>...</td>\n",
              "      <td>...</td>\n",
              "      <td>...</td>\n",
              "      <td>...</td>\n",
              "      <td>...</td>\n",
              "      <td>...</td>\n",
              "      <td>...</td>\n",
              "      <td>...</td>\n",
              "      <td>...</td>\n",
              "      <td>...</td>\n",
              "    </tr>\n",
              "    <tr>\n",
              "      <th>2484128</th>\n",
              "      <td>2017-02-09</td>\n",
              "      <td>Debt collection</td>\n",
              "      <td>I do not know</td>\n",
              "      <td>Cont'd attempts collect debt not owed</td>\n",
              "      <td>Debt resulted from identity theft</td>\n",
              "      <td>I have disputed my debts several times with no...</td>\n",
              "      <td>NaN</td>\n",
              "      <td>Bonneville Billing and Collections</td>\n",
              "      <td>UT</td>\n",
              "      <td>84054</td>\n",
              "      <td>Servicemember</td>\n",
              "      <td>Consent provided</td>\n",
              "      <td>Web</td>\n",
              "      <td>2017-02-09</td>\n",
              "      <td>Closed with explanation</td>\n",
              "      <td>Yes</td>\n",
              "      <td>No</td>\n",
              "      <td>2334969</td>\n",
              "    </tr>\n",
              "    <tr>\n",
              "      <th>2484129</th>\n",
              "      <td>2015-04-29</td>\n",
              "      <td>Mortgage</td>\n",
              "      <td>Conventional fixed mortgage</td>\n",
              "      <td>Loan modification,collection,foreclosure</td>\n",
              "      <td>NaN</td>\n",
              "      <td>My father died in XX/XX/XXXX. Left me his only...</td>\n",
              "      <td>NaN</td>\n",
              "      <td>CITIBANK, N.A.</td>\n",
              "      <td>OK</td>\n",
              "      <td>74066</td>\n",
              "      <td>NaN</td>\n",
              "      <td>Consent provided</td>\n",
              "      <td>Web</td>\n",
              "      <td>2015-04-29</td>\n",
              "      <td>Closed with explanation</td>\n",
              "      <td>Yes</td>\n",
              "      <td>No</td>\n",
              "      <td>1352738</td>\n",
              "    </tr>\n",
              "    <tr>\n",
              "      <th>2484130</th>\n",
              "      <td>2017-03-31</td>\n",
              "      <td>Credit reporting</td>\n",
              "      <td>NaN</td>\n",
              "      <td>Credit reporting company's investigation</td>\n",
              "      <td>No notice of investigation status/result</td>\n",
              "      <td>cfbp i would Like to file a complaint on Exper...</td>\n",
              "      <td>Company has responded to the consumer and the ...</td>\n",
              "      <td>Experian Information Solutions Inc.</td>\n",
              "      <td>MN</td>\n",
              "      <td>55379</td>\n",
              "      <td>NaN</td>\n",
              "      <td>Consent provided</td>\n",
              "      <td>Web</td>\n",
              "      <td>2017-03-31</td>\n",
              "      <td>Closed with non-monetary relief</td>\n",
              "      <td>Yes</td>\n",
              "      <td>Yes</td>\n",
              "      <td>2412926</td>\n",
              "    </tr>\n",
              "    <tr>\n",
              "      <th>2484131</th>\n",
              "      <td>2017-01-16</td>\n",
              "      <td>Credit reporting</td>\n",
              "      <td>NaN</td>\n",
              "      <td>Incorrect information on credit report</td>\n",
              "      <td>Account status</td>\n",
              "      <td>My husband and I are in the middle of an FHA S...</td>\n",
              "      <td>Company has responded to the consumer and the ...</td>\n",
              "      <td>TRANSUNION INTERMEDIATE HOLDINGS, INC.</td>\n",
              "      <td>GA</td>\n",
              "      <td>30215</td>\n",
              "      <td>NaN</td>\n",
              "      <td>Consent provided</td>\n",
              "      <td>Web</td>\n",
              "      <td>2017-01-16</td>\n",
              "      <td>Closed with explanation</td>\n",
              "      <td>Yes</td>\n",
              "      <td>No</td>\n",
              "      <td>2292586</td>\n",
              "    </tr>\n",
              "    <tr>\n",
              "      <th>2484132</th>\n",
              "      <td>2018-03-07</td>\n",
              "      <td>Mortgage</td>\n",
              "      <td>Other type of mortgage</td>\n",
              "      <td>Trouble during payment process</td>\n",
              "      <td>NaN</td>\n",
              "      <td>NaN</td>\n",
              "      <td>Company has responded to the consumer and the ...</td>\n",
              "      <td>WELLS FARGO &amp; COMPANY</td>\n",
              "      <td>CA</td>\n",
              "      <td>91304</td>\n",
              "      <td>NaN</td>\n",
              "      <td>NaN</td>\n",
              "      <td>Referral</td>\n",
              "      <td>2018-03-08</td>\n",
              "      <td>Closed with explanation</td>\n",
              "      <td>Yes</td>\n",
              "      <td>NaN</td>\n",
              "      <td>2837068</td>\n",
              "    </tr>\n",
              "  </tbody>\n",
              "</table>\n",
              "<p>2484133 rows × 18 columns</p>\n",
              "</div>\n",
              "      <button class=\"colab-df-convert\" onclick=\"convertToInteractive('df-c05af5cb-5533-4f48-8d1b-4ac18d4f3397')\"\n",
              "              title=\"Convert this dataframe to an interactive table.\"\n",
              "              style=\"display:none;\">\n",
              "        \n",
              "  <svg xmlns=\"http://www.w3.org/2000/svg\" height=\"24px\"viewBox=\"0 0 24 24\"\n",
              "       width=\"24px\">\n",
              "    <path d=\"M0 0h24v24H0V0z\" fill=\"none\"/>\n",
              "    <path d=\"M18.56 5.44l.94 2.06.94-2.06 2.06-.94-2.06-.94-.94-2.06-.94 2.06-2.06.94zm-11 1L8.5 8.5l.94-2.06 2.06-.94-2.06-.94L8.5 2.5l-.94 2.06-2.06.94zm10 10l.94 2.06.94-2.06 2.06-.94-2.06-.94-.94-2.06-.94 2.06-2.06.94z\"/><path d=\"M17.41 7.96l-1.37-1.37c-.4-.4-.92-.59-1.43-.59-.52 0-1.04.2-1.43.59L10.3 9.45l-7.72 7.72c-.78.78-.78 2.05 0 2.83L4 21.41c.39.39.9.59 1.41.59.51 0 1.02-.2 1.41-.59l7.78-7.78 2.81-2.81c.8-.78.8-2.07 0-2.86zM5.41 20L4 18.59l7.72-7.72 1.47 1.35L5.41 20z\"/>\n",
              "  </svg>\n",
              "      </button>\n",
              "      \n",
              "  <style>\n",
              "    .colab-df-container {\n",
              "      display:flex;\n",
              "      flex-wrap:wrap;\n",
              "      gap: 12px;\n",
              "    }\n",
              "\n",
              "    .colab-df-convert {\n",
              "      background-color: #E8F0FE;\n",
              "      border: none;\n",
              "      border-radius: 50%;\n",
              "      cursor: pointer;\n",
              "      display: none;\n",
              "      fill: #1967D2;\n",
              "      height: 32px;\n",
              "      padding: 0 0 0 0;\n",
              "      width: 32px;\n",
              "    }\n",
              "\n",
              "    .colab-df-convert:hover {\n",
              "      background-color: #E2EBFA;\n",
              "      box-shadow: 0px 1px 2px rgba(60, 64, 67, 0.3), 0px 1px 3px 1px rgba(60, 64, 67, 0.15);\n",
              "      fill: #174EA6;\n",
              "    }\n",
              "\n",
              "    [theme=dark] .colab-df-convert {\n",
              "      background-color: #3B4455;\n",
              "      fill: #D2E3FC;\n",
              "    }\n",
              "\n",
              "    [theme=dark] .colab-df-convert:hover {\n",
              "      background-color: #434B5C;\n",
              "      box-shadow: 0px 1px 3px 1px rgba(0, 0, 0, 0.15);\n",
              "      filter: drop-shadow(0px 1px 2px rgba(0, 0, 0, 0.3));\n",
              "      fill: #FFFFFF;\n",
              "    }\n",
              "  </style>\n",
              "\n",
              "      <script>\n",
              "        const buttonEl =\n",
              "          document.querySelector('#df-c05af5cb-5533-4f48-8d1b-4ac18d4f3397 button.colab-df-convert');\n",
              "        buttonEl.style.display =\n",
              "          google.colab.kernel.accessAllowed ? 'block' : 'none';\n",
              "\n",
              "        async function convertToInteractive(key) {\n",
              "          const element = document.querySelector('#df-c05af5cb-5533-4f48-8d1b-4ac18d4f3397');\n",
              "          const dataTable =\n",
              "            await google.colab.kernel.invokeFunction('convertToInteractive',\n",
              "                                                     [key], {});\n",
              "          if (!dataTable) return;\n",
              "\n",
              "          const docLinkHtml = 'Like what you see? Visit the ' +\n",
              "            '<a target=\"_blank\" href=https://colab.research.google.com/notebooks/data_table.ipynb>data table notebook</a>'\n",
              "            + ' to learn more about interactive tables.';\n",
              "          element.innerHTML = '';\n",
              "          dataTable['output_type'] = 'display_data';\n",
              "          await google.colab.output.renderOutput(dataTable, element);\n",
              "          const docLink = document.createElement('div');\n",
              "          docLink.innerHTML = docLinkHtml;\n",
              "          element.appendChild(docLink);\n",
              "        }\n",
              "      </script>\n",
              "    </div>\n",
              "  </div>\n",
              "  "
            ],
            "text/plain": [
              "        Date received                                            Product  \\\n",
              "0          2019-05-03                                       Student loan   \n",
              "1          2021-12-08  Credit reporting, credit repair services, or o...   \n",
              "2          2022-02-02                        Checking or savings account   \n",
              "3          2021-12-31  Credit reporting, credit repair services, or o...   \n",
              "4          2022-02-08  Credit reporting, credit repair services, or o...   \n",
              "...               ...                                                ...   \n",
              "2484128    2017-02-09                                    Debt collection   \n",
              "2484129    2015-04-29                                           Mortgage   \n",
              "2484130    2017-03-31                                   Credit reporting   \n",
              "2484131    2017-01-16                                   Credit reporting   \n",
              "2484132    2018-03-07                                           Mortgage   \n",
              "\n",
              "                         Sub-product  \\\n",
              "0               Private student loan   \n",
              "1                   Credit reporting   \n",
              "2                   Checking account   \n",
              "3                   Credit reporting   \n",
              "4                   Credit reporting   \n",
              "...                              ...   \n",
              "2484128                I do not know   \n",
              "2484129  Conventional fixed mortgage   \n",
              "2484130                          NaN   \n",
              "2484131                          NaN   \n",
              "2484132       Other type of mortgage   \n",
              "\n",
              "                                                     Issue  \\\n",
              "0                            Struggling to repay your loan   \n",
              "1        Problem with a credit reporting company's inve...   \n",
              "2                                      Managing an account   \n",
              "3        Problem with a credit reporting company's inve...   \n",
              "4                     Incorrect information on your report   \n",
              "...                                                    ...   \n",
              "2484128              Cont'd attempts collect debt not owed   \n",
              "2484129           Loan modification,collection,foreclosure   \n",
              "2484130           Credit reporting company's investigation   \n",
              "2484131             Incorrect information on credit report   \n",
              "2484132                     Trouble during payment process   \n",
              "\n",
              "                                                 Sub-issue  \\\n",
              "0        Can't get other flexible options for repaying ...   \n",
              "1        Their investigation did not fix an error on yo...   \n",
              "2                                Problem accessing account   \n",
              "3        Was not notified of investigation status or re...   \n",
              "4                                 Account status incorrect   \n",
              "...                                                    ...   \n",
              "2484128                  Debt resulted from identity theft   \n",
              "2484129                                                NaN   \n",
              "2484130           No notice of investigation status/result   \n",
              "2484131                                     Account status   \n",
              "2484132                                                NaN   \n",
              "\n",
              "                              Consumer complaint narrative  \\\n",
              "0                                                      NaN   \n",
              "1        First Progress Card was notified throughout th...   \n",
              "2                                                      NaN   \n",
              "3        As by Law, under 15 U.S Code 1601- Congression...   \n",
              "4                                                      NaN   \n",
              "...                                                    ...   \n",
              "2484128  I have disputed my debts several times with no...   \n",
              "2484129  My father died in XX/XX/XXXX. Left me his only...   \n",
              "2484130  cfbp i would Like to file a complaint on Exper...   \n",
              "2484131  My husband and I are in the middle of an FHA S...   \n",
              "2484132                                                NaN   \n",
              "\n",
              "                                   Company public response  \\\n",
              "0                                                      NaN   \n",
              "1                                                      NaN   \n",
              "2                                                      NaN   \n",
              "3        Company has responded to the consumer and the ...   \n",
              "4        Company has responded to the consumer and the ...   \n",
              "...                                                    ...   \n",
              "2484128                                                NaN   \n",
              "2484129                                                NaN   \n",
              "2484130  Company has responded to the consumer and the ...   \n",
              "2484131  Company has responded to the consumer and the ...   \n",
              "2484132  Company has responded to the consumer and the ...   \n",
              "\n",
              "                                        Company State ZIP code           Tags  \\\n",
              "0                           Ameritech Financial    FL  33023.0            NaN   \n",
              "1                                  Synovus Bank    DE  19805.0            NaN   \n",
              "2                                       KEYCORP    CA  94539.0            NaN   \n",
              "3           Experian Information Solutions Inc.    MD  20744.0            NaN   \n",
              "4           Experian Information Solutions Inc.    MI  48167.0            NaN   \n",
              "...                                         ...   ...      ...            ...   \n",
              "2484128      Bonneville Billing and Collections    UT    84054  Servicemember   \n",
              "2484129                          CITIBANK, N.A.    OK    74066            NaN   \n",
              "2484130     Experian Information Solutions Inc.    MN    55379            NaN   \n",
              "2484131  TRANSUNION INTERMEDIATE HOLDINGS, INC.    GA    30215            NaN   \n",
              "2484132                   WELLS FARGO & COMPANY    CA    91304            NaN   \n",
              "\n",
              "        Consumer consent provided? Submitted via Date sent to company  \\\n",
              "0             Consent not provided           Web           2019-05-15   \n",
              "1                 Consent provided           Web           2021-12-08   \n",
              "2                            Other           Web           2022-02-02   \n",
              "3                 Consent provided           Web           2021-12-31   \n",
              "4                              NaN           Web           2022-02-08   \n",
              "...                            ...           ...                  ...   \n",
              "2484128           Consent provided           Web           2017-02-09   \n",
              "2484129           Consent provided           Web           2015-04-29   \n",
              "2484130           Consent provided           Web           2017-03-31   \n",
              "2484131           Consent provided           Web           2017-01-16   \n",
              "2484132                        NaN      Referral           2018-03-08   \n",
              "\n",
              "            Company response to consumer Timely response? Consumer disputed?  \\\n",
              "0                      Untimely response               No                NaN   \n",
              "1                Closed with explanation              Yes                NaN   \n",
              "2                            In progress              Yes                NaN   \n",
              "3                Closed with explanation              Yes                NaN   \n",
              "4                Closed with explanation              Yes                NaN   \n",
              "...                                  ...              ...                ...   \n",
              "2484128          Closed with explanation              Yes                 No   \n",
              "2484129          Closed with explanation              Yes                 No   \n",
              "2484130  Closed with non-monetary relief              Yes                Yes   \n",
              "2484131          Closed with explanation              Yes                 No   \n",
              "2484132          Closed with explanation              Yes                NaN   \n",
              "\n",
              "         Complaint ID  \n",
              "0             3231257  \n",
              "1             4984749  \n",
              "2             5177862  \n",
              "3             5057575  \n",
              "4             5198129  \n",
              "...               ...  \n",
              "2484128       2334969  \n",
              "2484129       1352738  \n",
              "2484130       2412926  \n",
              "2484131       2292586  \n",
              "2484132       2837068  \n",
              "\n",
              "[2484133 rows x 18 columns]"
            ]
          },
          "metadata": {},
          "execution_count": 27
        }
      ],
      "source": [
        "complaints = pd.read_csv('complaints.csv')\n",
        "complaints"
      ]
    },
    {
      "cell_type": "code",
      "execution_count": null,
      "metadata": {
        "id": "y3lP-eCm08QJ"
      },
      "outputs": [],
      "source": [
        "complaints['timely'] = complaints['Timely response?'].apply(lambda x: 1 if (x == 'Yes') else 0)"
      ]
    },
    {
      "cell_type": "markdown",
      "metadata": {
        "id": "v6O-wTM408QJ"
      },
      "source": [
        "Very interesting! So our goal is to build a lexicon associated with the `Product` column in order to better identify the effect of wording choices in `Consumer complaint narrative` on whether `Timely response?` is `Yes` or `No`. Fortunately Pryzant et al. made a very convenient package to build such a lexicon."
      ]
    },
    {
      "cell_type": "code",
      "execution_count": 16,
      "metadata": {
        "id": "8QcLXtCe08QJ"
      },
      "outputs": [],
      "source": [
        "%%capture\n",
        "!pip install causal-attribution"
      ]
    },
    {
      "cell_type": "code",
      "execution_count": 17,
      "metadata": {
        "id": "5GTIm6ho08QJ"
      },
      "outputs": [],
      "source": [
        "import causal_attribution"
      ]
    },
    {
      "cell_type": "markdown",
      "metadata": {
        "id": "1VI_YuGg08QJ"
      },
      "source": [
        "We will use their function called `causal_attribution.score_vocab()`. This takes as input a vocabulary of words that we want to assess, the CSV file with data, and a dictionary that tells the function which column of the CSV is your input, your control, and your intended prediction. What vocabulary should we use? Let's put in some words related to the `Product` column as well as some words that may causally effect `Timely response?`. You can also run it on much larger vocabularies (Pryzant et al. use 2000), but it will take more time to compute."
      ]
    },
    {
      "cell_type": "code",
      "execution_count": null,
      "metadata": {
        "id": "JnnJ1PTB08QK",
        "colab": {
          "base_uri": "https://localhost:8080/"
        },
        "outputId": "753d81cd-bf6b-4473-9373-0d0bf6af3ae9"
      },
      "outputs": [
        {
          "output_type": "execute_result",
          "data": {
            "text/plain": [
              "Credit reporting, credit repair services, or other personal consumer reports    966221\n",
              "Debt collection                                                                 406460\n",
              "Mortgage                                                                        346977\n",
              "Credit reporting                                                                140430\n",
              "Credit card or prepaid card                                                     134782\n",
              "Checking or savings account                                                     112835\n",
              "Credit card                                                                      89190\n",
              "Bank account or service                                                          86206\n",
              "Student loan                                                                     65047\n",
              "Money transfer, virtual currency, or money service                               37145\n",
              "Consumer Loan                                                                    31600\n",
              "Vehicle loan or lease                                                            30707\n",
              "Payday loan, title loan, or personal loan                                        20741\n",
              "Payday loan                                                                       5543\n",
              "Money transfers                                                                   5354\n",
              "Prepaid card                                                                      3819\n",
              "Other financial service                                                           1058\n",
              "Virtual currency                                                                    18\n",
              "Name: Product, dtype: int64"
            ]
          },
          "metadata": {},
          "execution_count": 29
        }
      ],
      "source": [
        "product_num = complaints['Product'].value_counts()\n",
        "product_num"
      ]
    },
    {
      "cell_type": "code",
      "execution_count": null,
      "metadata": {
        "id": "qnw458cO08QK",
        "colab": {
          "base_uri": "https://localhost:8080/"
        },
        "outputId": "efe074f2-845c-4020-e9c3-bcdae4493264"
      },
      "outputs": [
        {
          "output_type": "stream",
          "name": "stderr",
          "text": [
            "/usr/local/lib/python3.7/dist-packages/ipykernel_launcher.py:16: DtypeWarning: Columns (9) have mixed types.Specify dtype option on import or set low_memory=False.\n",
            "  app.launch_new_instance()\n"
          ]
        },
        {
          "output_type": "stream",
          "name": "stdout",
          "text": [
            "CPU times: user 32.1 s, sys: 4.08 s, total: 36.2 s\n",
            "Wall time: 36.4 s\n"
          ]
        }
      ],
      "source": [
        "%%time\n",
        "\n",
        "importance_scores = causal_attribution.score_vocab(\n",
        "    vocab=[\n",
        "           # Words I expect to be associated with Product\n",
        "           'credit','loan','bank','card','mortgage','transfer','account','money','virtual','paypay','prepaid','lease',\n",
        "           # Words I expect to be associated with timeliness\n",
        "           'fraud','crime','urgent','please','help',\n",
        "           # Words I expect to not be associated with either\n",
        "           'bad','good','help','thank','why','husband','wife','family'\n",
        "          ],\n",
        "    csv='complaints.csv',\n",
        "    delimiter=\",\",\n",
        "    name_to_type={\n",
        "        'Consumer complaint narrative': 'input',\n",
        "        'Product': 'control',\n",
        "        'Timely response?': 'predict',\n",
        "    })\n",
        "\n",
        "importance_scores['Timely response?']['Yes']"
      ]
    },
    {
      "cell_type": "markdown",
      "metadata": {
        "id": "mQfOKFeD08QK"
      },
      "source": [
        "That output isn't that intuitive, but in theory, higher scores correspond to words that better explain `Timely response?` when controlling for `Product`. This suggests that saying `mortgage` is actually a good way to get a timely response even if your complaint isn't about a mortgage! That's interesting. As with other causal inference approaches, we can take a closer look at our data to help explain the results. For example, let's look at whether the `Mortgage` `Product` category had a very high timeliness rate. \n",
        "\n",
        "You can ignore 'UNK' and 'PAD', but if you're curious, 'UNK' refers to all tokens that are in the corpus but not in the vocab, and 'PAD' refers to padding added to texts to make their length consistent—-this is common in neural networks because the network is usually designed with a certain input length, so you need to add padding tokens if the input is shorter. You will see padding very frequently in other text-based neural networks and should keep it in mind when building your own in the future."
      ]
    },
    {
      "cell_type": "code",
      "execution_count": null,
      "metadata": {
        "id": "B6y2Ye5008QL"
      },
      "outputs": [],
      "source": [
        "product_timelies = complaints.groupby('Product').agg({'timely': 'sum'}).sort_values(by=['timely'],ascending=False)\n",
        "pcts = product_timelies.divide(product_num,axis=0).sort_values(by=['timely'],ascending=False)\n",
        "pcts"
      ]
    },
    {
      "cell_type": "markdown",
      "metadata": {
        "id": "meDbx9x608QL"
      },
      "source": [
        "Mortgage is in the middle of the pack, so it doesn't seem like mortgages in themselves are extremely likely to be responded to in a timely manner. This is something you can explore in more detail if you have time and interest. For example, you can check for which products the word `mortgage` is most strongly associated with timeliness."
      ]
    },
    {
      "cell_type": "markdown",
      "metadata": {
        "id": "SZtK_KXL08QL"
      },
      "source": [
        "## <font color=\"red\">*Exercise 5*</font>\n",
        "\n",
        "<font color=\"red\">Propose a confounder in your final project data that could be controlled for using the method of Pryzant et al. Generate an appropriate CSV file and run it on some vocabulary in your corpus. If you have no such confounder available for your final project, you can use `complaints.csv` with a new vocabulary or for different variables (e.g., `Sub-product`, `Company`) or you can further explore the interesting case of `mortgage`. Also keep in mind the [ConvoKit datasets](https://convokit.cornell.edu/documentation/datasets.html). In any case, be sure to interpret the results. What does the output of `causal_attribution.score_vocab()` mean in your context?"
      ]
    },
    {
      "cell_type": "markdown",
      "source": [
        "New causal model: Track lyrics and track popularity have a causal relationship. \n",
        "I propose that genre (whether the song is a rap song or not) could be a confounder. "
      ],
      "metadata": {
        "id": "AFNnXNAaCWGv"
      }
    },
    {
      "cell_type": "code",
      "source": [
        "import pandas as pd\n",
        "data = pd.read_csv(\"sp_bb_matched.csv\", index_col = 0)\n",
        "data.columns"
      ],
      "metadata": {
        "id": "lZmq8KnDCVpp",
        "colab": {
          "base_uri": "https://localhost:8080/"
        },
        "outputId": "ed1ce5f3-c044-4cbe-fd16-8751dbf96ad5"
      },
      "execution_count": 10,
      "outputs": [
        {
          "output_type": "execute_result",
          "data": {
            "text/plain": [
              "Index(['artist', 'lyrics', 'year', 'popularity', 'edm', 'latin', 'pop', 'r&b',\n",
              "       'rap', 'rock', 'Gender', 'year_bin', 'artist_lower', 'gender_matched'],\n",
              "      dtype='object')"
            ]
          },
          "metadata": {},
          "execution_count": 10
        }
      ]
    },
    {
      "cell_type": "code",
      "source": [
        "data = data[(~data.popularity.isna()) & (data.gender_matched != \"Unknown\")]"
      ],
      "metadata": {
        "id": "kaHUv9jjQ1_K"
      },
      "execution_count": 11,
      "outputs": []
    },
    {
      "cell_type": "code",
      "source": [
        "data = data.drop(columns = [\"artist_lower\", \"Gender\"])"
      ],
      "metadata": {
        "id": "a7l6VC_PRTFq"
      },
      "execution_count": 13,
      "outputs": []
    },
    {
      "cell_type": "code",
      "source": [
        "data.to_csv(\"data.csv\")"
      ],
      "metadata": {
        "id": "oVJO2s7hRlyD"
      },
      "execution_count": 18,
      "outputs": []
    },
    {
      "cell_type": "code",
      "source": [
        "data.columns"
      ],
      "metadata": {
        "colab": {
          "base_uri": "https://localhost:8080/"
        },
        "id": "5A61Nc10SIeR",
        "outputId": "84bb4f03-af37-4f0c-8bdd-52e1e5da5873"
      },
      "execution_count": 19,
      "outputs": [
        {
          "output_type": "execute_result",
          "data": {
            "text/plain": [
              "Index(['artist', 'lyrics', 'year', 'popularity', 'edm', 'latin', 'pop', 'r&b',\n",
              "       'rap', 'rock', 'year_bin', 'gender_matched'],\n",
              "      dtype='object')"
            ]
          },
          "metadata": {},
          "execution_count": 19
        }
      ]
    },
    {
      "cell_type": "code",
      "source": [
        "data.sort_values(by ='popularity', ascending = False)"
      ],
      "metadata": {
        "colab": {
          "base_uri": "https://localhost:8080/",
          "height": 641
        },
        "id": "Qxg2gFJoUXHr",
        "outputId": "dcdf8632-75a4-4971-b8f1-3919eb46afcd"
      },
      "execution_count": 21,
      "outputs": [
        {
          "output_type": "execute_result",
          "data": {
            "text/html": [
              "\n",
              "  <div id=\"df-f8c4bb3e-adcd-4007-9045-7f64720268b0\">\n",
              "    <div class=\"colab-df-container\">\n",
              "      <div>\n",
              "<style scoped>\n",
              "    .dataframe tbody tr th:only-of-type {\n",
              "        vertical-align: middle;\n",
              "    }\n",
              "\n",
              "    .dataframe tbody tr th {\n",
              "        vertical-align: top;\n",
              "    }\n",
              "\n",
              "    .dataframe thead th {\n",
              "        text-align: right;\n",
              "    }\n",
              "</style>\n",
              "<table border=\"1\" class=\"dataframe\">\n",
              "  <thead>\n",
              "    <tr style=\"text-align: right;\">\n",
              "      <th></th>\n",
              "      <th>artist</th>\n",
              "      <th>lyrics</th>\n",
              "      <th>year</th>\n",
              "      <th>popularity</th>\n",
              "      <th>edm</th>\n",
              "      <th>latin</th>\n",
              "      <th>pop</th>\n",
              "      <th>r&amp;b</th>\n",
              "      <th>rap</th>\n",
              "      <th>rock</th>\n",
              "      <th>year_bin</th>\n",
              "      <th>gender_matched</th>\n",
              "    </tr>\n",
              "  </thead>\n",
              "  <tbody>\n",
              "    <tr>\n",
              "      <th>5616</th>\n",
              "      <td>Tones and I</td>\n",
              "      <td>They say, \"Oh my God, I see the way you shine ...</td>\n",
              "      <td>2019</td>\n",
              "      <td>100.0</td>\n",
              "      <td>False</td>\n",
              "      <td>False</td>\n",
              "      <td>True</td>\n",
              "      <td>False</td>\n",
              "      <td>False</td>\n",
              "      <td>False</td>\n",
              "      <td>2010s</td>\n",
              "      <td>female</td>\n",
              "    </tr>\n",
              "    <tr>\n",
              "      <th>11573</th>\n",
              "      <td>Arizona Zervas</td>\n",
              "      <td>All for the 'Gram Bitches love the 'Gram Oh, w...</td>\n",
              "      <td>2019</td>\n",
              "      <td>99.0</td>\n",
              "      <td>False</td>\n",
              "      <td>True</td>\n",
              "      <td>False</td>\n",
              "      <td>False</td>\n",
              "      <td>False</td>\n",
              "      <td>False</td>\n",
              "      <td>2010s</td>\n",
              "      <td>male</td>\n",
              "    </tr>\n",
              "    <tr>\n",
              "      <th>4237</th>\n",
              "      <td>Maroon 5</td>\n",
              "      <td>Here's to the ones that we got Cheers to the w...</td>\n",
              "      <td>2019</td>\n",
              "      <td>98.0</td>\n",
              "      <td>False</td>\n",
              "      <td>False</td>\n",
              "      <td>True</td>\n",
              "      <td>False</td>\n",
              "      <td>False</td>\n",
              "      <td>False</td>\n",
              "      <td>2010s</td>\n",
              "      <td>male</td>\n",
              "    </tr>\n",
              "    <tr>\n",
              "      <th>3912</th>\n",
              "      <td>Post Malone</td>\n",
              "      <td>Oh, oh, oh Oh,  oh, oh Oh,  oh, oh, oh, oh We ...</td>\n",
              "      <td>2019</td>\n",
              "      <td>98.0</td>\n",
              "      <td>False</td>\n",
              "      <td>False</td>\n",
              "      <td>True</td>\n",
              "      <td>False</td>\n",
              "      <td>False</td>\n",
              "      <td>False</td>\n",
              "      <td>2010s</td>\n",
              "      <td>male</td>\n",
              "    </tr>\n",
              "    <tr>\n",
              "      <th>1117</th>\n",
              "      <td>Roddy Ricch</td>\n",
              "      <td>Pullin' out the coupe at the lot Told 'em fuck...</td>\n",
              "      <td>2019</td>\n",
              "      <td>98.0</td>\n",
              "      <td>False</td>\n",
              "      <td>False</td>\n",
              "      <td>False</td>\n",
              "      <td>False</td>\n",
              "      <td>True</td>\n",
              "      <td>False</td>\n",
              "      <td>2010s</td>\n",
              "      <td>male</td>\n",
              "    </tr>\n",
              "    <tr>\n",
              "      <th>...</th>\n",
              "      <td>...</td>\n",
              "      <td>...</td>\n",
              "      <td>...</td>\n",
              "      <td>...</td>\n",
              "      <td>...</td>\n",
              "      <td>...</td>\n",
              "      <td>...</td>\n",
              "      <td>...</td>\n",
              "      <td>...</td>\n",
              "      <td>...</td>\n",
              "      <td>...</td>\n",
              "      <td>...</td>\n",
              "    </tr>\n",
              "    <tr>\n",
              "      <th>7870</th>\n",
              "      <td>Rick Ross</td>\n",
              "      <td>NA Geah Classic hip hop shit Dr. D-R-E Rozay a...</td>\n",
              "      <td>2012</td>\n",
              "      <td>0.0</td>\n",
              "      <td>False</td>\n",
              "      <td>False</td>\n",
              "      <td>False</td>\n",
              "      <td>False</td>\n",
              "      <td>True</td>\n",
              "      <td>False</td>\n",
              "      <td>2010s</td>\n",
              "      <td>male</td>\n",
              "    </tr>\n",
              "    <tr>\n",
              "      <th>2960</th>\n",
              "      <td>Supertramp</td>\n",
              "      <td>NA Ooh, yeah Alright Here we go again Neah nea...</td>\n",
              "      <td>1987</td>\n",
              "      <td>0.0</td>\n",
              "      <td>False</td>\n",
              "      <td>False</td>\n",
              "      <td>False</td>\n",
              "      <td>False</td>\n",
              "      <td>False</td>\n",
              "      <td>True</td>\n",
              "      <td>1980s</td>\n",
              "      <td>male</td>\n",
              "    </tr>\n",
              "    <tr>\n",
              "      <th>12848</th>\n",
              "      <td>New Edition</td>\n",
              "      <td>Everybody's saying silly things Without knowin...</td>\n",
              "      <td>2005</td>\n",
              "      <td>0.0</td>\n",
              "      <td>False</td>\n",
              "      <td>False</td>\n",
              "      <td>False</td>\n",
              "      <td>False</td>\n",
              "      <td>False</td>\n",
              "      <td>True</td>\n",
              "      <td>2000s</td>\n",
              "      <td>Group</td>\n",
              "    </tr>\n",
              "    <tr>\n",
              "      <th>2982</th>\n",
              "      <td>The Game</td>\n",
              "      <td>Pull the rag off the six-fo' Hit the switch, s...</td>\n",
              "      <td>2006</td>\n",
              "      <td>0.0</td>\n",
              "      <td>False</td>\n",
              "      <td>False</td>\n",
              "      <td>False</td>\n",
              "      <td>False</td>\n",
              "      <td>True</td>\n",
              "      <td>False</td>\n",
              "      <td>2000s</td>\n",
              "      <td>male</td>\n",
              "    </tr>\n",
              "    <tr>\n",
              "      <th>6424</th>\n",
              "      <td>4Minute</td>\n",
              "      <td>Yeah, I'm the female monster You know that Eve...</td>\n",
              "      <td>2015</td>\n",
              "      <td>0.0</td>\n",
              "      <td>True</td>\n",
              "      <td>False</td>\n",
              "      <td>False</td>\n",
              "      <td>False</td>\n",
              "      <td>False</td>\n",
              "      <td>False</td>\n",
              "      <td>2010s</td>\n",
              "      <td>Group</td>\n",
              "    </tr>\n",
              "  </tbody>\n",
              "</table>\n",
              "<p>9938 rows × 12 columns</p>\n",
              "</div>\n",
              "      <button class=\"colab-df-convert\" onclick=\"convertToInteractive('df-f8c4bb3e-adcd-4007-9045-7f64720268b0')\"\n",
              "              title=\"Convert this dataframe to an interactive table.\"\n",
              "              style=\"display:none;\">\n",
              "        \n",
              "  <svg xmlns=\"http://www.w3.org/2000/svg\" height=\"24px\"viewBox=\"0 0 24 24\"\n",
              "       width=\"24px\">\n",
              "    <path d=\"M0 0h24v24H0V0z\" fill=\"none\"/>\n",
              "    <path d=\"M18.56 5.44l.94 2.06.94-2.06 2.06-.94-2.06-.94-.94-2.06-.94 2.06-2.06.94zm-11 1L8.5 8.5l.94-2.06 2.06-.94-2.06-.94L8.5 2.5l-.94 2.06-2.06.94zm10 10l.94 2.06.94-2.06 2.06-.94-2.06-.94-.94-2.06-.94 2.06-2.06.94z\"/><path d=\"M17.41 7.96l-1.37-1.37c-.4-.4-.92-.59-1.43-.59-.52 0-1.04.2-1.43.59L10.3 9.45l-7.72 7.72c-.78.78-.78 2.05 0 2.83L4 21.41c.39.39.9.59 1.41.59.51 0 1.02-.2 1.41-.59l7.78-7.78 2.81-2.81c.8-.78.8-2.07 0-2.86zM5.41 20L4 18.59l7.72-7.72 1.47 1.35L5.41 20z\"/>\n",
              "  </svg>\n",
              "      </button>\n",
              "      \n",
              "  <style>\n",
              "    .colab-df-container {\n",
              "      display:flex;\n",
              "      flex-wrap:wrap;\n",
              "      gap: 12px;\n",
              "    }\n",
              "\n",
              "    .colab-df-convert {\n",
              "      background-color: #E8F0FE;\n",
              "      border: none;\n",
              "      border-radius: 50%;\n",
              "      cursor: pointer;\n",
              "      display: none;\n",
              "      fill: #1967D2;\n",
              "      height: 32px;\n",
              "      padding: 0 0 0 0;\n",
              "      width: 32px;\n",
              "    }\n",
              "\n",
              "    .colab-df-convert:hover {\n",
              "      background-color: #E2EBFA;\n",
              "      box-shadow: 0px 1px 2px rgba(60, 64, 67, 0.3), 0px 1px 3px 1px rgba(60, 64, 67, 0.15);\n",
              "      fill: #174EA6;\n",
              "    }\n",
              "\n",
              "    [theme=dark] .colab-df-convert {\n",
              "      background-color: #3B4455;\n",
              "      fill: #D2E3FC;\n",
              "    }\n",
              "\n",
              "    [theme=dark] .colab-df-convert:hover {\n",
              "      background-color: #434B5C;\n",
              "      box-shadow: 0px 1px 3px 1px rgba(0, 0, 0, 0.15);\n",
              "      filter: drop-shadow(0px 1px 2px rgba(0, 0, 0, 0.3));\n",
              "      fill: #FFFFFF;\n",
              "    }\n",
              "  </style>\n",
              "\n",
              "      <script>\n",
              "        const buttonEl =\n",
              "          document.querySelector('#df-f8c4bb3e-adcd-4007-9045-7f64720268b0 button.colab-df-convert');\n",
              "        buttonEl.style.display =\n",
              "          google.colab.kernel.accessAllowed ? 'block' : 'none';\n",
              "\n",
              "        async function convertToInteractive(key) {\n",
              "          const element = document.querySelector('#df-f8c4bb3e-adcd-4007-9045-7f64720268b0');\n",
              "          const dataTable =\n",
              "            await google.colab.kernel.invokeFunction('convertToInteractive',\n",
              "                                                     [key], {});\n",
              "          if (!dataTable) return;\n",
              "\n",
              "          const docLinkHtml = 'Like what you see? Visit the ' +\n",
              "            '<a target=\"_blank\" href=https://colab.research.google.com/notebooks/data_table.ipynb>data table notebook</a>'\n",
              "            + ' to learn more about interactive tables.';\n",
              "          element.innerHTML = '';\n",
              "          dataTable['output_type'] = 'display_data';\n",
              "          await google.colab.output.renderOutput(dataTable, element);\n",
              "          const docLink = document.createElement('div');\n",
              "          docLink.innerHTML = docLinkHtml;\n",
              "          element.appendChild(docLink);\n",
              "        }\n",
              "      </script>\n",
              "    </div>\n",
              "  </div>\n",
              "  "
            ],
            "text/plain": [
              "               artist  ... gender_matched\n",
              "5616      Tones and I  ...         female\n",
              "11573  Arizona Zervas  ...           male\n",
              "4237         Maroon 5  ...           male\n",
              "3912      Post Malone  ...           male\n",
              "1117      Roddy Ricch  ...           male\n",
              "...               ...  ...            ...\n",
              "7870        Rick Ross  ...           male\n",
              "2960       Supertramp  ...           male\n",
              "12848     New Edition  ...          Group\n",
              "2982         The Game  ...           male\n",
              "6424          4Minute  ...          Group\n",
              "\n",
              "[9938 rows x 12 columns]"
            ]
          },
          "metadata": {},
          "execution_count": 21
        }
      ]
    },
    {
      "cell_type": "code",
      "source": [
        "data.loc[5616, 'lyrics']"
      ],
      "metadata": {
        "colab": {
          "base_uri": "https://localhost:8080/",
          "height": 174
        },
        "id": "iufYZYZaVREP",
        "outputId": "5e123367-341f-4fb9-e266-c14299281463"
      },
      "execution_count": 22,
      "outputs": [
        {
          "output_type": "execute_result",
          "data": {
            "application/vnd.google.colaboratory.intrinsic+json": {
              "type": "string"
            },
            "text/plain": [
              "'They say, \"Oh my God, I see the way you shine Take your hands, my dear, and place them both in mine\" You know you stopped me dead while I was passing by And now I beg to see you dance just one more time Ooh, I see you, see you, see you every time And oh my, I, I like your style You, you make me, make me, make me wanna cry And now I beg to see you dance just one more time So they say Dance for me, dance for me, dance for me, oh-oh-oh I\\'ve never seen anybody do the things you do before They say Move for me, move for me, move for me, ayy-ayy-ayy And when you\\'re done, I\\'ll make you do it all again I said, \"Oh my God, I see you walking by Take my hands, my dear, and look me in my eyes\"Just like a monkey, I\\'ve been dancin\\' my whole life But you just beg to see me dance just one more time Ooh, I see you, see you, see you every time And oh my, I, I like your style You, you make me, make me, make me wanna cry And now I beg to see you dance just one more time So they say Dance for me, dance for me, dance for me, oh-oh-oh I\\'ve never seen anybody do the things you do before They say Move for me, move for me, move for me, ayy-ayy-ayy And when you\\'re done, I\\'ll make you do it all again They say Dance for me, dance for me, dance for me, oh-oh-oh, oh-oh, oh-oh I\\'ve never seen anybody do the things you do before They say Move for me, move for me, move for me, ayy-ayy-ayy And when you\\'re done, I\\'ll make you do it all again Ooh, ooh, ooh, ooh, ooh Oh-oh, oh-oh, oh Ooh, ooh, ooh, ooh, ooh-ooh Ooh, ah-ah, ah-ah They say Dance for me, dance for me, dance for me, oh-oh-oh I\\'ve never seen anybody do the things you do before They say Move for me, move for me, move for me, ayy-ayy-ayy And when you\\'re done, I\\'ll make you do it all again They say Dance for me, dance for me, dance for me, oh-oh-oh, oh-oh, oh-oh I\\'ve never seen anybody do the things you do before They say Move for me, move for me, move for me, ayy-ayy-ayy And when you\\'re done, I\\'ll make you do it all again All again They say, \"Oh my God, I see the way you shine Take your hands, my dear, and place them both in mine\" You know you stopped me dead while I was passing by And now I beg to see you dance just one more time Ooh, I see you, see you, see you every time And oh my, I, I like your style You, you make me, make me, make me wanna cry And now I beg to see you dance just one more time So they say Dance for me, dance for me, dance for me, oh-oh-oh I\\'ve never seen anybody do the things you do before They say Move for me, move for me, move for me, ayy-ayy-ayy And when you\\'re done, I\\'ll make you do it all again I said, \"Oh my God, I see you walking by Take my hands, my dear, and look me in my eyes\"Just like a monkey, I\\'ve been dancin\\' my whole life But you just beg to see me dance just one more time Ooh, I see you, see you, see you every time And oh my, I, I like your style You, you make me, make me, make me wanna cry And now I beg to see you dance just one more time So they say Dance for me, dance for me, dance for me, oh-oh-oh I\\'ve never seen anybody do the things you do before They say Move for me, move for me, move for me, ayy-ayy-ayy And when you\\'re done, I\\'ll make you do it all again They say Dance for me, dance for me, dance for me, oh-oh-oh, oh-oh, oh-oh I\\'ve never seen anybody do the things you do before They say Move for me, move for me, move for me, ayy-ayy-ayy And when you\\'re done, I\\'ll make you do it all again Ooh, ooh, ooh, ooh, ooh Oh-oh, oh-oh, oh Ooh, ooh, ooh, ooh, ooh-ooh Ooh, ah-ah, ah-ah They say Dance for me, dance for me, dance for me, oh-oh-oh I\\'ve never seen anybody do the things you do before They say Move for me, move for me, move for me, ayy-ayy-ayy And when you\\'re done, I\\'ll make you do it all again They say Dance for me, dance for me, dance for me, oh-oh-oh, oh-oh, oh-oh I\\'ve never seen anybody do the things you do before They say Move for me, move for me, move for me, ayy-ayy-ayy And when you\\'re done, I\\'ll make you do it all again All again'"
            ]
          },
          "metadata": {},
          "execution_count": 22
        }
      ]
    },
    {
      "cell_type": "code",
      "source": [
        "%%time\n",
        "\n",
        "importance_scores = causal_attribution.score_vocab(\n",
        "    vocab=[\n",
        "           # Words I expect to be associated with rap\n",
        "           'bitch','lit','fuck','shit','nigga','shawty','money','money',\n",
        "           # Words I expect to be associated with popularity\n",
        "           'love','dear','cry','please','time', 'dance',\n",
        "           # Words I expect to not be associated with either\n",
        "           'I','you','help','my','oh','she','he'\n",
        "          ],\n",
        "    csv='data.csv',\n",
        "    delimiter=\",\",\n",
        "    name_to_type={\n",
        "        'lyrics': 'input',\n",
        "        'rap': 'control',\n",
        "        'popularity': 'predict',\n",
        "    })\n",
        "\n",
        "#importance_scores['Timely response?']['Yes']"
      ],
      "metadata": {
        "colab": {
          "base_uri": "https://localhost:8080/"
        },
        "id": "2EinqpVPR3wm",
        "outputId": "68a54096-83a7-4bb8-acc2-5818c7606d14"
      },
      "execution_count": 31,
      "outputs": [
        {
          "output_type": "stream",
          "name": "stdout",
          "text": [
            "CPU times: user 11.9 s, sys: 200 ms, total: 12.1 s\n",
            "Wall time: 12.1 s\n"
          ]
        }
      ]
    },
    {
      "cell_type": "code",
      "source": [
        "importance_scores['popularity']"
      ],
      "metadata": {
        "colab": {
          "base_uri": "https://localhost:8080/"
        },
        "id": "jAWSu1URXa2x",
        "outputId": "5475ffc1-b4aa-4200-ca9a-5c2f71c073e2"
      },
      "execution_count": 32,
      "outputs": [
        {
          "output_type": "execute_result",
          "data": {
            "text/plain": [
              "defaultdict(list,\n",
              "            {'N/A': [('UNK', 36.71599233150482),\n",
              "              ('shawty', 8.95956440269947),\n",
              "              ('lit', 7.038148015737534),\n",
              "              ('I', 5.383372563868761),\n",
              "              ('bitch', 2.68325551180169),\n",
              "              ('my', 2.136355461552739),\n",
              "              ('dear', 2.08261786820367),\n",
              "              ('he', 2.068040550686419),\n",
              "              ('she', 1.9193234564736485),\n",
              "              ('fuck', 1.7840789987239987),\n",
              "              ('dance', 1.762383165769279),\n",
              "              ('you', 1.5877274442464113),\n",
              "              ('oh', 1.2381620721425861),\n",
              "              ('shit', 1.147179220803082),\n",
              "              ('cry', 0.8378545228624716),\n",
              "              ('money', 0.6767420503310859),\n",
              "              ('love', 0.11372515419498086),\n",
              "              ('money', 0.1038433110807091),\n",
              "              ('time', -0.15778986271470785),\n",
              "              ('PAD', -0.22980637222644873),\n",
              "              ('nigga', -1.4090447233902523),\n",
              "              ('please', -1.4966486738994718),\n",
              "              ('help', -1.8838589079678059)]})"
            ]
          },
          "metadata": {},
          "execution_count": 32
        }
      ]
    },
    {
      "cell_type": "markdown",
      "source": [
        "Conditioned on whether the music is rap song or not, the words that responded to track popularity are \"shawty\", \"lit\", \"I\" and surperisingly \"bitch\". There seems to be a positive response from the music fans about the use of this gendered-slur."
      ],
      "metadata": {
        "id": "OLVXq6n0YvF5"
      }
    },
    {
      "cell_type": "code",
      "source": [
        "rap_num = data['rap'].value_counts()\n",
        "rap_num"
      ],
      "metadata": {
        "colab": {
          "base_uri": "https://localhost:8080/"
        },
        "id": "BJ8N4WA-YGvp",
        "outputId": "6eb98bdc-6741-4884-ecbd-19c201b297b0"
      },
      "execution_count": 27,
      "outputs": [
        {
          "output_type": "execute_result",
          "data": {
            "text/plain": [
              "False    8423\n",
              "True     1515\n",
              "Name: rap, dtype: int64"
            ]
          },
          "metadata": {},
          "execution_count": 27
        }
      ]
    },
    {
      "cell_type": "code",
      "source": [
        "rap_pop = data.groupby('rap').agg({'pop': 'sum'}).sort_values(by=['pop'],ascending=False)\n",
        "pcts = rap_pop.divide(rap_num,axis=0).sort_values(by=['pop'],ascending=False)\n",
        "pcts"
      ],
      "metadata": {
        "colab": {
          "base_uri": "https://localhost:8080/",
          "height": 143
        },
        "id": "uUEN9o7VXvtM",
        "outputId": "aa6e045b-ce74-40e6-e87a-b25735c201ba"
      },
      "execution_count": 29,
      "outputs": [
        {
          "output_type": "execute_result",
          "data": {
            "text/html": [
              "\n",
              "  <div id=\"df-d7c25be2-f493-4dd2-bbdb-88ac2669a7ac\">\n",
              "    <div class=\"colab-df-container\">\n",
              "      <div>\n",
              "<style scoped>\n",
              "    .dataframe tbody tr th:only-of-type {\n",
              "        vertical-align: middle;\n",
              "    }\n",
              "\n",
              "    .dataframe tbody tr th {\n",
              "        vertical-align: top;\n",
              "    }\n",
              "\n",
              "    .dataframe thead th {\n",
              "        text-align: right;\n",
              "    }\n",
              "</style>\n",
              "<table border=\"1\" class=\"dataframe\">\n",
              "  <thead>\n",
              "    <tr style=\"text-align: right;\">\n",
              "      <th></th>\n",
              "      <th>pop</th>\n",
              "    </tr>\n",
              "    <tr>\n",
              "      <th>rap</th>\n",
              "      <th></th>\n",
              "    </tr>\n",
              "  </thead>\n",
              "  <tbody>\n",
              "    <tr>\n",
              "      <th>False</th>\n",
              "      <td>0.308679</td>\n",
              "    </tr>\n",
              "    <tr>\n",
              "      <th>True</th>\n",
              "      <td>0.000000</td>\n",
              "    </tr>\n",
              "  </tbody>\n",
              "</table>\n",
              "</div>\n",
              "      <button class=\"colab-df-convert\" onclick=\"convertToInteractive('df-d7c25be2-f493-4dd2-bbdb-88ac2669a7ac')\"\n",
              "              title=\"Convert this dataframe to an interactive table.\"\n",
              "              style=\"display:none;\">\n",
              "        \n",
              "  <svg xmlns=\"http://www.w3.org/2000/svg\" height=\"24px\"viewBox=\"0 0 24 24\"\n",
              "       width=\"24px\">\n",
              "    <path d=\"M0 0h24v24H0V0z\" fill=\"none\"/>\n",
              "    <path d=\"M18.56 5.44l.94 2.06.94-2.06 2.06-.94-2.06-.94-.94-2.06-.94 2.06-2.06.94zm-11 1L8.5 8.5l.94-2.06 2.06-.94-2.06-.94L8.5 2.5l-.94 2.06-2.06.94zm10 10l.94 2.06.94-2.06 2.06-.94-2.06-.94-.94-2.06-.94 2.06-2.06.94z\"/><path d=\"M17.41 7.96l-1.37-1.37c-.4-.4-.92-.59-1.43-.59-.52 0-1.04.2-1.43.59L10.3 9.45l-7.72 7.72c-.78.78-.78 2.05 0 2.83L4 21.41c.39.39.9.59 1.41.59.51 0 1.02-.2 1.41-.59l7.78-7.78 2.81-2.81c.8-.78.8-2.07 0-2.86zM5.41 20L4 18.59l7.72-7.72 1.47 1.35L5.41 20z\"/>\n",
              "  </svg>\n",
              "      </button>\n",
              "      \n",
              "  <style>\n",
              "    .colab-df-container {\n",
              "      display:flex;\n",
              "      flex-wrap:wrap;\n",
              "      gap: 12px;\n",
              "    }\n",
              "\n",
              "    .colab-df-convert {\n",
              "      background-color: #E8F0FE;\n",
              "      border: none;\n",
              "      border-radius: 50%;\n",
              "      cursor: pointer;\n",
              "      display: none;\n",
              "      fill: #1967D2;\n",
              "      height: 32px;\n",
              "      padding: 0 0 0 0;\n",
              "      width: 32px;\n",
              "    }\n",
              "\n",
              "    .colab-df-convert:hover {\n",
              "      background-color: #E2EBFA;\n",
              "      box-shadow: 0px 1px 2px rgba(60, 64, 67, 0.3), 0px 1px 3px 1px rgba(60, 64, 67, 0.15);\n",
              "      fill: #174EA6;\n",
              "    }\n",
              "\n",
              "    [theme=dark] .colab-df-convert {\n",
              "      background-color: #3B4455;\n",
              "      fill: #D2E3FC;\n",
              "    }\n",
              "\n",
              "    [theme=dark] .colab-df-convert:hover {\n",
              "      background-color: #434B5C;\n",
              "      box-shadow: 0px 1px 3px 1px rgba(0, 0, 0, 0.15);\n",
              "      filter: drop-shadow(0px 1px 2px rgba(0, 0, 0, 0.3));\n",
              "      fill: #FFFFFF;\n",
              "    }\n",
              "  </style>\n",
              "\n",
              "      <script>\n",
              "        const buttonEl =\n",
              "          document.querySelector('#df-d7c25be2-f493-4dd2-bbdb-88ac2669a7ac button.colab-df-convert');\n",
              "        buttonEl.style.display =\n",
              "          google.colab.kernel.accessAllowed ? 'block' : 'none';\n",
              "\n",
              "        async function convertToInteractive(key) {\n",
              "          const element = document.querySelector('#df-d7c25be2-f493-4dd2-bbdb-88ac2669a7ac');\n",
              "          const dataTable =\n",
              "            await google.colab.kernel.invokeFunction('convertToInteractive',\n",
              "                                                     [key], {});\n",
              "          if (!dataTable) return;\n",
              "\n",
              "          const docLinkHtml = 'Like what you see? Visit the ' +\n",
              "            '<a target=\"_blank\" href=https://colab.research.google.com/notebooks/data_table.ipynb>data table notebook</a>'\n",
              "            + ' to learn more about interactive tables.';\n",
              "          element.innerHTML = '';\n",
              "          dataTable['output_type'] = 'display_data';\n",
              "          await google.colab.output.renderOutput(dataTable, element);\n",
              "          const docLink = document.createElement('div');\n",
              "          docLink.innerHTML = docLinkHtml;\n",
              "          element.appendChild(docLink);\n",
              "        }\n",
              "      </script>\n",
              "    </div>\n",
              "  </div>\n",
              "  "
            ],
            "text/plain": [
              "            pop\n",
              "rap            \n",
              "False  0.308679\n",
              "True   0.000000"
            ]
          },
          "metadata": {},
          "execution_count": 29
        }
      ]
    },
    {
      "cell_type": "markdown",
      "source": [
        "However, we see that in fact non-rap music are more likely to be rated higher in popularity. This finding is important because rap music always get the bad reputation for being misogynistic. Yet, when other genres (non-rap) use the word \"bitch\" there're evidently postive response."
      ],
      "metadata": {
        "id": "slXHWJc3YVR5"
      }
    },
    {
      "cell_type": "markdown",
      "metadata": {
        "id": "UKJsVd9l08QL"
      },
      "source": [
        "# \"Causally sufficient\" embedding and topic models\n",
        "Our final example of causal inference with text is from Victor Veitch (now a statistics and CS professor at UChicago), Sridhhar, and Blei. You may recall Blei as the lead developer of LDA, HDP, and Dynamic topic models, among other amazing contributions to content analysis.\n",
        "\n",
        "Their 2020 paper, [\"Adapting Text Embeddings for Causal Inference\"](https://arxiv.org/abs/1905.12741), proposes reducing the dimensions of contextual text embeddings (from BERT) in a manner that preserves causally relevant text signals. For example: \"Does adding a theorem to a paper affect its chance of acceptance?\" We can apply supervised dimensionality reduction to make the embedding easier to analyze (i.e., lower dimension) but preserve information about whether theorems are present. Similar to Pryzant et al., Veitch et al. have a great [GitHub respository](https://github.com/blei-lab/causal-text-embeddings) with the data and code for their paper, and their dataset of computer science papers, PeerRead, has its own great [repo](https://github.com/allenai/PeerRead).\n",
        "\n",
        "Their code is somewhat too hefty and farflung for this assignment, but for your future research, keep in mind that you can adjust your textual objects (e.g., keyword counts, topic models, word embeddings) for causal models. Bringing together unsupervised machine learning with causal inference is an exciting and rapidly developing field!"
      ]
    },
    {
      "cell_type": "markdown",
      "metadata": {
        "id": "bIJIbduW08QL"
      },
      "source": [
        "## <font color=\"red\">*Exercise 6*</font>\n",
        "\n",
        "<font color=\"red\">Pick one other paper on causal inference with text from the [\"Papers about Causal Inference and Language\n",
        "\" GitHub repository](https://github.com/causaltext/causal-text-papers). Write at least three sentences summarizing the paper and its logic of design in your own words.\n",
        "    \n",
        "<font color=\"red\">***Stretch*** (not required): Skim a few more papers. The causal world is your textual oyster!"
      ]
    },
    {
      "cell_type": "markdown",
      "source": [
        "In the paper *Influence via Ethos: On the Persuasive Power of\n",
        "Reputation in Deliberation Online*, the authors constructed a measurement for reputation and use the instrument to isolate the causal effects of reputaion on persuasion while controlling for unstructured argument text. They assembled a dataset of over a million debates over 7 years from the ChangeMyView subreddit. The authors are interested in isolating the effects of reputation alone on whether the challengers on Reddit successfully change the posters' veiwpoints.Therefore they need to control for the primiary source of persuasion- the textual responses. They do that though a nonparametric way of \"double machine-learning\" where they estimate a partially-linear instrumental variable with text as a control learnt through neural networks. "
      ],
      "metadata": {
        "id": "dR9Da7OFZ5Pr"
      }
    }
  ],
  "metadata": {
    "anaconda-cloud": {},
    "kernelspec": {
      "display_name": "Python 3 (ipykernel)",
      "language": "python",
      "name": "python3"
    },
    "language_info": {
      "codemirror_mode": {
        "name": "ipython",
        "version": 3
      },
      "file_extension": ".py",
      "mimetype": "text/x-python",
      "name": "python",
      "nbconvert_exporter": "python",
      "pygments_lexer": "ipython3",
      "version": "3.9.7"
    },
    "colab": {
      "name": "jasminehuang-6-Prediction-and-Causal-Inference.ipynb",
      "provenance": [],
      "collapsed_sections": []
    },
    "widgets": {
      "application/vnd.jupyter.widget-state+json": {
        "642f7a091359426ab51709487b35ca02": {
          "model_module": "@jupyter-widgets/controls",
          "model_name": "HBoxModel",
          "model_module_version": "1.5.0",
          "state": {
            "_view_name": "HBoxView",
            "_dom_classes": [],
            "_model_name": "HBoxModel",
            "_view_module": "@jupyter-widgets/controls",
            "_model_module_version": "1.5.0",
            "_view_count": null,
            "_view_module_version": "1.5.0",
            "box_style": "",
            "layout": "IPY_MODEL_ce122659d0494dbb83afdcf246eaaf59",
            "_model_module": "@jupyter-widgets/controls",
            "children": [
              "IPY_MODEL_eab841ef83cc41399cece064ddc3d019",
              "IPY_MODEL_b356815fc99349c79e996c4fe4b09cad",
              "IPY_MODEL_249bb25cd19a4332a1949f56a5a53710"
            ]
          }
        },
        "ce122659d0494dbb83afdcf246eaaf59": {
          "model_module": "@jupyter-widgets/base",
          "model_name": "LayoutModel",
          "model_module_version": "1.2.0",
          "state": {
            "_view_name": "LayoutView",
            "grid_template_rows": null,
            "right": null,
            "justify_content": null,
            "_view_module": "@jupyter-widgets/base",
            "overflow": null,
            "_model_module_version": "1.2.0",
            "_view_count": null,
            "flex_flow": null,
            "width": null,
            "min_width": null,
            "border": null,
            "align_items": null,
            "bottom": null,
            "_model_module": "@jupyter-widgets/base",
            "top": null,
            "grid_column": null,
            "overflow_y": null,
            "overflow_x": null,
            "grid_auto_flow": null,
            "grid_area": null,
            "grid_template_columns": null,
            "flex": null,
            "_model_name": "LayoutModel",
            "justify_items": null,
            "grid_row": null,
            "max_height": null,
            "align_content": null,
            "visibility": null,
            "align_self": null,
            "height": null,
            "min_height": null,
            "padding": null,
            "grid_auto_rows": null,
            "grid_gap": null,
            "max_width": null,
            "order": null,
            "_view_module_version": "1.2.0",
            "grid_template_areas": null,
            "object_position": null,
            "object_fit": null,
            "grid_auto_columns": null,
            "margin": null,
            "display": null,
            "left": null
          }
        },
        "eab841ef83cc41399cece064ddc3d019": {
          "model_module": "@jupyter-widgets/controls",
          "model_name": "HTMLModel",
          "model_module_version": "1.5.0",
          "state": {
            "_view_name": "HTMLView",
            "style": "IPY_MODEL_6aaa6edb82ed47dd9c7835ead88b695d",
            "_dom_classes": [],
            "description": "",
            "_model_name": "HTMLModel",
            "placeholder": "​",
            "_view_module": "@jupyter-widgets/controls",
            "_model_module_version": "1.5.0",
            "value": "Downloading: 100%",
            "_view_count": null,
            "_view_module_version": "1.5.0",
            "description_tooltip": null,
            "_model_module": "@jupyter-widgets/controls",
            "layout": "IPY_MODEL_3689e6c1caac42f5bb581bbe8d44da37"
          }
        },
        "b356815fc99349c79e996c4fe4b09cad": {
          "model_module": "@jupyter-widgets/controls",
          "model_name": "FloatProgressModel",
          "model_module_version": "1.5.0",
          "state": {
            "_view_name": "ProgressView",
            "style": "IPY_MODEL_4a7c29e42ec340ceaa7b0329fd4e8b00",
            "_dom_classes": [],
            "description": "",
            "_model_name": "FloatProgressModel",
            "bar_style": "success",
            "max": 629,
            "_view_module": "@jupyter-widgets/controls",
            "_model_module_version": "1.5.0",
            "value": 629,
            "_view_count": null,
            "_view_module_version": "1.5.0",
            "orientation": "horizontal",
            "min": 0,
            "description_tooltip": null,
            "_model_module": "@jupyter-widgets/controls",
            "layout": "IPY_MODEL_30500cb7328f41efac11fc791c64529d"
          }
        },
        "249bb25cd19a4332a1949f56a5a53710": {
          "model_module": "@jupyter-widgets/controls",
          "model_name": "HTMLModel",
          "model_module_version": "1.5.0",
          "state": {
            "_view_name": "HTMLView",
            "style": "IPY_MODEL_ebee4ed62a0f4e9c84a63fae37e98f45",
            "_dom_classes": [],
            "description": "",
            "_model_name": "HTMLModel",
            "placeholder": "​",
            "_view_module": "@jupyter-widgets/controls",
            "_model_module_version": "1.5.0",
            "value": " 629/629 [00:00&lt;00:00, 2.90kB/s]",
            "_view_count": null,
            "_view_module_version": "1.5.0",
            "description_tooltip": null,
            "_model_module": "@jupyter-widgets/controls",
            "layout": "IPY_MODEL_178c33b804d241ebb5a8197abc8a561f"
          }
        },
        "6aaa6edb82ed47dd9c7835ead88b695d": {
          "model_module": "@jupyter-widgets/controls",
          "model_name": "DescriptionStyleModel",
          "model_module_version": "1.5.0",
          "state": {
            "_view_name": "StyleView",
            "_model_name": "DescriptionStyleModel",
            "description_width": "",
            "_view_module": "@jupyter-widgets/base",
            "_model_module_version": "1.5.0",
            "_view_count": null,
            "_view_module_version": "1.2.0",
            "_model_module": "@jupyter-widgets/controls"
          }
        },
        "3689e6c1caac42f5bb581bbe8d44da37": {
          "model_module": "@jupyter-widgets/base",
          "model_name": "LayoutModel",
          "model_module_version": "1.2.0",
          "state": {
            "_view_name": "LayoutView",
            "grid_template_rows": null,
            "right": null,
            "justify_content": null,
            "_view_module": "@jupyter-widgets/base",
            "overflow": null,
            "_model_module_version": "1.2.0",
            "_view_count": null,
            "flex_flow": null,
            "width": null,
            "min_width": null,
            "border": null,
            "align_items": null,
            "bottom": null,
            "_model_module": "@jupyter-widgets/base",
            "top": null,
            "grid_column": null,
            "overflow_y": null,
            "overflow_x": null,
            "grid_auto_flow": null,
            "grid_area": null,
            "grid_template_columns": null,
            "flex": null,
            "_model_name": "LayoutModel",
            "justify_items": null,
            "grid_row": null,
            "max_height": null,
            "align_content": null,
            "visibility": null,
            "align_self": null,
            "height": null,
            "min_height": null,
            "padding": null,
            "grid_auto_rows": null,
            "grid_gap": null,
            "max_width": null,
            "order": null,
            "_view_module_version": "1.2.0",
            "grid_template_areas": null,
            "object_position": null,
            "object_fit": null,
            "grid_auto_columns": null,
            "margin": null,
            "display": null,
            "left": null
          }
        },
        "4a7c29e42ec340ceaa7b0329fd4e8b00": {
          "model_module": "@jupyter-widgets/controls",
          "model_name": "ProgressStyleModel",
          "model_module_version": "1.5.0",
          "state": {
            "_view_name": "StyleView",
            "_model_name": "ProgressStyleModel",
            "description_width": "",
            "_view_module": "@jupyter-widgets/base",
            "_model_module_version": "1.5.0",
            "_view_count": null,
            "_view_module_version": "1.2.0",
            "bar_color": null,
            "_model_module": "@jupyter-widgets/controls"
          }
        },
        "30500cb7328f41efac11fc791c64529d": {
          "model_module": "@jupyter-widgets/base",
          "model_name": "LayoutModel",
          "model_module_version": "1.2.0",
          "state": {
            "_view_name": "LayoutView",
            "grid_template_rows": null,
            "right": null,
            "justify_content": null,
            "_view_module": "@jupyter-widgets/base",
            "overflow": null,
            "_model_module_version": "1.2.0",
            "_view_count": null,
            "flex_flow": null,
            "width": null,
            "min_width": null,
            "border": null,
            "align_items": null,
            "bottom": null,
            "_model_module": "@jupyter-widgets/base",
            "top": null,
            "grid_column": null,
            "overflow_y": null,
            "overflow_x": null,
            "grid_auto_flow": null,
            "grid_area": null,
            "grid_template_columns": null,
            "flex": null,
            "_model_name": "LayoutModel",
            "justify_items": null,
            "grid_row": null,
            "max_height": null,
            "align_content": null,
            "visibility": null,
            "align_self": null,
            "height": null,
            "min_height": null,
            "padding": null,
            "grid_auto_rows": null,
            "grid_gap": null,
            "max_width": null,
            "order": null,
            "_view_module_version": "1.2.0",
            "grid_template_areas": null,
            "object_position": null,
            "object_fit": null,
            "grid_auto_columns": null,
            "margin": null,
            "display": null,
            "left": null
          }
        },
        "ebee4ed62a0f4e9c84a63fae37e98f45": {
          "model_module": "@jupyter-widgets/controls",
          "model_name": "DescriptionStyleModel",
          "model_module_version": "1.5.0",
          "state": {
            "_view_name": "StyleView",
            "_model_name": "DescriptionStyleModel",
            "description_width": "",
            "_view_module": "@jupyter-widgets/base",
            "_model_module_version": "1.5.0",
            "_view_count": null,
            "_view_module_version": "1.2.0",
            "_model_module": "@jupyter-widgets/controls"
          }
        },
        "178c33b804d241ebb5a8197abc8a561f": {
          "model_module": "@jupyter-widgets/base",
          "model_name": "LayoutModel",
          "model_module_version": "1.2.0",
          "state": {
            "_view_name": "LayoutView",
            "grid_template_rows": null,
            "right": null,
            "justify_content": null,
            "_view_module": "@jupyter-widgets/base",
            "overflow": null,
            "_model_module_version": "1.2.0",
            "_view_count": null,
            "flex_flow": null,
            "width": null,
            "min_width": null,
            "border": null,
            "align_items": null,
            "bottom": null,
            "_model_module": "@jupyter-widgets/base",
            "top": null,
            "grid_column": null,
            "overflow_y": null,
            "overflow_x": null,
            "grid_auto_flow": null,
            "grid_area": null,
            "grid_template_columns": null,
            "flex": null,
            "_model_name": "LayoutModel",
            "justify_items": null,
            "grid_row": null,
            "max_height": null,
            "align_content": null,
            "visibility": null,
            "align_self": null,
            "height": null,
            "min_height": null,
            "padding": null,
            "grid_auto_rows": null,
            "grid_gap": null,
            "max_width": null,
            "order": null,
            "_view_module_version": "1.2.0",
            "grid_template_areas": null,
            "object_position": null,
            "object_fit": null,
            "grid_auto_columns": null,
            "margin": null,
            "display": null,
            "left": null
          }
        },
        "7cf34e97bc364cb5b736c36525d16b4e": {
          "model_module": "@jupyter-widgets/controls",
          "model_name": "HBoxModel",
          "model_module_version": "1.5.0",
          "state": {
            "_view_name": "HBoxView",
            "_dom_classes": [],
            "_model_name": "HBoxModel",
            "_view_module": "@jupyter-widgets/controls",
            "_model_module_version": "1.5.0",
            "_view_count": null,
            "_view_module_version": "1.5.0",
            "box_style": "",
            "layout": "IPY_MODEL_29233f3af8314d8e906bc90e5df8884f",
            "_model_module": "@jupyter-widgets/controls",
            "children": [
              "IPY_MODEL_5892d3ec94414341a42df0ec30d9f9ff",
              "IPY_MODEL_35787c94000e4af3bdfaafa3293af8e6",
              "IPY_MODEL_028dc8d16622443aa7b6a14af38d8854"
            ]
          }
        },
        "29233f3af8314d8e906bc90e5df8884f": {
          "model_module": "@jupyter-widgets/base",
          "model_name": "LayoutModel",
          "model_module_version": "1.2.0",
          "state": {
            "_view_name": "LayoutView",
            "grid_template_rows": null,
            "right": null,
            "justify_content": null,
            "_view_module": "@jupyter-widgets/base",
            "overflow": null,
            "_model_module_version": "1.2.0",
            "_view_count": null,
            "flex_flow": null,
            "width": null,
            "min_width": null,
            "border": null,
            "align_items": null,
            "bottom": null,
            "_model_module": "@jupyter-widgets/base",
            "top": null,
            "grid_column": null,
            "overflow_y": null,
            "overflow_x": null,
            "grid_auto_flow": null,
            "grid_area": null,
            "grid_template_columns": null,
            "flex": null,
            "_model_name": "LayoutModel",
            "justify_items": null,
            "grid_row": null,
            "max_height": null,
            "align_content": null,
            "visibility": null,
            "align_self": null,
            "height": null,
            "min_height": null,
            "padding": null,
            "grid_auto_rows": null,
            "grid_gap": null,
            "max_width": null,
            "order": null,
            "_view_module_version": "1.2.0",
            "grid_template_areas": null,
            "object_position": null,
            "object_fit": null,
            "grid_auto_columns": null,
            "margin": null,
            "display": null,
            "left": null
          }
        },
        "5892d3ec94414341a42df0ec30d9f9ff": {
          "model_module": "@jupyter-widgets/controls",
          "model_name": "HTMLModel",
          "model_module_version": "1.5.0",
          "state": {
            "_view_name": "HTMLView",
            "style": "IPY_MODEL_f952dc72c9b84f628ba4a2a791ff36b7",
            "_dom_classes": [],
            "description": "",
            "_model_name": "HTMLModel",
            "placeholder": "​",
            "_view_module": "@jupyter-widgets/controls",
            "_model_module_version": "1.5.0",
            "value": "Downloading: 100%",
            "_view_count": null,
            "_view_module_version": "1.5.0",
            "description_tooltip": null,
            "_model_module": "@jupyter-widgets/controls",
            "layout": "IPY_MODEL_c4197da98fed4489bfd029dbe98fa8d6"
          }
        },
        "35787c94000e4af3bdfaafa3293af8e6": {
          "model_module": "@jupyter-widgets/controls",
          "model_name": "FloatProgressModel",
          "model_module_version": "1.5.0",
          "state": {
            "_view_name": "ProgressView",
            "style": "IPY_MODEL_035313bec5d541b295d59c0fe792d37c",
            "_dom_classes": [],
            "description": "",
            "_model_name": "FloatProgressModel",
            "bar_style": "success",
            "max": 267844284,
            "_view_module": "@jupyter-widgets/controls",
            "_model_module_version": "1.5.0",
            "value": 267844284,
            "_view_count": null,
            "_view_module_version": "1.5.0",
            "orientation": "horizontal",
            "min": 0,
            "description_tooltip": null,
            "_model_module": "@jupyter-widgets/controls",
            "layout": "IPY_MODEL_e9be4e5afd844ccf9ed20de26c2e5cbc"
          }
        },
        "028dc8d16622443aa7b6a14af38d8854": {
          "model_module": "@jupyter-widgets/controls",
          "model_name": "HTMLModel",
          "model_module_version": "1.5.0",
          "state": {
            "_view_name": "HTMLView",
            "style": "IPY_MODEL_1336a31b65264ae8a7082cf34aebd937",
            "_dom_classes": [],
            "description": "",
            "_model_name": "HTMLModel",
            "placeholder": "​",
            "_view_module": "@jupyter-widgets/controls",
            "_model_module_version": "1.5.0",
            "value": " 255M/255M [00:14&lt;00:00, 39.4MB/s]",
            "_view_count": null,
            "_view_module_version": "1.5.0",
            "description_tooltip": null,
            "_model_module": "@jupyter-widgets/controls",
            "layout": "IPY_MODEL_bf28e66781e0485fa637d47b552ad275"
          }
        },
        "f952dc72c9b84f628ba4a2a791ff36b7": {
          "model_module": "@jupyter-widgets/controls",
          "model_name": "DescriptionStyleModel",
          "model_module_version": "1.5.0",
          "state": {
            "_view_name": "StyleView",
            "_model_name": "DescriptionStyleModel",
            "description_width": "",
            "_view_module": "@jupyter-widgets/base",
            "_model_module_version": "1.5.0",
            "_view_count": null,
            "_view_module_version": "1.2.0",
            "_model_module": "@jupyter-widgets/controls"
          }
        },
        "c4197da98fed4489bfd029dbe98fa8d6": {
          "model_module": "@jupyter-widgets/base",
          "model_name": "LayoutModel",
          "model_module_version": "1.2.0",
          "state": {
            "_view_name": "LayoutView",
            "grid_template_rows": null,
            "right": null,
            "justify_content": null,
            "_view_module": "@jupyter-widgets/base",
            "overflow": null,
            "_model_module_version": "1.2.0",
            "_view_count": null,
            "flex_flow": null,
            "width": null,
            "min_width": null,
            "border": null,
            "align_items": null,
            "bottom": null,
            "_model_module": "@jupyter-widgets/base",
            "top": null,
            "grid_column": null,
            "overflow_y": null,
            "overflow_x": null,
            "grid_auto_flow": null,
            "grid_area": null,
            "grid_template_columns": null,
            "flex": null,
            "_model_name": "LayoutModel",
            "justify_items": null,
            "grid_row": null,
            "max_height": null,
            "align_content": null,
            "visibility": null,
            "align_self": null,
            "height": null,
            "min_height": null,
            "padding": null,
            "grid_auto_rows": null,
            "grid_gap": null,
            "max_width": null,
            "order": null,
            "_view_module_version": "1.2.0",
            "grid_template_areas": null,
            "object_position": null,
            "object_fit": null,
            "grid_auto_columns": null,
            "margin": null,
            "display": null,
            "left": null
          }
        },
        "035313bec5d541b295d59c0fe792d37c": {
          "model_module": "@jupyter-widgets/controls",
          "model_name": "ProgressStyleModel",
          "model_module_version": "1.5.0",
          "state": {
            "_view_name": "StyleView",
            "_model_name": "ProgressStyleModel",
            "description_width": "",
            "_view_module": "@jupyter-widgets/base",
            "_model_module_version": "1.5.0",
            "_view_count": null,
            "_view_module_version": "1.2.0",
            "bar_color": null,
            "_model_module": "@jupyter-widgets/controls"
          }
        },
        "e9be4e5afd844ccf9ed20de26c2e5cbc": {
          "model_module": "@jupyter-widgets/base",
          "model_name": "LayoutModel",
          "model_module_version": "1.2.0",
          "state": {
            "_view_name": "LayoutView",
            "grid_template_rows": null,
            "right": null,
            "justify_content": null,
            "_view_module": "@jupyter-widgets/base",
            "overflow": null,
            "_model_module_version": "1.2.0",
            "_view_count": null,
            "flex_flow": null,
            "width": null,
            "min_width": null,
            "border": null,
            "align_items": null,
            "bottom": null,
            "_model_module": "@jupyter-widgets/base",
            "top": null,
            "grid_column": null,
            "overflow_y": null,
            "overflow_x": null,
            "grid_auto_flow": null,
            "grid_area": null,
            "grid_template_columns": null,
            "flex": null,
            "_model_name": "LayoutModel",
            "justify_items": null,
            "grid_row": null,
            "max_height": null,
            "align_content": null,
            "visibility": null,
            "align_self": null,
            "height": null,
            "min_height": null,
            "padding": null,
            "grid_auto_rows": null,
            "grid_gap": null,
            "max_width": null,
            "order": null,
            "_view_module_version": "1.2.0",
            "grid_template_areas": null,
            "object_position": null,
            "object_fit": null,
            "grid_auto_columns": null,
            "margin": null,
            "display": null,
            "left": null
          }
        },
        "1336a31b65264ae8a7082cf34aebd937": {
          "model_module": "@jupyter-widgets/controls",
          "model_name": "DescriptionStyleModel",
          "model_module_version": "1.5.0",
          "state": {
            "_view_name": "StyleView",
            "_model_name": "DescriptionStyleModel",
            "description_width": "",
            "_view_module": "@jupyter-widgets/base",
            "_model_module_version": "1.5.0",
            "_view_count": null,
            "_view_module_version": "1.2.0",
            "_model_module": "@jupyter-widgets/controls"
          }
        },
        "bf28e66781e0485fa637d47b552ad275": {
          "model_module": "@jupyter-widgets/base",
          "model_name": "LayoutModel",
          "model_module_version": "1.2.0",
          "state": {
            "_view_name": "LayoutView",
            "grid_template_rows": null,
            "right": null,
            "justify_content": null,
            "_view_module": "@jupyter-widgets/base",
            "overflow": null,
            "_model_module_version": "1.2.0",
            "_view_count": null,
            "flex_flow": null,
            "width": null,
            "min_width": null,
            "border": null,
            "align_items": null,
            "bottom": null,
            "_model_module": "@jupyter-widgets/base",
            "top": null,
            "grid_column": null,
            "overflow_y": null,
            "overflow_x": null,
            "grid_auto_flow": null,
            "grid_area": null,
            "grid_template_columns": null,
            "flex": null,
            "_model_name": "LayoutModel",
            "justify_items": null,
            "grid_row": null,
            "max_height": null,
            "align_content": null,
            "visibility": null,
            "align_self": null,
            "height": null,
            "min_height": null,
            "padding": null,
            "grid_auto_rows": null,
            "grid_gap": null,
            "max_width": null,
            "order": null,
            "_view_module_version": "1.2.0",
            "grid_template_areas": null,
            "object_position": null,
            "object_fit": null,
            "grid_auto_columns": null,
            "margin": null,
            "display": null,
            "left": null
          }
        },
        "b7f879a6c75640dabc2582cbfbe244ff": {
          "model_module": "@jupyter-widgets/controls",
          "model_name": "HBoxModel",
          "model_module_version": "1.5.0",
          "state": {
            "_view_name": "HBoxView",
            "_dom_classes": [],
            "_model_name": "HBoxModel",
            "_view_module": "@jupyter-widgets/controls",
            "_model_module_version": "1.5.0",
            "_view_count": null,
            "_view_module_version": "1.5.0",
            "box_style": "",
            "layout": "IPY_MODEL_ebe5035b0a324f9289726595b36c1457",
            "_model_module": "@jupyter-widgets/controls",
            "children": [
              "IPY_MODEL_38d171802d4c49148c3ad8956c21a2ba",
              "IPY_MODEL_a2f72ca683d54023b9cc677429a899ac",
              "IPY_MODEL_2b57cf40920148589665e43b5d6bd00a"
            ]
          }
        },
        "ebe5035b0a324f9289726595b36c1457": {
          "model_module": "@jupyter-widgets/base",
          "model_name": "LayoutModel",
          "model_module_version": "1.2.0",
          "state": {
            "_view_name": "LayoutView",
            "grid_template_rows": null,
            "right": null,
            "justify_content": null,
            "_view_module": "@jupyter-widgets/base",
            "overflow": null,
            "_model_module_version": "1.2.0",
            "_view_count": null,
            "flex_flow": null,
            "width": null,
            "min_width": null,
            "border": null,
            "align_items": null,
            "bottom": null,
            "_model_module": "@jupyter-widgets/base",
            "top": null,
            "grid_column": null,
            "overflow_y": null,
            "overflow_x": null,
            "grid_auto_flow": null,
            "grid_area": null,
            "grid_template_columns": null,
            "flex": null,
            "_model_name": "LayoutModel",
            "justify_items": null,
            "grid_row": null,
            "max_height": null,
            "align_content": null,
            "visibility": null,
            "align_self": null,
            "height": null,
            "min_height": null,
            "padding": null,
            "grid_auto_rows": null,
            "grid_gap": null,
            "max_width": null,
            "order": null,
            "_view_module_version": "1.2.0",
            "grid_template_areas": null,
            "object_position": null,
            "object_fit": null,
            "grid_auto_columns": null,
            "margin": null,
            "display": null,
            "left": null
          }
        },
        "38d171802d4c49148c3ad8956c21a2ba": {
          "model_module": "@jupyter-widgets/controls",
          "model_name": "HTMLModel",
          "model_module_version": "1.5.0",
          "state": {
            "_view_name": "HTMLView",
            "style": "IPY_MODEL_2dd87fa5076e4c559240e2b13ba03e24",
            "_dom_classes": [],
            "description": "",
            "_model_name": "HTMLModel",
            "placeholder": "​",
            "_view_module": "@jupyter-widgets/controls",
            "_model_module_version": "1.5.0",
            "value": "Downloading: 100%",
            "_view_count": null,
            "_view_module_version": "1.5.0",
            "description_tooltip": null,
            "_model_module": "@jupyter-widgets/controls",
            "layout": "IPY_MODEL_24ad34e09b41426085fe531cabe6cc7f"
          }
        },
        "a2f72ca683d54023b9cc677429a899ac": {
          "model_module": "@jupyter-widgets/controls",
          "model_name": "FloatProgressModel",
          "model_module_version": "1.5.0",
          "state": {
            "_view_name": "ProgressView",
            "style": "IPY_MODEL_9dad85d245eb4fd597b58be32d370496",
            "_dom_classes": [],
            "description": "",
            "_model_name": "FloatProgressModel",
            "bar_style": "success",
            "max": 48,
            "_view_module": "@jupyter-widgets/controls",
            "_model_module_version": "1.5.0",
            "value": 48,
            "_view_count": null,
            "_view_module_version": "1.5.0",
            "orientation": "horizontal",
            "min": 0,
            "description_tooltip": null,
            "_model_module": "@jupyter-widgets/controls",
            "layout": "IPY_MODEL_4878557c0e404f7eb473695593439b85"
          }
        },
        "2b57cf40920148589665e43b5d6bd00a": {
          "model_module": "@jupyter-widgets/controls",
          "model_name": "HTMLModel",
          "model_module_version": "1.5.0",
          "state": {
            "_view_name": "HTMLView",
            "style": "IPY_MODEL_2fe6d848f9654e31bf4f679987252d7f",
            "_dom_classes": [],
            "description": "",
            "_model_name": "HTMLModel",
            "placeholder": "​",
            "_view_module": "@jupyter-widgets/controls",
            "_model_module_version": "1.5.0",
            "value": " 48.0/48.0 [00:00&lt;00:00, 1.29kB/s]",
            "_view_count": null,
            "_view_module_version": "1.5.0",
            "description_tooltip": null,
            "_model_module": "@jupyter-widgets/controls",
            "layout": "IPY_MODEL_6b1a5ba4f1fd44d084a0a69ba8262b40"
          }
        },
        "2dd87fa5076e4c559240e2b13ba03e24": {
          "model_module": "@jupyter-widgets/controls",
          "model_name": "DescriptionStyleModel",
          "model_module_version": "1.5.0",
          "state": {
            "_view_name": "StyleView",
            "_model_name": "DescriptionStyleModel",
            "description_width": "",
            "_view_module": "@jupyter-widgets/base",
            "_model_module_version": "1.5.0",
            "_view_count": null,
            "_view_module_version": "1.2.0",
            "_model_module": "@jupyter-widgets/controls"
          }
        },
        "24ad34e09b41426085fe531cabe6cc7f": {
          "model_module": "@jupyter-widgets/base",
          "model_name": "LayoutModel",
          "model_module_version": "1.2.0",
          "state": {
            "_view_name": "LayoutView",
            "grid_template_rows": null,
            "right": null,
            "justify_content": null,
            "_view_module": "@jupyter-widgets/base",
            "overflow": null,
            "_model_module_version": "1.2.0",
            "_view_count": null,
            "flex_flow": null,
            "width": null,
            "min_width": null,
            "border": null,
            "align_items": null,
            "bottom": null,
            "_model_module": "@jupyter-widgets/base",
            "top": null,
            "grid_column": null,
            "overflow_y": null,
            "overflow_x": null,
            "grid_auto_flow": null,
            "grid_area": null,
            "grid_template_columns": null,
            "flex": null,
            "_model_name": "LayoutModel",
            "justify_items": null,
            "grid_row": null,
            "max_height": null,
            "align_content": null,
            "visibility": null,
            "align_self": null,
            "height": null,
            "min_height": null,
            "padding": null,
            "grid_auto_rows": null,
            "grid_gap": null,
            "max_width": null,
            "order": null,
            "_view_module_version": "1.2.0",
            "grid_template_areas": null,
            "object_position": null,
            "object_fit": null,
            "grid_auto_columns": null,
            "margin": null,
            "display": null,
            "left": null
          }
        },
        "9dad85d245eb4fd597b58be32d370496": {
          "model_module": "@jupyter-widgets/controls",
          "model_name": "ProgressStyleModel",
          "model_module_version": "1.5.0",
          "state": {
            "_view_name": "StyleView",
            "_model_name": "ProgressStyleModel",
            "description_width": "",
            "_view_module": "@jupyter-widgets/base",
            "_model_module_version": "1.5.0",
            "_view_count": null,
            "_view_module_version": "1.2.0",
            "bar_color": null,
            "_model_module": "@jupyter-widgets/controls"
          }
        },
        "4878557c0e404f7eb473695593439b85": {
          "model_module": "@jupyter-widgets/base",
          "model_name": "LayoutModel",
          "model_module_version": "1.2.0",
          "state": {
            "_view_name": "LayoutView",
            "grid_template_rows": null,
            "right": null,
            "justify_content": null,
            "_view_module": "@jupyter-widgets/base",
            "overflow": null,
            "_model_module_version": "1.2.0",
            "_view_count": null,
            "flex_flow": null,
            "width": null,
            "min_width": null,
            "border": null,
            "align_items": null,
            "bottom": null,
            "_model_module": "@jupyter-widgets/base",
            "top": null,
            "grid_column": null,
            "overflow_y": null,
            "overflow_x": null,
            "grid_auto_flow": null,
            "grid_area": null,
            "grid_template_columns": null,
            "flex": null,
            "_model_name": "LayoutModel",
            "justify_items": null,
            "grid_row": null,
            "max_height": null,
            "align_content": null,
            "visibility": null,
            "align_self": null,
            "height": null,
            "min_height": null,
            "padding": null,
            "grid_auto_rows": null,
            "grid_gap": null,
            "max_width": null,
            "order": null,
            "_view_module_version": "1.2.0",
            "grid_template_areas": null,
            "object_position": null,
            "object_fit": null,
            "grid_auto_columns": null,
            "margin": null,
            "display": null,
            "left": null
          }
        },
        "2fe6d848f9654e31bf4f679987252d7f": {
          "model_module": "@jupyter-widgets/controls",
          "model_name": "DescriptionStyleModel",
          "model_module_version": "1.5.0",
          "state": {
            "_view_name": "StyleView",
            "_model_name": "DescriptionStyleModel",
            "description_width": "",
            "_view_module": "@jupyter-widgets/base",
            "_model_module_version": "1.5.0",
            "_view_count": null,
            "_view_module_version": "1.2.0",
            "_model_module": "@jupyter-widgets/controls"
          }
        },
        "6b1a5ba4f1fd44d084a0a69ba8262b40": {
          "model_module": "@jupyter-widgets/base",
          "model_name": "LayoutModel",
          "model_module_version": "1.2.0",
          "state": {
            "_view_name": "LayoutView",
            "grid_template_rows": null,
            "right": null,
            "justify_content": null,
            "_view_module": "@jupyter-widgets/base",
            "overflow": null,
            "_model_module_version": "1.2.0",
            "_view_count": null,
            "flex_flow": null,
            "width": null,
            "min_width": null,
            "border": null,
            "align_items": null,
            "bottom": null,
            "_model_module": "@jupyter-widgets/base",
            "top": null,
            "grid_column": null,
            "overflow_y": null,
            "overflow_x": null,
            "grid_auto_flow": null,
            "grid_area": null,
            "grid_template_columns": null,
            "flex": null,
            "_model_name": "LayoutModel",
            "justify_items": null,
            "grid_row": null,
            "max_height": null,
            "align_content": null,
            "visibility": null,
            "align_self": null,
            "height": null,
            "min_height": null,
            "padding": null,
            "grid_auto_rows": null,
            "grid_gap": null,
            "max_width": null,
            "order": null,
            "_view_module_version": "1.2.0",
            "grid_template_areas": null,
            "object_position": null,
            "object_fit": null,
            "grid_auto_columns": null,
            "margin": null,
            "display": null,
            "left": null
          }
        },
        "6c2033a57ee149f3945beeaa816b6282": {
          "model_module": "@jupyter-widgets/controls",
          "model_name": "HBoxModel",
          "model_module_version": "1.5.0",
          "state": {
            "_view_name": "HBoxView",
            "_dom_classes": [],
            "_model_name": "HBoxModel",
            "_view_module": "@jupyter-widgets/controls",
            "_model_module_version": "1.5.0",
            "_view_count": null,
            "_view_module_version": "1.5.0",
            "box_style": "",
            "layout": "IPY_MODEL_faf1d09b84a84138a3f0346cc2d3a9c5",
            "_model_module": "@jupyter-widgets/controls",
            "children": [
              "IPY_MODEL_153d7b7f9e484c3aa1f86589bfdf1f97",
              "IPY_MODEL_16e775e0633546a5940c30f3cd0ea285",
              "IPY_MODEL_6c78b2bb8ab64105ac993d970d74bf39"
            ]
          }
        },
        "faf1d09b84a84138a3f0346cc2d3a9c5": {
          "model_module": "@jupyter-widgets/base",
          "model_name": "LayoutModel",
          "model_module_version": "1.2.0",
          "state": {
            "_view_name": "LayoutView",
            "grid_template_rows": null,
            "right": null,
            "justify_content": null,
            "_view_module": "@jupyter-widgets/base",
            "overflow": null,
            "_model_module_version": "1.2.0",
            "_view_count": null,
            "flex_flow": null,
            "width": null,
            "min_width": null,
            "border": null,
            "align_items": null,
            "bottom": null,
            "_model_module": "@jupyter-widgets/base",
            "top": null,
            "grid_column": null,
            "overflow_y": null,
            "overflow_x": null,
            "grid_auto_flow": null,
            "grid_area": null,
            "grid_template_columns": null,
            "flex": null,
            "_model_name": "LayoutModel",
            "justify_items": null,
            "grid_row": null,
            "max_height": null,
            "align_content": null,
            "visibility": null,
            "align_self": null,
            "height": null,
            "min_height": null,
            "padding": null,
            "grid_auto_rows": null,
            "grid_gap": null,
            "max_width": null,
            "order": null,
            "_view_module_version": "1.2.0",
            "grid_template_areas": null,
            "object_position": null,
            "object_fit": null,
            "grid_auto_columns": null,
            "margin": null,
            "display": null,
            "left": null
          }
        },
        "153d7b7f9e484c3aa1f86589bfdf1f97": {
          "model_module": "@jupyter-widgets/controls",
          "model_name": "HTMLModel",
          "model_module_version": "1.5.0",
          "state": {
            "_view_name": "HTMLView",
            "style": "IPY_MODEL_f82734ac067b46cdac89b813b6a900ee",
            "_dom_classes": [],
            "description": "",
            "_model_name": "HTMLModel",
            "placeholder": "​",
            "_view_module": "@jupyter-widgets/controls",
            "_model_module_version": "1.5.0",
            "value": "Downloading: 100%",
            "_view_count": null,
            "_view_module_version": "1.5.0",
            "description_tooltip": null,
            "_model_module": "@jupyter-widgets/controls",
            "layout": "IPY_MODEL_c3c1370a92d44d99a1d7b5f6efb4bea2"
          }
        },
        "16e775e0633546a5940c30f3cd0ea285": {
          "model_module": "@jupyter-widgets/controls",
          "model_name": "FloatProgressModel",
          "model_module_version": "1.5.0",
          "state": {
            "_view_name": "ProgressView",
            "style": "IPY_MODEL_3f8c1ceeeb9241ef94c479de3d34ab08",
            "_dom_classes": [],
            "description": "",
            "_model_name": "FloatProgressModel",
            "bar_style": "success",
            "max": 231508,
            "_view_module": "@jupyter-widgets/controls",
            "_model_module_version": "1.5.0",
            "value": 231508,
            "_view_count": null,
            "_view_module_version": "1.5.0",
            "orientation": "horizontal",
            "min": 0,
            "description_tooltip": null,
            "_model_module": "@jupyter-widgets/controls",
            "layout": "IPY_MODEL_238f40f9d68e462dbd25287502213d47"
          }
        },
        "6c78b2bb8ab64105ac993d970d74bf39": {
          "model_module": "@jupyter-widgets/controls",
          "model_name": "HTMLModel",
          "model_module_version": "1.5.0",
          "state": {
            "_view_name": "HTMLView",
            "style": "IPY_MODEL_bc6ad31ec5d843c8ba9176cfe02ec591",
            "_dom_classes": [],
            "description": "",
            "_model_name": "HTMLModel",
            "placeholder": "​",
            "_view_module": "@jupyter-widgets/controls",
            "_model_module_version": "1.5.0",
            "value": " 226k/226k [00:00&lt;00:00, 4.48MB/s]",
            "_view_count": null,
            "_view_module_version": "1.5.0",
            "description_tooltip": null,
            "_model_module": "@jupyter-widgets/controls",
            "layout": "IPY_MODEL_a520caaec98845818632e52478cb5592"
          }
        },
        "f82734ac067b46cdac89b813b6a900ee": {
          "model_module": "@jupyter-widgets/controls",
          "model_name": "DescriptionStyleModel",
          "model_module_version": "1.5.0",
          "state": {
            "_view_name": "StyleView",
            "_model_name": "DescriptionStyleModel",
            "description_width": "",
            "_view_module": "@jupyter-widgets/base",
            "_model_module_version": "1.5.0",
            "_view_count": null,
            "_view_module_version": "1.2.0",
            "_model_module": "@jupyter-widgets/controls"
          }
        },
        "c3c1370a92d44d99a1d7b5f6efb4bea2": {
          "model_module": "@jupyter-widgets/base",
          "model_name": "LayoutModel",
          "model_module_version": "1.2.0",
          "state": {
            "_view_name": "LayoutView",
            "grid_template_rows": null,
            "right": null,
            "justify_content": null,
            "_view_module": "@jupyter-widgets/base",
            "overflow": null,
            "_model_module_version": "1.2.0",
            "_view_count": null,
            "flex_flow": null,
            "width": null,
            "min_width": null,
            "border": null,
            "align_items": null,
            "bottom": null,
            "_model_module": "@jupyter-widgets/base",
            "top": null,
            "grid_column": null,
            "overflow_y": null,
            "overflow_x": null,
            "grid_auto_flow": null,
            "grid_area": null,
            "grid_template_columns": null,
            "flex": null,
            "_model_name": "LayoutModel",
            "justify_items": null,
            "grid_row": null,
            "max_height": null,
            "align_content": null,
            "visibility": null,
            "align_self": null,
            "height": null,
            "min_height": null,
            "padding": null,
            "grid_auto_rows": null,
            "grid_gap": null,
            "max_width": null,
            "order": null,
            "_view_module_version": "1.2.0",
            "grid_template_areas": null,
            "object_position": null,
            "object_fit": null,
            "grid_auto_columns": null,
            "margin": null,
            "display": null,
            "left": null
          }
        },
        "3f8c1ceeeb9241ef94c479de3d34ab08": {
          "model_module": "@jupyter-widgets/controls",
          "model_name": "ProgressStyleModel",
          "model_module_version": "1.5.0",
          "state": {
            "_view_name": "StyleView",
            "_model_name": "ProgressStyleModel",
            "description_width": "",
            "_view_module": "@jupyter-widgets/base",
            "_model_module_version": "1.5.0",
            "_view_count": null,
            "_view_module_version": "1.2.0",
            "bar_color": null,
            "_model_module": "@jupyter-widgets/controls"
          }
        },
        "238f40f9d68e462dbd25287502213d47": {
          "model_module": "@jupyter-widgets/base",
          "model_name": "LayoutModel",
          "model_module_version": "1.2.0",
          "state": {
            "_view_name": "LayoutView",
            "grid_template_rows": null,
            "right": null,
            "justify_content": null,
            "_view_module": "@jupyter-widgets/base",
            "overflow": null,
            "_model_module_version": "1.2.0",
            "_view_count": null,
            "flex_flow": null,
            "width": null,
            "min_width": null,
            "border": null,
            "align_items": null,
            "bottom": null,
            "_model_module": "@jupyter-widgets/base",
            "top": null,
            "grid_column": null,
            "overflow_y": null,
            "overflow_x": null,
            "grid_auto_flow": null,
            "grid_area": null,
            "grid_template_columns": null,
            "flex": null,
            "_model_name": "LayoutModel",
            "justify_items": null,
            "grid_row": null,
            "max_height": null,
            "align_content": null,
            "visibility": null,
            "align_self": null,
            "height": null,
            "min_height": null,
            "padding": null,
            "grid_auto_rows": null,
            "grid_gap": null,
            "max_width": null,
            "order": null,
            "_view_module_version": "1.2.0",
            "grid_template_areas": null,
            "object_position": null,
            "object_fit": null,
            "grid_auto_columns": null,
            "margin": null,
            "display": null,
            "left": null
          }
        },
        "bc6ad31ec5d843c8ba9176cfe02ec591": {
          "model_module": "@jupyter-widgets/controls",
          "model_name": "DescriptionStyleModel",
          "model_module_version": "1.5.0",
          "state": {
            "_view_name": "StyleView",
            "_model_name": "DescriptionStyleModel",
            "description_width": "",
            "_view_module": "@jupyter-widgets/base",
            "_model_module_version": "1.5.0",
            "_view_count": null,
            "_view_module_version": "1.2.0",
            "_model_module": "@jupyter-widgets/controls"
          }
        },
        "a520caaec98845818632e52478cb5592": {
          "model_module": "@jupyter-widgets/base",
          "model_name": "LayoutModel",
          "model_module_version": "1.2.0",
          "state": {
            "_view_name": "LayoutView",
            "grid_template_rows": null,
            "right": null,
            "justify_content": null,
            "_view_module": "@jupyter-widgets/base",
            "overflow": null,
            "_model_module_version": "1.2.0",
            "_view_count": null,
            "flex_flow": null,
            "width": null,
            "min_width": null,
            "border": null,
            "align_items": null,
            "bottom": null,
            "_model_module": "@jupyter-widgets/base",
            "top": null,
            "grid_column": null,
            "overflow_y": null,
            "overflow_x": null,
            "grid_auto_flow": null,
            "grid_area": null,
            "grid_template_columns": null,
            "flex": null,
            "_model_name": "LayoutModel",
            "justify_items": null,
            "grid_row": null,
            "max_height": null,
            "align_content": null,
            "visibility": null,
            "align_self": null,
            "height": null,
            "min_height": null,
            "padding": null,
            "grid_auto_rows": null,
            "grid_gap": null,
            "max_width": null,
            "order": null,
            "_view_module_version": "1.2.0",
            "grid_template_areas": null,
            "object_position": null,
            "object_fit": null,
            "grid_auto_columns": null,
            "margin": null,
            "display": null,
            "left": null
          }
        }
      }
    }
  },
  "nbformat": 4,
  "nbformat_minor": 0
}