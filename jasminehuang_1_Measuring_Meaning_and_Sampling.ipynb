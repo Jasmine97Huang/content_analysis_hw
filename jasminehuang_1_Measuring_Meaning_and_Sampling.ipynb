{
  "cells": [
    {
      "cell_type": "markdown",
      "metadata": {
        "id": "JU1ThAa04KMB"
      },
      "source": [
        "# Week 1 - Measuring Meaning & Sampling\n",
        "This week, we begin by \"begging, borrowing and stealing\" text from several\n",
        "contexts of human communication (e.g., PDFs, HTML, Word) and preparing it for\n",
        "machines to \"read\" and analyze. This notebook outlines scraping text from the\n",
        "web, PDF and Word documents. Then we detail \"spidering\" or walking\n",
        "through hyperlinks to build samples of online content, and using APIs,\n",
        "Application Programming Interfaces, provided by webservices to access their\n",
        "content. Along the way, we will use regular expressions, outlined in the\n",
        "reading, to remove unwanted formatting and ornamentation. Finally, we discuss\n",
        "various text encodings, filtering and data structures in which text can be\n",
        "placed for analysis.\n",
        "\n",
        "If you are new to Google Colab, please take a look at [this brief introduction to the platform](https://colab.research.google.com/drive/1fV_2ZrdF-Vve8L7ZZAjanPS6tCh_HGnN). For each assignment on Colab, you should first click _File_ -> _Save a copy in Drive_ to create your own .ipynb file to submit. You will also need to run a cell like this if you are storing your data on Google Drive:"
      ]
    },
    {
      "cell_type": "code",
      "source": [
        "from google.colab import drive\n",
        "drive.mount(\"/content/drive\")"
      ],
      "metadata": {
        "id": "cG07PPAr5s2y"
      },
      "execution_count": null,
      "outputs": []
    },
    {
      "cell_type": "markdown",
      "metadata": {
        "id": "wsiychv-Omaw"
      },
      "source": [
        "We made a python package just for this course: lucem_illud. If you haven't installed this package, you should run the following code first. You don't need to install the package later; all you need to do is just to import the package with: import lucem_illud. For your final projects, you may find it useful to [read the lucem_illud source code](https://github.com/UChicago-Computational-Content-Analysis/lucem_illud/tree/main/lucem_illud) and modify your code for your own interests."
      ]
    },
    {
      "cell_type": "code",
      "execution_count": null,
      "metadata": {
        "id": "E5HYvEJeOmax",
        "colab": {
          "base_uri": "https://localhost:8080/"
        },
        "outputId": "450105b9-7c5f-4e90-d27a-4952e169e235"
      },
      "outputs": [
        {
          "output_type": "stream",
          "name": "stdout",
          "text": [
            "Collecting git+git://github.com/UChicago-Computational-Content-Analysis/lucem_illud.git\n",
            "  Cloning git://github.com/UChicago-Computational-Content-Analysis/lucem_illud.git to /tmp/pip-req-build-2cev0kit\n",
            "  Running command git clone -q git://github.com/UChicago-Computational-Content-Analysis/lucem_illud.git /tmp/pip-req-build-2cev0kit\n",
            "Requirement already satisfied: numpy in /usr/local/lib/python3.7/dist-packages (from lucem-illud==8.0.1) (1.19.5)\n",
            "Requirement already satisfied: requests in /usr/local/lib/python3.7/dist-packages (from lucem-illud==8.0.1) (2.23.0)\n",
            "Requirement already satisfied: pandas in /usr/local/lib/python3.7/dist-packages (from lucem-illud==8.0.1) (1.1.5)\n",
            "Collecting python-docx\n",
            "  Downloading python-docx-0.8.11.tar.gz (5.6 MB)\n",
            "\u001b[K     |████████████████████████████████| 5.6 MB 14.3 MB/s \n",
            "\u001b[?25hRequirement already satisfied: pillow in /usr/local/lib/python3.7/dist-packages (from lucem-illud==8.0.1) (7.1.2)\n",
            "Collecting pdfminer2\n",
            "  Downloading pdfminer2-20151206-py2.py3-none-any.whl (117 kB)\n",
            "\u001b[K     |████████████████████████████████| 117 kB 48.3 MB/s \n",
            "\u001b[?25hCollecting GitPython\n",
            "  Downloading GitPython-3.1.26-py3-none-any.whl (180 kB)\n",
            "\u001b[K     |████████████████████████████████| 180 kB 97.2 MB/s \n",
            "\u001b[?25hRequirement already satisfied: wordcloud in /usr/local/lib/python3.7/dist-packages (from lucem-illud==8.0.1) (1.5.0)\n",
            "Requirement already satisfied: scipy in /usr/local/lib/python3.7/dist-packages (from lucem-illud==8.0.1) (1.4.1)\n",
            "Requirement already satisfied: seaborn in /usr/local/lib/python3.7/dist-packages (from lucem-illud==8.0.1) (0.11.2)\n",
            "Requirement already satisfied: scikit-learn in /usr/local/lib/python3.7/dist-packages (from lucem-illud==8.0.1) (1.0.2)\n",
            "Requirement already satisfied: nltk in /usr/local/lib/python3.7/dist-packages (from lucem-illud==8.0.1) (3.2.5)\n",
            "Requirement already satisfied: gensim in /usr/local/lib/python3.7/dist-packages (from lucem-illud==8.0.1) (3.6.0)\n",
            "Requirement already satisfied: matplotlib in /usr/local/lib/python3.7/dist-packages (from lucem-illud==8.0.1) (3.2.2)\n",
            "Collecting pyanno3\n",
            "  Downloading pyanno3-2.0.2.tar.gz (76 kB)\n",
            "\u001b[K     |████████████████████████████████| 76 kB 5.4 MB/s \n",
            "\u001b[?25hRequirement already satisfied: beautifulsoup4 in /usr/local/lib/python3.7/dist-packages (from lucem-illud==8.0.1) (4.6.3)\n",
            "Requirement already satisfied: graphviz in /usr/local/lib/python3.7/dist-packages (from lucem-illud==8.0.1) (0.10.1)\n",
            "Collecting boto3\n",
            "  Downloading boto3-1.20.37-py3-none-any.whl (131 kB)\n",
            "\u001b[K     |████████████████████████████████| 131 kB 54.0 MB/s \n",
            "\u001b[?25hRequirement already satisfied: networkx in /usr/local/lib/python3.7/dist-packages (from lucem-illud==8.0.1) (2.6.3)\n",
            "Collecting pydub\n",
            "  Downloading pydub-0.25.1-py2.py3-none-any.whl (32 kB)\n",
            "Collecting speechrecognition\n",
            "  Downloading SpeechRecognition-3.8.1-py2.py3-none-any.whl (32.8 MB)\n",
            "\u001b[K     |████████████████████████████████| 32.8 MB 1.3 MB/s \n",
            "\u001b[?25hCollecting pysoundfile\n",
            "  Downloading PySoundFile-0.9.0.post1-py2.py3-none-any.whl (24 kB)\n",
            "Requirement already satisfied: scikit-image in /usr/local/lib/python3.7/dist-packages (from lucem-illud==8.0.1) (0.18.3)\n",
            "Requirement already satisfied: IPython in /usr/local/lib/python3.7/dist-packages (from lucem-illud==8.0.1) (5.5.0)\n",
            "Requirement already satisfied: spacy in /usr/local/lib/python3.7/dist-packages (from lucem-illud==8.0.1) (2.2.4)\n",
            "Collecting botocore<1.24.0,>=1.23.37\n",
            "  Downloading botocore-1.23.37-py3-none-any.whl (8.5 MB)\n",
            "\u001b[K     |████████████████████████████████| 8.5 MB 55.4 MB/s \n",
            "\u001b[?25hCollecting s3transfer<0.6.0,>=0.5.0\n",
            "  Downloading s3transfer-0.5.0-py3-none-any.whl (79 kB)\n",
            "\u001b[K     |████████████████████████████████| 79 kB 5.9 MB/s \n",
            "\u001b[?25hCollecting jmespath<1.0.0,>=0.7.1\n",
            "  Downloading jmespath-0.10.0-py2.py3-none-any.whl (24 kB)\n",
            "Requirement already satisfied: python-dateutil<3.0.0,>=2.1 in /usr/local/lib/python3.7/dist-packages (from botocore<1.24.0,>=1.23.37->boto3->lucem-illud==8.0.1) (2.8.2)\n",
            "Collecting urllib3<1.27,>=1.25.4\n",
            "  Downloading urllib3-1.26.8-py2.py3-none-any.whl (138 kB)\n",
            "\u001b[K     |████████████████████████████████| 138 kB 74.6 MB/s \n",
            "\u001b[?25hRequirement already satisfied: six>=1.5 in /usr/local/lib/python3.7/dist-packages (from python-dateutil<3.0.0,>=2.1->botocore<1.24.0,>=1.23.37->boto3->lucem-illud==8.0.1) (1.15.0)\n",
            "Requirement already satisfied: smart-open>=1.2.1 in /usr/local/lib/python3.7/dist-packages (from gensim->lucem-illud==8.0.1) (5.2.1)\n",
            "Collecting gitdb<5,>=4.0.1\n",
            "  Downloading gitdb-4.0.9-py3-none-any.whl (63 kB)\n",
            "\u001b[K     |████████████████████████████████| 63 kB 1.8 MB/s \n",
            "\u001b[?25hRequirement already satisfied: typing-extensions>=3.7.4.3 in /usr/local/lib/python3.7/dist-packages (from GitPython->lucem-illud==8.0.1) (3.10.0.2)\n",
            "Collecting smmap<6,>=3.0.1\n",
            "  Downloading smmap-5.0.0-py3-none-any.whl (24 kB)\n",
            "Requirement already satisfied: prompt-toolkit<2.0.0,>=1.0.4 in /usr/local/lib/python3.7/dist-packages (from IPython->lucem-illud==8.0.1) (1.0.18)\n",
            "Requirement already satisfied: pickleshare in /usr/local/lib/python3.7/dist-packages (from IPython->lucem-illud==8.0.1) (0.7.5)\n",
            "Requirement already satisfied: traitlets>=4.2 in /usr/local/lib/python3.7/dist-packages (from IPython->lucem-illud==8.0.1) (5.1.1)\n",
            "Requirement already satisfied: pygments in /usr/local/lib/python3.7/dist-packages (from IPython->lucem-illud==8.0.1) (2.6.1)\n",
            "Requirement already satisfied: setuptools>=18.5 in /usr/local/lib/python3.7/dist-packages (from IPython->lucem-illud==8.0.1) (57.4.0)\n",
            "Requirement already satisfied: decorator in /usr/local/lib/python3.7/dist-packages (from IPython->lucem-illud==8.0.1) (4.4.2)\n",
            "Requirement already satisfied: simplegeneric>0.8 in /usr/local/lib/python3.7/dist-packages (from IPython->lucem-illud==8.0.1) (0.8.1)\n",
            "Requirement already satisfied: pexpect in /usr/local/lib/python3.7/dist-packages (from IPython->lucem-illud==8.0.1) (4.8.0)\n",
            "Requirement already satisfied: wcwidth in /usr/local/lib/python3.7/dist-packages (from prompt-toolkit<2.0.0,>=1.0.4->IPython->lucem-illud==8.0.1) (0.2.5)\n",
            "Requirement already satisfied: cycler>=0.10 in /usr/local/lib/python3.7/dist-packages (from matplotlib->lucem-illud==8.0.1) (0.11.0)\n",
            "Requirement already satisfied: kiwisolver>=1.0.1 in /usr/local/lib/python3.7/dist-packages (from matplotlib->lucem-illud==8.0.1) (1.3.2)\n",
            "Requirement already satisfied: pyparsing!=2.0.4,!=2.1.2,!=2.1.6,>=2.0.1 in /usr/local/lib/python3.7/dist-packages (from matplotlib->lucem-illud==8.0.1) (3.0.6)\n",
            "Requirement already satisfied: pytz>=2017.2 in /usr/local/lib/python3.7/dist-packages (from pandas->lucem-illud==8.0.1) (2018.9)\n",
            "Requirement already satisfied: ptyprocess>=0.5 in /usr/local/lib/python3.7/dist-packages (from pexpect->IPython->lucem-illud==8.0.1) (0.7.0)\n",
            "Collecting traits\n",
            "  Downloading traits-6.3.2-cp37-cp37m-manylinux_2_5_x86_64.manylinux1_x86_64.manylinux_2_12_x86_64.manylinux2010_x86_64.whl (5.1 MB)\n",
            "\u001b[K     |████████████████████████████████| 5.1 MB 45.4 MB/s \n",
            "\u001b[?25hRequirement already satisfied: cffi>=0.6 in /usr/local/lib/python3.7/dist-packages (from pysoundfile->lucem-illud==8.0.1) (1.15.0)\n",
            "Requirement already satisfied: pycparser in /usr/local/lib/python3.7/dist-packages (from cffi>=0.6->pysoundfile->lucem-illud==8.0.1) (2.21)\n",
            "Requirement already satisfied: lxml>=2.3.2 in /usr/local/lib/python3.7/dist-packages (from python-docx->lucem-illud==8.0.1) (4.2.6)\n",
            "Requirement already satisfied: chardet<4,>=3.0.2 in /usr/local/lib/python3.7/dist-packages (from requests->lucem-illud==8.0.1) (3.0.4)\n",
            "Requirement already satisfied: certifi>=2017.4.17 in /usr/local/lib/python3.7/dist-packages (from requests->lucem-illud==8.0.1) (2021.10.8)\n",
            "Collecting urllib3<1.27,>=1.25.4\n",
            "  Downloading urllib3-1.25.11-py2.py3-none-any.whl (127 kB)\n",
            "\u001b[K     |████████████████████████████████| 127 kB 69.4 MB/s \n",
            "\u001b[?25hRequirement already satisfied: idna<3,>=2.5 in /usr/local/lib/python3.7/dist-packages (from requests->lucem-illud==8.0.1) (2.10)\n",
            "Requirement already satisfied: imageio>=2.3.0 in /usr/local/lib/python3.7/dist-packages (from scikit-image->lucem-illud==8.0.1) (2.4.1)\n",
            "Requirement already satisfied: tifffile>=2019.7.26 in /usr/local/lib/python3.7/dist-packages (from scikit-image->lucem-illud==8.0.1) (2021.11.2)\n",
            "Requirement already satisfied: PyWavelets>=1.1.1 in /usr/local/lib/python3.7/dist-packages (from scikit-image->lucem-illud==8.0.1) (1.2.0)\n",
            "Requirement already satisfied: joblib>=0.11 in /usr/local/lib/python3.7/dist-packages (from scikit-learn->lucem-illud==8.0.1) (1.1.0)\n",
            "Requirement already satisfied: threadpoolctl>=2.0.0 in /usr/local/lib/python3.7/dist-packages (from scikit-learn->lucem-illud==8.0.1) (3.0.0)\n",
            "Requirement already satisfied: thinc==7.4.0 in /usr/local/lib/python3.7/dist-packages (from spacy->lucem-illud==8.0.1) (7.4.0)\n",
            "Requirement already satisfied: wasabi<1.1.0,>=0.4.0 in /usr/local/lib/python3.7/dist-packages (from spacy->lucem-illud==8.0.1) (0.9.0)\n",
            "Requirement already satisfied: plac<1.2.0,>=0.9.6 in /usr/local/lib/python3.7/dist-packages (from spacy->lucem-illud==8.0.1) (1.1.3)\n",
            "Requirement already satisfied: srsly<1.1.0,>=1.0.2 in /usr/local/lib/python3.7/dist-packages (from spacy->lucem-illud==8.0.1) (1.0.5)\n",
            "Requirement already satisfied: cymem<2.1.0,>=2.0.2 in /usr/local/lib/python3.7/dist-packages (from spacy->lucem-illud==8.0.1) (2.0.6)\n",
            "Requirement already satisfied: tqdm<5.0.0,>=4.38.0 in /usr/local/lib/python3.7/dist-packages (from spacy->lucem-illud==8.0.1) (4.62.3)\n",
            "Requirement already satisfied: preshed<3.1.0,>=3.0.2 in /usr/local/lib/python3.7/dist-packages (from spacy->lucem-illud==8.0.1) (3.0.6)\n",
            "Requirement already satisfied: blis<0.5.0,>=0.4.0 in /usr/local/lib/python3.7/dist-packages (from spacy->lucem-illud==8.0.1) (0.4.1)\n",
            "Requirement already satisfied: catalogue<1.1.0,>=0.0.7 in /usr/local/lib/python3.7/dist-packages (from spacy->lucem-illud==8.0.1) (1.0.0)\n",
            "Requirement already satisfied: murmurhash<1.1.0,>=0.28.0 in /usr/local/lib/python3.7/dist-packages (from spacy->lucem-illud==8.0.1) (1.0.6)\n",
            "Requirement already satisfied: importlib-metadata>=0.20 in /usr/local/lib/python3.7/dist-packages (from catalogue<1.1.0,>=0.0.7->spacy->lucem-illud==8.0.1) (4.10.0)\n",
            "Requirement already satisfied: zipp>=0.5 in /usr/local/lib/python3.7/dist-packages (from importlib-metadata>=0.20->catalogue<1.1.0,>=0.0.7->spacy->lucem-illud==8.0.1) (3.7.0)\n",
            "Building wheels for collected packages: lucem-illud, pyanno3, python-docx\n",
            "  Building wheel for lucem-illud (setup.py) ... \u001b[?25l\u001b[?25hdone\n",
            "  Created wheel for lucem-illud: filename=lucem_illud-8.0.1-py3-none-any.whl size=34964 sha256=abd4e1540eab7ec433f5584a155481fec6cb679976deca08c74530f5c9d49883\n",
            "  Stored in directory: /tmp/pip-ephem-wheel-cache-vilknqk1/wheels/a5/6a/0f/ddf40c68215bc4b072c455caa6a08e0031c92187c93a1b5a81\n",
            "  Building wheel for pyanno3 (setup.py) ... \u001b[?25l\u001b[?25hdone\n",
            "  Created wheel for pyanno3: filename=pyanno3-2.0.2-py3-none-any.whl size=116978 sha256=89841886fdcf60c262e1047535882c27c863b8eb1c2661d941270e853eb7d1b6\n",
            "  Stored in directory: /root/.cache/pip/wheels/28/eb/a9/d9c212d9388cde6cf3ee6edd7aa3891624bca58b24d9c26c76\n",
            "  Building wheel for python-docx (setup.py) ... \u001b[?25l\u001b[?25hdone\n",
            "  Created wheel for python-docx: filename=python_docx-0.8.11-py3-none-any.whl size=184507 sha256=f5edecc35bcc9aa7027cff98a86ac7f1ad5d12cb0170f7d9f9624011cfb3cbf5\n",
            "  Stored in directory: /root/.cache/pip/wheels/f6/6f/b9/d798122a8b55b74ad30b5f52b01482169b445fbb84a11797a6\n",
            "Successfully built lucem-illud pyanno3 python-docx\n",
            "Installing collected packages: urllib3, jmespath, smmap, botocore, traits, s3transfer, gitdb, speechrecognition, python-docx, pysoundfile, pydub, pyanno3, pdfminer2, GitPython, boto3, lucem-illud\n",
            "  Attempting uninstall: urllib3\n",
            "    Found existing installation: urllib3 1.24.3\n",
            "    Uninstalling urllib3-1.24.3:\n",
            "      Successfully uninstalled urllib3-1.24.3\n",
            "\u001b[31mERROR: pip's dependency resolver does not currently take into account all the packages that are installed. This behaviour is the source of the following dependency conflicts.\n",
            "datascience 0.10.6 requires folium==0.2.1, but you have folium 0.8.3 which is incompatible.\u001b[0m\n",
            "Successfully installed GitPython-3.1.26 boto3-1.20.37 botocore-1.23.37 gitdb-4.0.9 jmespath-0.10.0 lucem-illud-8.0.1 pdfminer2-20151206 pyanno3-2.0.2 pydub-0.25.1 pysoundfile-0.9.0.post1 python-docx-0.8.11 s3transfer-0.5.0 smmap-5.0.0 speechrecognition-3.8.1 traits-6.3.2 urllib3-1.25.11\n"
          ]
        }
      ],
      "source": [
        "!pip install git+git://github.com/UChicago-Computational-Content-Analysis/lucem_illud.git\n",
        "#installing lucem_illud package\n",
        "#lucem_illud is a Latin phrase meaning \"that light\", the insight we can discover in text data!\n",
        "#If you get an error like \"Access is denied\", try running the `pip` command on the command line as an administrator."
      ]
    },
    {
      "cell_type": "markdown",
      "metadata": {
        "id": "gml7JVVdOmaz"
      },
      "source": [
        "If you're not familiar with jupyter notebook, you may wonder what the exclamation mark(!) at the beginning of the command does (or even what pip means). The exclamation mark enables us to execute Terminal commands in the notebook cells (e.g., run `!ls` to display files in the current folder).\n",
        "\n",
        "For this notebook we will be using the following packages:"
      ]
    },
    {
      "cell_type": "code",
      "execution_count": null,
      "metadata": {
        "id": "O8EOGoXbOma0"
      },
      "outputs": [],
      "source": [
        "#Special module written for this class\n",
        "#This provides access to data and to helper functions from previous weeks\n",
        "import lucem_illud #pip install git+git://github.com/UChicago-Computational-Content-Analysis/lucem_illud.git\n",
        "\n",
        "#All these packages need to be installed from pip\n",
        "import requests #for http requests\n",
        "import bs4 #called `beautifulsoup4`, an html parser\n",
        "import pandas #gives us DataFrames\n",
        "import docx #reading MS doc files, install as `python-docx`\n",
        "\n",
        "#Stuff for pdfs\n",
        "#Install as `pdfminer2`\n",
        "import pdfminer.pdfinterp\n",
        "import pdfminer.converter\n",
        "import pdfminer.layout\n",
        "import pdfminer.pdfpage\n",
        "\n",
        "#These come with Python\n",
        "import re #for regexs\n",
        "import urllib.parse #For joining urls\n",
        "import io #for making http requests look like files\n",
        "import json #For Tumblr API responses\n",
        "import os.path #For checking if files exist\n",
        "import os #For making directories"
      ]
    },
    {
      "cell_type": "markdown",
      "metadata": {
        "id": "1FBeOb62Oma1"
      },
      "source": [
        "We will also be working on the following files/urls"
      ]
    },
    {
      "cell_type": "code",
      "execution_count": null,
      "metadata": {
        "id": "FCg_QdR7Oma2"
      },
      "outputs": [],
      "source": [
        "wikipedia_base_url = 'https://en.wikipedia.org'\n",
        "wikipedia_content_analysis = 'https://en.wikipedia.org/wiki/Content_analysis'\n",
        "content_analysis_save = 'wikipedia_content_analysis.html'\n",
        "example_text_file = 'sometextfile.txt'\n",
        "information_extraction_pdf = 'https://github.com/Computational-Content-Analysis-2018/Data-Files/raw/master/1-intro/Content%20Analysis%2018.pdf'\n",
        "example_docx = 'https://github.com/Computational-Content-Analysis-2018/Data-Files/raw/master/1-intro/macs6000_connecting_to_midway.docx'\n",
        "example_docx_save = 'example.docx'"
      ]
    },
    {
      "cell_type": "markdown",
      "metadata": {
        "id": "bZM9Pw3lOma3"
      },
      "source": [
        "# Scraping\n",
        "\n",
        "Before we can start analyzing content we need to obtain it. Sometimes it will be\n",
        "provided to us from a pre-curated text archive, but sometimes we will need to\n",
        "download it. As a starting example we will attempt to download the wikipedia\n",
        "page on content analysis. The page is located at [https://en.wikipedia.org/wiki/Content_analysis](https://en.wikipedia.org/wiki/Content_analysis) so lets start\n",
        "with that.\n",
        "\n",
        "We can do this by making an HTTP GET request to that url, a GET request is\n",
        "simply a request to the server to provide the contents given by some url. The\n",
        "other request we will be using in this class is called a POST request and\n",
        "requests the server to take some content we provide. While the Python standard\n",
        "library does have the ability do make GET requests we will be using the\n",
        "[_requests_](http://docs.python-requests.org/en/master/) package as it is _'the\n",
        "only Non-GMO HTTP library for Python'_...also it provides a nicer interface."
      ]
    },
    {
      "cell_type": "code",
      "execution_count": null,
      "metadata": {
        "id": "hhzQ0oNBOma4",
        "colab": {
          "base_uri": "https://localhost:8080/"
        },
        "outputId": "17cd40e9-53df-468e-b061-cd1b44b71941"
      },
      "outputs": [
        {
          "output_type": "execute_result",
          "data": {
            "text/plain": [
              "<Response [200]>"
            ]
          },
          "metadata": {},
          "execution_count": 6
        }
      ],
      "source": [
        "#wikipedia_content_analysis = 'https://en.wikipedia.org/wiki/Content_analysis'\n",
        "requests.get(wikipedia_content_analysis)"
      ]
    },
    {
      "cell_type": "markdown",
      "metadata": {
        "id": "OBLNFuYqOma5"
      },
      "source": [
        "`'Response [200]'` means the server responded with what we asked for. If you get\n",
        "another number (e.g. 404) it likely means there was some kind of error, these\n",
        "codes are called HTTP response codes and a list of them can be found\n",
        "[here](https://en.wikipedia.org/wiki/List_of_HTTP_status_codes). The response\n",
        "object contains all the data the server sent including the website's contents\n",
        "and the HTTP header. We are interested in the contents which we can access with\n",
        "the `.text` attribute."
      ]
    },
    {
      "cell_type": "code",
      "execution_count": null,
      "metadata": {
        "id": "0MX6yy-GOma6",
        "colab": {
          "base_uri": "https://localhost:8080/"
        },
        "outputId": "ae3caa36-362a-4bc8-d9ed-b3168b6214f2"
      },
      "outputs": [
        {
          "output_type": "stream",
          "name": "stdout",
          "text": [
            "<!DOCTYPE html>\n",
            "<html class=\"client-nojs\" lang=\"en\" dir=\"ltr\">\n",
            "<head>\n",
            "<meta charset=\"UTF-8\"/>\n",
            "<title>Content analysis - Wikipedia</title>\n",
            "<script>document.documentElement.className=\"client-js\";RLCONF={\"wgBreakFrames\":false,\"wgSeparatorTransformTable\":[\"\",\"\"],\"wgDigitTransformTable\":[\"\",\"\"],\"wgDefaultDateFormat\":\"dmy\",\"wgMonthNames\":[\"\",\"January\",\"February\",\"March\",\"April\",\"May\",\"June\",\"July\",\"August\",\"September\",\"October\",\"November\",\"December\"],\"wgRequestId\":\"ccc2f9ad-715f-4364-8af4-963f6e27a093\",\"wgCSPNonce\":false,\"wgCanonicalNamespace\":\"\",\"wgCanonicalSpecialPageName\":false,\"wgNamespaceNumber\":0,\"wgPageName\":\"Content_analysis\",\"wgTitle\":\"Content analysis\",\"wgCurRevisionId\":1063305987,\"wgRevisionId\":1063305987,\"wgArticleId\":473317,\"wgIsArticle\":true,\"wgIsRedirect\":false,\"wgAction\":\"view\",\"wgUserName\":null,\"wgUserGroups\":[\"*\"],\"wgCategories\":[\"Articles with short description\",\"Short description matches Wikidata\",\"Articles prone to spam from October 2017\",\"Articles with BNE identifiers\",\n"
          ]
        }
      ],
      "source": [
        "wikiContentRequest = requests.get(wikipedia_content_analysis)\n",
        "print(wikiContentRequest.text[:1000])"
      ]
    },
    {
      "cell_type": "markdown",
      "metadata": {
        "id": "v476yylWOma6"
      },
      "source": [
        "This is not what we were looking for, because it is the start of the HTML that\n",
        "makes up the website. This is HTML and is meant to be read by computers. Luckily\n",
        "we have a computer to parse it for us. To do the parsing we will use [_Beautiful\n",
        "Soup_](https://www.crummy.com/software/BeautifulSoup/) which is a better parser\n",
        "than the one in the standard library."
      ]
    },
    {
      "cell_type": "markdown",
      "metadata": {
        "id": "sKsCntAsOma7"
      },
      "source": [
        "But before we proceed to Beautiful Soup, a digression about Python syntax, especially about objects and functions.\n",
        "For those who are not familiar with the syntax of python (or, if you're familiar with R programming), you might wonder what requests.get or wikiContentRequest.text mean. To understand this, you need to first understand what objects are. You may have heard that Python is an object oriented programming language (unlike the procedure oriented programming language, an example of which is R). Object is a set of variables (or, data) and functions into which you pass your data. So, in object oriented programming languages, like python, variables and functions are bunleded into objects.\n",
        "\n",
        "For example, let's look at wikiContentRequest. We use dir() function, which returns the list of attributes and functions of objects."
      ]
    },
    {
      "cell_type": "code",
      "execution_count": null,
      "metadata": {
        "id": "bFWJZHqhOma7"
      },
      "outputs": [],
      "source": [
        " dir(wikiContentRequest)"
      ]
    },
    {
      "cell_type": "markdown",
      "metadata": {
        "id": "N2i8w-JwOma8"
      },
      "source": [
        "There's 'text' here. We used 'wikiContentRequest.text' to access 'text.' In other words, we use .(dot notation) to access functions from objects. wikiContentRequest has a set of functions, as shown above, and we used 'wikiContentRequest.text' to access one of them. By the way, dot notations do not necessarily refer to functions--it refers to anything that the entity contains. \n",
        "\n"
      ]
    },
    {
      "cell_type": "markdown",
      "metadata": {
        "id": "3heEYqz3Oma8"
      },
      "source": [
        "Moving on to the next step: BeautifulSoup, a Python library which extracts data from HTML and XML, and transforms HTML files into Python objects."
      ]
    },
    {
      "cell_type": "code",
      "execution_count": null,
      "metadata": {
        "id": "q9aPjhBQOma8"
      },
      "outputs": [],
      "source": [
        "wikiContentSoup = bs4.BeautifulSoup(wikiContentRequest.text, 'html.parser')\n",
        "print(wikiContentSoup.text)"
      ]
    },
    {
      "cell_type": "markdown",
      "metadata": {
        "id": "x3nSYukpOma9"
      },
      "source": [
        "This is better but there's still random whitespace and we have more than just\n",
        "the text of the article. This is because what we requested is the whole webpage,\n",
        "not just the text for the article.\n",
        "\n",
        "We want to extract only the text we care about, and in order to do this we will\n",
        "need to inspect the html. One way to do this is simply to go to the website with\n",
        "a browser and use its inspection or view source tool. If javascript or other\n",
        "dynamic loading occurs on the page, however, it is likely that what Python\n",
        "receives is not what you will see, so we will need to inspect what Python\n",
        "receives. To do this we can save the html `requests` obtained."
      ]
    },
    {
      "cell_type": "code",
      "execution_count": null,
      "metadata": {
        "id": "ZcLAorw7Oma9"
      },
      "outputs": [],
      "source": [
        "#content_analysis_save = 'wikipedia_content_analysis.html'\n",
        "\n",
        "with open(content_analysis_save, mode='w', encoding='utf-8') as f:\n",
        "    f.write(wikiContentRequest.text)"
      ]
    },
    {
      "cell_type": "markdown",
      "metadata": {
        "id": "I7zi62goOma9"
      },
      "source": [
        "open() is a function which literally opens and returns the file. This function has multiple modes, and, here, we used mode as 'w', which means: open a file for writing. And then, we use 'write' function to write on the empty file (content_analysis_save) that we created using open(content_analysis_save, mode='w', encoding='utf-8').} What did we write on this file? The text we got from wikiContentRequest.text"
      ]
    },
    {
      "cell_type": "markdown",
      "metadata": {
        "id": "z9-kcKydOma-"
      },
      "source": [
        "Now let's open the file (`wikipedia_content_analysis.html`) we just created with\n",
        "a web browser. It should look sort of like the original but without the images\n",
        "and formatting.\n",
        "\n",
        "As there is very little standardization on structuring webpages, figuring out\n",
        "how best to extract what you want is an art. Looking at this page it looks like\n",
        "all the main textual content is inside `<p>`(paragraph) tags within the `<body>`\n",
        "tag. "
      ]
    },
    {
      "cell_type": "code",
      "execution_count": null,
      "metadata": {
        "scrolled": true,
        "id": "UTiDo5jGOma-",
        "colab": {
          "base_uri": "https://localhost:8080/"
        },
        "outputId": "851de8c6-571f-4bc9-a1c5-04ffcc4c271d"
      },
      "outputs": [
        {
          "output_type": "stream",
          "name": "stdout",
          "text": [
            "South Asia \n",
            "\n",
            "Middle East\n",
            "\n",
            "Europe\n",
            "\n"
          ]
        }
      ],
      "source": [
        "contentPTags = wikiContentSoup.body.findAll('p')\n",
        "for pTag in contentPTags[:3]:\n",
        "    print(pTag.text)"
      ]
    },
    {
      "cell_type": "markdown",
      "metadata": {
        "id": "K-HEFlXROma-"
      },
      "source": [
        "Another excursion for those who are not familiar with programming: for loop. For loop is used to iterate over a sequence. \"ContentPTags\" contains multiple paragraphs, each of which starts and ends with `<p>`. What the \"for pTag in contentPtags[:3]\" does here is: find each paragraph in contentPTags, which, here, we limited to the first three using contentPtags[:3], and then print each paragraph. So, we have three paragraphs. By the way, you can insert `<p>` in juputer notebook!"
      ]
    },
    {
      "cell_type": "markdown",
      "metadata": {
        "id": "P3WbGS2aOma_"
      },
      "source": [
        "We now have all the text from the page, split up by paragraph. If we wanted to\n",
        "get the section headers or references as well it would require a bit more work,\n",
        "but is doable.\n",
        "\n",
        "There is one more thing we might want to do before sending this text to be\n",
        "processed, remove the references indicators (`[2]`, `[3]` , etc). To do this we\n",
        "can use a short regular expression (regex)."
      ]
    },
    {
      "cell_type": "code",
      "execution_count": null,
      "metadata": {
        "id": "W1Km-YmsOma_",
        "colab": {
          "base_uri": "https://localhost:8080/"
        },
        "outputId": "ff8d8e27-f0bf-4a58-9221-dfab4a3c8bcd"
      },
      "outputs": [
        {
          "output_type": "stream",
          "name": "stdout",
          "text": [
            "                                       paragraph-text\n",
            "0                                       South Asia \\n\n",
            "1                                       Middle East\\n\n",
            "2                                            Europe\\n\n",
            "3                                     North America\\n\n",
            "4   Content analysis is the study of documents and...\n",
            "5   Practices and philosophies of content analysis...\n",
            "6   Computers are increasingly used in content ana...\n",
            "7   Content analysis is best understood as a broad...\n",
            "8   The simplest and most objective form of conten...\n",
            "9   A further step in analysis is the distinction ...\n",
            "10  Quantitative content analysis highlights frequ...\n",
            "11  Siegfried Kracauer provides a critique of quan...\n",
            "12  With the rise of common computing facilities l...\n",
            "13  By having contents of communication available ...\n",
            "14  Computer-assisted analysis can help with large...\n",
            "15  Robert Weber notes: \"To make valid inferences ...\n",
            "16  There are five types of texts in content analy...\n",
            "17  Content analysis is research using the categor...\n",
            "18  Over the years, content analysis has been appl...\n",
            "19  In recent times, particularly with the advent ...\n",
            "20  Quantitative content analysis has enjoyed a re...\n",
            "21  Content analysis can also be described as stud...\n",
            "22  Manifest content is readily understandable at ...\n",
            "23  Holsti groups fifteen uses of content analysis...\n",
            "24  He also places these uses into the context of ...\n",
            "25  The following table shows fifteen uses of cont...\n",
            "26  As a counterpoint, there are limits to the sco...\n",
            "27  The process of the initial coding scheme or ap...\n",
            "28  With either approach above, immersing oneself ...\n",
            "29                                                 \\n\n"
          ]
        }
      ],
      "source": [
        "contentParagraphs = []\n",
        "for pTag in contentPTags:\n",
        "    #strings starting with r are raw so their \\'s are not modifier characters\n",
        "    #If we didn't start with r the string would be: '\\\\[\\\\d+\\\\]'\n",
        "    contentParagraphs.append(re.sub(r'\\[\\d+\\]', '', pTag.text))\n",
        "\n",
        "#convert to a DataFrame\n",
        "contentParagraphsDF = pandas.DataFrame({'paragraph-text' : contentParagraphs})\n",
        "print(contentParagraphsDF)"
      ]
    },
    {
      "cell_type": "markdown",
      "metadata": {
        "id": "32iXyFviOma_"
      },
      "source": [
        "Since we learned how to do for loop, you might get what we did here: using contentParagraphs = [], we made an empty list; and then, for each paragraph in contentPTags, we substituted every [\\d+\\] with '', i.e., removed every [\\d+\\], and then appended each paragraph (now without [\\d+\\]) to the empty list. As we can see, we have a dataframe, each row of which is each paragraph of contentPTags, without reference indicators. \n",
        "\n",
        "By the way, what does [\\d+\\] mean? If you are not familiar with regex, it is a way of specifying searches in text.\n",
        "A regex engine takes in the search pattern, in the above case `'\\[\\d+\\]'` and\n",
        "some string, the paragraph texts. Then it reads the input string one character\n",
        "at a time checking if it matches the search. Here the regex `'\\d'` matches\n",
        "number characters (while `'\\['` and `'\\]'` capture the braces on either side)."
      ]
    },
    {
      "cell_type": "markdown",
      "metadata": {
        "id": "Ta624Xp-Oma_"
      },
      "source": [
        "Now we have a `DataFrame` containing all relevant text from the page ready to be processed"
      ]
    },
    {
      "cell_type": "code",
      "execution_count": null,
      "metadata": {
        "id": "aMRe7UEvOma_",
        "colab": {
          "base_uri": "https://localhost:8080/"
        },
        "outputId": "ea9a6675-e2f3-4150-dbf6-bd8cd106db1e"
      },
      "outputs": [
        {
          "output_type": "execute_result",
          "data": {
            "text/plain": [
              "<re.Match object; span=(36, 37), match='2'>"
            ]
          },
          "metadata": {},
          "execution_count": 14
        }
      ],
      "source": [
        "findNumber = r'\\d'\n",
        "regexResults = re.search(findNumber, 'not a number, not a number, numbers 2134567890, not a number')\n",
        "regexResults"
      ]
    },
    {
      "cell_type": "markdown",
      "metadata": {
        "id": "70nwprj2OmbA"
      },
      "source": [
        "In Python the regex package (`re`) usually returns `Match` objects (you can have\n",
        "multiple pattern hits in a a single `Match`), to get the string that matched our\n",
        "pattern we can use the `.group()` method, and as we want the first one we will\n",
        "ask for the 0'th group."
      ]
    },
    {
      "cell_type": "code",
      "execution_count": null,
      "metadata": {
        "id": "YPz34LJiOmbA",
        "colab": {
          "base_uri": "https://localhost:8080/"
        },
        "outputId": "bfc20897-910b-4914-a3ac-e50fbcd4e027"
      },
      "outputs": [
        {
          "output_type": "stream",
          "name": "stdout",
          "text": [
            "2\n"
          ]
        }
      ],
      "source": [
        "print(regexResults.group(0))"
      ]
    },
    {
      "cell_type": "markdown",
      "metadata": {
        "id": "xu-YZGe4OmbA"
      },
      "source": [
        "That gives us the first number, if we wanted the whole block of numbers we can\n",
        "add a wildcard `'+'` which requests 1 or more instances of the preceding\n",
        "character."
      ]
    },
    {
      "cell_type": "code",
      "execution_count": null,
      "metadata": {
        "id": "stERg5HHOmbA"
      },
      "outputs": [],
      "source": [
        "findNumbers = r'\\d+'\n",
        "regexResults = re.search(findNumbers, 'not a number, not a number, numbers 2134567890, not a number')\n",
        "print(regexResults.group(0))"
      ]
    },
    {
      "cell_type": "markdown",
      "metadata": {
        "id": "DczZWZWeOmbB"
      },
      "source": [
        "Now we have the whole block of numbers, there are a huge number of special\n",
        "characters in regex, for the full description of Python's implementation look at\n",
        "the [re docs](https://docs.python.org/3/library/re.html) there is also a short\n",
        "[tutorial](https://docs.python.org/3/howto/regex.html#regex-howto)."
      ]
    },
    {
      "cell_type": "markdown",
      "metadata": {
        "id": "vVTLl6J-OmbB"
      },
      "source": [
        "# <font color=\"red\">Exercise 1</font>\n",
        "<font color=\"red\">Construct cells immediately below this that describe and download webcontent relating to your anticipated final project. Use beautiful soup and at least five regular expressions to extract relevant, nontrivial *chunks* of that content (e.g., cleaned sentences, paragraphs, etc.) to a pandas `Dataframe`.</font>"
      ]
    },
    {
      "cell_type": "code",
      "source": [
        "import pandas as pd"
      ],
      "metadata": {
        "id": "5zkJPW77XMio"
      },
      "execution_count": null,
      "outputs": []
    },
    {
      "cell_type": "code",
      "source": [
        "def remove_emojis(text):\n",
        "    emoj = re.compile(\"[\"\n",
        "        u\"\\U0001F600-\\U0001F64F\"  # emoticons\n",
        "        u\"\\U0001F300-\\U0001F5FF\"  # symbols & pictographs\n",
        "        u\"\\U0001F680-\\U0001F6FF\"  # transport & map symbols\n",
        "        u\"\\U0001F1E0-\\U0001F1FF\"  # flags (iOS)\n",
        "        u\"\\U00002500-\\U00002BEF\"  # chinese char\n",
        "        u\"\\U00002702-\\U000027B0\"\n",
        "        u\"\\U00002702-\\U000027B0\"\n",
        "        u\"\\U000024C2-\\U0001F251\"\n",
        "        u\"\\U0001f926-\\U0001f937\"\n",
        "        u\"\\U00010000-\\U0010ffff\"\n",
        "        u\"\\u2640-\\u2642\" \n",
        "        u\"\\u2600-\\u2B55\"\n",
        "        u\"\\u200d\"\n",
        "        u\"\\u23cf\"\n",
        "        u\"\\u23e9\"\n",
        "        u\"\\u231a\"\n",
        "        u\"\\ufe0f\"  # dingbats\n",
        "        u\"\\u3030\"\n",
        "                      \"]+\", re.UNICODE)\n",
        "    return re.sub(emoj, '', text)\n",
        "  \n",
        "def remove_views(text):\n",
        "    number = re.findall('\\d+', text)\n",
        "    try:\n",
        "      len(number) == 1\n",
        "    except:\n",
        "      print('Found two view counts. Use the first one')\n",
        "    n = number[0]+'000000'\n",
        "    return int(n)\n",
        "\n",
        "def remove_videos(text):\n",
        "    number = re.findall('\\d+', text)\n",
        "    try:\n",
        "      len(number) == 1\n",
        "    except:\n",
        "      print('Found two video counts. Use the first one')\n",
        "    if 'K' in text:\n",
        "      return int(number[0] + '000')\n",
        "    else:\n",
        "      return int(number[0]) "
      ],
      "metadata": {
        "id": "wajM6C4rblL1"
      },
      "execution_count": null,
      "outputs": []
    },
    {
      "cell_type": "code",
      "source": [
        "  def scrape_weekly():\n",
        "    '''\n",
        "    extract weekly updated top 30 trending tiktok songs from tokboard.com\n",
        "    '''\n",
        "    try:\n",
        "        r = requests.get(\"https://tokboard.com/\")\n",
        "    except:\n",
        "        print(\"Failed to scrape\", url)\n",
        "    \n",
        "    soup = bs4.BeautifulSoup(r.text, 'html.parser')\n",
        "    rank_lst = []\n",
        "    artist_lst =[]\n",
        "    title_lst = []\n",
        "    link_lst = []\n",
        "    views_lst = []\n",
        "    videos_lst = []\n",
        "    count = 0\n",
        "    #print(soup.find('h2').text)\n",
        "    update_date = re.findall('(\\d+)\\/(\\d+)\\/(\\d+)', soup.find('h2').text)\n",
        "    #print(update_date)\n",
        "    update_date = \"\".join(update_date[0])\n",
        "    sounds = soup.findAll(class_ =\"jsx-3696330819 song stopped\")\n",
        "    for sound in sounds:\n",
        "        rank_lst.append(sound.find(class_=\"jsx-3696330819 rank\").text)\n",
        "        artist_lst.append(sound.find(class_=\"jsx-3696330819 artist\").text)\n",
        "        title_lst.append(sound.find(class_=\"jsx-3696330819 title\").text)\n",
        "        link_lst.append(sound.find('a').get('href'))\n",
        "        views_lst.append(sound.find(class_=\"jsx-3696330819 views\").text)\n",
        "        videos_lst.append(sound.find(class_=\"jsx-3696330819 videos\").text)\n",
        "        count+=1\n",
        "    print(count, \"songs found.\")\n",
        "    if count == 0:\n",
        "        print(\"Doesn't have data this week\")\n",
        "    #put the list into a dataframe\n",
        "    dic = {}\n",
        "    dic['rank'] = rank_lst\n",
        "    dic['artist'] = artist_lst\n",
        "    dic['title'] = title_lst\n",
        "    dic['topb_link'] = link_lst\n",
        "    dic['views'] = views_lst\n",
        "    dic['videos'] = videos_lst\n",
        "    #dic['date'] = date\n",
        "    df = pd.DataFrame(dic)\n",
        "    return df"
      ],
      "metadata": {
        "id": "8SRZvFYdN5Bn"
      },
      "execution_count": null,
      "outputs": []
    },
    {
      "cell_type": "code",
      "source": [
        "df = scrape_weekly()\n",
        "df"
      ],
      "metadata": {
        "colab": {
          "base_uri": "https://localhost:8080/",
          "height": 1000
        },
        "id": "Ej7RHzXOTaqF",
        "outputId": "0479670c-cedf-4a47-aa6d-8044796ec97c"
      },
      "execution_count": null,
      "outputs": [
        {
          "output_type": "stream",
          "name": "stdout",
          "text": [
            "30 songs found.\n"
          ]
        },
        {
          "output_type": "execute_result",
          "data": {
            "text/html": [
              "\n",
              "  <div id=\"df-dbbd6010-6374-441c-b0a2-45bd4508a59b\">\n",
              "    <div class=\"colab-df-container\">\n",
              "      <div>\n",
              "<style scoped>\n",
              "    .dataframe tbody tr th:only-of-type {\n",
              "        vertical-align: middle;\n",
              "    }\n",
              "\n",
              "    .dataframe tbody tr th {\n",
              "        vertical-align: top;\n",
              "    }\n",
              "\n",
              "    .dataframe thead th {\n",
              "        text-align: right;\n",
              "    }\n",
              "</style>\n",
              "<table border=\"1\" class=\"dataframe\">\n",
              "  <thead>\n",
              "    <tr style=\"text-align: right;\">\n",
              "      <th></th>\n",
              "      <th>rank</th>\n",
              "      <th>artist</th>\n",
              "      <th>title</th>\n",
              "      <th>topb_link</th>\n",
              "      <th>views</th>\n",
              "      <th>videos</th>\n",
              "    </tr>\n",
              "  </thead>\n",
              "  <tbody>\n",
              "    <tr>\n",
              "      <th>0</th>\n",
              "      <td>1</td>\n",
              "      <td>Kevin MacLeod &amp; Kevin The Monkey</td>\n",
              "      <td>Monkeys Spinning Monkeys</td>\n",
              "      <td>/songs/6746993352891189249</td>\n",
              "      <td>875.5M views</td>\n",
              "      <td>1.5K popular videos</td>\n",
              "    </tr>\n",
              "    <tr>\n",
              "      <th>1</th>\n",
              "      <td>2</td>\n",
              "      <td>God is good</td>\n",
              "      <td>Verified people are using my sound</td>\n",
              "      <td>/songs/7034341668602202926</td>\n",
              "      <td>561.8M views</td>\n",
              "      <td>750 popular videos</td>\n",
              "    </tr>\n",
              "    <tr>\n",
              "      <th>2</th>\n",
              "      <td>3</td>\n",
              "      <td>ALTÉGO</td>\n",
              "      <td>Toxic x Pony</td>\n",
              "      <td>/songs/7046487747955411717</td>\n",
              "      <td>545M views</td>\n",
              "      <td>566 popular videos</td>\n",
              "    </tr>\n",
              "    <tr>\n",
              "      <th>3</th>\n",
              "      <td>4</td>\n",
              "      <td>Nico</td>\n",
              "      <td>These Days</td>\n",
              "      <td>/songs/6929763762322343937</td>\n",
              "      <td>576.2M views</td>\n",
              "      <td>494 popular videos</td>\n",
              "    </tr>\n",
              "    <tr>\n",
              "      <th>4</th>\n",
              "      <td>5</td>\n",
              "      <td>Edison Lighthouse</td>\n",
              "      <td>Love Grows (Where My Rosemary Goes)</td>\n",
              "      <td>/songs/6770680973097961474</td>\n",
              "      <td>411.8M views</td>\n",
              "      <td>492 popular videos</td>\n",
              "    </tr>\n",
              "    <tr>\n",
              "      <th>5</th>\n",
              "      <td>6</td>\n",
              "      <td>[ ʟᴏʟᴀ ]</td>\n",
              "      <td>Jenny darlinn</td>\n",
              "      <td>/songs/7037203934725114629</td>\n",
              "      <td>279.3M views</td>\n",
              "      <td>326 popular videos</td>\n",
              "    </tr>\n",
              "    <tr>\n",
              "      <th>6</th>\n",
              "      <td>7</td>\n",
              "      <td>Jnr Choi</td>\n",
              "      <td>TO THE MOON</td>\n",
              "      <td>/songs/7025056274156881921</td>\n",
              "      <td>270.2M views</td>\n",
              "      <td>314 popular videos</td>\n",
              "    </tr>\n",
              "    <tr>\n",
              "      <th>7</th>\n",
              "      <td>8</td>\n",
              "      <td>she / her</td>\n",
              "      <td>original sound - s.h3iel</td>\n",
              "      <td>/songs/7038787691240065838</td>\n",
              "      <td>160.1M views</td>\n",
              "      <td>253 popular videos</td>\n",
              "    </tr>\n",
              "    <tr>\n",
              "      <th>8</th>\n",
              "      <td>9</td>\n",
              "      <td>Alvaro Diaz &amp; Rauw Alejandro</td>\n",
              "      <td>Problemón</td>\n",
              "      <td>/songs/7038674687270193925</td>\n",
              "      <td>173.9M views</td>\n",
              "      <td>238 popular videos</td>\n",
              "    </tr>\n",
              "    <tr>\n",
              "      <th>9</th>\n",
              "      <td>10</td>\n",
              "      <td>🫐</td>\n",
              "      <td>original sound - spe4d.songs</td>\n",
              "      <td>/songs/7040250379707206405</td>\n",
              "      <td>204.9M views</td>\n",
              "      <td>221 popular videos</td>\n",
              "    </tr>\n",
              "    <tr>\n",
              "      <th>10</th>\n",
              "      <td>11</td>\n",
              "      <td>Felix Vivar</td>\n",
              "      <td>original sound - felixvivar</td>\n",
              "      <td>/songs/7047719661319834373</td>\n",
              "      <td>305.1M views</td>\n",
              "      <td>218 popular videos</td>\n",
              "    </tr>\n",
              "    <tr>\n",
              "      <th>11</th>\n",
              "      <td>12</td>\n",
              "      <td>Giblack</td>\n",
              "      <td>El Avioncito</td>\n",
              "      <td>/songs/7008232356955884294</td>\n",
              "      <td>183.6M views</td>\n",
              "      <td>205 popular videos</td>\n",
              "    </tr>\n",
              "    <tr>\n",
              "      <th>12</th>\n",
              "      <td>13</td>\n",
              "      <td>David Snell</td>\n",
              "      <td>Spongebob Tomfoolery - Dante9k Remix</td>\n",
              "      <td>/songs/6787142837377959937</td>\n",
              "      <td>148.8M views</td>\n",
              "      <td>184 popular videos</td>\n",
              "    </tr>\n",
              "    <tr>\n",
              "      <th>13</th>\n",
              "      <td>14</td>\n",
              "      <td>Kevin MacLeod</td>\n",
              "      <td>Sneaky Snitch</td>\n",
              "      <td>/songs/6770216135636813826</td>\n",
              "      <td>113.1M views</td>\n",
              "      <td>184 popular videos</td>\n",
              "    </tr>\n",
              "    <tr>\n",
              "      <th>14</th>\n",
              "      <td>15</td>\n",
              "      <td>Ryoouo</td>\n",
              "      <td>PURA PURA CINTA CIHUY</td>\n",
              "      <td>/songs/6918743089599695618</td>\n",
              "      <td>217.3M views</td>\n",
              "      <td>182 popular videos</td>\n",
              "    </tr>\n",
              "    <tr>\n",
              "      <th>15</th>\n",
              "      <td>16</td>\n",
              "      <td>Jb🧸</td>\n",
              "      <td>JB</td>\n",
              "      <td>/songs/7045099596397267758</td>\n",
              "      <td>113.9M views</td>\n",
              "      <td>181 popular videos</td>\n",
              "    </tr>\n",
              "    <tr>\n",
              "      <th>16</th>\n",
              "      <td>17</td>\n",
              "      <td>Jade 🕸</td>\n",
              "      <td>Something about you</td>\n",
              "      <td>/songs/7044337474264468270</td>\n",
              "      <td>106.4M views</td>\n",
              "      <td>178 popular videos</td>\n",
              "    </tr>\n",
              "    <tr>\n",
              "      <th>17</th>\n",
              "      <td>18</td>\n",
              "      <td>Mx9231</td>\n",
              "      <td>Trend mx92310</td>\n",
              "      <td>/songs/7046760557633915653</td>\n",
              "      <td>69M views</td>\n",
              "      <td>171 popular videos</td>\n",
              "    </tr>\n",
              "    <tr>\n",
              "      <th>18</th>\n",
              "      <td>19</td>\n",
              "      <td>Danilo Stankovic</td>\n",
              "      <td>Pieces (Solo Piano Version)</td>\n",
              "      <td>/songs/6777274113254754306</td>\n",
              "      <td>108.8M views</td>\n",
              "      <td>167 popular videos</td>\n",
              "    </tr>\n",
              "    <tr>\n",
              "      <th>19</th>\n",
              "      <td>20</td>\n",
              "      <td>Abraham Mateo &amp; Sofía Reyes</td>\n",
              "      <td>¿Qué Ha Pasao'?</td>\n",
              "      <td>/songs/6936976796785429254</td>\n",
              "      <td>159.7M views</td>\n",
              "      <td>165 popular videos</td>\n",
              "    </tr>\n",
              "    <tr>\n",
              "      <th>20</th>\n",
              "      <td>21</td>\n",
              "      <td>Meghan Trainor</td>\n",
              "      <td>Title</td>\n",
              "      <td>/songs/7033166270723902214</td>\n",
              "      <td>106.4M views</td>\n",
              "      <td>165 popular videos</td>\n",
              "    </tr>\n",
              "    <tr>\n",
              "      <th>21</th>\n",
              "      <td>22</td>\n",
              "      <td>Dollar Tree Prince Hans</td>\n",
              "      <td>BaLsAmic VINAGAUGh</td>\n",
              "      <td>/songs/7048006472323713838</td>\n",
              "      <td>112.3M views</td>\n",
              "      <td>163 popular videos</td>\n",
              "    </tr>\n",
              "    <tr>\n",
              "      <th>22</th>\n",
              "      <td>23</td>\n",
              "      <td>山口夕依</td>\n",
              "      <td>She Share Story (for Vlog)</td>\n",
              "      <td>/songs/6722656094272883458</td>\n",
              "      <td>74.8M views</td>\n",
              "      <td>162 popular videos</td>\n",
              "    </tr>\n",
              "    <tr>\n",
              "      <th>23</th>\n",
              "      <td>24</td>\n",
              "      <td>Jaymes Young</td>\n",
              "      <td>Infinity</td>\n",
              "      <td>/songs/6704992801559414786</td>\n",
              "      <td>115.7M views</td>\n",
              "      <td>161 popular videos</td>\n",
              "    </tr>\n",
              "    <tr>\n",
              "      <th>24</th>\n",
              "      <td>25</td>\n",
              "      <td>Dj Tchouzen &amp; Mc Gw &amp; Mc Daniel dn &amp; MC Pipokinha</td>\n",
              "      <td>Megão do Ploft</td>\n",
              "      <td>/songs/7018292601178688261</td>\n",
              "      <td>116.8M views</td>\n",
              "      <td>160 popular videos</td>\n",
              "    </tr>\n",
              "    <tr>\n",
              "      <th>25</th>\n",
              "      <td>26</td>\n",
              "      <td>andrew</td>\n",
              "      <td>umm.. yeah</td>\n",
              "      <td>/songs/7048101817808390918</td>\n",
              "      <td>81M views</td>\n",
              "      <td>150 popular videos</td>\n",
              "    </tr>\n",
              "    <tr>\n",
              "      <th>26</th>\n",
              "      <td>27</td>\n",
              "      <td>ThousandB</td>\n",
              "      <td>original sound - thousandb</td>\n",
              "      <td>/songs/6921420141750225666</td>\n",
              "      <td>75.3M views</td>\n",
              "      <td>149 popular videos</td>\n",
              "    </tr>\n",
              "    <tr>\n",
              "      <th>27</th>\n",
              "      <td>28</td>\n",
              "      <td>GAYLE</td>\n",
              "      <td>abcdefu</td>\n",
              "      <td>/songs/6994724904944568322</td>\n",
              "      <td>146.6M views</td>\n",
              "      <td>148 popular videos</td>\n",
              "    </tr>\n",
              "    <tr>\n",
              "      <th>28</th>\n",
              "      <td>29</td>\n",
              "      <td>Kuya Magik</td>\n",
              "      <td>Work out x Love and War</td>\n",
              "      <td>/songs/7049189363476990747</td>\n",
              "      <td>115.4M views</td>\n",
              "      <td>143 popular videos</td>\n",
              "    </tr>\n",
              "    <tr>\n",
              "      <th>29</th>\n",
              "      <td>30</td>\n",
              "      <td>El Alfa</td>\n",
              "      <td>Este Tema Maste</td>\n",
              "      <td>/songs/7036555882741713669</td>\n",
              "      <td>110.2M views</td>\n",
              "      <td>139 popular videos</td>\n",
              "    </tr>\n",
              "  </tbody>\n",
              "</table>\n",
              "</div>\n",
              "      <button class=\"colab-df-convert\" onclick=\"convertToInteractive('df-dbbd6010-6374-441c-b0a2-45bd4508a59b')\"\n",
              "              title=\"Convert this dataframe to an interactive table.\"\n",
              "              style=\"display:none;\">\n",
              "        \n",
              "  <svg xmlns=\"http://www.w3.org/2000/svg\" height=\"24px\"viewBox=\"0 0 24 24\"\n",
              "       width=\"24px\">\n",
              "    <path d=\"M0 0h24v24H0V0z\" fill=\"none\"/>\n",
              "    <path d=\"M18.56 5.44l.94 2.06.94-2.06 2.06-.94-2.06-.94-.94-2.06-.94 2.06-2.06.94zm-11 1L8.5 8.5l.94-2.06 2.06-.94-2.06-.94L8.5 2.5l-.94 2.06-2.06.94zm10 10l.94 2.06.94-2.06 2.06-.94-2.06-.94-.94-2.06-.94 2.06-2.06.94z\"/><path d=\"M17.41 7.96l-1.37-1.37c-.4-.4-.92-.59-1.43-.59-.52 0-1.04.2-1.43.59L10.3 9.45l-7.72 7.72c-.78.78-.78 2.05 0 2.83L4 21.41c.39.39.9.59 1.41.59.51 0 1.02-.2 1.41-.59l7.78-7.78 2.81-2.81c.8-.78.8-2.07 0-2.86zM5.41 20L4 18.59l7.72-7.72 1.47 1.35L5.41 20z\"/>\n",
              "  </svg>\n",
              "      </button>\n",
              "      \n",
              "  <style>\n",
              "    .colab-df-container {\n",
              "      display:flex;\n",
              "      flex-wrap:wrap;\n",
              "      gap: 12px;\n",
              "    }\n",
              "\n",
              "    .colab-df-convert {\n",
              "      background-color: #E8F0FE;\n",
              "      border: none;\n",
              "      border-radius: 50%;\n",
              "      cursor: pointer;\n",
              "      display: none;\n",
              "      fill: #1967D2;\n",
              "      height: 32px;\n",
              "      padding: 0 0 0 0;\n",
              "      width: 32px;\n",
              "    }\n",
              "\n",
              "    .colab-df-convert:hover {\n",
              "      background-color: #E2EBFA;\n",
              "      box-shadow: 0px 1px 2px rgba(60, 64, 67, 0.3), 0px 1px 3px 1px rgba(60, 64, 67, 0.15);\n",
              "      fill: #174EA6;\n",
              "    }\n",
              "\n",
              "    [theme=dark] .colab-df-convert {\n",
              "      background-color: #3B4455;\n",
              "      fill: #D2E3FC;\n",
              "    }\n",
              "\n",
              "    [theme=dark] .colab-df-convert:hover {\n",
              "      background-color: #434B5C;\n",
              "      box-shadow: 0px 1px 3px 1px rgba(0, 0, 0, 0.15);\n",
              "      filter: drop-shadow(0px 1px 2px rgba(0, 0, 0, 0.3));\n",
              "      fill: #FFFFFF;\n",
              "    }\n",
              "  </style>\n",
              "\n",
              "      <script>\n",
              "        const buttonEl =\n",
              "          document.querySelector('#df-dbbd6010-6374-441c-b0a2-45bd4508a59b button.colab-df-convert');\n",
              "        buttonEl.style.display =\n",
              "          google.colab.kernel.accessAllowed ? 'block' : 'none';\n",
              "\n",
              "        async function convertToInteractive(key) {\n",
              "          const element = document.querySelector('#df-dbbd6010-6374-441c-b0a2-45bd4508a59b');\n",
              "          const dataTable =\n",
              "            await google.colab.kernel.invokeFunction('convertToInteractive',\n",
              "                                                     [key], {});\n",
              "          if (!dataTable) return;\n",
              "\n",
              "          const docLinkHtml = 'Like what you see? Visit the ' +\n",
              "            '<a target=\"_blank\" href=https://colab.research.google.com/notebooks/data_table.ipynb>data table notebook</a>'\n",
              "            + ' to learn more about interactive tables.';\n",
              "          element.innerHTML = '';\n",
              "          dataTable['output_type'] = 'display_data';\n",
              "          await google.colab.output.renderOutput(dataTable, element);\n",
              "          const docLink = document.createElement('div');\n",
              "          docLink.innerHTML = docLinkHtml;\n",
              "          element.appendChild(docLink);\n",
              "        }\n",
              "      </script>\n",
              "    </div>\n",
              "  </div>\n",
              "  "
            ],
            "text/plain": [
              "   rank  ...               videos\n",
              "0     1  ...  1.5K popular videos\n",
              "1     2  ...   750 popular videos\n",
              "2     3  ...   566 popular videos\n",
              "3     4  ...   494 popular videos\n",
              "4     5  ...   492 popular videos\n",
              "5     6  ...   326 popular videos\n",
              "6     7  ...   314 popular videos\n",
              "7     8  ...   253 popular videos\n",
              "8     9  ...   238 popular videos\n",
              "9    10  ...   221 popular videos\n",
              "10   11  ...   218 popular videos\n",
              "11   12  ...   205 popular videos\n",
              "12   13  ...   184 popular videos\n",
              "13   14  ...   184 popular videos\n",
              "14   15  ...   182 popular videos\n",
              "15   16  ...   181 popular videos\n",
              "16   17  ...   178 popular videos\n",
              "17   18  ...   171 popular videos\n",
              "18   19  ...   167 popular videos\n",
              "19   20  ...   165 popular videos\n",
              "20   21  ...   165 popular videos\n",
              "21   22  ...   163 popular videos\n",
              "22   23  ...   162 popular videos\n",
              "23   24  ...   161 popular videos\n",
              "24   25  ...   160 popular videos\n",
              "25   26  ...   150 popular videos\n",
              "26   27  ...   149 popular videos\n",
              "27   28  ...   148 popular videos\n",
              "28   29  ...   143 popular videos\n",
              "29   30  ...   139 popular videos\n",
              "\n",
              "[30 rows x 6 columns]"
            ]
          },
          "metadata": {},
          "execution_count": 27
        }
      ]
    },
    {
      "cell_type": "code",
      "source": [
        "df.columns"
      ],
      "metadata": {
        "colab": {
          "base_uri": "https://localhost:8080/"
        },
        "id": "EHhF4djwYKyR",
        "outputId": "baeaab39-bb2a-4683-83c8-789d2e1d8ef5"
      },
      "execution_count": null,
      "outputs": [
        {
          "output_type": "execute_result",
          "data": {
            "text/plain": [
              "Index(['rank', 'artist', 'title', 'topb_link', 'views (millions)', 'videos'], dtype='object')"
            ]
          },
          "metadata": {},
          "execution_count": 22
        }
      ]
    },
    {
      "cell_type": "code",
      "source": [
        "'K' in df.videos[0]"
      ],
      "metadata": {
        "colab": {
          "base_uri": "https://localhost:8080/"
        },
        "id": "uNRK07v7g2Ek",
        "outputId": "a842303c-0429-4ff5-c8ee-bb9c4460ee10"
      },
      "execution_count": null,
      "outputs": [
        {
          "output_type": "execute_result",
          "data": {
            "text/plain": [
              "True"
            ]
          },
          "metadata": {},
          "execution_count": 37
        }
      ]
    },
    {
      "cell_type": "code",
      "source": [
        "df.artist = df['artist'].apply(remove_emojis)\n",
        "df.views = df['views'].apply(remove_views)\n",
        "df.videos = df['videos'].apply(remove_videos)"
      ],
      "metadata": {
        "id": "oK9XqZ49aco6"
      },
      "execution_count": null,
      "outputs": []
    },
    {
      "cell_type": "code",
      "source": [
        "df"
      ],
      "metadata": {
        "colab": {
          "base_uri": "https://localhost:8080/",
          "height": 990
        },
        "id": "yjZ39_UVhKrA",
        "outputId": "7e9896c9-ffda-414d-b1c0-ae0f3ea9adc0"
      },
      "execution_count": null,
      "outputs": [
        {
          "output_type": "execute_result",
          "data": {
            "text/html": [
              "\n",
              "  <div id=\"df-9e2747df-2c66-40ff-9cc7-25e838179590\">\n",
              "    <div class=\"colab-df-container\">\n",
              "      <div>\n",
              "<style scoped>\n",
              "    .dataframe tbody tr th:only-of-type {\n",
              "        vertical-align: middle;\n",
              "    }\n",
              "\n",
              "    .dataframe tbody tr th {\n",
              "        vertical-align: top;\n",
              "    }\n",
              "\n",
              "    .dataframe thead th {\n",
              "        text-align: right;\n",
              "    }\n",
              "</style>\n",
              "<table border=\"1\" class=\"dataframe\">\n",
              "  <thead>\n",
              "    <tr style=\"text-align: right;\">\n",
              "      <th></th>\n",
              "      <th>rank</th>\n",
              "      <th>artist</th>\n",
              "      <th>title</th>\n",
              "      <th>topb_link</th>\n",
              "      <th>views</th>\n",
              "      <th>videos</th>\n",
              "    </tr>\n",
              "  </thead>\n",
              "  <tbody>\n",
              "    <tr>\n",
              "      <th>0</th>\n",
              "      <td>1</td>\n",
              "      <td>Kevin MacLeod &amp; Kevin The Monkey</td>\n",
              "      <td>Monkeys Spinning Monkeys</td>\n",
              "      <td>/songs/6746993352891189249</td>\n",
              "      <td>875000000</td>\n",
              "      <td>1000</td>\n",
              "    </tr>\n",
              "    <tr>\n",
              "      <th>1</th>\n",
              "      <td>2</td>\n",
              "      <td>God is good</td>\n",
              "      <td>Verified people are using my sound</td>\n",
              "      <td>/songs/7034341668602202926</td>\n",
              "      <td>561000000</td>\n",
              "      <td>750</td>\n",
              "    </tr>\n",
              "    <tr>\n",
              "      <th>2</th>\n",
              "      <td>3</td>\n",
              "      <td>ALTÉGO</td>\n",
              "      <td>Toxic x Pony</td>\n",
              "      <td>/songs/7046487747955411717</td>\n",
              "      <td>545000000</td>\n",
              "      <td>566</td>\n",
              "    </tr>\n",
              "    <tr>\n",
              "      <th>3</th>\n",
              "      <td>4</td>\n",
              "      <td>Nico</td>\n",
              "      <td>These Days</td>\n",
              "      <td>/songs/6929763762322343937</td>\n",
              "      <td>576000000</td>\n",
              "      <td>494</td>\n",
              "    </tr>\n",
              "    <tr>\n",
              "      <th>4</th>\n",
              "      <td>5</td>\n",
              "      <td>Edison Lighthouse</td>\n",
              "      <td>Love Grows (Where My Rosemary Goes)</td>\n",
              "      <td>/songs/6770680973097961474</td>\n",
              "      <td>411000000</td>\n",
              "      <td>492</td>\n",
              "    </tr>\n",
              "    <tr>\n",
              "      <th>5</th>\n",
              "      <td>6</td>\n",
              "      <td>[ ʟᴏʟᴀ ]</td>\n",
              "      <td>Jenny darlinn</td>\n",
              "      <td>/songs/7037203934725114629</td>\n",
              "      <td>279000000</td>\n",
              "      <td>326</td>\n",
              "    </tr>\n",
              "    <tr>\n",
              "      <th>6</th>\n",
              "      <td>7</td>\n",
              "      <td>Jnr Choi</td>\n",
              "      <td>TO THE MOON</td>\n",
              "      <td>/songs/7025056274156881921</td>\n",
              "      <td>270000000</td>\n",
              "      <td>314</td>\n",
              "    </tr>\n",
              "    <tr>\n",
              "      <th>7</th>\n",
              "      <td>8</td>\n",
              "      <td>she / her</td>\n",
              "      <td>original sound - s.h3iel</td>\n",
              "      <td>/songs/7038787691240065838</td>\n",
              "      <td>160000000</td>\n",
              "      <td>253</td>\n",
              "    </tr>\n",
              "    <tr>\n",
              "      <th>8</th>\n",
              "      <td>9</td>\n",
              "      <td>Alvaro Diaz &amp; Rauw Alejandro</td>\n",
              "      <td>Problemón</td>\n",
              "      <td>/songs/7038674687270193925</td>\n",
              "      <td>173000000</td>\n",
              "      <td>238</td>\n",
              "    </tr>\n",
              "    <tr>\n",
              "      <th>9</th>\n",
              "      <td>10</td>\n",
              "      <td></td>\n",
              "      <td>original sound - spe4d.songs</td>\n",
              "      <td>/songs/7040250379707206405</td>\n",
              "      <td>204000000</td>\n",
              "      <td>221</td>\n",
              "    </tr>\n",
              "    <tr>\n",
              "      <th>10</th>\n",
              "      <td>11</td>\n",
              "      <td>Felix Vivar</td>\n",
              "      <td>original sound - felixvivar</td>\n",
              "      <td>/songs/7047719661319834373</td>\n",
              "      <td>305000000</td>\n",
              "      <td>218</td>\n",
              "    </tr>\n",
              "    <tr>\n",
              "      <th>11</th>\n",
              "      <td>12</td>\n",
              "      <td>Giblack</td>\n",
              "      <td>El Avioncito</td>\n",
              "      <td>/songs/7008232356955884294</td>\n",
              "      <td>183000000</td>\n",
              "      <td>205</td>\n",
              "    </tr>\n",
              "    <tr>\n",
              "      <th>12</th>\n",
              "      <td>13</td>\n",
              "      <td>David Snell</td>\n",
              "      <td>Spongebob Tomfoolery - Dante9k Remix</td>\n",
              "      <td>/songs/6787142837377959937</td>\n",
              "      <td>148000000</td>\n",
              "      <td>184</td>\n",
              "    </tr>\n",
              "    <tr>\n",
              "      <th>13</th>\n",
              "      <td>14</td>\n",
              "      <td>Kevin MacLeod</td>\n",
              "      <td>Sneaky Snitch</td>\n",
              "      <td>/songs/6770216135636813826</td>\n",
              "      <td>113000000</td>\n",
              "      <td>184</td>\n",
              "    </tr>\n",
              "    <tr>\n",
              "      <th>14</th>\n",
              "      <td>15</td>\n",
              "      <td>Ryoouo</td>\n",
              "      <td>PURA PURA CINTA CIHUY</td>\n",
              "      <td>/songs/6918743089599695618</td>\n",
              "      <td>217000000</td>\n",
              "      <td>182</td>\n",
              "    </tr>\n",
              "    <tr>\n",
              "      <th>15</th>\n",
              "      <td>16</td>\n",
              "      <td>Jb</td>\n",
              "      <td>JB</td>\n",
              "      <td>/songs/7045099596397267758</td>\n",
              "      <td>113000000</td>\n",
              "      <td>181</td>\n",
              "    </tr>\n",
              "    <tr>\n",
              "      <th>16</th>\n",
              "      <td>17</td>\n",
              "      <td>Jade</td>\n",
              "      <td>Something about you</td>\n",
              "      <td>/songs/7044337474264468270</td>\n",
              "      <td>106000000</td>\n",
              "      <td>178</td>\n",
              "    </tr>\n",
              "    <tr>\n",
              "      <th>17</th>\n",
              "      <td>18</td>\n",
              "      <td>Mx9231</td>\n",
              "      <td>Trend mx92310</td>\n",
              "      <td>/songs/7046760557633915653</td>\n",
              "      <td>69000000</td>\n",
              "      <td>171</td>\n",
              "    </tr>\n",
              "    <tr>\n",
              "      <th>18</th>\n",
              "      <td>19</td>\n",
              "      <td>Danilo Stankovic</td>\n",
              "      <td>Pieces (Solo Piano Version)</td>\n",
              "      <td>/songs/6777274113254754306</td>\n",
              "      <td>108000000</td>\n",
              "      <td>167</td>\n",
              "    </tr>\n",
              "    <tr>\n",
              "      <th>19</th>\n",
              "      <td>20</td>\n",
              "      <td>Abraham Mateo &amp; Sofía Reyes</td>\n",
              "      <td>¿Qué Ha Pasao'?</td>\n",
              "      <td>/songs/6936976796785429254</td>\n",
              "      <td>159000000</td>\n",
              "      <td>165</td>\n",
              "    </tr>\n",
              "    <tr>\n",
              "      <th>20</th>\n",
              "      <td>21</td>\n",
              "      <td>Meghan Trainor</td>\n",
              "      <td>Title</td>\n",
              "      <td>/songs/7033166270723902214</td>\n",
              "      <td>106000000</td>\n",
              "      <td>165</td>\n",
              "    </tr>\n",
              "    <tr>\n",
              "      <th>21</th>\n",
              "      <td>22</td>\n",
              "      <td>Dollar Tree Prince Hans</td>\n",
              "      <td>BaLsAmic VINAGAUGh</td>\n",
              "      <td>/songs/7048006472323713838</td>\n",
              "      <td>112000000</td>\n",
              "      <td>163</td>\n",
              "    </tr>\n",
              "    <tr>\n",
              "      <th>22</th>\n",
              "      <td>23</td>\n",
              "      <td></td>\n",
              "      <td>She Share Story (for Vlog)</td>\n",
              "      <td>/songs/6722656094272883458</td>\n",
              "      <td>74000000</td>\n",
              "      <td>162</td>\n",
              "    </tr>\n",
              "    <tr>\n",
              "      <th>23</th>\n",
              "      <td>24</td>\n",
              "      <td>Jaymes Young</td>\n",
              "      <td>Infinity</td>\n",
              "      <td>/songs/6704992801559414786</td>\n",
              "      <td>115000000</td>\n",
              "      <td>161</td>\n",
              "    </tr>\n",
              "    <tr>\n",
              "      <th>24</th>\n",
              "      <td>25</td>\n",
              "      <td>Dj Tchouzen &amp; Mc Gw &amp; Mc Daniel dn &amp; MC Pipokinha</td>\n",
              "      <td>Megão do Ploft</td>\n",
              "      <td>/songs/7018292601178688261</td>\n",
              "      <td>116000000</td>\n",
              "      <td>160</td>\n",
              "    </tr>\n",
              "    <tr>\n",
              "      <th>25</th>\n",
              "      <td>26</td>\n",
              "      <td>andrew</td>\n",
              "      <td>umm.. yeah</td>\n",
              "      <td>/songs/7048101817808390918</td>\n",
              "      <td>81000000</td>\n",
              "      <td>150</td>\n",
              "    </tr>\n",
              "    <tr>\n",
              "      <th>26</th>\n",
              "      <td>27</td>\n",
              "      <td>ThousandB</td>\n",
              "      <td>original sound - thousandb</td>\n",
              "      <td>/songs/6921420141750225666</td>\n",
              "      <td>75000000</td>\n",
              "      <td>149</td>\n",
              "    </tr>\n",
              "    <tr>\n",
              "      <th>27</th>\n",
              "      <td>28</td>\n",
              "      <td>GAYLE</td>\n",
              "      <td>abcdefu</td>\n",
              "      <td>/songs/6994724904944568322</td>\n",
              "      <td>146000000</td>\n",
              "      <td>148</td>\n",
              "    </tr>\n",
              "    <tr>\n",
              "      <th>28</th>\n",
              "      <td>29</td>\n",
              "      <td>Kuya Magik</td>\n",
              "      <td>Work out x Love and War</td>\n",
              "      <td>/songs/7049189363476990747</td>\n",
              "      <td>115000000</td>\n",
              "      <td>143</td>\n",
              "    </tr>\n",
              "    <tr>\n",
              "      <th>29</th>\n",
              "      <td>30</td>\n",
              "      <td>El Alfa</td>\n",
              "      <td>Este Tema Maste</td>\n",
              "      <td>/songs/7036555882741713669</td>\n",
              "      <td>110000000</td>\n",
              "      <td>139</td>\n",
              "    </tr>\n",
              "  </tbody>\n",
              "</table>\n",
              "</div>\n",
              "      <button class=\"colab-df-convert\" onclick=\"convertToInteractive('df-9e2747df-2c66-40ff-9cc7-25e838179590')\"\n",
              "              title=\"Convert this dataframe to an interactive table.\"\n",
              "              style=\"display:none;\">\n",
              "        \n",
              "  <svg xmlns=\"http://www.w3.org/2000/svg\" height=\"24px\"viewBox=\"0 0 24 24\"\n",
              "       width=\"24px\">\n",
              "    <path d=\"M0 0h24v24H0V0z\" fill=\"none\"/>\n",
              "    <path d=\"M18.56 5.44l.94 2.06.94-2.06 2.06-.94-2.06-.94-.94-2.06-.94 2.06-2.06.94zm-11 1L8.5 8.5l.94-2.06 2.06-.94-2.06-.94L8.5 2.5l-.94 2.06-2.06.94zm10 10l.94 2.06.94-2.06 2.06-.94-2.06-.94-.94-2.06-.94 2.06-2.06.94z\"/><path d=\"M17.41 7.96l-1.37-1.37c-.4-.4-.92-.59-1.43-.59-.52 0-1.04.2-1.43.59L10.3 9.45l-7.72 7.72c-.78.78-.78 2.05 0 2.83L4 21.41c.39.39.9.59 1.41.59.51 0 1.02-.2 1.41-.59l7.78-7.78 2.81-2.81c.8-.78.8-2.07 0-2.86zM5.41 20L4 18.59l7.72-7.72 1.47 1.35L5.41 20z\"/>\n",
              "  </svg>\n",
              "      </button>\n",
              "      \n",
              "  <style>\n",
              "    .colab-df-container {\n",
              "      display:flex;\n",
              "      flex-wrap:wrap;\n",
              "      gap: 12px;\n",
              "    }\n",
              "\n",
              "    .colab-df-convert {\n",
              "      background-color: #E8F0FE;\n",
              "      border: none;\n",
              "      border-radius: 50%;\n",
              "      cursor: pointer;\n",
              "      display: none;\n",
              "      fill: #1967D2;\n",
              "      height: 32px;\n",
              "      padding: 0 0 0 0;\n",
              "      width: 32px;\n",
              "    }\n",
              "\n",
              "    .colab-df-convert:hover {\n",
              "      background-color: #E2EBFA;\n",
              "      box-shadow: 0px 1px 2px rgba(60, 64, 67, 0.3), 0px 1px 3px 1px rgba(60, 64, 67, 0.15);\n",
              "      fill: #174EA6;\n",
              "    }\n",
              "\n",
              "    [theme=dark] .colab-df-convert {\n",
              "      background-color: #3B4455;\n",
              "      fill: #D2E3FC;\n",
              "    }\n",
              "\n",
              "    [theme=dark] .colab-df-convert:hover {\n",
              "      background-color: #434B5C;\n",
              "      box-shadow: 0px 1px 3px 1px rgba(0, 0, 0, 0.15);\n",
              "      filter: drop-shadow(0px 1px 2px rgba(0, 0, 0, 0.3));\n",
              "      fill: #FFFFFF;\n",
              "    }\n",
              "  </style>\n",
              "\n",
              "      <script>\n",
              "        const buttonEl =\n",
              "          document.querySelector('#df-9e2747df-2c66-40ff-9cc7-25e838179590 button.colab-df-convert');\n",
              "        buttonEl.style.display =\n",
              "          google.colab.kernel.accessAllowed ? 'block' : 'none';\n",
              "\n",
              "        async function convertToInteractive(key) {\n",
              "          const element = document.querySelector('#df-9e2747df-2c66-40ff-9cc7-25e838179590');\n",
              "          const dataTable =\n",
              "            await google.colab.kernel.invokeFunction('convertToInteractive',\n",
              "                                                     [key], {});\n",
              "          if (!dataTable) return;\n",
              "\n",
              "          const docLinkHtml = 'Like what you see? Visit the ' +\n",
              "            '<a target=\"_blank\" href=https://colab.research.google.com/notebooks/data_table.ipynb>data table notebook</a>'\n",
              "            + ' to learn more about interactive tables.';\n",
              "          element.innerHTML = '';\n",
              "          dataTable['output_type'] = 'display_data';\n",
              "          await google.colab.output.renderOutput(dataTable, element);\n",
              "          const docLink = document.createElement('div');\n",
              "          docLink.innerHTML = docLinkHtml;\n",
              "          element.appendChild(docLink);\n",
              "        }\n",
              "      </script>\n",
              "    </div>\n",
              "  </div>\n",
              "  "
            ],
            "text/plain": [
              "   rank                                             artist  ...      views videos\n",
              "0     1                   Kevin MacLeod & Kevin The Monkey  ...  875000000   1000\n",
              "1     2                                        God is good  ...  561000000    750\n",
              "2     3                                             ALTÉGO  ...  545000000    566\n",
              "3     4                                               Nico  ...  576000000    494\n",
              "4     5                                  Edison Lighthouse  ...  411000000    492\n",
              "5     6                                           [ ʟᴏʟᴀ ]  ...  279000000    326\n",
              "6     7                                           Jnr Choi  ...  270000000    314\n",
              "7     8                                          she / her  ...  160000000    253\n",
              "8     9                       Alvaro Diaz & Rauw Alejandro  ...  173000000    238\n",
              "9    10                                                     ...  204000000    221\n",
              "10   11                                        Felix Vivar  ...  305000000    218\n",
              "11   12                                            Giblack  ...  183000000    205\n",
              "12   13                                        David Snell  ...  148000000    184\n",
              "13   14                                      Kevin MacLeod  ...  113000000    184\n",
              "14   15                                             Ryoouo  ...  217000000    182\n",
              "15   16                                                 Jb  ...  113000000    181\n",
              "16   17                                              Jade   ...  106000000    178\n",
              "17   18                                             Mx9231  ...   69000000    171\n",
              "18   19                                   Danilo Stankovic  ...  108000000    167\n",
              "19   20                        Abraham Mateo & Sofía Reyes  ...  159000000    165\n",
              "20   21                                     Meghan Trainor  ...  106000000    165\n",
              "21   22                            Dollar Tree Prince Hans  ...  112000000    163\n",
              "22   23                                                     ...   74000000    162\n",
              "23   24                                       Jaymes Young  ...  115000000    161\n",
              "24   25  Dj Tchouzen & Mc Gw & Mc Daniel dn & MC Pipokinha  ...  116000000    160\n",
              "25   26                                             andrew  ...   81000000    150\n",
              "26   27                                          ThousandB  ...   75000000    149\n",
              "27   28                                              GAYLE  ...  146000000    148\n",
              "28   29                                         Kuya Magik  ...  115000000    143\n",
              "29   30                                            El Alfa  ...  110000000    139\n",
              "\n",
              "[30 rows x 6 columns]"
            ]
          },
          "metadata": {},
          "execution_count": 43
        }
      ]
    },
    {
      "cell_type": "markdown",
      "metadata": {
        "id": "8jW4D33OOmbB"
      },
      "source": [
        "\n",
        "# Spidering\n",
        "\n",
        "What if we want to to get a bunch of different pages from wikipedia. We would\n",
        "need to get the url for each of the pages we want. Typically, we want pages that\n",
        "are linked to by other pages and so we will need to parse pages and identify the\n",
        "links. Right now we will be retrieving all links in the body of the content\n",
        "analysis page.\n",
        "\n",
        "To do this we will need to find all the `<a>` (anchor) tags with `href`s\n",
        "(hyperlink references) inside of `<p>` tags. `href` can have many\n",
        "[different](http://stackoverflow.com/questions/4855168/what-is-href-and-why-is-\n",
        "it-used) [forms](https://en.wikipedia.org/wiki/Hyperlink#Hyperlinks_in_HTML) so\n",
        "dealing with them can be tricky, but generally, you will want to extract\n",
        "absolute or relative links. An absolute link is one you can follow without\n",
        "modification, while a relative link requires a base url that you will then\n",
        "append. Wikipedia uses relative urls for its internal links: below is an example\n",
        "for dealing with them."
      ]
    },
    {
      "cell_type": "code",
      "execution_count": null,
      "metadata": {
        "id": "qdkr4sdqOmbB"
      },
      "outputs": [],
      "source": [
        "#wikipedia_base_url = 'https://en.wikipedia.org'\n",
        "\n",
        "otherPAgeURLS = []\n",
        "#We also want to know where the links come from so we also will get:\n",
        "#the paragraph number\n",
        "#the word the link is in\n",
        "for paragraphNum, pTag in enumerate(contentPTags):\n",
        "    #we only want hrefs that link to wiki pages\n",
        "    tagLinks = pTag.findAll('a', href=re.compile('/wiki/'), class_=False)\n",
        "    for aTag in tagLinks:\n",
        "        #We need to extract the url from the <a> tag\n",
        "        relurl = aTag.get('href')\n",
        "        linkText = aTag.text\n",
        "        #wikipedia_base_url is the base we can use the urllib joining function to merge them\n",
        "        #Giving a nice structured tupe like this means we can use tuple expansion later\n",
        "        otherPAgeURLS.append((\n",
        "            urllib.parse.urljoin(wikipedia_base_url, relurl),\n",
        "            paragraphNum,\n",
        "            linkText,\n",
        "        ))\n",
        "print(otherPAgeURLS[:10])"
      ]
    },
    {
      "cell_type": "code",
      "execution_count": null,
      "metadata": {
        "id": "VXTYESNnOmbC"
      },
      "outputs": [],
      "source": [
        "print(contentPTags)"
      ]
    },
    {
      "cell_type": "markdown",
      "metadata": {
        "id": "-q30EjBVOmbC"
      },
      "source": [
        "Another excursion: Why do we use enumerate() here? enumerate() takes a collection, enumerates, and returns an enumate object with both the numbers and the collection. For example, contentPTags (the collection we used here) is comprised of paragraphs. We want the paragraph number of each paragraph. And this is what enumerate() does: it returns the paragraph number and the paragraph. "
      ]
    },
    {
      "cell_type": "markdown",
      "metadata": {
        "id": "kq15Be4lOmbC"
      },
      "source": [
        "We will be adding these new texts to our DataFrame `contentParagraphsDF` so we\n",
        "will need to add 2 more columns to keep track of paragraph numbers and sources."
      ]
    },
    {
      "cell_type": "code",
      "execution_count": null,
      "metadata": {
        "id": "bTC9HDnnOmbC"
      },
      "outputs": [],
      "source": [
        "contentParagraphsDF['source'] = [wikipedia_content_analysis] * len(contentParagraphsDF['paragraph-text'])\n",
        "contentParagraphsDF['paragraph-number'] = range(len(contentParagraphsDF['paragraph-text']))\n",
        "\n",
        "contentParagraphsDF"
      ]
    },
    {
      "cell_type": "markdown",
      "metadata": {
        "id": "W4gwpoSiOmbC"
      },
      "source": [
        "Then we can add two more columns to our `Dataframe` and define a function to\n",
        "parse\n",
        "each linked page and add its text to our DataFrame."
      ]
    },
    {
      "cell_type": "code",
      "execution_count": null,
      "metadata": {
        "id": "x4bPl7pHOmbD"
      },
      "outputs": [],
      "source": [
        "contentParagraphsDF['source-paragraph-number'] = [None] * len(contentParagraphsDF['paragraph-text'])\n",
        "contentParagraphsDF['source-paragraph-text'] = [None] * len(contentParagraphsDF['paragraph-text'])\n",
        "\n",
        "def getTextFromWikiPage(targetURL, sourceParNum, sourceText):\n",
        "    #Make a dict to store data before adding it to the DataFrame\n",
        "    parsDict = {'source' : [], 'paragraph-number' : [], 'paragraph-text' : [], 'source-paragraph-number' : [],  'source-paragraph-text' : []}\n",
        "    #Now we get the page\n",
        "    r = requests.get(targetURL)\n",
        "    soup = bs4.BeautifulSoup(r.text, 'html.parser')\n",
        "    #enumerating gives use the paragraph number\n",
        "    for parNum, pTag in enumerate(soup.body.findAll('p')):\n",
        "        #same regex as before\n",
        "        parsDict['paragraph-text'].append(re.sub(r'\\[\\d+\\]', '', pTag.text))\n",
        "        parsDict['paragraph-number'].append(parNum)\n",
        "        parsDict['source'].append(targetURL)\n",
        "        parsDict['source-paragraph-number'].append(sourceParNum)\n",
        "        parsDict['source-paragraph-text'].append(sourceText)\n",
        "    return pandas.DataFrame(parsDict)"
      ]
    },
    {
      "cell_type": "markdown",
      "metadata": {
        "id": "06YOrHrSOmbD"
      },
      "source": [
        "And run it on our list of link tags"
      ]
    },
    {
      "cell_type": "code",
      "execution_count": null,
      "metadata": {
        "id": "R_H3t8gtOmbD"
      },
      "outputs": [],
      "source": [
        "for urlTuple in otherPAgeURLS[:3]:\n",
        "    #ignore_index means the indices will not be reset after each append\n",
        "    contentParagraphsDF = contentParagraphsDF.append(getTextFromWikiPage(*urlTuple),ignore_index=True)\n",
        "contentParagraphsDF"
      ]
    },
    {
      "cell_type": "markdown",
      "metadata": {
        "id": "JFgBxV4LOmbD"
      },
      "source": [
        "\n",
        "# <font color=\"red\">Exercise 2</font>\n",
        "<font color=\"red\">Construct cells immediately below this that spider webcontent from another site with content relating to your anticipated final project. Specifically, identify urls on a core page, then follow and extract content from them into a pandas `Dataframe`. In addition, demonstrate a *recursive* spider, which follows more than one level of links (i.e., follows links from a site, then follows links on followed sites to new sites, etc.), making sure to define a reasonable endpoint so that you do not wander the web forever :-).</font>\n",
        "\n"
      ]
    },
    {
      "cell_type": "markdown",
      "source": [
        "Scrape billboard article in the category of rap and hip hop.\n",
        "starting url = 'https://www.billboard.com/music/rb-hip-hop/kanye-west-the-game-eazy-song-stream-1235019574/'"
      ],
      "metadata": {
        "id": "Vl6tn1armSoi"
      }
    },
    {
      "cell_type": "code",
      "source": [
        "from queue import Queue\n",
        "\n",
        "#base_url = 'https://www.billboard.com'\n",
        "start_url = 'https://www.billboard.com/music/rb-hip-hop/kanye-west-the-game-eazy-song-stream-1235019574/'"
      ],
      "metadata": {
        "id": "E1r0gdbXrARf"
      },
      "execution_count": null,
      "outputs": []
    },
    {
      "cell_type": "code",
      "source": [
        "def spider_billboard(dic, q):\n",
        "    base_url = 'https://www.billboard.com'\n",
        "    if not q.empty():\n",
        "      link = q.get()\n",
        "    else:\n",
        "      print('No link in Queue')\n",
        "      return dic, q\n",
        "    try:\n",
        "      r = requests.get(link)\n",
        "    except:\n",
        "      try:\n",
        "        r = requests.get(base_url + link)\n",
        "      except:\n",
        "        print('Cannot get link:', link)\n",
        "        return dic, links\n",
        "    soup = bs4.BeautifulSoup(r.text, 'html.parser')\n",
        "    pTags = soup.body.find_all('p', class_ = False)\n",
        "    linkTags = soup.find_all(href = re.compile('music-news'))\n",
        "    for l in linkTags:\n",
        "      q.put(l.get('href'))\n",
        "      if q.full():\n",
        "        break\n",
        "    dic['link'].append(link) \n",
        "    dic['title'].append(soup.find('title').text)\n",
        "    article = ''\n",
        "    for pTag in pTags:\n",
        "      #print(pTag.findAll('div', class_ = re.compile(\"article-related-artists*\")))\n",
        "      if len(pTag.findAll('div', class_ = [\"admz\", re.compile(\"article-related-artists*\"), re.compile(\"injected-related-story*\")])) > 0:\n",
        "          continue\n",
        "      text = pTag.text\n",
        "      re.sub(r'\\n', '', text)\n",
        "      article += text\n",
        "    dic['article'].append(article)\n",
        "    return dic, q"
      ],
      "metadata": {
        "id": "Ru_YGVDllzjn"
      },
      "execution_count": null,
      "outputs": []
    },
    {
      "cell_type": "code",
      "source": [
        "dic = {'link':[], 'title': [], 'article':[]}\n",
        "q = Queue(maxsize = 7)\n",
        "q.put(start_url)\n",
        "for i in range(7):\n",
        "    spider_billboard(dic, q)\n",
        "dic"
      ],
      "metadata": {
        "colab": {
          "base_uri": "https://localhost:8080/"
        },
        "id": "yZIdLyQsroYO",
        "outputId": "6adeb4d6-12b2-4a72-85d5-4909395a981a"
      },
      "execution_count": null,
      "outputs": [
        {
          "output_type": "execute_result",
          "data": {
            "text/plain": [
              "{'article': ['Kanye West is getting a few things off his chest with some new music.The 44-year-old rapper and fashion mogul, who now goes by Ye, shared his fiery track “Eazy” with The Game on Friday (Jan. 14). In the nearly four-minute track, Ye unleashes on Saturday Night Live star Pete Davidson, who is dating his estranged wife Kim Kardashian.“God saved me from that crash/ Just so I can beat Pete Davidson’s ass,” Ye spits, referencing his near-fatal car accident in 2002.Referring to himself as “Mr. Narcissist,” Ye also raps that he and Kardashian are having the “best divorce ever.” The reality TV star and shapewear mogul filed for divorce in February 2021.“If we go to court, we’ll go to court together/ Matter of fact, pick up your sis, we’ll go to court together,” he raps.Later in the track, Ye — who recently purchased a house across from Kardashian — seemingly implies that he will have a different parenting style than his soon-to-be former wife. The two share four young children: North, Saint, Chicago and Psalm.“I got love for the nannies, but real family is better/ The cameras watch the kids, y’all stop takin’ the credit,” Ye raps. “Non-custodial dad, I bought the house next door/ What you think the point of really bein’ rich for?”He adds, “Boujee and unruly, y’all need to do some chores/ Rich ass kids, this ain’t yo mama’s house.”Ye also throws in a line about his new romance with Julia Fox. “My new b—- bad, I know Illuminati mad,” the rapper says about the Uncut Gems actress, who he was first spotted with in December.Listen to Ye and The Game’s new song “Eazy” below on Spotify. The track is exclusive to Spotify for the first 24 hours of its release, a Spotify representative confirmed to Billboard.\\xa0',\n",
              "  \"\\xa0\\nA weekly version of the chart — covering activity from Friday to Thursday of each week — can be found here. (function init() { window.onresize = onSprinklrEmbedContainerResize(); })();function isDeviceMobile() {if( /Android|webOS|iPhone|iPad|iPod|BlackBerry|IEMobile|Opera Mini/i.test(navigator.userAgent) ) {return true;}return false;}function onSprinklrEmbedContainerResize() { let width = window.screen.width;if (width < 500 || isDeviceMobile()) {const ratio = 1.92;document.getElementById('sprinklr_embed_iframe').width = window.innerWidth;document.getElementById('sprinklr_embed_iframe').height = window.innerWidth*ratio;document.getElementById('sprinklr_embed_iframe').src = 'https://display.sprinklr.com/pub/8651/YXHiRnjO/1';} else {const ratio = 1.92;document.getElementById('sprinklr_embed_iframe').width = window.innerWidth;document.getElementById('sprinklr_embed_iframe').height = window.innerWidth/ratio;document.getElementById('sprinklr_embed_iframe').src = 'https://display.sprinklr.com/pub/8651/YXIdiX1f/1';}}\",\n",
              "  'Sebastián Yatra‘s “Amor Pasajero” has topped this week’s new music poll.Music fans voted in a poll published Friday (Jan. 7) on Billboard, choosing the 27-year-old Colombian pop star’s sensual single as their favorite new music release of the past week.“Amor Pasajero,” the second single from Yatra’s upcoming album, Dharma, brought in nearly 44% of the vote, beating out new music by The Weeknd (Dawn FM), Lauren Spencer-Smith (“Fingers Crossed”), Gunna (DS4Ever), Maren Morris (“Circles Around This Town”), and others.Produced by hitmakers Andrés Torres and Mauricio Rengifo, “Amor Pasajero” finds Yatra on a rollercoaster of emotions as he comes to terms with a failed relationship. “I’ve returned to the same bar to drink my sorrows away and meet someone that will make me forget you at least for a moment,” he sings.Yatra’s third studio album, Dharma, is scheduled for release on Jan. 28.Placing second on the past week’s tally with 31% of the vote was The Weeknd’s fifth studio album, Dawn FM, which was released with little warning on Jan. 7. The 16-track set features collaborations with Quincy Jones,\\xa0Tyler, the Creator,\\xa0Lil Wayne,\\xa0Oneohtrix Point Never and unexpected appearances from actor and comedian Jim Carrey, who acts as a radio host in between the tracks.See the final results of this week’s new music release poll below.var pd_tags = new Array;pd_tags[\"11011211-src\"]=\"poll-oembed-simple\";\\xa0',\n",
              "  'Ye (formerly known as Kanye West) and The Game are under fire by PETA (People for the Ethical Treatment of Animals) after they posted an image of a skinned monkey to promote their upcoming collaboration.On Thursday (Jan. 13), Ye and The Game posted identical images on Instagram to promote their new song. “MY LIFE WAS NEVER EASY,” they captioned their respective posts.PETA President Ingrid Newkirk gave\\xa0Billboard\\xa0a statement on Friday (Jan. 14) in response to the image the rappers posted on social media: “The photo is reminiscent of the monkeys PETA has found, sometimes heads, sometimes hands, sometimes the whole body, in meat markets around the world and it makes it clear that when you remove the fur you can’t miss that there’s a person in there, that they are fellow primates, and do not belong to us to abuse for any purpose — not in laboratories, roadside zoos, movies, or meat markets.”In a 2018 Billboard\\xa0interview, The Game said he still backed the controversial “Off the Grid” MC following his cringeworthy thoughts about slavery being a “choice” in the viral TMZ interview. “Kanye will always be a friend of mine & although I might not necessarily agree with his views on certain topics, that is what separate us as individuals,” he wrote in an email. The two have a long musical history, including their 2006 collab “Wouldn’t Get Far” and the Ye-produced “Dreams” off of The Game’s 2005 debut album, The Documentary.\\xa0The two were also spotted in the recording studio recently alongside fellow MCs A$AP Rocky and Pusha T as well as football player Antonio Brown, which has been stoking the flames on recent collab rumors.',\n",
              "  'Camila Cabello took a much needed break from cold winter weather and headed south for a trip to the Dominican Republic. The “Don’t Go Yet” singer kept the details of her vacation under wraps, but told her 59 million Instagram followers how her getaway went on Monday (Jan. 10).“I posted no pics because i was hashtag living life but I was in the REPÚBLICA DOMINICANA BABYYYYYY,” the 24-year-old captioned two photos of her posing on a boat in a black two-piece bathing suit as the sun set. “VAMO A UN TETEOOOOOO,” she added, which translates to “Let’s go to a wild party.”Cabello continued her vacation, but traded hot temperatures and the beach for a snowy climate. The three-time Grammy nominee shared a second set of getaway photos of her in Montana enjoying cabin life, mountain terrain and horse rides. “On my \\xa0@isa.paige s–t,” she wrote, referring to popular nature YouTuber Isabel Paige.Though Cabello is on a break, she promised fans that her third album, Familia, will be arriving soon. “Feliz año nuevo!” Camila\\xa0shared via Instagram on New Year’s Eve. “Can’t wait to give you guys my/our next album, Familia\\xa0in 2022.”She also spoke with Billboard about what to expect from the upcoming body of work. “This album to me means community, I guess the opposite of you on your own. It’s more you with other people land sharing in that joy and success, whatever that means,” she told Billboard News. “Interdependence realizing how important everybody is in your life. A lot of it is inspired by my relationships: My relationships to my family, my relationship to my friends, my relationship to my partner … it’s all about connections with other people, hence, Familia.“See Cabello’s Instagram post below.',\n",
              "  'The highly anticipated single, “Eazy,” from The Game featuring Kanye “Ye” West finally released in full at 9pm pacific standard time on Friday (Jan. 14) via Spotify. Yet, snippet leaks were popping up all Friday afternoon, as rumors of Ye taking shots at his soon to be ex-wife’s hangout partner, in Saturday Night Live’s Pete Davidson, started to circulate. “God saved me from that crash/Just so I can beat Pete Davidson’s ass…” Kanye is in rare form with the hitter lines.',\n",
              "  \"\\xa0\\nA weekly version of the chart — covering activity from Friday to Thursday of each week — can be found here. (function init() { window.onresize = onSprinklrEmbedContainerResize(); })();function isDeviceMobile() {if( /Android|webOS|iPhone|iPad|iPod|BlackBerry|IEMobile|Opera Mini/i.test(navigator.userAgent) ) {return true;}return false;}function onSprinklrEmbedContainerResize() { let width = window.screen.width;if (width < 500 || isDeviceMobile()) {const ratio = 1.92;document.getElementById('sprinklr_embed_iframe').width = window.innerWidth;document.getElementById('sprinklr_embed_iframe').height = window.innerWidth*ratio;document.getElementById('sprinklr_embed_iframe').src = 'https://display.sprinklr.com/pub/8651/YXHiRnjO/1';} else {const ratio = 1.92;document.getElementById('sprinklr_embed_iframe').width = window.innerWidth;document.getElementById('sprinklr_embed_iframe').height = window.innerWidth/ratio;document.getElementById('sprinklr_embed_iframe').src = 'https://display.sprinklr.com/pub/8651/YXIdiX1f/1';}}\"],\n",
              " 'link': ['https://www.billboard.com/music/rb-hip-hop/kanye-west-the-game-eazy-song-stream-1235019574/',\n",
              "  '/music/music-news/billboard-hot-trending-songs-powered-by-twitter-9649287/',\n",
              "  'https://www.billboard.com/music/music-news/sebastian-yatra-amor-pasajero-best-new-music-1235016969/',\n",
              "  'https://www.billboard.com/music/music-news/kanye-west-the-game-skinned-monkey-photo-peta-response-1235019360/',\n",
              "  'https://www.billboard.com/music/music-news/camila-cabello-bikini-pictures-vacation-1235017613/',\n",
              "  'https://www.vibe.com/music/music-news/the-game-ye-release-eazy-single-1234643465/',\n",
              "  '/music/music-news/billboard-hot-trending-songs-powered-by-twitter-9649287/'],\n",
              " 'title': ['Kanye West Disses Pete Davidson on ‘Eazy’ Song With The Game – Billboard',\n",
              "  'Billboard Hot Trending Songs Powered by Twitter – Billboard',\n",
              "  'Sebastian Yatra’s ‘Amor Pasajero’ Is This Week’s Favorite New Music – Billboard',\n",
              "  'PETA Slams Kanye West, The Game’s Use of Skinned Monkey Photo – Billboard',\n",
              "  'Camila Cabello Shares Bikini Pictures From Her Vacation: See Them – Billboard',\n",
              "  'The Game & Ye Release “Eazy” Single, Pete Davidson Catches A Rib Shot – VIBE.com',\n",
              "  'Billboard Hot Trending Songs Powered by Twitter – Billboard']}"
            ]
          },
          "metadata": {},
          "execution_count": 141
        }
      ]
    },
    {
      "cell_type": "code",
      "source": [
        "df = pd.DataFrame(dic)\n",
        "df"
      ],
      "metadata": {
        "colab": {
          "base_uri": "https://localhost:8080/",
          "height": 269
        },
        "id": "z3pTDisMEzSx",
        "outputId": "aa5cd8ef-60de-40fd-c00d-e3c77c5fa03b"
      },
      "execution_count": null,
      "outputs": [
        {
          "output_type": "execute_result",
          "data": {
            "text/html": [
              "\n",
              "  <div id=\"df-016e8c1b-74a3-44ba-8e75-3c30c5b53109\">\n",
              "    <div class=\"colab-df-container\">\n",
              "      <div>\n",
              "<style scoped>\n",
              "    .dataframe tbody tr th:only-of-type {\n",
              "        vertical-align: middle;\n",
              "    }\n",
              "\n",
              "    .dataframe tbody tr th {\n",
              "        vertical-align: top;\n",
              "    }\n",
              "\n",
              "    .dataframe thead th {\n",
              "        text-align: right;\n",
              "    }\n",
              "</style>\n",
              "<table border=\"1\" class=\"dataframe\">\n",
              "  <thead>\n",
              "    <tr style=\"text-align: right;\">\n",
              "      <th></th>\n",
              "      <th>link</th>\n",
              "      <th>title</th>\n",
              "      <th>article</th>\n",
              "    </tr>\n",
              "  </thead>\n",
              "  <tbody>\n",
              "    <tr>\n",
              "      <th>0</th>\n",
              "      <td>https://www.billboard.com/music/rb-hip-hop/kan...</td>\n",
              "      <td>Kanye West Disses Pete Davidson on ‘Eazy’ Song...</td>\n",
              "      <td>Kanye West is getting a few things off his che...</td>\n",
              "    </tr>\n",
              "    <tr>\n",
              "      <th>1</th>\n",
              "      <td>/music/music-news/billboard-hot-trending-songs...</td>\n",
              "      <td>Billboard Hot Trending Songs Powered by Twitte...</td>\n",
              "      <td>\\nA weekly version of the chart — covering ac...</td>\n",
              "    </tr>\n",
              "    <tr>\n",
              "      <th>2</th>\n",
              "      <td>https://www.billboard.com/music/music-news/seb...</td>\n",
              "      <td>Sebastian Yatra’s ‘Amor Pasajero’ Is This Week...</td>\n",
              "      <td>Sebastián Yatra‘s “Amor Pasajero” has topped t...</td>\n",
              "    </tr>\n",
              "    <tr>\n",
              "      <th>3</th>\n",
              "      <td>https://www.billboard.com/music/music-news/kan...</td>\n",
              "      <td>PETA Slams Kanye West, The Game’s Use of Skinn...</td>\n",
              "      <td>Ye (formerly known as Kanye West) and The Game...</td>\n",
              "    </tr>\n",
              "    <tr>\n",
              "      <th>4</th>\n",
              "      <td>https://www.billboard.com/music/music-news/cam...</td>\n",
              "      <td>Camila Cabello Shares Bikini Pictures From Her...</td>\n",
              "      <td>Camila Cabello took a much needed break from c...</td>\n",
              "    </tr>\n",
              "    <tr>\n",
              "      <th>5</th>\n",
              "      <td>https://www.vibe.com/music/music-news/the-game...</td>\n",
              "      <td>The Game &amp; Ye Release “Eazy” Single, Pete Davi...</td>\n",
              "      <td>The highly anticipated single, “Eazy,” from Th...</td>\n",
              "    </tr>\n",
              "    <tr>\n",
              "      <th>6</th>\n",
              "      <td>/music/music-news/billboard-hot-trending-songs...</td>\n",
              "      <td>Billboard Hot Trending Songs Powered by Twitte...</td>\n",
              "      <td>\\nA weekly version of the chart — covering ac...</td>\n",
              "    </tr>\n",
              "  </tbody>\n",
              "</table>\n",
              "</div>\n",
              "      <button class=\"colab-df-convert\" onclick=\"convertToInteractive('df-016e8c1b-74a3-44ba-8e75-3c30c5b53109')\"\n",
              "              title=\"Convert this dataframe to an interactive table.\"\n",
              "              style=\"display:none;\">\n",
              "        \n",
              "  <svg xmlns=\"http://www.w3.org/2000/svg\" height=\"24px\"viewBox=\"0 0 24 24\"\n",
              "       width=\"24px\">\n",
              "    <path d=\"M0 0h24v24H0V0z\" fill=\"none\"/>\n",
              "    <path d=\"M18.56 5.44l.94 2.06.94-2.06 2.06-.94-2.06-.94-.94-2.06-.94 2.06-2.06.94zm-11 1L8.5 8.5l.94-2.06 2.06-.94-2.06-.94L8.5 2.5l-.94 2.06-2.06.94zm10 10l.94 2.06.94-2.06 2.06-.94-2.06-.94-.94-2.06-.94 2.06-2.06.94z\"/><path d=\"M17.41 7.96l-1.37-1.37c-.4-.4-.92-.59-1.43-.59-.52 0-1.04.2-1.43.59L10.3 9.45l-7.72 7.72c-.78.78-.78 2.05 0 2.83L4 21.41c.39.39.9.59 1.41.59.51 0 1.02-.2 1.41-.59l7.78-7.78 2.81-2.81c.8-.78.8-2.07 0-2.86zM5.41 20L4 18.59l7.72-7.72 1.47 1.35L5.41 20z\"/>\n",
              "  </svg>\n",
              "      </button>\n",
              "      \n",
              "  <style>\n",
              "    .colab-df-container {\n",
              "      display:flex;\n",
              "      flex-wrap:wrap;\n",
              "      gap: 12px;\n",
              "    }\n",
              "\n",
              "    .colab-df-convert {\n",
              "      background-color: #E8F0FE;\n",
              "      border: none;\n",
              "      border-radius: 50%;\n",
              "      cursor: pointer;\n",
              "      display: none;\n",
              "      fill: #1967D2;\n",
              "      height: 32px;\n",
              "      padding: 0 0 0 0;\n",
              "      width: 32px;\n",
              "    }\n",
              "\n",
              "    .colab-df-convert:hover {\n",
              "      background-color: #E2EBFA;\n",
              "      box-shadow: 0px 1px 2px rgba(60, 64, 67, 0.3), 0px 1px 3px 1px rgba(60, 64, 67, 0.15);\n",
              "      fill: #174EA6;\n",
              "    }\n",
              "\n",
              "    [theme=dark] .colab-df-convert {\n",
              "      background-color: #3B4455;\n",
              "      fill: #D2E3FC;\n",
              "    }\n",
              "\n",
              "    [theme=dark] .colab-df-convert:hover {\n",
              "      background-color: #434B5C;\n",
              "      box-shadow: 0px 1px 3px 1px rgba(0, 0, 0, 0.15);\n",
              "      filter: drop-shadow(0px 1px 2px rgba(0, 0, 0, 0.3));\n",
              "      fill: #FFFFFF;\n",
              "    }\n",
              "  </style>\n",
              "\n",
              "      <script>\n",
              "        const buttonEl =\n",
              "          document.querySelector('#df-016e8c1b-74a3-44ba-8e75-3c30c5b53109 button.colab-df-convert');\n",
              "        buttonEl.style.display =\n",
              "          google.colab.kernel.accessAllowed ? 'block' : 'none';\n",
              "\n",
              "        async function convertToInteractive(key) {\n",
              "          const element = document.querySelector('#df-016e8c1b-74a3-44ba-8e75-3c30c5b53109');\n",
              "          const dataTable =\n",
              "            await google.colab.kernel.invokeFunction('convertToInteractive',\n",
              "                                                     [key], {});\n",
              "          if (!dataTable) return;\n",
              "\n",
              "          const docLinkHtml = 'Like what you see? Visit the ' +\n",
              "            '<a target=\"_blank\" href=https://colab.research.google.com/notebooks/data_table.ipynb>data table notebook</a>'\n",
              "            + ' to learn more about interactive tables.';\n",
              "          element.innerHTML = '';\n",
              "          dataTable['output_type'] = 'display_data';\n",
              "          await google.colab.output.renderOutput(dataTable, element);\n",
              "          const docLink = document.createElement('div');\n",
              "          docLink.innerHTML = docLinkHtml;\n",
              "          element.appendChild(docLink);\n",
              "        }\n",
              "      </script>\n",
              "    </div>\n",
              "  </div>\n",
              "  "
            ],
            "text/plain": [
              "                                                link  ...                                            article\n",
              "0  https://www.billboard.com/music/rb-hip-hop/kan...  ...  Kanye West is getting a few things off his che...\n",
              "1  /music/music-news/billboard-hot-trending-songs...  ...   \\nA weekly version of the chart — covering ac...\n",
              "2  https://www.billboard.com/music/music-news/seb...  ...  Sebastián Yatra‘s “Amor Pasajero” has topped t...\n",
              "3  https://www.billboard.com/music/music-news/kan...  ...  Ye (formerly known as Kanye West) and The Game...\n",
              "4  https://www.billboard.com/music/music-news/cam...  ...  Camila Cabello took a much needed break from c...\n",
              "5  https://www.vibe.com/music/music-news/the-game...  ...  The highly anticipated single, “Eazy,” from Th...\n",
              "6  /music/music-news/billboard-hot-trending-songs...  ...   \\nA weekly version of the chart — covering ac...\n",
              "\n",
              "[7 rows x 3 columns]"
            ]
          },
          "metadata": {},
          "execution_count": 144
        }
      ]
    },
    {
      "cell_type": "markdown",
      "metadata": {
        "id": "dXtaSZCkOmbE"
      },
      "source": [
        "## API (Tumblr)\n",
        "\n",
        "Generally website owners do not like you scraping their sites. If done badly,\n",
        "scarping can act like a DOS attack so you should be careful how often you make\n",
        "calls to a site. Some sites want automated tools to access their data, so they\n",
        "create [application programming interface\n",
        "(APIs)](https://en.wikipedia.org/wiki/Application_programming_interface). An API\n",
        "specifies a procedure for an application (or script) to access their data. Often\n",
        "this is though a [representational state transfer\n",
        "(REST)](https://en.wikipedia.org/wiki/Representational_state_transfer) web\n",
        "service, which just means if you make correctly formatted HTTP requests they\n",
        "will return nicely formatted data.\n",
        "\n",
        "A nice example for us to study is [Tumblr](https://www.tumblr.com), they have a\n",
        "[simple RESTful API](https://www.tumblr.com/docs/en/api/v1) that allows you to\n",
        "read posts without any complicated html parsing.\n",
        "\n",
        "We can get the first 20 posts from a blog by making an http GET request to\n",
        "`'http://{blog}.tumblr.com/api/read/json'`, were `{blog}` is the name of the\n",
        "target blog. Lets try and get the posts from [http://lolcats-lol-\n",
        "cat.tumblr.com/](http://lolcats-lol-cat.tumblr.com/) (Note the blog says at the\n",
        "top 'One hour one pic lolcats', but the canonical name that Tumblr uses is in\n",
        "the URL 'lolcats-lol-cat')."
      ]
    },
    {
      "cell_type": "code",
      "execution_count": null,
      "metadata": {
        "id": "MG5_q9A6OmbE",
        "colab": {
          "base_uri": "https://localhost:8080/"
        },
        "outputId": "3486650a-be3c-4caf-9bd5-842953df03db"
      },
      "outputs": [
        {
          "output_type": "stream",
          "name": "stdout",
          "text": [
            "var tumblr_api_read = {\"tumblelog\":{\"title\":\"One hour one pic lolcats\",\"description\":\"\",\"name\":\"lolcats-lol-cat\",\"timezone\":\"Europe\\/Paris\",\"cname\":false,\"feeds\":[]},\"posts-start\":0,\"posts-total\":3925,\"posts-type\":false,\"posts\":[{\"id\":\"662815854023655425\",\"url\":\"https:\\/\\/lolcats-lol-cat.tumblr.com\\/post\\/662815854023655425\",\"url-with-slug\":\"https:\\/\\/lolcats-lol-cat.tumblr.com\\/post\\/662815854023655425\",\"type\":\"photo\",\"date-gmt\":\"2021-09-20 04:00:56 GMT\",\"date\":\"Mon, 20 Sep 2021 06:00:56\",\"bookmarklet\":0,\"mobile\":0,\"feed-item\":\"\",\"from-feed-id\":0,\"unix-timestamp\":1632110456,\"format\":\"html\",\"reblog-key\":\"kjH8cg34\",\"slug\":\"\",\"is-submission\":false,\"like-button\":\"<div class=\\\"like_button\\\" data-post-id=\\\"662815854023655425\\\" data-blog-name=\\\"lolcats-lol-cat\\\" id=\\\"like_button_662815854023655425\\\"><iframe id=\\\"like_iframe_662815854023655425\\\" src=\\\"https:\\/\\/assets.tumblr.com\\/assets\\/html\\/like_iframe.html?_v=66c22ab5319d742bca5762b8d18f9d06#name=lolcats-lol-cat&amp;post_id=66281585402365\n"
          ]
        }
      ],
      "source": [
        "tumblrAPItarget = 'http://{}.tumblr.com/api/read/json'\n",
        "\n",
        "r = requests.get(tumblrAPItarget.format('lolcats-lol-cat'))\n",
        "\n",
        "print(r.text[:1000])"
      ]
    },
    {
      "cell_type": "markdown",
      "metadata": {
        "id": "fUyJcV_BOmbF"
      },
      "source": [
        "This might not look very good on first inspection, but it has far fewer angle\n",
        "braces than html, which makes it easier to parse. What we have is\n",
        "[JSON](https://en.wikipedia.org/wiki/JSON) a 'human readable' text based data\n",
        "transmission format based on javascript. Luckily, we can readily convert it to a\n",
        "python `dict`."
      ]
    },
    {
      "cell_type": "code",
      "execution_count": null,
      "metadata": {
        "id": "NAanoykvOmbF",
        "colab": {
          "base_uri": "https://localhost:8080/"
        },
        "outputId": "e184a22b-e3a2-4964-c0a0-dc8260da48da"
      },
      "outputs": [
        {
          "output_type": "stream",
          "name": "stdout",
          "text": [
            "dict_keys(['tumblelog', 'posts-start', 'posts-total', 'posts-type', 'posts'])\n",
            "20\n"
          ]
        }
      ],
      "source": [
        "#We need to load only the stuff between the curly braces\n",
        "d = json.loads(r.text[len('var tumblr_api_read = '):-2])\n",
        "print(d.keys())\n",
        "print(len(d['posts']))"
      ]
    },
    {
      "cell_type": "markdown",
      "metadata": {
        "id": "qiJMc6rMOmbF"
      },
      "source": [
        "If we read the [API specification](https://www.tumblr.com/docs/en/api/v1), we\n",
        "will see there are a lot of things we can get if we add things to our GET\n",
        "request. First we can retrieve posts by their id number. Let's first get post\n",
        "`146020177084`."
      ]
    },
    {
      "cell_type": "code",
      "execution_count": null,
      "metadata": {
        "id": "BwWjv6WHOmbG"
      },
      "outputs": [],
      "source": [
        "r = requests.get(tumblrAPItarget.format('lolcats-lol-cat'), params = {'id' : 146020177084})\n",
        "d = json.loads(r.text[len('var tumblr_api_read = '):-2])\n",
        "d['posts'][0].keys()\n",
        "d['posts'][0]['photo-url-1280']\n",
        "\n",
        "with open('lolcat.gif', 'wb') as f:\n",
        "    gifRequest = requests.get(d['posts'][0]['photo-url-1280'], stream = True)\n",
        "    f.write(gifRequest.content)"
      ]
    },
    {
      "cell_type": "markdown",
      "metadata": {
        "id": "J3RRqYt-OmbG"
      },
      "source": [
        "## <img src='lolcat.gif'>\n",
        "\n",
        "Such beauty; such vigor (If you can't see it you have to refresh the page). Now\n",
        "we could retrieve the text from all posts as well\n",
        "as related metadata, like the post date, caption or tags. We could also get\n",
        "links to all the images."
      ]
    },
    {
      "cell_type": "code",
      "execution_count": null,
      "metadata": {
        "id": "KM33Tbc4OmbG"
      },
      "outputs": [],
      "source": [
        "#Putting a max in case the blog has millions of images\n",
        "#The given max will be rounded up to the nearest multiple of 50\n",
        "def tumblrImageScrape(blogName, maxImages = 200):\n",
        "    #Restating this here so the function isn't dependent on any external variables\n",
        "    tumblrAPItarget = 'http://{}.tumblr.com/api/read/json'\n",
        "\n",
        "    #There are a bunch of possible locations for the photo url\n",
        "    possiblePhotoSuffixes = [1280, 500, 400, 250, 100]\n",
        "\n",
        "    #These are the pieces of information we will be gathering,\n",
        "    #at the end we will convert this to a DataFrame.\n",
        "    #There are a few other datums we could gather like the captions\n",
        "    #you can read the Tumblr documentation to learn how to get them\n",
        "    #https://www.tumblr.com/docs/en/api/v1\n",
        "    postsData = {\n",
        "        'id' : [],\n",
        "        'photo-url' : [],\n",
        "        'date' : [],\n",
        "        'tags' : [],\n",
        "        'photo-type' : []\n",
        "    }\n",
        "\n",
        "    #Tumblr limits us to a max of 50 posts per request\n",
        "    for requestNum in range(maxImages // 50):\n",
        "        requestParams = {\n",
        "            'start' : requestNum * 50,\n",
        "            'num' : 50,\n",
        "            'type' : 'photo'\n",
        "        }\n",
        "        r = requests.get(tumblrAPItarget.format(blogName), params = requestParams)\n",
        "        requestDict = json.loads(r.text[len('var tumblr_api_read = '):-2])\n",
        "        for postDict in requestDict['posts']:\n",
        "            #We are dealing with uncleaned data, we can't trust it.\n",
        "            #Specifically, not all posts are guaranteed to have the fields we want\n",
        "            try:\n",
        "                postsData['id'].append(postDict['id'])\n",
        "                postsData['date'].append(postDict['date'])\n",
        "                postsData['tags'].append(postDict['tags'])\n",
        "            except KeyError as e:\n",
        "                raise KeyError(\"Post {} from {} is missing: {}\".format(postDict['id'], blogName, e))\n",
        "\n",
        "            foundSuffix = False\n",
        "            for suffix in possiblePhotoSuffixes:\n",
        "                try:\n",
        "                    photoURL = postDict['photo-url-{}'.format(suffix)]\n",
        "                    postsData['photo-url'].append(photoURL)\n",
        "                    postsData['photo-type'].append(photoURL.split('.')[-1])\n",
        "                    foundSuffix = True\n",
        "                    break\n",
        "                except KeyError:\n",
        "                    pass\n",
        "            if not foundSuffix:\n",
        "                #Make sure your error messages are useful\n",
        "                #You will be one of the users\n",
        "                raise KeyError(\"Post {} from {} is missing a photo url\".format(postDict['id'], blogName))\n",
        "\n",
        "    return pandas.DataFrame(postsData)\n",
        "tumblrImageScrape('lolcats-lol-cat', 50)"
      ]
    },
    {
      "cell_type": "markdown",
      "metadata": {
        "id": "CswLIJBZOmbH"
      },
      "source": [
        "Now we have the urls of a bunch of images and can run OCR on them to gather\n",
        "compelling meme narratives, accompanied by cats.\n",
        "\n",
        "# Files\n",
        "\n",
        "What if the text we want isn't on a webpage? There are a many other sources of\n",
        "text available, typically organized into *files*.\n",
        "\n",
        "## Raw text (and encoding)\n",
        "\n",
        "The most basic form of storing text is as a _raw text_ document. Source code\n",
        "(`.py`, `.r`, etc) is usually raw text as are text files (`.txt`) and those with\n",
        "many other extension (e.g., .csv, .dat, etc.). Opening an unknown file with a\n",
        "text editor is often a great way of learning what the file is.\n",
        "\n",
        "We can create a text file in python with the `open()` function"
      ]
    },
    {
      "cell_type": "code",
      "execution_count": null,
      "metadata": {
        "id": "iqMbyp3oOmbH"
      },
      "outputs": [],
      "source": [
        "example_text_file = 'sometextfile.txt'\n",
        "#stringToWrite = 'A line\\nAnother line\\nA line with a few unusual symbols \\u2421 \\u241B \\u20A0 \\u20A1 \\u20A2 \\u20A3 \\u0D60\\n'\n",
        "stringToWrite = 'A line\\nAnother line\\nA line with a few unusual symbols ␡ ␛ ₠ ₡ ₢ ₣ ൠ\\n'\n",
        "\n",
        "with open(example_text_file, mode = 'w', encoding='utf-8') as f:\n",
        "    f.write(stringToWrite)"
      ]
    },
    {
      "cell_type": "markdown",
      "metadata": {
        "id": "9ezVCruFOmbH"
      },
      "source": [
        "Notice the `encoding='utf-8'` argument, which specifies how we map the bits from\n",
        "the file to the glyphs (and whitespace characters like tab (`'\\t'`) or newline\n",
        "(`'\\n'`)) on the screen. When dealing only with latin letters, arabic numerals\n",
        "and the other symbols on America keyboards you usually do not have to worry\n",
        "about encodings as the ones used today are backwards compatible with\n",
        "[ASCII](https://en.wikipedia.org/wiki/ASCII), which gives the binary\n",
        "representation of 128 characters.\n",
        "\n",
        "Some of you, however, will want to use other characters (e.g., Chinese\n",
        "characters). To solve this there is\n",
        "[Unicode](https://en.wikipedia.org/wiki/Unicode) which assigns numbers to\n",
        "symbols, e.g., 041 is `'A'` and 03A3 is `'Σ'` (numbers starting with 0 are\n",
        "hexadecimal). Often non/beyond-ASCII characters are called Unicode characters.\n",
        "Unicode contains 1,114,112 characters, about 10\\% of which have been assigned.\n",
        "Unfortunately there are many ways used to map combinations of bits to Unicode\n",
        "symbols. The ones you are likely to encounter are called by Python _utf-8_,\n",
        "_utf-16_ and _latin-1_. _utf-8_ is the standard for Linux and Mac OS while both\n",
        "_utf-16_ and _latin-1_ are used by windows. If you use the wrong encoding,\n",
        "characters can appear wrong, sometimes change in number or Python could raise an\n",
        "exception. Lets see what happens when we open the file we just created with\n",
        "different encodings."
      ]
    },
    {
      "cell_type": "code",
      "execution_count": null,
      "metadata": {
        "id": "FNSzFZkUOmbI",
        "colab": {
          "base_uri": "https://localhost:8080/"
        },
        "outputId": "aa8e8cbd-83b0-47ae-b75f-097b68d9e776"
      },
      "outputs": [
        {
          "output_type": "stream",
          "name": "stdout",
          "text": [
            "This is with the correct encoding:\n",
            "A line\n",
            "Another line\n",
            "A line with a few unusual symbols ␡ ␛ ₠ ₡ ₢ ₣ ൠ\n",
            "\n",
            "This is with the wrong encoding:\n",
            "A line\n",
            "Another line\n",
            "A line with a few unusual symbols â¡ â â  â¡ â¢ â£ àµ \n",
            "\n"
          ]
        }
      ],
      "source": [
        "with open(example_text_file, encoding='utf-8') as f:\n",
        "    print(\"This is with the correct encoding:\")\n",
        "    print(f.read())\n",
        "\n",
        "with open(example_text_file, encoding='latin-1') as f:\n",
        "    print(\"This is with the wrong encoding:\")\n",
        "    print(f.read())"
      ]
    },
    {
      "cell_type": "markdown",
      "metadata": {
        "id": "bw8ytOqgOmbI"
      },
      "source": [
        "Notice that with _latin-1_ the unicode characters are mixed up and there are too\n",
        "many of them. You need to keep in mind encoding when obtaining text files.\n",
        "Determining the encoding can sometime involve substantial work."
      ]
    },
    {
      "cell_type": "markdown",
      "metadata": {
        "id": "bbfdy4vGOmbI"
      },
      "source": [
        "We can also load many text files at once. Lets start by looking at the Shakespeare files in the `data` directory "
      ]
    },
    {
      "cell_type": "code",
      "execution_count": null,
      "metadata": {
        "id": "sjLJ-XecOmbI"
      },
      "outputs": [],
      "source": [
        "with open('./data/Shakespeare/midsummer_nights_dream.txt') as f:\n",
        "    midsummer = f.read()\n",
        "print(midsummer[-700:])"
      ]
    },
    {
      "cell_type": "markdown",
      "metadata": {
        "id": "mRXmq-UaOmbI"
      },
      "source": [
        "By the way, depending on your working directory, you might get errors such as: [Errno 2] No such file or directory: '../data/Shakespeare/midsummer_nights_dream.txt.' Don't panic, it's nothing, just check your working directory. \n",
        "\n",
        "Then to load all the files in `./data/Shakespeare` we can use a for loop with `scandir`:"
      ]
    },
    {
      "cell_type": "code",
      "execution_count": null,
      "metadata": {
        "id": "21UaeDenOmbJ",
        "colab": {
          "base_uri": "https://localhost:8080/",
          "height": 236
        },
        "outputId": "587eb999-b8c1-4404-b847-38a9cd8164c7"
      },
      "outputs": [
        {
          "output_type": "error",
          "ename": "FileNotFoundError",
          "evalue": "ignored",
          "traceback": [
            "\u001b[0;31m---------------------------------------------------------------------------\u001b[0m",
            "\u001b[0;31mFileNotFoundError\u001b[0m                         Traceback (most recent call last)",
            "\u001b[0;32m<ipython-input-12-b57dc79a7744>\u001b[0m in \u001b[0;36m<module>\u001b[0;34m()\u001b[0m\n\u001b[1;32m      3\u001b[0m \u001b[0mshakespearFileName\u001b[0m \u001b[0;34m=\u001b[0m \u001b[0;34m[\u001b[0m\u001b[0;34m]\u001b[0m\u001b[0;34m\u001b[0m\u001b[0;34m\u001b[0m\u001b[0m\n\u001b[1;32m      4\u001b[0m \u001b[0;34m\u001b[0m\u001b[0m\n\u001b[0;32m----> 5\u001b[0;31m \u001b[0;32mfor\u001b[0m \u001b[0mfile\u001b[0m \u001b[0;32min\u001b[0m \u001b[0;34m(\u001b[0m\u001b[0mfile\u001b[0m \u001b[0;32mfor\u001b[0m \u001b[0mfile\u001b[0m \u001b[0;32min\u001b[0m \u001b[0mos\u001b[0m\u001b[0;34m.\u001b[0m\u001b[0mscandir\u001b[0m\u001b[0;34m(\u001b[0m\u001b[0mtargetDir\u001b[0m\u001b[0;34m)\u001b[0m \u001b[0;32mif\u001b[0m \u001b[0mfile\u001b[0m\u001b[0;34m.\u001b[0m\u001b[0mis_file\u001b[0m\u001b[0;34m(\u001b[0m\u001b[0;34m)\u001b[0m \u001b[0;32mand\u001b[0m \u001b[0;32mnot\u001b[0m \u001b[0mfile\u001b[0m\u001b[0;34m.\u001b[0m\u001b[0mname\u001b[0m\u001b[0;34m.\u001b[0m\u001b[0mstartswith\u001b[0m\u001b[0;34m(\u001b[0m\u001b[0;34m'.'\u001b[0m\u001b[0;34m)\u001b[0m\u001b[0;34m)\u001b[0m\u001b[0;34m:\u001b[0m\u001b[0;34m\u001b[0m\u001b[0;34m\u001b[0m\u001b[0m\n\u001b[0m\u001b[1;32m      6\u001b[0m     \u001b[0;32mwith\u001b[0m \u001b[0mopen\u001b[0m\u001b[0;34m(\u001b[0m\u001b[0mfile\u001b[0m\u001b[0;34m.\u001b[0m\u001b[0mpath\u001b[0m\u001b[0;34m,\u001b[0m \u001b[0mencoding\u001b[0m\u001b[0;34m=\u001b[0m\u001b[0;34m\"utf-8\"\u001b[0m\u001b[0;34m)\u001b[0m \u001b[0;32mas\u001b[0m \u001b[0mf\u001b[0m\u001b[0;34m:\u001b[0m\u001b[0;34m\u001b[0m\u001b[0;34m\u001b[0m\u001b[0m\n\u001b[1;32m      7\u001b[0m         \u001b[0mshakespearText\u001b[0m\u001b[0;34m.\u001b[0m\u001b[0mappend\u001b[0m\u001b[0;34m(\u001b[0m\u001b[0mf\u001b[0m\u001b[0;34m.\u001b[0m\u001b[0mread\u001b[0m\u001b[0;34m(\u001b[0m\u001b[0;34m)\u001b[0m\u001b[0;34m)\u001b[0m\u001b[0;34m\u001b[0m\u001b[0;34m\u001b[0m\u001b[0m\n",
            "\u001b[0;31mFileNotFoundError\u001b[0m: [Errno 2] No such file or directory: './data/Shakespeare'"
          ]
        }
      ],
      "source": [
        "targetDir = './data/Shakespeare' #Change this to your own directory of texts\n",
        "shakespearText = []\n",
        "shakespearFileName = []\n",
        "\n",
        "for file in (file for file in os.scandir(targetDir) if file.is_file() and not file.name.startswith('.')):\n",
        "    with open(file.path, encoding=\"utf-8\") as f:\n",
        "        shakespearText.append(f.read())\n",
        "    shakespearFileName.append(file.name)"
      ]
    },
    {
      "cell_type": "markdown",
      "metadata": {
        "id": "BWWr9-tcOmbJ"
      },
      "source": [
        "Then we can put them all in pandas DataFrame"
      ]
    },
    {
      "cell_type": "code",
      "execution_count": null,
      "metadata": {
        "id": "Knvif7JmOmbJ"
      },
      "outputs": [],
      "source": [
        "shakespear_df = pandas.DataFrame({'text' : shakespearText}, index = shakespearFileName)\n",
        "shakespear_df"
      ]
    },
    {
      "cell_type": "markdown",
      "metadata": {
        "id": "CWKhyCfCOmbJ"
      },
      "source": [
        "Getting your text in a format like this is the first step of most analysis"
      ]
    },
    {
      "cell_type": "markdown",
      "metadata": {
        "id": "V9T2gL7UOmbJ"
      },
      "source": [
        "## PDF\n",
        "\n",
        "Another common way text will be stored is in a PDF file. First we will download\n",
        "a pdf in Python. To do that lets grab a chapter from\n",
        "_Speech and Language Processing_, chapter 21 is on Information Extraction which\n",
        "seems apt. It is stored as a pdf at [https://web.stanford.edu/~jurafsky/slp3/21.\n",
        "pdf](https://web.stanford.edu/~jurafsky/slp3/21.pdf) although we are downloading\n",
        "from a copy just in case Jurafsky changes their website."
      ]
    },
    {
      "cell_type": "code",
      "execution_count": null,
      "metadata": {
        "id": "zv1NpgUkOmbJ",
        "colab": {
          "base_uri": "https://localhost:8080/"
        },
        "outputId": "cd7745a6-c3a0-4a0b-c032-17da6dd093ad"
      },
      "outputs": [
        {
          "output_type": "stream",
          "name": "stdout",
          "text": [
            "%PDF-1.5\n",
            "%����\n",
            "97 0 obj\n",
            "<<\n",
            "/Length 2988      \n",
            "/Filter /FlateDecode\n",
            ">>\n",
            "stream\n",
            "xڝYY��\u0011~�_��T,U�\u0018\u0012����f<{����z\\[)o\u001e(\n",
            "���!�������n��4�J�/b��\u0000\u001a}7�9\u0007�s������o���I�,�|�a�d�\u001b\u0002J��M��y�9?�~<i]\u001cכHE���\t�}�\u001c���e��k\u000b��esp�\u001bߋ�շyS�Jf�\u001b�|�?>��\u0006�׺\u0017�+��y7����==w��8����\u0013\u0004�M<�x�\n",
            "����`?���Q�\u001f*gs�����!���Wn\u001c\u0005\u0010\u0002\u0013)Ϗ�����\u000f�\u0004a�*?p6�\u001bƑ\u00102?��N����wӍq�A�ڽ|h��z�;\u0019%���pƍg�๑���s����\u0014�9��fQ��\u0006�����$����pw��Շ���W[�\u0016��f��{\u001e�M��M�(�M=gã�����l�?��r��s|Ǐ}׏B��o�:E}�\u0013���N\u0006>b�t����{:�M2�\u001d\u0015�I�����\r\u0002߉\u0003�M�Q�k�k�tW�C�6덂\n",
            "�\u001d����\u0005�拍���Y\u001c��o乤�8s\u0019���Fy-��\u0005���g��vGvM ����3���}���[+o�y�\u001b\u0018�\u000fשnٰ|7N\u0012\u00076\u0003U\u001aŽ�f��\u0019��l����D�\u000eD��|[i�n��MY��f�3��W�n`�>���X!~lڧ��>��K�7�\n",
            "�_�d��el\u0007}��g�S�.4:���ve�WƟ�0�.�y���V�\u0010j��\u0018�\u0016���bh��i�)�uW������[\u0007�jGnG�\u0002T,?9�u]\u0013\u000f��-\u00041�s��7e\u0005�\u001d�.��XU%�ޗ5��[��²�؅\u000b���4w�W\u0012��N��淼)��R�MT,�,F4��o�\b>n\r��\u000fP�z\u0013�\u0018��\u0007���s;\n",
            "*��\\��o^=���\u001c���\u0010\u001ad�8��P��P����\u0018@p��^(�&N�[L�d)�H�\u0012����a����\u001awf��\u0011!\u001d�\b�톁�$(dI\u0011f��h�4���\u0015;J,O���X\\�u�$\u000ex\u0006ʗ\r�zx����\u0005�t��|ӎ�\u000e��n\u001d��\u0010�V{�A\u0011v@�Wt:�!bc!*�\u0013��>�\u0014\u000e���΋�@R\u001a�\bQ`��_�A���Aл�y\u001dG+J���z[��\\[G�\u00041-\u0019r��U�m�A�|��'�2\n",
            "309306\n"
          ]
        }
      ],
      "source": [
        "information_extraction_pdf = 'https://github.com/KnowledgeLab/content_analysis/raw/data/21.pdf'\n",
        "\n",
        "infoExtractionRequest = requests.get(information_extraction_pdf, stream = False)\n",
        "print(infoExtractionRequest.text[:1000])\n",
        "print(len(infoExtractionRequest.text))"
      ]
    },
    {
      "cell_type": "markdown",
      "metadata": {
        "id": "pZcS8uBlOmbJ"
      },
      "source": [
        "It says `'pdf'`, so thats a good sign. The rest though looks like we are having\n",
        "issues with an encoding. The random characters are not caused by our encoding\n",
        "being wrong, however. They are cause by there not being an encoding for those\n",
        "parts at all. PDFs are nominally binary files, meaning there are sections of\n",
        "binary that are specific to pdf and nothing else so you need something that\n",
        "knows about pdf to read them. To do that we will be using\n",
        "[`PyPDF2`](https://github.com/mstamy2/PyPDF2), a PDF processing library for\n",
        "Python 3.\n",
        "\n",
        "\n",
        "Because PDFs are a very complicated file format pdfminer requires a large amount\n",
        "of boilerplate code to extract text, we have written a function that takes in an\n",
        "open PDF file and returns the text so you don't have to."
      ]
    },
    {
      "cell_type": "code",
      "execution_count": null,
      "metadata": {
        "id": "G-NK0_u0OmbK"
      },
      "outputs": [],
      "source": [
        "def readPDF(pdfFile):\n",
        "    #Based on code from http://stackoverflow.com/a/20905381/4955164\n",
        "    #Using utf-8, if there are a bunch of random symbols try changing this\n",
        "    codec = 'utf-8'\n",
        "    rsrcmgr = pdfminer.pdfinterp.PDFResourceManager()\n",
        "    retstr = io.StringIO()\n",
        "    layoutParams = pdfminer.layout.LAParams()\n",
        "    device = pdfminer.converter.TextConverter(rsrcmgr, retstr, laparams = layoutParams, codec = codec)\n",
        "    #We need a device and an interpreter\n",
        "    interpreter = pdfminer.pdfinterp.PDFPageInterpreter(rsrcmgr, device)\n",
        "    password = ''\n",
        "    maxpages = 0\n",
        "    caching = True\n",
        "    pagenos=set()\n",
        "    for page in pdfminer.pdfpage.PDFPage.get_pages(pdfFile, pagenos, maxpages=maxpages, password=password,caching=caching, check_extractable=True):\n",
        "        interpreter.process_page(page)\n",
        "    device.close()\n",
        "    returnedString = retstr.getvalue()\n",
        "    retstr.close()\n",
        "    return returnedString"
      ]
    },
    {
      "cell_type": "markdown",
      "metadata": {
        "id": "4z-HjO90OmbK"
      },
      "source": [
        "First we need to take the response object and convert it into a 'file like'\n",
        "object so that pdfminer can read it. To do this we will use `io`'s `BytesIO`."
      ]
    },
    {
      "cell_type": "code",
      "execution_count": null,
      "metadata": {
        "id": "sM0uY2utOmbK"
      },
      "outputs": [],
      "source": [
        "infoExtractionBytes = io.BytesIO(infoExtractionRequest.content)"
      ]
    },
    {
      "cell_type": "markdown",
      "metadata": {
        "id": "stf5WQdeOmbK"
      },
      "source": [
        "Now we can give it to pdfminer."
      ]
    },
    {
      "cell_type": "code",
      "execution_count": null,
      "metadata": {
        "id": "iuUIzn_UOmbK",
        "colab": {
          "base_uri": "https://localhost:8080/"
        },
        "outputId": "f7b19b50-5bb4-4cb1-9db1-11c838a1be05"
      },
      "outputs": [
        {
          "output_type": "stream",
          "name": "stdout",
          "text": [
            "Speech and Language Processing. Daniel Jurafsky & James H. Martin.\n",
            "rights reserved.\n",
            "\n",
            "Draft of November 7, 2016.\n",
            "\n",
            "Copyright c(cid:13) 2016.\n",
            "\n",
            "All\n",
            "\n",
            "CHAPTER\n",
            "\n",
            "21 Information Extraction\n",
            "\n",
            "I am the very model of a modern Major-General,\n",
            "I’ve information vegetable, animal, and mineral,\n",
            "I know the kings of England, and I quote the ﬁghts historical\n",
            "From Marathon to Waterloo, in order categorical...\n",
            "Gilbert and Sullivan, Pirates of Penzance\n",
            "\n",
            "Imagine that you are an analyst with an investment ﬁrm that tracks airline stocks.\n",
            "You’re given the task of determini\n"
          ]
        }
      ],
      "source": [
        "print(readPDF(infoExtractionBytes)[:550])"
      ]
    },
    {
      "cell_type": "markdown",
      "metadata": {
        "id": "-AldBWnAOmbK"
      },
      "source": [
        "From here we can either look at the full text or fiddle with our PDF reader and\n",
        "get more information about individual blocks of text.\n",
        "\n",
        "## Word Docs\n",
        "\n",
        "The other type of document you are likely to encounter is the `.docx`, these are\n",
        "actually a version of [XML](https://en.wikipedia.org/wiki/Office_Open_XML), just\n",
        "like HTML, and like HTML we will use a specialized parser.\n",
        "\n",
        "For this class we will use [`python-docx`](https://python-\n",
        "docx.readthedocs.io/en/latest/) which provides a nice simple interface for\n",
        "reading `.docx` files"
      ]
    },
    {
      "cell_type": "code",
      "execution_count": null,
      "metadata": {
        "id": "HZwVUc8POmbK",
        "colab": {
          "base_uri": "https://localhost:8080/"
        },
        "outputId": "481d3157-aa90-4b2f-f354-7fbd82807684"
      },
      "outputs": [
        {
          "output_type": "stream",
          "name": "stdout",
          "text": [
            "Week 1 - Retreiving and Preparing Text for Machines\n",
            "This week, we begin by \"begging, borrowing and stealing\" text from several contexts of human communication (e.g., PDFs, HTML, Word) and preparing it for machines to \"read\" and analyze. This notebook outlines scraping text from the web, from images, PDF and Word documents. Then we detail \"spidering\" or walking through hyperlinks to build samples of online content, and using APIs, Application Programming Interfaces, provided by webservices to access their content. Along the way, we will use regular expressions, outlined in the reading, to remove unwanted formatting and ornamentation. Finally, we discuss various text encodings, filtering and data structures in which text can be placed for analysis.\n",
            "For this notebook we will be using the following packages:\n",
            "#All these packages need to be installed from pip\n",
            "import requests #for http requests\n",
            "import bs4 #called `beautifulsoup4`, an html parser\n",
            "import pandas #gives us DataFrames\n",
            "import docx #reading MS doc files, install as `python-docx`\n",
            "import PIL.Image #called `pillow`, an image processing library\n",
            "import pytesseract #an interface to Tesseract, you will need Tesseract\n",
            "\n",
            "#Stuff for pdfs\n",
            "#Install as `pdfminer2`\n",
            "import pdfminer.pdfinterp\n",
            "import pdfminer.converter\n",
            "import pdfminer.layout\n",
            "import pdfminer.pdfpage\n",
            "\n",
            "#These come with Python\n",
            "import re #for regexs\n",
            "import urllib.parse #For joining urls\n",
            "import io #for making http requests look like files\n",
            "import json #For Tumblr API responses\n",
            "import os.path #For checking if files exist\n",
            "import os #For making directories\n",
            "We will also be working on the following files/urls\n",
            "wikipedia_base_url = 'https://en.wikipedia.org'\n",
            "wikipedia_content_analysis = 'https://en.wikipedia.org/wiki/Content_analysis'\n",
            "content_analysis_save = 'wikipedia_content_analysis.html'\n",
            "example_text_file = 'sometextfile.txt'\n",
            "information_extraction_pdf = 'https://github.com/KnowledgeLab/content_analysis/raw/data/21.pdf'\n",
            "\n",
            "ocr_file = 'data/tesseractTest.png'\n",
            "Scraping\n"
          ]
        }
      ],
      "source": [
        "example_docx = 'https://github.com/KnowledgeLab/content_analysis/raw/data/example_doc.docx'\n",
        "\n",
        "r = requests.get(example_docx, stream=True)\n",
        "d = docx.Document(io.BytesIO(r.content))\n",
        "for paragraph in d.paragraphs[:7]:\n",
        "    print(paragraph.text)"
      ]
    },
    {
      "cell_type": "markdown",
      "metadata": {
        "id": "Zo8XdsmpOmbL"
      },
      "source": [
        "This procedure uses the `io.BytesIO` class again, since `docx.Document` expects\n",
        "a file. Another way to do it is to save the document to a file and then read it\n",
        "like any other file. If we do this we can either delete the file afterwords, or\n",
        "save it and avoid downloading the following time.\n",
        "\n",
        "This function is useful as a part of many different tasks so it and others like it will be added to the helper package `lucem_illud` so we can use it later without having to retype it."
      ]
    },
    {
      "cell_type": "code",
      "execution_count": null,
      "metadata": {
        "id": "H0LzxTw-OmbL"
      },
      "outputs": [],
      "source": [
        "def downloadIfNeeded(targetURL, outputFile, **openkwargs):\n",
        "    if not os.path.isfile(outputFile):\n",
        "        outputDir = os.path.dirname(outputFile)\n",
        "        #This function is a more general os.mkdir()\n",
        "        if len(outputDir) > 0:\n",
        "            os.makedirs(outputDir, exist_ok = True)\n",
        "        r = requests.get(targetURL, stream=True)\n",
        "        #Using a closure like this is generally better than having to\n",
        "        #remember to close the file. There are ways to make this function\n",
        "        #work as a closure too\n",
        "        with open(outputFile, 'wb') as f:\n",
        "            f.write(r.content)\n",
        "    return open(outputFile, **openkwargs)"
      ]
    },
    {
      "cell_type": "markdown",
      "metadata": {
        "id": "BTtnnzAyOmbL"
      },
      "source": [
        "This function will download, save and open `outputFile` as `outputFile` or just\n",
        "open it if `outputFile` exists. By default `open()` will open the file as read\n",
        "only text with the local encoding, which may cause issues if its not a text\n",
        "file."
      ]
    },
    {
      "cell_type": "code",
      "execution_count": null,
      "metadata": {
        "id": "l4F3q0wpOmbL"
      },
      "outputs": [],
      "source": [
        "try:\n",
        "    d = docx.Document(downloadIfNeeded(example_docx, example_docx_save))\n",
        "except Exception as e:\n",
        "    print(e)"
      ]
    },
    {
      "cell_type": "markdown",
      "metadata": {
        "id": "8jy-hEavOmbL"
      },
      "source": [
        "We need to tell `open()` to read in binary mode (`'rb'`), this is why we added\n",
        "`**openkwargs`, this allows us to pass any keyword arguments (kwargs) from\n",
        "`downloadIfNeeded` to `open()`."
      ]
    },
    {
      "cell_type": "code",
      "execution_count": null,
      "metadata": {
        "id": "V9An1Z_QOmbL"
      },
      "outputs": [],
      "source": [
        "d = docx.Document(downloadIfNeeded(example_docx, example_docx_save, mode = 'rb'))\n",
        "for paragraph in d.paragraphs[:7]:\n",
        "    print(paragraph.text)"
      ]
    },
    {
      "cell_type": "markdown",
      "metadata": {
        "id": "AECbTJunOmbL"
      },
      "source": [
        "Now we can read the file with `docx.Document` and not have to wait for it to be\n",
        "downloaded every time."
      ]
    },
    {
      "cell_type": "markdown",
      "metadata": {
        "id": "V_d35FzzOmbM"
      },
      "source": [
        "\n",
        "# <font color=\"red\">Exercise 3</font>\n",
        "<font color=\"red\">Construct cells immediately below this that extract and organize textual content from text, PDF or Word into a pandas dataframe.</font>\n"
      ]
    },
    {
      "cell_type": "code",
      "source": [
        "import pandas as pd"
      ],
      "metadata": {
        "id": "Y3h6XK4qdUAO"
      },
      "execution_count": null,
      "outputs": []
    },
    {
      "cell_type": "code",
      "source": [
        "dic = {'resume':[], 'name': []}\n",
        "for f in os.listdir():\n",
        "  if 'Resume' in f:\n",
        "    d = docx.Document('Huang Resume 220111.docx')\n",
        "    resume = ''\n",
        "    for p in d.paragraphs:\n",
        "        resume += p.text \n",
        "    dic['resume'].append(resume)\n",
        "    dic['name'].append(f)\n",
        "\n",
        "df = pd.DataFrame(dic)"
      ],
      "metadata": {
        "id": "ItvPyIM_cXVV"
      },
      "execution_count": null,
      "outputs": []
    },
    {
      "cell_type": "code",
      "source": [
        "df\n"
      ],
      "metadata": {
        "colab": {
          "base_uri": "https://localhost:8080/",
          "height": 143
        },
        "id": "9HCoX-c5ZGSB",
        "outputId": "1e6f95db-944e-47ce-f2ea-90facc5ff391"
      },
      "execution_count": null,
      "outputs": [
        {
          "output_type": "execute_result",
          "data": {
            "text/html": [
              "\n",
              "  <div id=\"df-8ac3bcd4-93e1-4326-ada7-0f096e60ebb4\">\n",
              "    <div class=\"colab-df-container\">\n",
              "      <div>\n",
              "<style scoped>\n",
              "    .dataframe tbody tr th:only-of-type {\n",
              "        vertical-align: middle;\n",
              "    }\n",
              "\n",
              "    .dataframe tbody tr th {\n",
              "        vertical-align: top;\n",
              "    }\n",
              "\n",
              "    .dataframe thead th {\n",
              "        text-align: right;\n",
              "    }\n",
              "</style>\n",
              "<table border=\"1\" class=\"dataframe\">\n",
              "  <thead>\n",
              "    <tr style=\"text-align: right;\">\n",
              "      <th></th>\n",
              "      <th>resume</th>\n",
              "      <th>name</th>\n",
              "    </tr>\n",
              "  </thead>\n",
              "  <tbody>\n",
              "    <tr>\n",
              "      <th>0</th>\n",
              "      <td>(Jasmine) Zhuxiao Huang5447 S Harper Ave.  Chi...</td>\n",
              "      <td>Huang Resume 211231.docx</td>\n",
              "    </tr>\n",
              "    <tr>\n",
              "      <th>1</th>\n",
              "      <td>(Jasmine) Zhuxiao Huang5447 S Harper Ave.  Chi...</td>\n",
              "      <td>Huang Resume 220111.docx</td>\n",
              "    </tr>\n",
              "    <tr>\n",
              "      <th>2</th>\n",
              "      <td>(Jasmine) Zhuxiao Huang5447 S Harper Ave.  Chi...</td>\n",
              "      <td>Huang Resume 220102.docx</td>\n",
              "    </tr>\n",
              "  </tbody>\n",
              "</table>\n",
              "</div>\n",
              "      <button class=\"colab-df-convert\" onclick=\"convertToInteractive('df-8ac3bcd4-93e1-4326-ada7-0f096e60ebb4')\"\n",
              "              title=\"Convert this dataframe to an interactive table.\"\n",
              "              style=\"display:none;\">\n",
              "        \n",
              "  <svg xmlns=\"http://www.w3.org/2000/svg\" height=\"24px\"viewBox=\"0 0 24 24\"\n",
              "       width=\"24px\">\n",
              "    <path d=\"M0 0h24v24H0V0z\" fill=\"none\"/>\n",
              "    <path d=\"M18.56 5.44l.94 2.06.94-2.06 2.06-.94-2.06-.94-.94-2.06-.94 2.06-2.06.94zm-11 1L8.5 8.5l.94-2.06 2.06-.94-2.06-.94L8.5 2.5l-.94 2.06-2.06.94zm10 10l.94 2.06.94-2.06 2.06-.94-2.06-.94-.94-2.06-.94 2.06-2.06.94z\"/><path d=\"M17.41 7.96l-1.37-1.37c-.4-.4-.92-.59-1.43-.59-.52 0-1.04.2-1.43.59L10.3 9.45l-7.72 7.72c-.78.78-.78 2.05 0 2.83L4 21.41c.39.39.9.59 1.41.59.51 0 1.02-.2 1.41-.59l7.78-7.78 2.81-2.81c.8-.78.8-2.07 0-2.86zM5.41 20L4 18.59l7.72-7.72 1.47 1.35L5.41 20z\"/>\n",
              "  </svg>\n",
              "      </button>\n",
              "      \n",
              "  <style>\n",
              "    .colab-df-container {\n",
              "      display:flex;\n",
              "      flex-wrap:wrap;\n",
              "      gap: 12px;\n",
              "    }\n",
              "\n",
              "    .colab-df-convert {\n",
              "      background-color: #E8F0FE;\n",
              "      border: none;\n",
              "      border-radius: 50%;\n",
              "      cursor: pointer;\n",
              "      display: none;\n",
              "      fill: #1967D2;\n",
              "      height: 32px;\n",
              "      padding: 0 0 0 0;\n",
              "      width: 32px;\n",
              "    }\n",
              "\n",
              "    .colab-df-convert:hover {\n",
              "      background-color: #E2EBFA;\n",
              "      box-shadow: 0px 1px 2px rgba(60, 64, 67, 0.3), 0px 1px 3px 1px rgba(60, 64, 67, 0.15);\n",
              "      fill: #174EA6;\n",
              "    }\n",
              "\n",
              "    [theme=dark] .colab-df-convert {\n",
              "      background-color: #3B4455;\n",
              "      fill: #D2E3FC;\n",
              "    }\n",
              "\n",
              "    [theme=dark] .colab-df-convert:hover {\n",
              "      background-color: #434B5C;\n",
              "      box-shadow: 0px 1px 3px 1px rgba(0, 0, 0, 0.15);\n",
              "      filter: drop-shadow(0px 1px 2px rgba(0, 0, 0, 0.3));\n",
              "      fill: #FFFFFF;\n",
              "    }\n",
              "  </style>\n",
              "\n",
              "      <script>\n",
              "        const buttonEl =\n",
              "          document.querySelector('#df-8ac3bcd4-93e1-4326-ada7-0f096e60ebb4 button.colab-df-convert');\n",
              "        buttonEl.style.display =\n",
              "          google.colab.kernel.accessAllowed ? 'block' : 'none';\n",
              "\n",
              "        async function convertToInteractive(key) {\n",
              "          const element = document.querySelector('#df-8ac3bcd4-93e1-4326-ada7-0f096e60ebb4');\n",
              "          const dataTable =\n",
              "            await google.colab.kernel.invokeFunction('convertToInteractive',\n",
              "                                                     [key], {});\n",
              "          if (!dataTable) return;\n",
              "\n",
              "          const docLinkHtml = 'Like what you see? Visit the ' +\n",
              "            '<a target=\"_blank\" href=https://colab.research.google.com/notebooks/data_table.ipynb>data table notebook</a>'\n",
              "            + ' to learn more about interactive tables.';\n",
              "          element.innerHTML = '';\n",
              "          dataTable['output_type'] = 'display_data';\n",
              "          await google.colab.output.renderOutput(dataTable, element);\n",
              "          const docLink = document.createElement('div');\n",
              "          docLink.innerHTML = docLinkHtml;\n",
              "          element.appendChild(docLink);\n",
              "        }\n",
              "      </script>\n",
              "    </div>\n",
              "  </div>\n",
              "  "
            ],
            "text/plain": [
              "                                              resume                      name\n",
              "0  (Jasmine) Zhuxiao Huang5447 S Harper Ave.  Chi...  Huang Resume 211231.docx\n",
              "1  (Jasmine) Zhuxiao Huang5447 S Harper Ave.  Chi...  Huang Resume 220111.docx\n",
              "2  (Jasmine) Zhuxiao Huang5447 S Harper Ave.  Chi...  Huang Resume 220102.docx"
            ]
          },
          "metadata": {},
          "execution_count": 38
        }
      ]
    },
    {
      "cell_type": "markdown",
      "source": [
        "# <font color=\"red\">Exercise 4</font>\n",
        "<font color=\"red\">In the two cells immediately following, describe a possible project (e.g., it might end up being your final project, but need not be if you are still searching): __WHAT__ you will analyze--the texts you will select and the social game, world and actors you intend to learn about through your analysis (<100 words); __WHY__ you will analyze these texts to learn about that context--justify the rationale behind your proposed sample design for this project, based on the readings. What is the social game, social work, or social actors about whom you are seeking to make inferences? What are the virtues of your proposed sample with respect to your research questions? What are its limitations? What are alternatives? What would be a reasonable path to \"scale up\" your sample for further analysis (i.e., high-profile publication)? (<150 words)? [__Note__: your individual or collective project will change over the course of the quarter as new data and/or analysis opportunities arise or if old ones fade away.]</font>"
      ],
      "metadata": {
        "id": "ADIgFNpXBi4I"
      }
    },
    {
      "cell_type": "markdown",
      "source": [
        "WHAT - I want to analyze popular music lyrics (music appear on billboard top 100 and spotify data on Kaggle) in the past few decades (1970- 2010). I am especially interested in the semantic shifts of gendered insults in these cultural artifacts. Western popular culture has been heavily criticized for perpetuating hegemonic gender stereotypes. In particular, hip hop music has a bad reputation for violence and misogyny. However, pop cultural critics and scholars have noticed a rise in the \"reappropriation\" of gendered-insults directed towards women. That is, female artists have been using previously pejorative words in non-derogatory manners and purpose, thereby reclaiming their social connotations. \n",
        "\n",
        "\n",
        "WHY - Understanding whether there are large-scale changes in the meanings of gendered insults, quantify such shifts and identify among whom the insults remain stagmatizing is extremely important. Normalized misogyny and populaized sexualization of women can have serious consequences. Multiple lines of research have identified that misogynistic lyrical content and beliefs in traditonal gender roles are reliable predictors of female-directed aggression. Listening to music with pro-equality lyrics, on the other hand, improves attitudes and behaviors towards women. Additionally, consuming sexually objectifying content may lead to self-sexualization and self-objectification, which can have serious negative psychological consequences for women and girls.Gender-directed insult can be read as a direct demonstration of intense emotion such as misogyny towards the recipients. More importantly, gendered derogatory language serves the function of sanctioning actions by both genders that are deviant from socially accepted behaviors. The data from Spotify and Billboard are appropriate source as the songs are deemed popular through listeners' ranking and playlist exposure. A great limitation, however, is that the dataset is not sampled randomly from all the \"popular music\". Furthermore, demographic data of the artists are difficult to acquire. This will limit my ability of understand the effects of race and gender on the usage of sexist vocabularies. To really enhance my analysis, I need to figure out a way to get more representative sample of the \"popular music\" from the time frame that capture meaningful changes in attitudes towards women and the demographic information of the creators of the lyrics."
      ],
      "metadata": {
        "id": "kSfhSiGmBmGc"
      }
    },
    {
      "cell_type": "markdown",
      "metadata": {
        "id": "Bwyfg2yrOmbM"
      },
      "source": [
        "### Other sources:\n",
        "\n",
        "Other popular sources for internet data:\n",
        "\n",
        "[reddit](https://www.reddit.com/) - https://praw.readthedocs.io/en/v2.1.21/\n",
        "\n",
        "[twitter](https://twitter.com/) - https://pypi.org/project/python-twitter/\n",
        "\n",
        "[project gutenburg](https://www.gutenberg.org/) - https://github.com/ageitgey/Gutenberg \n",
        "\n"
      ]
    }
  ],
  "metadata": {
    "kernelspec": {
      "display_name": "Python 3 (ipykernel)",
      "language": "python",
      "name": "python3"
    },
    "language_info": {
      "codemirror_mode": {
        "name": "ipython",
        "version": 3
      },
      "file_extension": ".py",
      "mimetype": "text/x-python",
      "name": "python",
      "nbconvert_exporter": "python",
      "pygments_lexer": "ipython3",
      "version": "3.9.7"
    },
    "colab": {
      "name": "jasminehuang_1-Measuring-Meaning-and-Sampling.ipynb",
      "provenance": [],
      "collapsed_sections": [
        "Bwyfg2yrOmbM"
      ],
      "toc_visible": true
    }
  },
  "nbformat": 4,
  "nbformat_minor": 0
}