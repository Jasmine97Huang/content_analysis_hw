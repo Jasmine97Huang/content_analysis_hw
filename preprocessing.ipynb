{
  "cells": [
    {
      "cell_type": "markdown",
      "metadata": {
        "id": "view-in-github",
        "colab_type": "text"
      },
      "source": [
        "<a href=\"https://colab.research.google.com/github/Jasmine97Huang/content_analysis_hw/blob/main/preprocessing.ipynb\" target=\"_parent\"><img src=\"https://colab.research.google.com/assets/colab-badge.svg\" alt=\"Open In Colab\"/></a>"
      ]
    },
    {
      "cell_type": "markdown",
      "metadata": {
        "id": "7C0EoouuXSEk"
      },
      "source": [
        "# Packages"
      ]
    },
    {
      "cell_type": "code",
      "execution_count": null,
      "metadata": {
        "id": "HIVhC2zjqpWE"
      },
      "outputs": [],
      "source": [
        "%load_ext autoreload\n",
        "%autoreload 2"
      ]
    },
    {
      "cell_type": "code",
      "execution_count": null,
      "metadata": {
        "colab": {
          "base_uri": "https://localhost:8080/"
        },
        "id": "z7Mi5IxphFLR",
        "outputId": "b3e89628-4711-4b74-c9c3-bc0615e6ebb6"
      },
      "outputs": [
        {
          "name": "stdout",
          "output_type": "stream",
          "text": [
            "Collecting recordlinkage\n",
            "  Downloading recordlinkage-0.14-py3-none-any.whl (944 kB)\n",
            "\u001b[K     |████████████████████████████████| 944 kB 4.2 MB/s \n",
            "\u001b[?25hRequirement already satisfied: scikit-learn>=0.19.0 in /usr/local/lib/python3.7/dist-packages (from recordlinkage) (1.0.2)\n",
            "Requirement already satisfied: joblib in /usr/local/lib/python3.7/dist-packages (from recordlinkage) (1.1.0)\n",
            "Requirement already satisfied: numpy>=1.13.0 in /usr/local/lib/python3.7/dist-packages (from recordlinkage) (1.21.5)\n",
            "Requirement already satisfied: scipy>=1 in /usr/local/lib/python3.7/dist-packages (from recordlinkage) (1.4.1)\n",
            "Requirement already satisfied: pandas>=0.23 in /usr/local/lib/python3.7/dist-packages (from recordlinkage) (1.3.5)\n",
            "Collecting jellyfish>=0.5.4\n",
            "  Downloading jellyfish-0.9.0.tar.gz (132 kB)\n",
            "\u001b[K     |████████████████████████████████| 132 kB 59.1 MB/s \n",
            "\u001b[?25hRequirement already satisfied: python-dateutil>=2.7.3 in /usr/local/lib/python3.7/dist-packages (from pandas>=0.23->recordlinkage) (2.8.2)\n",
            "Requirement already satisfied: pytz>=2017.3 in /usr/local/lib/python3.7/dist-packages (from pandas>=0.23->recordlinkage) (2018.9)\n",
            "Requirement already satisfied: six>=1.5 in /usr/local/lib/python3.7/dist-packages (from python-dateutil>=2.7.3->pandas>=0.23->recordlinkage) (1.15.0)\n",
            "Requirement already satisfied: threadpoolctl>=2.0.0 in /usr/local/lib/python3.7/dist-packages (from scikit-learn>=0.19.0->recordlinkage) (3.1.0)\n",
            "Building wheels for collected packages: jellyfish\n",
            "  Building wheel for jellyfish (setup.py) ... \u001b[?25l\u001b[?25hdone\n",
            "  Created wheel for jellyfish: filename=jellyfish-0.9.0-cp37-cp37m-linux_x86_64.whl size=73975 sha256=0a0e82e5f6513a91cdb8ae2a2d57b1a9b40ec694e215d0e9208fd7f2bff0feca\n",
            "  Stored in directory: /root/.cache/pip/wheels/fe/99/4e/646ce766df0d070b0ef04db27aa11543e2767fda3075aec31b\n",
            "Successfully built jellyfish\n",
            "Installing collected packages: jellyfish, recordlinkage\n",
            "Successfully installed jellyfish-0.9.0 recordlinkage-0.14\n"
          ]
        }
      ],
      "source": [
        "!pip install recordlinkage"
      ]
    },
    {
      "cell_type": "code",
      "execution_count": null,
      "metadata": {
        "id": "jyIOhnT9htoN",
        "colab": {
          "base_uri": "https://localhost:8080/",
          "height": 357
        },
        "outputId": "5d74292c-c9e8-4402-8694-8ae8952ccf30"
      },
      "outputs": [
        {
          "output_type": "error",
          "ename": "ModuleNotFoundError",
          "evalue": "ignored",
          "traceback": [
            "\u001b[0;31m---------------------------------------------------------------------------\u001b[0m",
            "\u001b[0;31mModuleNotFoundError\u001b[0m                       Traceback (most recent call last)",
            "\u001b[0;32m<ipython-input-2-45e4a39311e9>\u001b[0m in \u001b[0;36m<module>\u001b[0;34m()\u001b[0m\n\u001b[1;32m      8\u001b[0m \u001b[0;31m#import ppmi\u001b[0m\u001b[0;34m\u001b[0m\u001b[0;34m\u001b[0m\u001b[0;34m\u001b[0m\u001b[0m\n\u001b[1;32m      9\u001b[0m \u001b[0;32mimport\u001b[0m \u001b[0mregex\u001b[0m \u001b[0;32mas\u001b[0m \u001b[0mre\u001b[0m\u001b[0;34m\u001b[0m\u001b[0;34m\u001b[0m\u001b[0m\n\u001b[0;32m---> 10\u001b[0;31m \u001b[0;32mfrom\u001b[0m \u001b[0mrecordlinkage\u001b[0m\u001b[0;34m.\u001b[0m\u001b[0mpreprocessing\u001b[0m \u001b[0;32mimport\u001b[0m \u001b[0mclean\u001b[0m\u001b[0;34m\u001b[0m\u001b[0;34m\u001b[0m\u001b[0m\n\u001b[0m\u001b[1;32m     11\u001b[0m \u001b[0;32mimport\u001b[0m \u001b[0mrecordlinkage\u001b[0m\u001b[0;34m\u001b[0m\u001b[0;34m\u001b[0m\u001b[0m\n",
            "\u001b[0;31mModuleNotFoundError\u001b[0m: No module named 'recordlinkage'",
            "",
            "\u001b[0;31m---------------------------------------------------------------------------\u001b[0;32m\nNOTE: If your import is failing due to a missing package, you can\nmanually install dependencies using either !pip or !apt.\n\nTo view examples of installing some common dependencies, click the\n\"Open Examples\" button below.\n\u001b[0;31m---------------------------------------------------------------------------\u001b[0m\n"
          ],
          "errorDetails": {
            "actions": [
              {
                "action": "open_url",
                "actionText": "Open Examples",
                "url": "/notebooks/snippets/importing_libraries.ipynb"
              }
            ]
          }
        }
      ],
      "source": [
        "import pandas as pd\n",
        "import matplotlib.pyplot as plt\n",
        "import seaborn as sns\n",
        "import gensim \n",
        "from gensim import models\n",
        "import numpy as np\n",
        "import nltk\n",
        "#import ppmi\n",
        "import regex as re\n",
        "from recordlinkage.preprocessing import clean\n",
        "import recordlinkage"
      ]
    },
    {
      "cell_type": "markdown",
      "metadata": {
        "id": "ytNTQBppkE_9"
      },
      "source": [
        "# Load, clean and explore datasets"
      ]
    },
    {
      "cell_type": "markdown",
      "metadata": {
        "id": "R_2yizq0Xc5C"
      },
      "source": [
        "## Billboard & Spotify Data"
      ]
    },
    {
      "cell_type": "code",
      "execution_count": null,
      "metadata": {
        "id": "Gqaol7mOUQI-",
        "outputId": "7e8e8ce3-8b9d-4807-b473-06d27313a361"
      },
      "outputs": [
        {
          "data": {
            "text/plain": [
              "'/Users/hzx/Desktop/MACSThesis/code'"
            ]
          },
          "execution_count": 51,
          "metadata": {},
          "output_type": "execute_result"
        }
      ],
      "source": [
        "import os\n",
        "os.getcwd()"
      ]
    },
    {
      "cell_type": "code",
      "execution_count": null,
      "metadata": {
        "id": "-5UaE_kzhtoO"
      },
      "outputs": [],
      "source": [
        "data = pd.read_csv(\"spotify_songs.csv\",engine= \"python\") #dataset was scraped by used in the TidyTeusday project and the lyrics are scraped by Muhammad Nahkaee\n",
        "#available on Kaggle https://www.kaggle.com/imuhammad/audio-features-and-lyrics-of-spotify-songs"
      ]
    },
    {
      "cell_type": "code",
      "execution_count": null,
      "metadata": {
        "colab": {
          "base_uri": "https://localhost:8080/"
        },
        "id": "u4Cb6Aq-htoP",
        "outputId": "566eaa59-67fb-4247-fd41-1cf5f0004f1d"
      },
      "outputs": [
        {
          "data": {
            "text/plain": [
              "Index(['track_id', 'track_name', 'track_artist', 'lyrics', 'track_popularity',\n",
              "       'track_album_id', 'track_album_name', 'track_album_release_date',\n",
              "       'playlist_name', 'playlist_id', 'playlist_genre', 'playlist_subgenre',\n",
              "       'danceability', 'energy', 'key', 'loudness', 'mode', 'speechiness',\n",
              "       'acousticness', 'instrumentalness', 'liveness', 'valence', 'tempo',\n",
              "       'duration_ms', 'language'],\n",
              "      dtype='object')"
            ]
          },
          "execution_count": 4,
          "metadata": {},
          "output_type": "execute_result"
        }
      ],
      "source": [
        "data.columns"
      ]
    },
    {
      "cell_type": "code",
      "execution_count": null,
      "metadata": {
        "colab": {
          "base_uri": "https://localhost:8080/"
        },
        "id": "1YOAaERHhtoR",
        "outputId": "5af4dc37-0871-403e-d824-f4b4dd09104d"
      },
      "outputs": [
        {
          "data": {
            "text/plain": [
              "260"
            ]
          },
          "execution_count": 5,
          "metadata": {},
          "output_type": "execute_result"
        }
      ],
      "source": [
        "sum(data.lyrics.isna())"
      ]
    },
    {
      "cell_type": "code",
      "execution_count": null,
      "metadata": {
        "colab": {
          "base_uri": "https://localhost:8080/"
        },
        "id": "lnOgb4_cJ9HJ",
        "outputId": "4eac513c-ece8-4e17-9621-a8836861d2b1"
      },
      "outputs": [
        {
          "data": {
            "text/plain": [
              "0"
            ]
          },
          "execution_count": 6,
          "metadata": {},
          "output_type": "execute_result"
        }
      ],
      "source": [
        "sum(data.track_popularity.isna())"
      ]
    },
    {
      "cell_type": "code",
      "execution_count": null,
      "metadata": {
        "colab": {
          "base_uri": "https://localhost:8080/"
        },
        "id": "gMl0XP9ehtoS",
        "outputId": "17d115fa-99dc-4782-8248-da3a546de1b2"
      },
      "outputs": [
        {
          "data": {
            "text/plain": [
              "3049"
            ]
          },
          "execution_count": 55,
          "metadata": {},
          "output_type": "execute_result"
        }
      ],
      "source": [
        "sum(data.language != 'en') # drop over 3000 songs not in english"
      ]
    },
    {
      "cell_type": "code",
      "execution_count": null,
      "metadata": {
        "id": "kO7nSFmRhtoS"
      },
      "outputs": [],
      "source": [
        "selected_cols = ['track_name', 'track_artist', 'lyrics', 'track_album_name', 'track_album_release_date', 'track_popularity', 'playlist_genre', 'playlist_subgenre']"
      ]
    },
    {
      "cell_type": "code",
      "execution_count": null,
      "metadata": {
        "id": "OzJ0EEvChtoS"
      },
      "outputs": [],
      "source": [
        "data= data.loc[ (~data.lyrics.isna()) & (data.language == 'en')][selected_cols]"
      ]
    },
    {
      "cell_type": "code",
      "execution_count": null,
      "metadata": {
        "colab": {
          "base_uri": "https://localhost:8080/"
        },
        "id": "_nN0STyIXJUO",
        "outputId": "4e13bff9-a44f-469f-9669-4c5c77890b41"
      },
      "outputs": [
        {
          "name": "stdout",
          "output_type": "stream",
          "text": [
            "<class 'pandas.core.frame.DataFrame'>\n",
            "Int64Index: 15405 entries, 1 to 18452\n",
            "Data columns (total 8 columns):\n",
            " #   Column                    Non-Null Count  Dtype \n",
            "---  ------                    --------------  ----- \n",
            " 0   track_name                15405 non-null  object\n",
            " 1   track_artist              15405 non-null  object\n",
            " 2   lyrics                    15405 non-null  object\n",
            " 3   track_album_name          15405 non-null  object\n",
            " 4   track_album_release_date  15405 non-null  object\n",
            " 5   track_popularity          15405 non-null  int64 \n",
            " 6   playlist_genre            15405 non-null  object\n",
            " 7   playlist_subgenre         15405 non-null  object\n",
            "dtypes: int64(1), object(7)\n",
            "memory usage: 1.1+ MB\n"
          ]
        }
      ],
      "source": [
        "data.info()"
      ]
    },
    {
      "cell_type": "code",
      "execution_count": null,
      "metadata": {
        "colab": {
          "base_uri": "https://localhost:8080/",
          "height": 282
        },
        "id": "pOw-8FPnhtoT",
        "outputId": "cd1fe468-232b-4a73-a6cc-95ca10b1c617"
      },
      "outputs": [
        {
          "data": {
            "text/plain": [
              "<AxesSubplot:>"
            ]
          },
          "execution_count": 58,
          "metadata": {},
          "output_type": "execute_result"
        },
        {
          "data": {
            "image/png": "[encoded data removed]",
            "text/plain": [
              "<Figure size 432x288 with 1 Axes>"
            ]
          },
          "metadata": {},
          "output_type": "display_data"
        }
      ],
      "source": [
        "data['track_artist'].value_counts().head(10).plot(kind='barh')"
      ]
    },
    {
      "cell_type": "code",
      "execution_count": null,
      "metadata": {
        "colab": {
          "base_uri": "https://localhost:8080/",
          "height": 282
        },
        "id": "wWLwQQNVhtoU",
        "outputId": "05b47e05-61de-41a0-eadb-62a2a0bb0024"
      },
      "outputs": [
        {
          "data": {
            "text/plain": [
              "<AxesSubplot:>"
            ]
          },
          "execution_count": 59,
          "metadata": {},
          "output_type": "execute_result"
        },
        {
          "data": {
            "image/png": "[encoded data removed]",
            "text/plain": [
              "<Figure size 432x288 with 1 Axes>"
            ]
          },
          "metadata": {},
          "output_type": "display_data"
        }
      ],
      "source": [
        "data['playlist_genre'].value_counts().head(10).plot(kind='barh')"
      ]
    },
    {
      "cell_type": "code",
      "execution_count": null,
      "metadata": {
        "colab": {
          "base_uri": "https://localhost:8080/",
          "height": 333
        },
        "id": "b2SbiSG4htoV",
        "outputId": "9c042a23-fab7-409f-d1a3-641f6067fe05"
      },
      "outputs": [
        {
          "data": {
            "text/plain": [
              "(array([2732.,  836.,  956., 1634., 2225., 2671., 2463., 1505.,  343.,\n",
              "          40.]),\n",
              " array([  0.,  10.,  20.,  30.,  40.,  50.,  60.,  70.,  80.,  90., 100.]),\n",
              " <BarContainer object of 10 artists>)"
            ]
          },
          "execution_count": 60,
          "metadata": {},
          "output_type": "execute_result"
        },
        {
          "data": {
            "image/png": "[encoded data removed]",
            "text/plain": [
              "<Figure size 432x288 with 1 Axes>"
            ]
          },
          "metadata": {},
          "output_type": "display_data"
        }
      ],
      "source": [
        "plt.hist(data['track_popularity'])"
      ]
    },
    {
      "cell_type": "code",
      "execution_count": null,
      "metadata": {
        "id": "rGAfqjBlhtoW"
      },
      "outputs": [],
      "source": [
        "data['year'] = pd.to_datetime(data['track_album_release_date']).dt.year"
      ]
    },
    {
      "cell_type": "code",
      "execution_count": null,
      "metadata": {
        "colab": {
          "base_uri": "https://localhost:8080/",
          "height": 350
        },
        "id": "Gt0OzoG1htoX",
        "outputId": "88e995c5-6852-439e-87d8-68f535f6cd67"
      },
      "outputs": [
        {
          "data": {
            "text/plain": [
              "(array([   9.,  113.,  382.,  524.,  592.,  805., 1273., 1484., 2235.,\n",
              "        7988.]),\n",
              " array([1957. , 1963.3, 1969.6, 1975.9, 1982.2, 1988.5, 1994.8, 2001.1,\n",
              "        2007.4, 2013.7, 2020. ]),\n",
              " <BarContainer object of 10 artists>)"
            ]
          },
          "execution_count": 62,
          "metadata": {},
          "output_type": "execute_result"
        },
        {
          "data": {
            "image/png": "[encoded data removed]",
            "text/plain": [
              "<Figure size 432x288 with 1 Axes>"
            ]
          },
          "metadata": {},
          "output_type": "display_data"
        }
      ],
      "source": [
        "plt.hist(data['year'])"
      ]
    },
    {
      "cell_type": "code",
      "execution_count": null,
      "metadata": {
        "colab": {
          "base_uri": "https://localhost:8080/"
        },
        "id": "mKl8lmwKhtoX",
        "outputId": "f6c98ce4-4ad1-4b6f-d4f4-56d02b5cec9d"
      },
      "outputs": [
        {
          "data": {
            "text/plain": [
              "1958     1\n",
              "1957     2\n",
              "1960     3\n",
              "1963     3\n",
              "1964     7\n",
              "1965     7\n",
              "1966    13\n",
              "1968    17\n",
              "1967    29\n",
              "1969    40\n",
              "Name: year, dtype: int64"
            ]
          },
          "execution_count": 15,
          "metadata": {},
          "output_type": "execute_result"
        }
      ],
      "source": [
        "data['year'].value_counts().sort_values().head(10) #data imbalance"
      ]
    },
    {
      "cell_type": "code",
      "execution_count": null,
      "metadata": {
        "colab": {
          "base_uri": "https://localhost:8080/"
        },
        "id": "Y_Zo-T9XXdrj",
        "outputId": "04beffdb-26de-432a-8d57-eb1d577d41e2"
      },
      "outputs": [
        {
          "data": {
            "text/plain": [
              "2020"
            ]
          },
          "execution_count": 17,
          "metadata": {},
          "output_type": "execute_result"
        }
      ],
      "source": [
        "np.max(data['year'])"
      ]
    },
    {
      "cell_type": "code",
      "execution_count": null,
      "metadata": {
        "colab": {
          "base_uri": "https://localhost:8080/"
        },
        "id": "3WhkS0HhXnVv",
        "outputId": "90fda287-8127-4e7e-bfcb-56a57704f1f3"
      },
      "outputs": [
        {
          "data": {
            "text/plain": [
              "1957"
            ]
          },
          "execution_count": 19,
          "metadata": {},
          "output_type": "execute_result"
        }
      ],
      "source": [
        "np.min(data['year'])"
      ]
    },
    {
      "cell_type": "code",
      "execution_count": null,
      "metadata": {
        "id": "qCWk1NL8htoY"
      },
      "outputs": [],
      "source": [
        "## music in the dataset are mostly 2010-2020 songs. Below I will add Billboard hot 100 dataset into this s"
      ]
    },
    {
      "cell_type": "code",
      "execution_count": null,
      "metadata": {
        "id": "VnzKEu0ehtoY"
      },
      "outputs": [],
      "source": [
        "billboard = pd.read_csv('billboard_og.csv', index_col = 0)\n",
        "billboard.drop([4, 1958, 2299, 2433], inplace =True) #remove the 4 lyrics that are not found\n",
        "billboard.reset_index(drop = True, inplace = True)\n",
        "billboard"
      ]
    },
    {
      "cell_type": "code",
      "execution_count": null,
      "metadata": {
        "colab": {
          "base_uri": "https://localhost:8080/"
        },
        "id": "zzXoRWkVhtoZ",
        "outputId": "d561f940-d851-42f3-a79f-c93bbea1ff34"
      },
      "outputs": [
        {
          "data": {
            "text/plain": [
              "Index(['lyrics', 'num_syllables', 'pos', 'year', 'fog_index', 'flesch_index',\n",
              "       'num_words', 'num_lines', 'title', 'f_k_grade', 'artist',\n",
              "       'difficult_words', 'num_dupes', 'neg', 'neu', 'compound', 'id',\n",
              "       'danceability', 'energy', 'key', 'loudness', 'mode', 'speechiness',\n",
              "       'acousticness', 'instrumentalness', 'liveness', 'valence', 'tempo',\n",
              "       'duration_ms', 'time_signature', 'uri', 'analysis_url',\n",
              "       'artist_with_features', 'year_bin', 'image', 'cluster', 'Gender',\n",
              "       'tag'],\n",
              "      dtype='object')"
            ]
          },
          "execution_count": 66,
          "metadata": {},
          "output_type": "execute_result"
        }
      ],
      "source": [
        "billboard.columns"
      ]
    },
    {
      "cell_type": "code",
      "execution_count": null,
      "metadata": {
        "id": "afyo3UEUhtoZ"
      },
      "outputs": [],
      "source": [
        "billboard = billboard[['lyrics', 'year', 'artist', 'title', 'tag','Gender']]"
      ]
    },
    {
      "cell_type": "code",
      "execution_count": null,
      "metadata": {
        "id": "JHUMyS3Phtoa"
      },
      "outputs": [],
      "source": [
        "data = data[['track_name', 'track_artist', 'lyrics', 'playlist_genre', 'year', 'track_popularity']]"
      ]
    },
    {
      "cell_type": "code",
      "execution_count": null,
      "metadata": {
        "id": "op6TtszVhtoa"
      },
      "outputs": [],
      "source": [
        "data.rename(columns={\"track_name\": \"title\", \"track_artist\": \"artist\", \"playlist_genre\": \"tag\", \"track_popularity\": \"popularity\"}, inplace = True)"
      ]
    },
    {
      "cell_type": "code",
      "execution_count": null,
      "metadata": {
        "colab": {
          "base_uri": "https://localhost:8080/"
        },
        "id": "0uF5kXKcUQJO",
        "outputId": "b2c9bf7e-6634-4d5b-bed7-6142d7d39a14"
      },
      "outputs": [
        {
          "data": {
            "text/plain": [
              "['edm', 'latin', 'pop', 'r&b', 'rap', 'rock']"
            ]
          },
          "execution_count": 18,
          "metadata": {},
          "output_type": "execute_result"
        }
      ],
      "source": [
        "genres = np.unique(data.tag)\n",
        "genres = [g for g in genres]\n",
        "genres"
      ]
    },
    {
      "cell_type": "code",
      "execution_count": null,
      "metadata": {
        "id": "R57vhB2kUQJO"
      },
      "outputs": [],
      "source": [
        "import collections\n",
        "import re"
      ]
    },
    {
      "cell_type": "code",
      "execution_count": null,
      "metadata": {
        "id": "MmbrIgGyUQJO"
      },
      "outputs": [],
      "source": [
        "def remove_quo(lst):\n",
        "    return [re.sub(r\"'\", \"\", word).lstrip() for word in lst]"
      ]
    },
    {
      "cell_type": "code",
      "execution_count": null,
      "metadata": {
        "id": "pzCF7fpJUQJP"
      },
      "outputs": [],
      "source": [
        "billboard['tag'] = billboard.tag.apply(lambda x: x.strip('][').split(','))\n",
        "billboard['tag'] = billboard.tag.apply(lambda x: remove_quo(x))                                                               "
      ]
    },
    {
      "cell_type": "code",
      "execution_count": null,
      "metadata": {
        "colab": {
          "base_uri": "https://localhost:8080/"
        },
        "id": "CkagNdTfUQJP",
        "outputId": "11fe5b2a-99fb-4d08-a45b-aef0e027e51f"
      },
      "outputs": [
        {
          "data": {
            "text/plain": [
              "[('pop', 1719),\n",
              " ('classic pop and rock', 1290),\n",
              " ('rock', 1063),\n",
              " ('american', 1035),\n",
              " ('pop rock', 903),\n",
              " ('dance-pop', 528),\n",
              " ('british', 474),\n",
              " ('hip hop rnb and dance hall', 450),\n",
              " ('pop and chart', 443),\n",
              " ('uk', 435)]"
            ]
          },
          "execution_count": 22,
          "metadata": {},
          "output_type": "execute_result"
        }
      ],
      "source": [
        "tag_lst = [tag for song in billboard.tag for tag in song]\n",
        "counter=collections.Counter(tag_lst)\n",
        "counter.most_common(10)"
      ]
    },
    {
      "cell_type": "code",
      "execution_count": null,
      "metadata": {
        "colab": {
          "base_uri": "https://localhost:8080/"
        },
        "id": "oj74Kf2MUQJQ",
        "outputId": "6b71f1e4-3171-49dc-faf6-91e0dddafc42"
      },
      "outputs": [
        {
          "data": {
            "text/plain": [
              "0       american death by lung cancer easy listening s...\n",
              "1                                         andrews sisters\n",
              "2                                             country pop\n",
              "3                        death by liver failure spiritual\n",
              "4       adult contemporary american big band classic p...\n",
              "                              ...                        \n",
              "4019                          contemporary r&b electropop\n",
              "4020    ballad contemporary r&b deep house hip hop pop...\n",
              "4021             dance hip hop hip hop rnb and dance hall\n",
              "4022    boy band dance-pop folk pop pop pop rock power...\n",
              "4023    complextro contemporary r&b dance dance and el...\n",
              "Name: tag_str, Length: 4024, dtype: object"
            ]
          },
          "execution_count": 23,
          "metadata": {},
          "output_type": "execute_result"
        }
      ],
      "source": [
        "billboard['tag_str'] = billboard['tag'].apply(lambda x: ' '.join(x))\n",
        "billboard['tag_str']"
      ]
    },
    {
      "cell_type": "code",
      "execution_count": null,
      "metadata": {
        "colab": {
          "base_uri": "https://localhost:8080/"
        },
        "id": "VcbVZAOpUQJQ",
        "outputId": "1db081d2-b0e4-44a4-f830-5f00dd15248e"
      },
      "outputs": [
        {
          "data": {
            "text/plain": [
              "False"
            ]
          },
          "execution_count": 24,
          "metadata": {},
          "output_type": "execute_result"
        }
      ],
      "source": [
        "len(billboard['tag_str'].to_list())\n",
        "lst = billboard['tag_str'].to_list()\n",
        "len(re.findall('latin*', lst[0])) > 0"
      ]
    },
    {
      "cell_type": "code",
      "execution_count": null,
      "metadata": {
        "id": "7Tz6aYyrUQJQ"
      },
      "outputs": [],
      "source": [
        "dic = {'pop':[], 'edm': [], 'latin': [], 'r&b':[], 'rap':[], 'rock':[]}\n",
        "for song in billboard['tag_str'].to_list():\n",
        "    dic['pop'].append(len(re.findall('pop', song))> 0)\n",
        "    dic['edm'].append(len(re.findall('elec*', song))>0)\n",
        "    dic['latin'].append(len(re.findall('latin*', song)) >0)\n",
        "    dic['r&b'].append(len(re.findall('r&b', song)) >0)\n",
        "    dic['rap'].append(len(re.findall('hip|hop|rap', song)) >0)\n",
        "    dic['rock'].append(len(re.findall('rock', song))>0)\n",
        "    "
      ]
    },
    {
      "cell_type": "code",
      "execution_count": null,
      "metadata": {
        "id": "KuoKJTYbUQJR"
      },
      "outputs": [],
      "source": [
        "for g in genres:\n",
        "    data[g] = data.tag.apply(lambda x: x == g)"
      ]
    },
    {
      "cell_type": "code",
      "execution_count": null,
      "metadata": {
        "id": "IXfaLlpEUQJR"
      },
      "outputs": [],
      "source": [
        "data = data.drop(columns = ['tag'])"
      ]
    },
    {
      "cell_type": "code",
      "execution_count": null,
      "metadata": {
        "id": "UPMcg62oUQJR"
      },
      "outputs": [],
      "source": [
        "b = pd.DataFrame(dic)\n",
        "f = [billboard, b]\n",
        "new_billboard = pd.concat(f, axis = 1)\n",
        "#new_billboard.to_csv('/Users/hzx/Desktop/UChicago/AU2021/MACS30124/project2/billboard_new.csv')"
      ]
    },
    {
      "cell_type": "code",
      "execution_count": null,
      "metadata": {
        "colab": {
          "base_uri": "https://localhost:8080/",
          "height": 659
        },
        "id": "4RXXmWYsl0QJ",
        "outputId": "8ea0306a-8523-4d1a-efdc-73c9dfea1ee0"
      },
      "outputs": [
        {
          "data": {
            "text/html": [
              "\n",
              "  <div id=\"df-3f70fd7b-54c5-41df-837a-e07e8d570614\">\n",
              "    <div class=\"colab-df-container\">\n",
              "      <div>\n",
              "<style scoped>\n",
              "    .dataframe tbody tr th:only-of-type {\n",
              "        vertical-align: middle;\n",
              "    }\n",
              "\n",
              "    .dataframe tbody tr th {\n",
              "        vertical-align: top;\n",
              "    }\n",
              "\n",
              "    .dataframe thead th {\n",
              "        text-align: right;\n",
              "    }\n",
              "</style>\n",
              "<table border=\"1\" class=\"dataframe\">\n",
              "  <thead>\n",
              "    <tr style=\"text-align: right;\">\n",
              "      <th></th>\n",
              "      <th>Unnamed: 0</th>\n",
              "      <th>lyrics</th>\n",
              "      <th>year</th>\n",
              "      <th>artist</th>\n",
              "      <th>title</th>\n",
              "      <th>tag</th>\n",
              "      <th>Gender</th>\n",
              "      <th>tag_str</th>\n",
              "      <th>pop</th>\n",
              "      <th>edm</th>\n",
              "      <th>latin</th>\n",
              "      <th>r&amp;b</th>\n",
              "      <th>rap</th>\n",
              "      <th>rock</th>\n",
              "    </tr>\n",
              "  </thead>\n",
              "  <tbody>\n",
              "    <tr>\n",
              "      <th>0</th>\n",
              "      <td>0</td>\n",
              "      <td>Mona Lisa, Mona Lisa, men have named you\\nYou'...</td>\n",
              "      <td>1950</td>\n",
              "      <td>Nat King Cole</td>\n",
              "      <td>Mona Lisa</td>\n",
              "      <td>['american', 'death by lung cancer', 'easy lis...</td>\n",
              "      <td>male</td>\n",
              "      <td>american death by lung cancer easy listening s...</td>\n",
              "      <td>True</td>\n",
              "      <td>False</td>\n",
              "      <td>False</td>\n",
              "      <td>False</td>\n",
              "      <td>False</td>\n",
              "      <td>False</td>\n",
              "    </tr>\n",
              "    <tr>\n",
              "      <th>1</th>\n",
              "      <td>1</td>\n",
              "      <td>I wanna be Loved\\nBy Andrews Sisters\\n\\nOooo-o...</td>\n",
              "      <td>1950</td>\n",
              "      <td>Andrews Sisters</td>\n",
              "      <td>I Wanna Be Loved</td>\n",
              "      <td>['andrews sisters']</td>\n",
              "      <td>Group</td>\n",
              "      <td>andrews sisters</td>\n",
              "      <td>False</td>\n",
              "      <td>False</td>\n",
              "      <td>False</td>\n",
              "      <td>False</td>\n",
              "      <td>False</td>\n",
              "      <td>False</td>\n",
              "    </tr>\n",
              "    <tr>\n",
              "      <th>2</th>\n",
              "      <td>2</td>\n",
              "      <td>I was dancing with my darling to the Tennessee...</td>\n",
              "      <td>1950</td>\n",
              "      <td>Patti Page</td>\n",
              "      <td>Tennessee Waltz</td>\n",
              "      <td>['country', 'pop']</td>\n",
              "      <td>female</td>\n",
              "      <td>country pop</td>\n",
              "      <td>True</td>\n",
              "      <td>False</td>\n",
              "      <td>False</td>\n",
              "      <td>False</td>\n",
              "      <td>False</td>\n",
              "      <td>False</td>\n",
              "    </tr>\n",
              "    <tr>\n",
              "      <th>3</th>\n",
              "      <td>3</td>\n",
              "      <td>Each time I hold someone new\\nMy arms grow col...</td>\n",
              "      <td>1950</td>\n",
              "      <td>Tennessee Ernie Ford</td>\n",
              "      <td>I'll Never Be Free</td>\n",
              "      <td>['death by liver failure', 'spiritual']</td>\n",
              "      <td>male</td>\n",
              "      <td>death by liver failure spiritual</td>\n",
              "      <td>False</td>\n",
              "      <td>False</td>\n",
              "      <td>False</td>\n",
              "      <td>False</td>\n",
              "      <td>False</td>\n",
              "      <td>False</td>\n",
              "    </tr>\n",
              "    <tr>\n",
              "      <th>4</th>\n",
              "      <td>4</td>\n",
              "      <td>Hoop dee doo, hoop dee doo,  \\nI hear a polka ...</td>\n",
              "      <td>1950</td>\n",
              "      <td>Perry Como</td>\n",
              "      <td>Hoop-Dee-Doo</td>\n",
              "      <td>['adult contemporary', 'american', 'big band',...</td>\n",
              "      <td>male</td>\n",
              "      <td>adult contemporary american big band classic p...</td>\n",
              "      <td>True</td>\n",
              "      <td>False</td>\n",
              "      <td>True</td>\n",
              "      <td>False</td>\n",
              "      <td>False</td>\n",
              "      <td>True</td>\n",
              "    </tr>\n",
              "    <tr>\n",
              "      <th>...</th>\n",
              "      <td>...</td>\n",
              "      <td>...</td>\n",
              "      <td>...</td>\n",
              "      <td>...</td>\n",
              "      <td>...</td>\n",
              "      <td>...</td>\n",
              "      <td>...</td>\n",
              "      <td>...</td>\n",
              "      <td>...</td>\n",
              "      <td>...</td>\n",
              "      <td>...</td>\n",
              "      <td>...</td>\n",
              "      <td>...</td>\n",
              "      <td>...</td>\n",
              "    </tr>\n",
              "    <tr>\n",
              "      <th>4019</th>\n",
              "      <td>4019</td>\n",
              "      <td>(I guess right now you've got the last laugh)\\...</td>\n",
              "      <td>2015</td>\n",
              "      <td>Alessia Cara</td>\n",
              "      <td>Here</td>\n",
              "      <td>['contemporary r&amp;b', 'electropop']</td>\n",
              "      <td>female</td>\n",
              "      <td>contemporary r&amp;b electropop</td>\n",
              "      <td>True</td>\n",
              "      <td>True</td>\n",
              "      <td>False</td>\n",
              "      <td>True</td>\n",
              "      <td>False</td>\n",
              "      <td>False</td>\n",
              "    </tr>\n",
              "    <tr>\n",
              "      <th>4020</th>\n",
              "      <td>4020</td>\n",
              "      <td>My face above the water\\nMy feet can't touch t...</td>\n",
              "      <td>2015</td>\n",
              "      <td>Mr. Probz</td>\n",
              "      <td>Waves</td>\n",
              "      <td>['ballad', 'contemporary r&amp;b', 'deep house', '...</td>\n",
              "      <td>male</td>\n",
              "      <td>ballad contemporary r&amp;b deep house hip hop pop...</td>\n",
              "      <td>True</td>\n",
              "      <td>False</td>\n",
              "      <td>False</td>\n",
              "      <td>True</td>\n",
              "      <td>True</td>\n",
              "      <td>False</td>\n",
              "    </tr>\n",
              "    <tr>\n",
              "      <th>4021</th>\n",
              "      <td>4021</td>\n",
              "      <td>You know from the moment she turned around\\nSh...</td>\n",
              "      <td>2015</td>\n",
              "      <td>Ne-Yo</td>\n",
              "      <td>She Knows</td>\n",
              "      <td>['dance', 'hip hop', 'hip hop rnb and dance ha...</td>\n",
              "      <td>male</td>\n",
              "      <td>dance hip hop hip hop rnb and dance hall</td>\n",
              "      <td>False</td>\n",
              "      <td>False</td>\n",
              "      <td>False</td>\n",
              "      <td>False</td>\n",
              "      <td>True</td>\n",
              "      <td>False</td>\n",
              "    </tr>\n",
              "    <tr>\n",
              "      <th>4022</th>\n",
              "      <td>4022</td>\n",
              "      <td>Going out tonight\\nChanges into something red\\...</td>\n",
              "      <td>2015</td>\n",
              "      <td>One Direction</td>\n",
              "      <td>Night Changes</td>\n",
              "      <td>['boy band', 'dance-pop', 'folk pop', 'pop', '...</td>\n",
              "      <td>Group</td>\n",
              "      <td>boy band dance-pop folk pop pop pop rock power...</td>\n",
              "      <td>True</td>\n",
              "      <td>False</td>\n",
              "      <td>False</td>\n",
              "      <td>False</td>\n",
              "      <td>False</td>\n",
              "      <td>True</td>\n",
              "    </tr>\n",
              "    <tr>\n",
              "      <th>4023</th>\n",
              "      <td>4023</td>\n",
              "      <td>I want you to breathe me in\\nLet me be your ai...</td>\n",
              "      <td>2015</td>\n",
              "      <td>Calvin Harris</td>\n",
              "      <td>How Deep Is Your Love</td>\n",
              "      <td>['complextro', 'contemporary r&amp;b', 'dance', 'd...</td>\n",
              "      <td>male</td>\n",
              "      <td>complextro contemporary r&amp;b dance dance and el...</td>\n",
              "      <td>True</td>\n",
              "      <td>True</td>\n",
              "      <td>False</td>\n",
              "      <td>True</td>\n",
              "      <td>True</td>\n",
              "      <td>False</td>\n",
              "    </tr>\n",
              "  </tbody>\n",
              "</table>\n",
              "<p>4024 rows × 14 columns</p>\n",
              "</div>\n",
              "      <button class=\"colab-df-convert\" onclick=\"convertToInteractive('df-3f70fd7b-54c5-41df-837a-e07e8d570614')\"\n",
              "              title=\"Convert this dataframe to an interactive table.\"\n",
              "              style=\"display:none;\">\n",
              "        \n",
              "  <svg xmlns=\"http://www.w3.org/2000/svg\" height=\"24px\"viewBox=\"0 0 24 24\"\n",
              "       width=\"24px\">\n",
              "    <path d=\"M0 0h24v24H0V0z\" fill=\"none\"/>\n",
              "    <path d=\"M18.56 5.44l.94 2.06.94-2.06 2.06-.94-2.06-.94-.94-2.06-.94 2.06-2.06.94zm-11 1L8.5 8.5l.94-2.06 2.06-.94-2.06-.94L8.5 2.5l-.94 2.06-2.06.94zm10 10l.94 2.06.94-2.06 2.06-.94-2.06-.94-.94-2.06-.94 2.06-2.06.94z\"/><path d=\"M17.41 7.96l-1.37-1.37c-.4-.4-.92-.59-1.43-.59-.52 0-1.04.2-1.43.59L10.3 9.45l-7.72 7.72c-.78.78-.78 2.05 0 2.83L4 21.41c.39.39.9.59 1.41.59.51 0 1.02-.2 1.41-.59l7.78-7.78 2.81-2.81c.8-.78.8-2.07 0-2.86zM5.41 20L4 18.59l7.72-7.72 1.47 1.35L5.41 20z\"/>\n",
              "  </svg>\n",
              "      </button>\n",
              "      \n",
              "  <style>\n",
              "    .colab-df-container {\n",
              "      display:flex;\n",
              "      flex-wrap:wrap;\n",
              "      gap: 12px;\n",
              "    }\n",
              "\n",
              "    .colab-df-convert {\n",
              "      background-color: #E8F0FE;\n",
              "      border: none;\n",
              "      border-radius: 50%;\n",
              "      cursor: pointer;\n",
              "      display: none;\n",
              "      fill: #1967D2;\n",
              "      height: 32px;\n",
              "      padding: 0 0 0 0;\n",
              "      width: 32px;\n",
              "    }\n",
              "\n",
              "    .colab-df-convert:hover {\n",
              "      background-color: #E2EBFA;\n",
              "      box-shadow: 0px 1px 2px rgba(60, 64, 67, 0.3), 0px 1px 3px 1px rgba(60, 64, 67, 0.15);\n",
              "      fill: #174EA6;\n",
              "    }\n",
              "\n",
              "    [theme=dark] .colab-df-convert {\n",
              "      background-color: #3B4455;\n",
              "      fill: #D2E3FC;\n",
              "    }\n",
              "\n",
              "    [theme=dark] .colab-df-convert:hover {\n",
              "      background-color: #434B5C;\n",
              "      box-shadow: 0px 1px 3px 1px rgba(0, 0, 0, 0.15);\n",
              "      filter: drop-shadow(0px 1px 2px rgba(0, 0, 0, 0.3));\n",
              "      fill: #FFFFFF;\n",
              "    }\n",
              "  </style>\n",
              "\n",
              "      <script>\n",
              "        const buttonEl =\n",
              "          document.querySelector('#df-3f70fd7b-54c5-41df-837a-e07e8d570614 button.colab-df-convert');\n",
              "        buttonEl.style.display =\n",
              "          google.colab.kernel.accessAllowed ? 'block' : 'none';\n",
              "\n",
              "        async function convertToInteractive(key) {\n",
              "          const element = document.querySelector('#df-3f70fd7b-54c5-41df-837a-e07e8d570614');\n",
              "          const dataTable =\n",
              "            await google.colab.kernel.invokeFunction('convertToInteractive',\n",
              "                                                     [key], {});\n",
              "          if (!dataTable) return;\n",
              "\n",
              "          const docLinkHtml = 'Like what you see? Visit the ' +\n",
              "            '<a target=\"_blank\" href=https://colab.research.google.com/notebooks/data_table.ipynb>data table notebook</a>'\n",
              "            + ' to learn more about interactive tables.';\n",
              "          element.innerHTML = '';\n",
              "          dataTable['output_type'] = 'display_data';\n",
              "          await google.colab.output.renderOutput(dataTable, element);\n",
              "          const docLink = document.createElement('div');\n",
              "          docLink.innerHTML = docLinkHtml;\n",
              "          element.appendChild(docLink);\n",
              "        }\n",
              "      </script>\n",
              "    </div>\n",
              "  </div>\n",
              "  "
            ],
            "text/plain": [
              "      Unnamed: 0                                             lyrics  year  \\\n",
              "0              0  Mona Lisa, Mona Lisa, men have named you\\nYou'...  1950   \n",
              "1              1  I wanna be Loved\\nBy Andrews Sisters\\n\\nOooo-o...  1950   \n",
              "2              2  I was dancing with my darling to the Tennessee...  1950   \n",
              "3              3  Each time I hold someone new\\nMy arms grow col...  1950   \n",
              "4              4  Hoop dee doo, hoop dee doo,  \\nI hear a polka ...  1950   \n",
              "...          ...                                                ...   ...   \n",
              "4019        4019  (I guess right now you've got the last laugh)\\...  2015   \n",
              "4020        4020  My face above the water\\nMy feet can't touch t...  2015   \n",
              "4021        4021  You know from the moment she turned around\\nSh...  2015   \n",
              "4022        4022  Going out tonight\\nChanges into something red\\...  2015   \n",
              "4023        4023  I want you to breathe me in\\nLet me be your ai...  2015   \n",
              "\n",
              "                    artist                  title  \\\n",
              "0            Nat King Cole              Mona Lisa   \n",
              "1          Andrews Sisters       I Wanna Be Loved   \n",
              "2               Patti Page        Tennessee Waltz   \n",
              "3     Tennessee Ernie Ford     I'll Never Be Free   \n",
              "4               Perry Como           Hoop-Dee-Doo   \n",
              "...                    ...                    ...   \n",
              "4019          Alessia Cara                   Here   \n",
              "4020             Mr. Probz                  Waves   \n",
              "4021                 Ne-Yo              She Knows   \n",
              "4022         One Direction          Night Changes   \n",
              "4023         Calvin Harris  How Deep Is Your Love   \n",
              "\n",
              "                                                    tag  Gender  \\\n",
              "0     ['american', 'death by lung cancer', 'easy lis...    male   \n",
              "1                                   ['andrews sisters']   Group   \n",
              "2                                    ['country', 'pop']  female   \n",
              "3               ['death by liver failure', 'spiritual']    male   \n",
              "4     ['adult contemporary', 'american', 'big band',...    male   \n",
              "...                                                 ...     ...   \n",
              "4019                 ['contemporary r&b', 'electropop']  female   \n",
              "4020  ['ballad', 'contemporary r&b', 'deep house', '...    male   \n",
              "4021  ['dance', 'hip hop', 'hip hop rnb and dance ha...    male   \n",
              "4022  ['boy band', 'dance-pop', 'folk pop', 'pop', '...   Group   \n",
              "4023  ['complextro', 'contemporary r&b', 'dance', 'd...    male   \n",
              "\n",
              "                                                tag_str    pop    edm  latin  \\\n",
              "0     american death by lung cancer easy listening s...   True  False  False   \n",
              "1                                       andrews sisters  False  False  False   \n",
              "2                                           country pop   True  False  False   \n",
              "3                      death by liver failure spiritual  False  False  False   \n",
              "4     adult contemporary american big band classic p...   True  False   True   \n",
              "...                                                 ...    ...    ...    ...   \n",
              "4019                        contemporary r&b electropop   True   True  False   \n",
              "4020  ballad contemporary r&b deep house hip hop pop...   True  False  False   \n",
              "4021           dance hip hop hip hop rnb and dance hall  False  False  False   \n",
              "4022  boy band dance-pop folk pop pop pop rock power...   True  False  False   \n",
              "4023  complextro contemporary r&b dance dance and el...   True   True  False   \n",
              "\n",
              "        r&b    rap   rock  \n",
              "0     False  False  False  \n",
              "1     False  False  False  \n",
              "2     False  False  False  \n",
              "3     False  False  False  \n",
              "4     False  False   True  \n",
              "...     ...    ...    ...  \n",
              "4019   True  False  False  \n",
              "4020   True   True  False  \n",
              "4021  False   True  False  \n",
              "4022  False  False   True  \n",
              "4023   True   True  False  \n",
              "\n",
              "[4024 rows x 14 columns]"
            ]
          },
          "execution_count": 6,
          "metadata": {},
          "output_type": "execute_result"
        }
      ],
      "source": [
        "new_billboard = pd.read_csv(\"billboard_new.csv\")\n",
        "new_billboard"
      ]
    },
    {
      "cell_type": "code",
      "execution_count": null,
      "metadata": {
        "id": "YPctFibFUQJR"
      },
      "outputs": [],
      "source": [
        "data['Gender'] = \"Unknown\""
      ]
    },
    {
      "cell_type": "code",
      "execution_count": null,
      "metadata": {
        "colab": {
          "base_uri": "https://localhost:8080/"
        },
        "id": "1I7Odjt2htob",
        "outputId": "f95ea3f4-1b2a-4ab7-a8b6-bae9ac523654"
      },
      "outputs": [
        {
          "data": {
            "text/plain": [
              "Index(['lyrics', 'year', 'artist', 'title', 'Gender', 'pop', 'edm', 'latin',\n",
              "       'r&b', 'rap', 'rock'],\n",
              "      dtype='object')"
            ]
          },
          "execution_count": 8,
          "metadata": {},
          "output_type": "execute_result"
        }
      ],
      "source": [
        "new_billboard = pd.read_csv(\"billboard_new.csv\", index_col = 0)\n",
        "new_billboard = new_billboard.drop(columns = ['tag', 'tag_str'])\n",
        "new_billboard.columns"
      ]
    },
    {
      "cell_type": "code",
      "execution_count": null,
      "metadata": {
        "colab": {
          "base_uri": "https://localhost:8080/",
          "height": 832
        },
        "id": "KJ_RDQm4UQJT",
        "outputId": "2ea22da8-c33d-4aab-9af2-c5b02e4af561"
      },
      "outputs": [
        {
          "data": {
            "text/html": [
              "\n",
              "  <div id=\"df-2819901f-ba34-44c2-8d40-857e18718e22\">\n",
              "    <div class=\"colab-df-container\">\n",
              "      <div>\n",
              "<style scoped>\n",
              "    .dataframe tbody tr th:only-of-type {\n",
              "        vertical-align: middle;\n",
              "    }\n",
              "\n",
              "    .dataframe tbody tr th {\n",
              "        vertical-align: top;\n",
              "    }\n",
              "\n",
              "    .dataframe thead th {\n",
              "        text-align: right;\n",
              "    }\n",
              "</style>\n",
              "<table border=\"1\" class=\"dataframe\">\n",
              "  <thead>\n",
              "    <tr style=\"text-align: right;\">\n",
              "      <th></th>\n",
              "      <th>title</th>\n",
              "      <th>artist</th>\n",
              "      <th>lyrics</th>\n",
              "      <th>year</th>\n",
              "      <th>popularity</th>\n",
              "      <th>edm</th>\n",
              "      <th>latin</th>\n",
              "      <th>pop</th>\n",
              "      <th>r&amp;b</th>\n",
              "      <th>rap</th>\n",
              "      <th>rock</th>\n",
              "      <th>Gender</th>\n",
              "    </tr>\n",
              "  </thead>\n",
              "  <tbody>\n",
              "    <tr>\n",
              "      <th>1</th>\n",
              "      <td>I Feel Alive</td>\n",
              "      <td>Steady Rollin</td>\n",
              "      <td>The trees, are singing in the wind The sky blu...</td>\n",
              "      <td>2017</td>\n",
              "      <td>28.0</td>\n",
              "      <td>False</td>\n",
              "      <td>False</td>\n",
              "      <td>False</td>\n",
              "      <td>False</td>\n",
              "      <td>False</td>\n",
              "      <td>True</td>\n",
              "      <td>Unknown</td>\n",
              "    </tr>\n",
              "    <tr>\n",
              "      <th>2</th>\n",
              "      <td>Poison</td>\n",
              "      <td>Bell Biv DeVoe</td>\n",
              "      <td>NA Yeah, Spyderman and Freeze in full effect U...</td>\n",
              "      <td>2005</td>\n",
              "      <td>0.0</td>\n",
              "      <td>False</td>\n",
              "      <td>False</td>\n",
              "      <td>False</td>\n",
              "      <td>True</td>\n",
              "      <td>False</td>\n",
              "      <td>False</td>\n",
              "      <td>Unknown</td>\n",
              "    </tr>\n",
              "    <tr>\n",
              "      <th>3</th>\n",
              "      <td>Baby It's Cold Outside (feat. Christina Aguilera)</td>\n",
              "      <td>CeeLo Green</td>\n",
              "      <td>I really can't stay Baby it's cold outside I'v...</td>\n",
              "      <td>2012</td>\n",
              "      <td>41.0</td>\n",
              "      <td>False</td>\n",
              "      <td>False</td>\n",
              "      <td>False</td>\n",
              "      <td>True</td>\n",
              "      <td>False</td>\n",
              "      <td>False</td>\n",
              "      <td>Unknown</td>\n",
              "    </tr>\n",
              "    <tr>\n",
              "      <th>4</th>\n",
              "      <td>Dumb Litty</td>\n",
              "      <td>KARD</td>\n",
              "      <td>Get up out of my business You don't keep me fr...</td>\n",
              "      <td>2019</td>\n",
              "      <td>65.0</td>\n",
              "      <td>False</td>\n",
              "      <td>False</td>\n",
              "      <td>True</td>\n",
              "      <td>False</td>\n",
              "      <td>False</td>\n",
              "      <td>False</td>\n",
              "      <td>Unknown</td>\n",
              "    </tr>\n",
              "    <tr>\n",
              "      <th>5</th>\n",
              "      <td>Soldier</td>\n",
              "      <td>James TW</td>\n",
              "      <td>Hold your breath, don't look down, keep trying...</td>\n",
              "      <td>2019</td>\n",
              "      <td>70.0</td>\n",
              "      <td>False</td>\n",
              "      <td>False</td>\n",
              "      <td>False</td>\n",
              "      <td>True</td>\n",
              "      <td>False</td>\n",
              "      <td>False</td>\n",
              "      <td>Unknown</td>\n",
              "    </tr>\n",
              "    <tr>\n",
              "      <th>...</th>\n",
              "      <td>...</td>\n",
              "      <td>...</td>\n",
              "      <td>...</td>\n",
              "      <td>...</td>\n",
              "      <td>...</td>\n",
              "      <td>...</td>\n",
              "      <td>...</td>\n",
              "      <td>...</td>\n",
              "      <td>...</td>\n",
              "      <td>...</td>\n",
              "      <td>...</td>\n",
              "      <td>...</td>\n",
              "    </tr>\n",
              "    <tr>\n",
              "      <th>4019</th>\n",
              "      <td>Here</td>\n",
              "      <td>Alessia Cara</td>\n",
              "      <td>(I guess right now you've got the last laugh)\\...</td>\n",
              "      <td>2015</td>\n",
              "      <td>NaN</td>\n",
              "      <td>True</td>\n",
              "      <td>False</td>\n",
              "      <td>True</td>\n",
              "      <td>True</td>\n",
              "      <td>False</td>\n",
              "      <td>False</td>\n",
              "      <td>female</td>\n",
              "    </tr>\n",
              "    <tr>\n",
              "      <th>4020</th>\n",
              "      <td>Waves</td>\n",
              "      <td>Mr. Probz</td>\n",
              "      <td>My face above the water\\nMy feet can't touch t...</td>\n",
              "      <td>2015</td>\n",
              "      <td>NaN</td>\n",
              "      <td>False</td>\n",
              "      <td>False</td>\n",
              "      <td>True</td>\n",
              "      <td>True</td>\n",
              "      <td>True</td>\n",
              "      <td>False</td>\n",
              "      <td>male</td>\n",
              "    </tr>\n",
              "    <tr>\n",
              "      <th>4021</th>\n",
              "      <td>She Knows</td>\n",
              "      <td>Ne-Yo</td>\n",
              "      <td>You know from the moment she turned around\\nSh...</td>\n",
              "      <td>2015</td>\n",
              "      <td>NaN</td>\n",
              "      <td>False</td>\n",
              "      <td>False</td>\n",
              "      <td>False</td>\n",
              "      <td>False</td>\n",
              "      <td>True</td>\n",
              "      <td>False</td>\n",
              "      <td>male</td>\n",
              "    </tr>\n",
              "    <tr>\n",
              "      <th>4022</th>\n",
              "      <td>Night Changes</td>\n",
              "      <td>One Direction</td>\n",
              "      <td>Going out tonight\\nChanges into something red\\...</td>\n",
              "      <td>2015</td>\n",
              "      <td>NaN</td>\n",
              "      <td>False</td>\n",
              "      <td>False</td>\n",
              "      <td>True</td>\n",
              "      <td>False</td>\n",
              "      <td>False</td>\n",
              "      <td>True</td>\n",
              "      <td>Group</td>\n",
              "    </tr>\n",
              "    <tr>\n",
              "      <th>4023</th>\n",
              "      <td>How Deep Is Your Love</td>\n",
              "      <td>Calvin Harris</td>\n",
              "      <td>I want you to breathe me in\\nLet me be your ai...</td>\n",
              "      <td>2015</td>\n",
              "      <td>NaN</td>\n",
              "      <td>True</td>\n",
              "      <td>False</td>\n",
              "      <td>True</td>\n",
              "      <td>True</td>\n",
              "      <td>True</td>\n",
              "      <td>False</td>\n",
              "      <td>male</td>\n",
              "    </tr>\n",
              "  </tbody>\n",
              "</table>\n",
              "<p>19429 rows × 12 columns</p>\n",
              "</div>\n",
              "      <button class=\"colab-df-convert\" onclick=\"convertToInteractive('df-2819901f-ba34-44c2-8d40-857e18718e22')\"\n",
              "              title=\"Convert this dataframe to an interactive table.\"\n",
              "              style=\"display:none;\">\n",
              "        \n",
              "  <svg xmlns=\"http://www.w3.org/2000/svg\" height=\"24px\"viewBox=\"0 0 24 24\"\n",
              "       width=\"24px\">\n",
              "    <path d=\"M0 0h24v24H0V0z\" fill=\"none\"/>\n",
              "    <path d=\"M18.56 5.44l.94 2.06.94-2.06 2.06-.94-2.06-.94-.94-2.06-.94 2.06-2.06.94zm-11 1L8.5 8.5l.94-2.06 2.06-.94-2.06-.94L8.5 2.5l-.94 2.06-2.06.94zm10 10l.94 2.06.94-2.06 2.06-.94-2.06-.94-.94-2.06-.94 2.06-2.06.94z\"/><path d=\"M17.41 7.96l-1.37-1.37c-.4-.4-.92-.59-1.43-.59-.52 0-1.04.2-1.43.59L10.3 9.45l-7.72 7.72c-.78.78-.78 2.05 0 2.83L4 21.41c.39.39.9.59 1.41.59.51 0 1.02-.2 1.41-.59l7.78-7.78 2.81-2.81c.8-.78.8-2.07 0-2.86zM5.41 20L4 18.59l7.72-7.72 1.47 1.35L5.41 20z\"/>\n",
              "  </svg>\n",
              "      </button>\n",
              "      \n",
              "  <style>\n",
              "    .colab-df-container {\n",
              "      display:flex;\n",
              "      flex-wrap:wrap;\n",
              "      gap: 12px;\n",
              "    }\n",
              "\n",
              "    .colab-df-convert {\n",
              "      background-color: #E8F0FE;\n",
              "      border: none;\n",
              "      border-radius: 50%;\n",
              "      cursor: pointer;\n",
              "      display: none;\n",
              "      fill: #1967D2;\n",
              "      height: 32px;\n",
              "      padding: 0 0 0 0;\n",
              "      width: 32px;\n",
              "    }\n",
              "\n",
              "    .colab-df-convert:hover {\n",
              "      background-color: #E2EBFA;\n",
              "      box-shadow: 0px 1px 2px rgba(60, 64, 67, 0.3), 0px 1px 3px 1px rgba(60, 64, 67, 0.15);\n",
              "      fill: #174EA6;\n",
              "    }\n",
              "\n",
              "    [theme=dark] .colab-df-convert {\n",
              "      background-color: #3B4455;\n",
              "      fill: #D2E3FC;\n",
              "    }\n",
              "\n",
              "    [theme=dark] .colab-df-convert:hover {\n",
              "      background-color: #434B5C;\n",
              "      box-shadow: 0px 1px 3px 1px rgba(0, 0, 0, 0.15);\n",
              "      filter: drop-shadow(0px 1px 2px rgba(0, 0, 0, 0.3));\n",
              "      fill: #FFFFFF;\n",
              "    }\n",
              "  </style>\n",
              "\n",
              "      <script>\n",
              "        const buttonEl =\n",
              "          document.querySelector('#df-2819901f-ba34-44c2-8d40-857e18718e22 button.colab-df-convert');\n",
              "        buttonEl.style.display =\n",
              "          google.colab.kernel.accessAllowed ? 'block' : 'none';\n",
              "\n",
              "        async function convertToInteractive(key) {\n",
              "          const element = document.querySelector('#df-2819901f-ba34-44c2-8d40-857e18718e22');\n",
              "          const dataTable =\n",
              "            await google.colab.kernel.invokeFunction('convertToInteractive',\n",
              "                                                     [key], {});\n",
              "          if (!dataTable) return;\n",
              "\n",
              "          const docLinkHtml = 'Like what you see? Visit the ' +\n",
              "            '<a target=\"_blank\" href=https://colab.research.google.com/notebooks/data_table.ipynb>data table notebook</a>'\n",
              "            + ' to learn more about interactive tables.';\n",
              "          element.innerHTML = '';\n",
              "          dataTable['output_type'] = 'display_data';\n",
              "          await google.colab.output.renderOutput(dataTable, element);\n",
              "          const docLink = document.createElement('div');\n",
              "          docLink.innerHTML = docLinkHtml;\n",
              "          element.appendChild(docLink);\n",
              "        }\n",
              "      </script>\n",
              "    </div>\n",
              "  </div>\n",
              "  "
            ],
            "text/plain": [
              "                                                  title  ...   Gender\n",
              "1                                          I Feel Alive  ...  Unknown\n",
              "2                                                Poison  ...  Unknown\n",
              "3     Baby It's Cold Outside (feat. Christina Aguilera)  ...  Unknown\n",
              "4                                            Dumb Litty  ...  Unknown\n",
              "5                                               Soldier  ...  Unknown\n",
              "...                                                 ...  ...      ...\n",
              "4019                                               Here  ...   female\n",
              "4020                                              Waves  ...     male\n",
              "4021                                          She Knows  ...     male\n",
              "4022                                      Night Changes  ...    Group\n",
              "4023                              How Deep Is Your Love  ...     male\n",
              "\n",
              "[19429 rows x 12 columns]"
            ]
          },
          "execution_count": 37,
          "metadata": {},
          "output_type": "execute_result"
        }
      ],
      "source": [
        "combined = pd.concat([data, new_billboard])\n",
        "combined"
      ]
    },
    {
      "cell_type": "code",
      "execution_count": null,
      "metadata": {
        "colab": {
          "base_uri": "https://localhost:8080/"
        },
        "id": "0ATlo3TJUQJT",
        "outputId": "18bac8cd-ec6e-4b8c-ad51-27d4bd250438"
      },
      "outputs": [
        {
          "data": {
            "text/plain": [
              "['title',\n",
              " 'artist',\n",
              " 'lyrics',\n",
              " 'year',\n",
              " 'edm',\n",
              " 'latin',\n",
              " 'pop',\n",
              " 'r&b',\n",
              " 'rap',\n",
              " 'rock',\n",
              " 'Gender']"
            ]
          },
          "execution_count": 51,
          "metadata": {},
          "output_type": "execute_result"
        }
      ],
      "source": [
        "subset = combined.columns.to_list()\n",
        "subset.remove('popularity')\n",
        "subset"
      ]
    },
    {
      "cell_type": "code",
      "execution_count": null,
      "metadata": {
        "colab": {
          "base_uri": "https://localhost:8080/"
        },
        "id": "aXPh_JHxUQJT",
        "outputId": "80cdfd4e-ee96-4c51-d06e-120cea1cd4b6"
      },
      "outputs": [
        {
          "name": "stdout",
          "output_type": "stream",
          "text": [
            "495 duplicates\n"
          ]
        }
      ],
      "source": [
        "cleaned = combined.drop_duplicates(subset =subset)\n",
        "print(len(combined) - len(cleaned), \"duplicates\")"
      ]
    },
    {
      "cell_type": "code",
      "execution_count": null,
      "metadata": {
        "id": "lERjU_0fhtoc"
      },
      "outputs": [],
      "source": [
        "#convert year to year_bin\n",
        "import ppmi\n",
        "cleaned['year_bin'] = cleaned['year'].apply(lambda x: ppmi.convert_year(x))\n",
        "cleaned.reset_index(drop = True).to_csv(\"sp_bb_cleaned.csv\", index = False)"
      ]
    },
    {
      "cell_type": "markdown",
      "metadata": {
        "id": "7d0GjXbASLIl"
      },
      "source": [
        "##MetroLyric Dataset\n",
        "\n",
        "https://github.com/hiteshyalamanchili/SongGenreClassification"
      ]
    },
    {
      "cell_type": "code",
      "execution_count": null,
      "metadata": {
        "id": "qcv1UQj3SKdr"
      },
      "outputs": [],
      "source": [
        "data = pd.read_csv(\"english_cleaned_lyrics.csv\", index_col = 0).drop(columns = ['index'])"
      ]
    },
    {
      "cell_type": "code",
      "execution_count": null,
      "metadata": {
        "id": "T8LyRgkEa-hg"
      },
      "outputs": [],
      "source": [
        "data.rename(columns={\"song\": \"title\"}, inplace = True)\n",
        "data.dropna(subset = ['lyrics', 'title', 'artist'], inplace = True)\n",
        "data = data.reset_index(drop = True)"
      ]
    },
    {
      "cell_type": "code",
      "execution_count": null,
      "metadata": {
        "colab": {
          "base_uri": "https://localhost:8080/"
        },
        "id": "NWSP148BZ_Ay",
        "outputId": "a54c61b5-b274-4151-8a0f-fa6df02924f9"
      },
      "outputs": [
        {
          "data": {
            "text/plain": [
              "array([\"I gotta say Boy after only just a couple of dates You're hands down outright blowing my mind In nearly every single way You're amazing and yet There's only so much I can get From picnics long walks flowers and talks Baby here's what I suggest It's time I see ya belly up to a bar How bout ya show me what kind of cowboy you are Are you a Kenny tequila Buffet margarita Or an Alan Jackson hurricane Are you a good time flask of moonshine Going George Strait to my brain A girl can tell a lot about a boy in one shot I gotta know you've got a Bocephus side So what's in the cup order it up Who am I drinking tonight You might not have guessed Judging by my heels and lacy dress I'm a wide neck Gretchen Loretta Lynn I've learned from the best Women like that know how to throw a few back We gotta have a man who can keep up with all that Are you a Kenny tequila Buffet margarita Or an Alan Jackson hurricane Are you a good time flask of moonshine Going George Strait to my brain A girl can tell a lot about a boy in one shot I gotta know you've got a Bocephus side So what's in the cup order it up Who am I drinking tonight Oh yeah So pick your poison and make it two What kinda trouble are we gettin into Are you a Kenny tequila Buffet margarita Or an Alan Jackson hurricane Are you a good time flask of moonshine Going George Strait to my brain A girl can tell a lot about a boy in one shot I gotta know you've got a Bocephus side So what's in the cup order it up Who am I drinking Another round throwing em down Boy what ya thinking What's in the cup order it up Who am I drinking tonight Oh yeah\"],\n",
              "      dtype=object)"
            ]
          },
          "execution_count": 71,
          "metadata": {},
          "output_type": "execute_result"
        }
      ],
      "source": [
        "data.loc[data.title == 'who-am-i-drinking-tonight'].lyrics.values"
      ]
    },
    {
      "cell_type": "code",
      "execution_count": null,
      "metadata": {
        "colab": {
          "base_uri": "https://localhost:8080/"
        },
        "id": "mr6wYH9yZOOz",
        "outputId": "7ad7cd2f-06e1-41f6-a0ef-6b835a5f0079"
      },
      "outputs": [
        {
          "name": "stdout",
          "output_type": "stream",
          "text": [
            "<class 'pandas.core.frame.DataFrame'>\n",
            "Int64Index: 218210 entries, 0 to 362236\n",
            "Data columns (total 5 columns):\n",
            " #   Column  Non-Null Count   Dtype \n",
            "---  ------  --------------   ----- \n",
            " 0   song    218209 non-null  object\n",
            " 1   year    218210 non-null  int64 \n",
            " 2   artist  218210 non-null  object\n",
            " 3   genre   218210 non-null  object\n",
            " 4   lyrics  218210 non-null  object\n",
            "dtypes: int64(1), object(4)\n",
            "memory usage: 10.0+ MB\n"
          ]
        }
      ],
      "source": [
        "data.info()"
      ]
    },
    {
      "cell_type": "code",
      "execution_count": null,
      "metadata": {
        "colab": {
          "base_uri": "https://localhost:8080/"
        },
        "id": "lPyOlvPlZR-M",
        "outputId": "d2a0be78-88a0-4848-98a6-d0829eafd81e"
      },
      "outputs": [
        {
          "data": {
            "text/plain": [
              "2016"
            ]
          },
          "execution_count": 22,
          "metadata": {},
          "output_type": "execute_result"
        }
      ],
      "source": [
        "np.max(data.year)"
      ]
    },
    {
      "cell_type": "code",
      "execution_count": null,
      "metadata": {
        "colab": {
          "base_uri": "https://localhost:8080/"
        },
        "id": "LHLVAsoKZWPE",
        "outputId": "8461e311-6db2-4e9a-a941-1d6890395703"
      },
      "outputs": [
        {
          "data": {
            "text/plain": [
              "67"
            ]
          },
          "execution_count": 23,
          "metadata": {},
          "output_type": "execute_result"
        }
      ],
      "source": [
        "np.min(data.year)"
      ]
    },
    {
      "cell_type": "code",
      "execution_count": null,
      "metadata": {
        "id": "iLo9S_dxXhzU"
      },
      "outputs": [],
      "source": [
        "data['year_bin'] = data.year.apply(lambda x: ppmi.convert_year(x))"
      ]
    },
    {
      "cell_type": "code",
      "execution_count": null,
      "metadata": {
        "colab": {
          "base_uri": "https://localhost:8080/"
        },
        "id": "pC-RnAx_bTbU",
        "outputId": "df1360ed-557d-45f0-e9cc-17d1b39c546c"
      },
      "outputs": [
        {
          "data": {
            "text/plain": [
              "2000s    150449\n",
              "2010s     58088\n",
              "1990s      6273\n",
              "1980s      1741\n",
              "1970s      1651\n",
              "1960s         1\n",
              "Name: year_bin, dtype: int64"
            ]
          },
          "execution_count": 73,
          "metadata": {},
          "output_type": "execute_result"
        }
      ],
      "source": [
        "data['year_bin'].value_counts()"
      ]
    },
    {
      "cell_type": "markdown",
      "metadata": {
        "id": "lUGHFZcGbhRy"
      },
      "source": [
        "Format title and artists to be consistent with the other dataset"
      ]
    },
    {
      "cell_type": "code",
      "execution_count": null,
      "metadata": {
        "colab": {
          "base_uri": "https://localhost:8080/",
          "height": 35
        },
        "id": "f2qQbYzeb-1N",
        "outputId": "afe22f3c-b726-421f-c89c-7eb4322dbf44"
      },
      "outputs": [
        {
          "data": {
            "application/vnd.google.colaboratory.intrinsic+json": {
              "type": "string"
            },
            "text/plain": [
              "'cashew'"
            ]
          },
          "execution_count": 25,
          "metadata": {},
          "output_type": "execute_result"
        }
      ],
      "source": [
        "stri = \"cashew\"\n",
        "re.sub(\"-\", \" \", stri)"
      ]
    },
    {
      "cell_type": "code",
      "execution_count": null,
      "metadata": {
        "id": "A0kHLr-accid"
      },
      "outputs": [],
      "source": [
        "def remove_dash(x):\n",
        "  try:\n",
        "    re.sub(\"-\", \" \", x)\n",
        "    return re.sub(\"-\", \" \", x)\n",
        "  except:\n",
        "    return x"
      ]
    },
    {
      "cell_type": "code",
      "execution_count": null,
      "metadata": {
        "colab": {
          "base_uri": "https://localhost:8080/"
        },
        "id": "OcJlMXxXgleM",
        "outputId": "32bd906a-f667-4927-9ca2-a6c430049c5c"
      },
      "outputs": [
        {
          "data": {
            "text/plain": [
              "218209"
            ]
          },
          "execution_count": 79,
          "metadata": {},
          "output_type": "execute_result"
        }
      ],
      "source": [
        "len(data)"
      ]
    },
    {
      "cell_type": "code",
      "execution_count": null,
      "metadata": {
        "colab": {
          "base_uri": "https://localhost:8080/"
        },
        "id": "-Hw5ZxePY7FD",
        "outputId": "86c30e9d-64fa-448e-ba11-72286237d030"
      },
      "outputs": [
        {
          "data": {
            "text/plain": [
              "0                           ego remix\n",
              "1                        then tell me\n",
              "2                             honesty\n",
              "3                     you are my rock\n",
              "4                       black culture\n",
              "                     ...             \n",
              "218204      who am i drinking tonight\n",
              "218205                           liar\n",
              "218206                    last supper\n",
              "218207    christ alone live in studio\n",
              "218208                           amen\n",
              "Name: title_lower, Length: 218209, dtype: object"
            ]
          },
          "execution_count": 80,
          "metadata": {},
          "output_type": "execute_result"
        }
      ],
      "source": [
        "data['title_lower'] = data['title'].apply(lambda x: remove_dash(x))\n",
        "data['title_lower']"
      ]
    },
    {
      "cell_type": "code",
      "execution_count": null,
      "metadata": {
        "id": "3hUxDcS4hfnz"
      },
      "outputs": [],
      "source": [
        "data['title'] = data['title_lower'].apply(lambda x: x.title())"
      ]
    },
    {
      "cell_type": "code",
      "execution_count": null,
      "metadata": {
        "id": "u9Xr3MLbh6kc"
      },
      "outputs": [],
      "source": [
        "data['artist_lower'] = data['artist'].apply(lambda x: remove_dash(x))\n",
        "data['artist'] = data['artist_lower'].apply(lambda x: x.title())"
      ]
    },
    {
      "cell_type": "code",
      "execution_count": null,
      "metadata": {
        "colab": {
          "base_uri": "https://localhost:8080/"
        },
        "id": "jjHnECwEij9c",
        "outputId": "b93fb847-da9a-4720-b5cb-4b7f7f71fcd5"
      },
      "outputs": [
        {
          "data": {
            "text/plain": [
              "rock          100053\n",
              "pop            34137\n",
              "hip-hop        22654\n",
              "metal          21210\n",
              "country        14158\n",
              "jazz            7309\n",
              "electronic      6942\n",
              "other           3786\n",
              "r&b             3336\n",
              "indie           2935\n",
              "folk            1689\n",
              "Name: genre, dtype: int64"
            ]
          },
          "execution_count": 87,
          "metadata": {},
          "output_type": "execute_result"
        }
      ],
      "source": [
        "data['genre'] = data['genre'].apply(lambda x: x.lower())\n",
        "data['genre'].value_counts()"
      ]
    },
    {
      "cell_type": "code",
      "execution_count": null,
      "metadata": {
        "id": "MCffifUZjNVp"
      },
      "outputs": [],
      "source": [
        "dic = {'pop':[], 'edm': [], 'latin': [], 'r&b':[], 'rap':[], 'rock':[]}\n",
        "for song in data['genre'].to_list():\n",
        "    dic['pop'].append(len(re.findall('pop', song))> 0)\n",
        "    dic['edm'].append(len(re.findall('elec*', song))>0)\n",
        "    dic['latin'].append(len(re.findall('latin*', song)) >0)\n",
        "    dic['r&b'].append(len(re.findall('r&b', song)) >0)\n",
        "    dic['rap'].append(len(re.findall('hip|hop|rap', song)) >0)\n",
        "    dic['rock'].append(len(re.findall('rock', song))>0)"
      ]
    },
    {
      "cell_type": "code",
      "execution_count": null,
      "metadata": {
        "id": "vWDs3dLkiSOk"
      },
      "outputs": [],
      "source": [
        "b = pd.DataFrame(dic)\n",
        "f = [data, b]\n",
        "new_metro = pd.concat(f, axis = 1)"
      ]
    },
    {
      "cell_type": "code",
      "execution_count": null,
      "metadata": {
        "colab": {
          "base_uri": "https://localhost:8080/"
        },
        "id": "5xZ8HRF5kHv6",
        "outputId": "5a63fd9a-081e-43da-d1d4-c6c4c8c7c099"
      },
      "outputs": [
        {
          "data": {
            "text/plain": [
              "2000s    150449\n",
              "2010s     58088\n",
              "1990s      6273\n",
              "1980s      1741\n",
              "1970s      1651\n",
              "Name: year_bin, dtype: int64"
            ]
          },
          "execution_count": 95,
          "metadata": {},
          "output_type": "execute_result"
        }
      ],
      "source": [
        "new_metro = new_metro.drop(columns = ['title_lower', 'genre'])\n",
        "new_metro = new_metro[new_metro.year > 1969]\n",
        "new_metro.year_bin.value_counts()"
      ]
    },
    {
      "cell_type": "code",
      "execution_count": null,
      "metadata": {
        "colab": {
          "base_uri": "https://localhost:8080/"
        },
        "id": "Wy0oCbwwmD6A",
        "outputId": "7ec456de-3859-4988-bff8-89326e19f33b"
      },
      "outputs": [
        {
          "data": {
            "text/plain": [
              "Index(['title', 'year', 'artist', 'lyrics', 'year_bin', 'artist_lower', 'pop',\n",
              "       'edm', 'latin', 'r&b', 'rap', 'rock'],\n",
              "      dtype='object')"
            ]
          },
          "execution_count": 97,
          "metadata": {},
          "output_type": "execute_result"
        }
      ],
      "source": [
        "new_metro.columns"
      ]
    },
    {
      "cell_type": "code",
      "execution_count": null,
      "metadata": {
        "colab": {
          "base_uri": "https://localhost:8080/"
        },
        "id": "PH76bOLUrtYz",
        "outputId": "4346b73c-df48-477e-97f3-4b9b55f1a1ea"
      },
      "outputs": [
        {
          "name": "stderr",
          "output_type": "stream",
          "text": [
            "/usr/local/lib/python3.7/dist-packages/ipykernel_launcher.py:1: SettingWithCopyWarning: \n",
            "A value is trying to be set on a copy of a slice from a DataFrame.\n",
            "Try using .loc[row_indexer,col_indexer] = value instead\n",
            "\n",
            "See the caveats in the documentation: https://pandas.pydata.org/pandas-docs/stable/user_guide/indexing.html#returning-a-view-versus-a-copy\n",
            "  \"\"\"Entry point for launching an IPython kernel.\n"
          ]
        }
      ],
      "source": [
        "new_metro['Gender'] = \"Unknown\""
      ]
    },
    {
      "cell_type": "markdown",
      "metadata": {
        "id": "7pYO0aNWiR0A"
      },
      "source": [
        "### Record linkage with Spotify and Billboard Datasets"
      ]
    },
    {
      "cell_type": "code",
      "execution_count": null,
      "metadata": {
        "id": "vmtkhhAqkdSd"
      },
      "outputs": [],
      "source": [
        "cleaned = pd.read_csv(\"sp_bb_cleaned.csv\")\n",
        "cleaned['artist_lower'] = cleaned['artist'].apply(lambda x: x.lower())"
      ]
    },
    {
      "cell_type": "code",
      "execution_count": null,
      "metadata": {
        "id": "bje2B5FXmIpU"
      },
      "outputs": [],
      "source": [
        "frames = [cleaned, new_metro]\n",
        "\n",
        "result = pd.concat(frames, ignore_index=True)\n"
      ]
    },
    {
      "cell_type": "code",
      "execution_count": null,
      "metadata": {
        "colab": {
          "base_uri": "https://localhost:8080/"
        },
        "id": "tyB-YczWmTqm",
        "outputId": "02c1ff0b-efd0-4b2f-8075-ee1a2331246b"
      },
      "outputs": [
        {
          "data": {
            "text/plain": [
              "Index(['title', 'artist', 'lyrics', 'year', 'popularity', 'edm', 'latin',\n",
              "       'pop', 'r&b', 'rap', 'rock', 'Gender', 'year_bin', 'artist_lower'],\n",
              "      dtype='object')"
            ]
          },
          "execution_count": 103,
          "metadata": {},
          "output_type": "execute_result"
        }
      ],
      "source": [
        "result.columns"
      ]
    },
    {
      "cell_type": "code",
      "execution_count": null,
      "metadata": {
        "colab": {
          "base_uri": "https://localhost:8080/",
          "height": 815
        },
        "id": "qsHYfYcEmsMJ",
        "outputId": "320952f0-8a95-431c-d0ad-7289d47d727e"
      },
      "outputs": [
        {
          "data": {
            "text/html": [
              "\n",
              "  <div id=\"df-f48c1e32-b893-4b37-89eb-f381f5fb0fb7\">\n",
              "    <div class=\"colab-df-container\">\n",
              "      <div>\n",
              "<style scoped>\n",
              "    .dataframe tbody tr th:only-of-type {\n",
              "        vertical-align: middle;\n",
              "    }\n",
              "\n",
              "    .dataframe tbody tr th {\n",
              "        vertical-align: top;\n",
              "    }\n",
              "\n",
              "    .dataframe thead th {\n",
              "        text-align: right;\n",
              "    }\n",
              "</style>\n",
              "<table border=\"1\" class=\"dataframe\">\n",
              "  <thead>\n",
              "    <tr style=\"text-align: right;\">\n",
              "      <th></th>\n",
              "      <th>title</th>\n",
              "      <th>artist</th>\n",
              "      <th>lyrics</th>\n",
              "      <th>year</th>\n",
              "      <th>popularity</th>\n",
              "      <th>edm</th>\n",
              "      <th>latin</th>\n",
              "      <th>pop</th>\n",
              "      <th>r&amp;b</th>\n",
              "      <th>rap</th>\n",
              "      <th>rock</th>\n",
              "      <th>Gender</th>\n",
              "      <th>year_bin</th>\n",
              "      <th>artist_lower</th>\n",
              "    </tr>\n",
              "  </thead>\n",
              "  <tbody>\n",
              "    <tr>\n",
              "      <th>0</th>\n",
              "      <td>I Feel Alive</td>\n",
              "      <td>Steady Rollin</td>\n",
              "      <td>The trees, are singing in the wind The sky blu...</td>\n",
              "      <td>2017</td>\n",
              "      <td>28.0</td>\n",
              "      <td>False</td>\n",
              "      <td>False</td>\n",
              "      <td>False</td>\n",
              "      <td>False</td>\n",
              "      <td>False</td>\n",
              "      <td>True</td>\n",
              "      <td>Unknown</td>\n",
              "      <td>2010s</td>\n",
              "      <td>steady rollin</td>\n",
              "    </tr>\n",
              "    <tr>\n",
              "      <th>1</th>\n",
              "      <td>Poison</td>\n",
              "      <td>Bell Biv DeVoe</td>\n",
              "      <td>NA Yeah, Spyderman and Freeze in full effect U...</td>\n",
              "      <td>2005</td>\n",
              "      <td>0.0</td>\n",
              "      <td>False</td>\n",
              "      <td>False</td>\n",
              "      <td>False</td>\n",
              "      <td>True</td>\n",
              "      <td>False</td>\n",
              "      <td>False</td>\n",
              "      <td>Unknown</td>\n",
              "      <td>2000s</td>\n",
              "      <td>bell biv devoe</td>\n",
              "    </tr>\n",
              "    <tr>\n",
              "      <th>2</th>\n",
              "      <td>Baby It's Cold Outside (feat. Christina Aguilera)</td>\n",
              "      <td>CeeLo Green</td>\n",
              "      <td>I really can't stay Baby it's cold outside I'v...</td>\n",
              "      <td>2012</td>\n",
              "      <td>41.0</td>\n",
              "      <td>False</td>\n",
              "      <td>False</td>\n",
              "      <td>False</td>\n",
              "      <td>True</td>\n",
              "      <td>False</td>\n",
              "      <td>False</td>\n",
              "      <td>Unknown</td>\n",
              "      <td>2010s</td>\n",
              "      <td>ceelo green</td>\n",
              "    </tr>\n",
              "    <tr>\n",
              "      <th>3</th>\n",
              "      <td>Dumb Litty</td>\n",
              "      <td>KARD</td>\n",
              "      <td>Get up out of my business You don't keep me fr...</td>\n",
              "      <td>2019</td>\n",
              "      <td>65.0</td>\n",
              "      <td>False</td>\n",
              "      <td>False</td>\n",
              "      <td>True</td>\n",
              "      <td>False</td>\n",
              "      <td>False</td>\n",
              "      <td>False</td>\n",
              "      <td>Unknown</td>\n",
              "      <td>2010s</td>\n",
              "      <td>kard</td>\n",
              "    </tr>\n",
              "    <tr>\n",
              "      <th>4</th>\n",
              "      <td>Soldier</td>\n",
              "      <td>James TW</td>\n",
              "      <td>Hold your breath, don't look down, keep trying...</td>\n",
              "      <td>2019</td>\n",
              "      <td>70.0</td>\n",
              "      <td>False</td>\n",
              "      <td>False</td>\n",
              "      <td>False</td>\n",
              "      <td>True</td>\n",
              "      <td>False</td>\n",
              "      <td>False</td>\n",
              "      <td>Unknown</td>\n",
              "      <td>2010s</td>\n",
              "      <td>james tw</td>\n",
              "    </tr>\n",
              "    <tr>\n",
              "      <th>...</th>\n",
              "      <td>...</td>\n",
              "      <td>...</td>\n",
              "      <td>...</td>\n",
              "      <td>...</td>\n",
              "      <td>...</td>\n",
              "      <td>...</td>\n",
              "      <td>...</td>\n",
              "      <td>...</td>\n",
              "      <td>...</td>\n",
              "      <td>...</td>\n",
              "      <td>...</td>\n",
              "      <td>...</td>\n",
              "      <td>...</td>\n",
              "      <td>...</td>\n",
              "    </tr>\n",
              "    <tr>\n",
              "      <th>237131</th>\n",
              "      <td>Who Am I Drinking Tonight</td>\n",
              "      <td>Edens Edge</td>\n",
              "      <td>I gotta say Boy after only just a couple of da...</td>\n",
              "      <td>2012</td>\n",
              "      <td>NaN</td>\n",
              "      <td>False</td>\n",
              "      <td>False</td>\n",
              "      <td>False</td>\n",
              "      <td>False</td>\n",
              "      <td>False</td>\n",
              "      <td>False</td>\n",
              "      <td>Unknown</td>\n",
              "      <td>2010s</td>\n",
              "      <td>edens edge</td>\n",
              "    </tr>\n",
              "    <tr>\n",
              "      <th>237132</th>\n",
              "      <td>Liar</td>\n",
              "      <td>Edens Edge</td>\n",
              "      <td>I helped you find her diamond ring You made me...</td>\n",
              "      <td>2012</td>\n",
              "      <td>NaN</td>\n",
              "      <td>False</td>\n",
              "      <td>False</td>\n",
              "      <td>False</td>\n",
              "      <td>False</td>\n",
              "      <td>False</td>\n",
              "      <td>False</td>\n",
              "      <td>Unknown</td>\n",
              "      <td>2010s</td>\n",
              "      <td>edens edge</td>\n",
              "    </tr>\n",
              "    <tr>\n",
              "      <th>237133</th>\n",
              "      <td>Last Supper</td>\n",
              "      <td>Edens Edge</td>\n",
              "      <td>Look at the couple in the corner booth Looks a...</td>\n",
              "      <td>2012</td>\n",
              "      <td>NaN</td>\n",
              "      <td>False</td>\n",
              "      <td>False</td>\n",
              "      <td>False</td>\n",
              "      <td>False</td>\n",
              "      <td>False</td>\n",
              "      <td>False</td>\n",
              "      <td>Unknown</td>\n",
              "      <td>2010s</td>\n",
              "      <td>edens edge</td>\n",
              "    </tr>\n",
              "    <tr>\n",
              "      <th>237134</th>\n",
              "      <td>Christ Alone Live In Studio</td>\n",
              "      <td>Edens Edge</td>\n",
              "      <td>When I fly off this mortal earth And I'm measu...</td>\n",
              "      <td>2012</td>\n",
              "      <td>NaN</td>\n",
              "      <td>False</td>\n",
              "      <td>False</td>\n",
              "      <td>False</td>\n",
              "      <td>False</td>\n",
              "      <td>False</td>\n",
              "      <td>False</td>\n",
              "      <td>Unknown</td>\n",
              "      <td>2010s</td>\n",
              "      <td>edens edge</td>\n",
              "    </tr>\n",
              "    <tr>\n",
              "      <th>237135</th>\n",
              "      <td>Amen</td>\n",
              "      <td>Edens Edge</td>\n",
              "      <td>I heard from a friend of a friend of a friend ...</td>\n",
              "      <td>2012</td>\n",
              "      <td>NaN</td>\n",
              "      <td>False</td>\n",
              "      <td>False</td>\n",
              "      <td>False</td>\n",
              "      <td>False</td>\n",
              "      <td>False</td>\n",
              "      <td>False</td>\n",
              "      <td>Unknown</td>\n",
              "      <td>2010s</td>\n",
              "      <td>edens edge</td>\n",
              "    </tr>\n",
              "  </tbody>\n",
              "</table>\n",
              "<p>237136 rows × 14 columns</p>\n",
              "</div>\n",
              "      <button class=\"colab-df-convert\" onclick=\"convertToInteractive('df-f48c1e32-b893-4b37-89eb-f381f5fb0fb7')\"\n",
              "              title=\"Convert this dataframe to an interactive table.\"\n",
              "              style=\"display:none;\">\n",
              "        \n",
              "  <svg xmlns=\"http://www.w3.org/2000/svg\" height=\"24px\"viewBox=\"0 0 24 24\"\n",
              "       width=\"24px\">\n",
              "    <path d=\"M0 0h24v24H0V0z\" fill=\"none\"/>\n",
              "    <path d=\"M18.56 5.44l.94 2.06.94-2.06 2.06-.94-2.06-.94-.94-2.06-.94 2.06-2.06.94zm-11 1L8.5 8.5l.94-2.06 2.06-.94-2.06-.94L8.5 2.5l-.94 2.06-2.06.94zm10 10l.94 2.06.94-2.06 2.06-.94-2.06-.94-.94-2.06-.94 2.06-2.06.94z\"/><path d=\"M17.41 7.96l-1.37-1.37c-.4-.4-.92-.59-1.43-.59-.52 0-1.04.2-1.43.59L10.3 9.45l-7.72 7.72c-.78.78-.78 2.05 0 2.83L4 21.41c.39.39.9.59 1.41.59.51 0 1.02-.2 1.41-.59l7.78-7.78 2.81-2.81c.8-.78.8-2.07 0-2.86zM5.41 20L4 18.59l7.72-7.72 1.47 1.35L5.41 20z\"/>\n",
              "  </svg>\n",
              "      </button>\n",
              "      \n",
              "  <style>\n",
              "    .colab-df-container {\n",
              "      display:flex;\n",
              "      flex-wrap:wrap;\n",
              "      gap: 12px;\n",
              "    }\n",
              "\n",
              "    .colab-df-convert {\n",
              "      background-color: #E8F0FE;\n",
              "      border: none;\n",
              "      border-radius: 50%;\n",
              "      cursor: pointer;\n",
              "      display: none;\n",
              "      fill: #1967D2;\n",
              "      height: 32px;\n",
              "      padding: 0 0 0 0;\n",
              "      width: 32px;\n",
              "    }\n",
              "\n",
              "    .colab-df-convert:hover {\n",
              "      background-color: #E2EBFA;\n",
              "      box-shadow: 0px 1px 2px rgba(60, 64, 67, 0.3), 0px 1px 3px 1px rgba(60, 64, 67, 0.15);\n",
              "      fill: #174EA6;\n",
              "    }\n",
              "\n",
              "    [theme=dark] .colab-df-convert {\n",
              "      background-color: #3B4455;\n",
              "      fill: #D2E3FC;\n",
              "    }\n",
              "\n",
              "    [theme=dark] .colab-df-convert:hover {\n",
              "      background-color: #434B5C;\n",
              "      box-shadow: 0px 1px 3px 1px rgba(0, 0, 0, 0.15);\n",
              "      filter: drop-shadow(0px 1px 2px rgba(0, 0, 0, 0.3));\n",
              "      fill: #FFFFFF;\n",
              "    }\n",
              "  </style>\n",
              "\n",
              "      <script>\n",
              "        const buttonEl =\n",
              "          document.querySelector('#df-f48c1e32-b893-4b37-89eb-f381f5fb0fb7 button.colab-df-convert');\n",
              "        buttonEl.style.display =\n",
              "          google.colab.kernel.accessAllowed ? 'block' : 'none';\n",
              "\n",
              "        async function convertToInteractive(key) {\n",
              "          const element = document.querySelector('#df-f48c1e32-b893-4b37-89eb-f381f5fb0fb7');\n",
              "          const dataTable =\n",
              "            await google.colab.kernel.invokeFunction('convertToInteractive',\n",
              "                                                     [key], {});\n",
              "          if (!dataTable) return;\n",
              "\n",
              "          const docLinkHtml = 'Like what you see? Visit the ' +\n",
              "            '<a target=\"_blank\" href=https://colab.research.google.com/notebooks/data_table.ipynb>data table notebook</a>'\n",
              "            + ' to learn more about interactive tables.';\n",
              "          element.innerHTML = '';\n",
              "          dataTable['output_type'] = 'display_data';\n",
              "          await google.colab.output.renderOutput(dataTable, element);\n",
              "          const docLink = document.createElement('div');\n",
              "          docLink.innerHTML = docLinkHtml;\n",
              "          element.appendChild(docLink);\n",
              "        }\n",
              "      </script>\n",
              "    </div>\n",
              "  </div>\n",
              "  "
            ],
            "text/plain": [
              "                                                    title  ...    artist_lower\n",
              "0                                            I Feel Alive  ...   steady rollin\n",
              "1                                                  Poison  ...  bell biv devoe\n",
              "2       Baby It's Cold Outside (feat. Christina Aguilera)  ...     ceelo green\n",
              "3                                              Dumb Litty  ...            kard\n",
              "4                                                 Soldier  ...        james tw\n",
              "...                                                   ...  ...             ...\n",
              "237131                          Who Am I Drinking Tonight  ...      edens edge\n",
              "237132                                               Liar  ...      edens edge\n",
              "237133                                        Last Supper  ...      edens edge\n",
              "237134                        Christ Alone Live In Studio  ...      edens edge\n",
              "237135                                               Amen  ...      edens edge\n",
              "\n",
              "[237136 rows x 14 columns]"
            ]
          },
          "execution_count": 152,
          "metadata": {},
          "output_type": "execute_result"
        }
      ],
      "source": [
        "result"
      ]
    },
    {
      "cell_type": "code",
      "execution_count": null,
      "metadata": {
        "colab": {
          "base_uri": "https://localhost:8080/",
          "height": 780
        },
        "id": "6WwU7BFtm_QR",
        "outputId": "0fcae45e-42c8-4b80-d2d7-46bc3dfc0ce9"
      },
      "outputs": [
        {
          "data": {
            "text/html": [
              "\n",
              "  <div id=\"df-f8b20997-48eb-4f71-b0c3-de38569a452d\">\n",
              "    <div class=\"colab-df-container\">\n",
              "      <div>\n",
              "<style scoped>\n",
              "    .dataframe tbody tr th:only-of-type {\n",
              "        vertical-align: middle;\n",
              "    }\n",
              "\n",
              "    .dataframe tbody tr th {\n",
              "        vertical-align: top;\n",
              "    }\n",
              "\n",
              "    .dataframe thead th {\n",
              "        text-align: right;\n",
              "    }\n",
              "</style>\n",
              "<table border=\"1\" class=\"dataframe\">\n",
              "  <thead>\n",
              "    <tr style=\"text-align: right;\">\n",
              "      <th></th>\n",
              "      <th>title</th>\n",
              "      <th>artist</th>\n",
              "      <th>lyrics</th>\n",
              "      <th>year</th>\n",
              "      <th>popularity</th>\n",
              "      <th>edm</th>\n",
              "      <th>latin</th>\n",
              "      <th>pop</th>\n",
              "      <th>r&amp;b</th>\n",
              "      <th>rap</th>\n",
              "      <th>rock</th>\n",
              "      <th>Gender</th>\n",
              "      <th>year_bin</th>\n",
              "      <th>artist_lower</th>\n",
              "    </tr>\n",
              "  </thead>\n",
              "  <tbody>\n",
              "    <tr>\n",
              "      <th>6935</th>\n",
              "      <td>...Baby One More Time</td>\n",
              "      <td>Britney Spears</td>\n",
              "      <td>Oh baby, baby Oh baby, baby Oh baby, baby, how...</td>\n",
              "      <td>1999</td>\n",
              "      <td>75.0</td>\n",
              "      <td>False</td>\n",
              "      <td>False</td>\n",
              "      <td>True</td>\n",
              "      <td>False</td>\n",
              "      <td>False</td>\n",
              "      <td>False</td>\n",
              "      <td>Unknown</td>\n",
              "      <td>1990s</td>\n",
              "      <td>britney spears</td>\n",
              "    </tr>\n",
              "    <tr>\n",
              "      <th>17652</th>\n",
              "      <td>...Baby One More Time</td>\n",
              "      <td>Britney Spears</td>\n",
              "      <td>Oh, baby, baby\\nOh, baby, baby\\n\\nOh, baby, ba...</td>\n",
              "      <td>1999</td>\n",
              "      <td>NaN</td>\n",
              "      <td>True</td>\n",
              "      <td>False</td>\n",
              "      <td>True</td>\n",
              "      <td>False</td>\n",
              "      <td>False</td>\n",
              "      <td>False</td>\n",
              "      <td>female</td>\n",
              "      <td>1990s</td>\n",
              "      <td>britney spears</td>\n",
              "    </tr>\n",
              "    <tr>\n",
              "      <th>6498</th>\n",
              "      <td>1 Adam 12</td>\n",
              "      <td>Delinquent Habits</td>\n",
              "      <td>I'm predisposed for abuse I can take it so bri...</td>\n",
              "      <td>1998</td>\n",
              "      <td>28.0</td>\n",
              "      <td>False</td>\n",
              "      <td>True</td>\n",
              "      <td>False</td>\n",
              "      <td>False</td>\n",
              "      <td>False</td>\n",
              "      <td>False</td>\n",
              "      <td>Unknown</td>\n",
              "      <td>1990s</td>\n",
              "      <td>delinquent habits</td>\n",
              "    </tr>\n",
              "    <tr>\n",
              "      <th>61741</th>\n",
              "      <td>1 Adam 12</td>\n",
              "      <td>Delinquent Habits</td>\n",
              "      <td>I'm predisposed for abuse I can take it so br...</td>\n",
              "      <td>2006</td>\n",
              "      <td>NaN</td>\n",
              "      <td>False</td>\n",
              "      <td>False</td>\n",
              "      <td>False</td>\n",
              "      <td>False</td>\n",
              "      <td>True</td>\n",
              "      <td>False</td>\n",
              "      <td>Unknown</td>\n",
              "      <td>2000s</td>\n",
              "      <td>delinquent habits</td>\n",
              "    </tr>\n",
              "    <tr>\n",
              "      <th>3132</th>\n",
              "      <td>1 Thing</td>\n",
              "      <td>Amerie</td>\n",
              "      <td>Na, na, na, na, na, oh Na, na, na, na, na, oh ...</td>\n",
              "      <td>2005</td>\n",
              "      <td>59.0</td>\n",
              "      <td>False</td>\n",
              "      <td>False</td>\n",
              "      <td>False</td>\n",
              "      <td>True</td>\n",
              "      <td>False</td>\n",
              "      <td>False</td>\n",
              "      <td>Unknown</td>\n",
              "      <td>2000s</td>\n",
              "      <td>amerie</td>\n",
              "    </tr>\n",
              "    <tr>\n",
              "      <th>...</th>\n",
              "      <td>...</td>\n",
              "      <td>...</td>\n",
              "      <td>...</td>\n",
              "      <td>...</td>\n",
              "      <td>...</td>\n",
              "      <td>...</td>\n",
              "      <td>...</td>\n",
              "      <td>...</td>\n",
              "      <td>...</td>\n",
              "      <td>...</td>\n",
              "      <td>...</td>\n",
              "      <td>...</td>\n",
              "      <td>...</td>\n",
              "      <td>...</td>\n",
              "    </tr>\n",
              "    <tr>\n",
              "      <th>14441</th>\n",
              "      <td>shut up</td>\n",
              "      <td>Greyson Chance</td>\n",
              "      <td>I cannot hold my tongue, you give me much to s...</td>\n",
              "      <td>2019</td>\n",
              "      <td>58.0</td>\n",
              "      <td>False</td>\n",
              "      <td>False</td>\n",
              "      <td>True</td>\n",
              "      <td>False</td>\n",
              "      <td>False</td>\n",
              "      <td>False</td>\n",
              "      <td>Unknown</td>\n",
              "      <td>2010s</td>\n",
              "      <td>greyson chance</td>\n",
              "    </tr>\n",
              "    <tr>\n",
              "      <th>5219</th>\n",
              "      <td>sobeautiful</td>\n",
              "      <td>Musiq Soulchild</td>\n",
              "      <td>You're my baby, my lover, my lady All night yo...</td>\n",
              "      <td>2008</td>\n",
              "      <td>58.0</td>\n",
              "      <td>False</td>\n",
              "      <td>False</td>\n",
              "      <td>False</td>\n",
              "      <td>True</td>\n",
              "      <td>False</td>\n",
              "      <td>False</td>\n",
              "      <td>Unknown</td>\n",
              "      <td>2000s</td>\n",
              "      <td>musiq soulchild</td>\n",
              "    </tr>\n",
              "    <tr>\n",
              "      <th>6465</th>\n",
              "      <td>sobeautiful</td>\n",
              "      <td>Musiq Soulchild</td>\n",
              "      <td>You're my baby, my lover, my lady All night yo...</td>\n",
              "      <td>2011</td>\n",
              "      <td>36.0</td>\n",
              "      <td>False</td>\n",
              "      <td>False</td>\n",
              "      <td>False</td>\n",
              "      <td>True</td>\n",
              "      <td>False</td>\n",
              "      <td>False</td>\n",
              "      <td>Unknown</td>\n",
              "      <td>2010s</td>\n",
              "      <td>musiq soulchild</td>\n",
              "    </tr>\n",
              "    <tr>\n",
              "      <th>5349</th>\n",
              "      <td>thank u, next</td>\n",
              "      <td>Ariana Grande</td>\n",
              "      <td>Thought I'd end up with Sean But he wasn't a m...</td>\n",
              "      <td>2018</td>\n",
              "      <td>28.0</td>\n",
              "      <td>False</td>\n",
              "      <td>False</td>\n",
              "      <td>True</td>\n",
              "      <td>False</td>\n",
              "      <td>False</td>\n",
              "      <td>False</td>\n",
              "      <td>Unknown</td>\n",
              "      <td>2010s</td>\n",
              "      <td>ariana grande</td>\n",
              "    </tr>\n",
              "    <tr>\n",
              "      <th>6439</th>\n",
              "      <td>thank u, next</td>\n",
              "      <td>Ariana Grande</td>\n",
              "      <td>Thought I'd end up with Sean But he wasn't a m...</td>\n",
              "      <td>2019</td>\n",
              "      <td>87.0</td>\n",
              "      <td>False</td>\n",
              "      <td>False</td>\n",
              "      <td>True</td>\n",
              "      <td>False</td>\n",
              "      <td>False</td>\n",
              "      <td>False</td>\n",
              "      <td>Unknown</td>\n",
              "      <td>2010s</td>\n",
              "      <td>ariana grande</td>\n",
              "    </tr>\n",
              "  </tbody>\n",
              "</table>\n",
              "<p>7926 rows × 14 columns</p>\n",
              "</div>\n",
              "      <button class=\"colab-df-convert\" onclick=\"convertToInteractive('df-f8b20997-48eb-4f71-b0c3-de38569a452d')\"\n",
              "              title=\"Convert this dataframe to an interactive table.\"\n",
              "              style=\"display:none;\">\n",
              "        \n",
              "  <svg xmlns=\"http://www.w3.org/2000/svg\" height=\"24px\"viewBox=\"0 0 24 24\"\n",
              "       width=\"24px\">\n",
              "    <path d=\"M0 0h24v24H0V0z\" fill=\"none\"/>\n",
              "    <path d=\"M18.56 5.44l.94 2.06.94-2.06 2.06-.94-2.06-.94-.94-2.06-.94 2.06-2.06.94zm-11 1L8.5 8.5l.94-2.06 2.06-.94-2.06-.94L8.5 2.5l-.94 2.06-2.06.94zm10 10l.94 2.06.94-2.06 2.06-.94-2.06-.94-.94-2.06-.94 2.06-2.06.94z\"/><path d=\"M17.41 7.96l-1.37-1.37c-.4-.4-.92-.59-1.43-.59-.52 0-1.04.2-1.43.59L10.3 9.45l-7.72 7.72c-.78.78-.78 2.05 0 2.83L4 21.41c.39.39.9.59 1.41.59.51 0 1.02-.2 1.41-.59l7.78-7.78 2.81-2.81c.8-.78.8-2.07 0-2.86zM5.41 20L4 18.59l7.72-7.72 1.47 1.35L5.41 20z\"/>\n",
              "  </svg>\n",
              "      </button>\n",
              "      \n",
              "  <style>\n",
              "    .colab-df-container {\n",
              "      display:flex;\n",
              "      flex-wrap:wrap;\n",
              "      gap: 12px;\n",
              "    }\n",
              "\n",
              "    .colab-df-convert {\n",
              "      background-color: #E8F0FE;\n",
              "      border: none;\n",
              "      border-radius: 50%;\n",
              "      cursor: pointer;\n",
              "      display: none;\n",
              "      fill: #1967D2;\n",
              "      height: 32px;\n",
              "      padding: 0 0 0 0;\n",
              "      width: 32px;\n",
              "    }\n",
              "\n",
              "    .colab-df-convert:hover {\n",
              "      background-color: #E2EBFA;\n",
              "      box-shadow: 0px 1px 2px rgba(60, 64, 67, 0.3), 0px 1px 3px 1px rgba(60, 64, 67, 0.15);\n",
              "      fill: #174EA6;\n",
              "    }\n",
              "\n",
              "    [theme=dark] .colab-df-convert {\n",
              "      background-color: #3B4455;\n",
              "      fill: #D2E3FC;\n",
              "    }\n",
              "\n",
              "    [theme=dark] .colab-df-convert:hover {\n",
              "      background-color: #434B5C;\n",
              "      box-shadow: 0px 1px 3px 1px rgba(0, 0, 0, 0.15);\n",
              "      filter: drop-shadow(0px 1px 2px rgba(0, 0, 0, 0.3));\n",
              "      fill: #FFFFFF;\n",
              "    }\n",
              "  </style>\n",
              "\n",
              "      <script>\n",
              "        const buttonEl =\n",
              "          document.querySelector('#df-f8b20997-48eb-4f71-b0c3-de38569a452d button.colab-df-convert');\n",
              "        buttonEl.style.display =\n",
              "          google.colab.kernel.accessAllowed ? 'block' : 'none';\n",
              "\n",
              "        async function convertToInteractive(key) {\n",
              "          const element = document.querySelector('#df-f8b20997-48eb-4f71-b0c3-de38569a452d');\n",
              "          const dataTable =\n",
              "            await google.colab.kernel.invokeFunction('convertToInteractive',\n",
              "                                                     [key], {});\n",
              "          if (!dataTable) return;\n",
              "\n",
              "          const docLinkHtml = 'Like what you see? Visit the ' +\n",
              "            '<a target=\"_blank\" href=https://colab.research.google.com/notebooks/data_table.ipynb>data table notebook</a>'\n",
              "            + ' to learn more about interactive tables.';\n",
              "          element.innerHTML = '';\n",
              "          dataTable['output_type'] = 'display_data';\n",
              "          await google.colab.output.renderOutput(dataTable, element);\n",
              "          const docLink = document.createElement('div');\n",
              "          docLink.innerHTML = docLinkHtml;\n",
              "          element.appendChild(docLink);\n",
              "        }\n",
              "      </script>\n",
              "    </div>\n",
              "  </div>\n",
              "  "
            ],
            "text/plain": [
              "                       title             artist  ... year_bin       artist_lower\n",
              "6935   ...Baby One More Time     Britney Spears  ...    1990s     britney spears\n",
              "17652  ...Baby One More Time     Britney Spears  ...    1990s     britney spears\n",
              "6498               1 Adam 12  Delinquent Habits  ...    1990s  delinquent habits\n",
              "61741              1 Adam 12  Delinquent Habits  ...    2000s  delinquent habits\n",
              "3132                 1 Thing             Amerie  ...    2000s             amerie\n",
              "...                      ...                ...  ...      ...                ...\n",
              "14441                shut up     Greyson Chance  ...    2010s     greyson chance\n",
              "5219             sobeautiful    Musiq Soulchild  ...    2000s    musiq soulchild\n",
              "6465             sobeautiful    Musiq Soulchild  ...    2010s    musiq soulchild\n",
              "5349           thank u, next      Ariana Grande  ...    2010s      ariana grande\n",
              "6439           thank u, next      Ariana Grande  ...    2010s      ariana grande\n",
              "\n",
              "[7926 rows x 14 columns]"
            ]
          },
          "execution_count": 153,
          "metadata": {},
          "output_type": "execute_result"
        }
      ],
      "source": [
        "result[result.duplicated(subset = ['title', 'artist'], keep = False)].sort_values(['title', 'artist_lower'])"
      ]
    },
    {
      "cell_type": "code",
      "execution_count": null,
      "metadata": {
        "id": "K6rb6q68n4Yw"
      },
      "outputs": [],
      "source": [
        "result.drop_duplicates(subset=None, keep='first', inplace=True, ignore_index=True)"
      ]
    },
    {
      "cell_type": "code",
      "execution_count": null,
      "metadata": {
        "colab": {
          "base_uri": "https://localhost:8080/",
          "height": 815
        },
        "id": "MhRVlHwgpPCx",
        "outputId": "6e66a8ed-ad48-45e9-d2f9-2a2151c137ce"
      },
      "outputs": [
        {
          "data": {
            "text/html": [
              "\n",
              "  <div id=\"df-bc90babd-fd03-4313-b086-35f55d6a6124\">\n",
              "    <div class=\"colab-df-container\">\n",
              "      <div>\n",
              "<style scoped>\n",
              "    .dataframe tbody tr th:only-of-type {\n",
              "        vertical-align: middle;\n",
              "    }\n",
              "\n",
              "    .dataframe tbody tr th {\n",
              "        vertical-align: top;\n",
              "    }\n",
              "\n",
              "    .dataframe thead th {\n",
              "        text-align: right;\n",
              "    }\n",
              "</style>\n",
              "<table border=\"1\" class=\"dataframe\">\n",
              "  <thead>\n",
              "    <tr style=\"text-align: right;\">\n",
              "      <th></th>\n",
              "      <th>title</th>\n",
              "      <th>artist</th>\n",
              "      <th>lyrics</th>\n",
              "      <th>year</th>\n",
              "      <th>popularity</th>\n",
              "      <th>edm</th>\n",
              "      <th>latin</th>\n",
              "      <th>pop</th>\n",
              "      <th>r&amp;b</th>\n",
              "      <th>rap</th>\n",
              "      <th>rock</th>\n",
              "      <th>Gender</th>\n",
              "      <th>year_bin</th>\n",
              "      <th>artist_lower</th>\n",
              "    </tr>\n",
              "  </thead>\n",
              "  <tbody>\n",
              "    <tr>\n",
              "      <th>0</th>\n",
              "      <td>I Feel Alive</td>\n",
              "      <td>Steady Rollin</td>\n",
              "      <td>The trees, are singing in the wind The sky blu...</td>\n",
              "      <td>2017</td>\n",
              "      <td>28.0</td>\n",
              "      <td>False</td>\n",
              "      <td>False</td>\n",
              "      <td>False</td>\n",
              "      <td>False</td>\n",
              "      <td>False</td>\n",
              "      <td>True</td>\n",
              "      <td>Unknown</td>\n",
              "      <td>2010s</td>\n",
              "      <td>steady rollin</td>\n",
              "    </tr>\n",
              "    <tr>\n",
              "      <th>1</th>\n",
              "      <td>Poison</td>\n",
              "      <td>Bell Biv DeVoe</td>\n",
              "      <td>NA Yeah, Spyderman and Freeze in full effect U...</td>\n",
              "      <td>2005</td>\n",
              "      <td>0.0</td>\n",
              "      <td>False</td>\n",
              "      <td>False</td>\n",
              "      <td>False</td>\n",
              "      <td>True</td>\n",
              "      <td>False</td>\n",
              "      <td>False</td>\n",
              "      <td>Unknown</td>\n",
              "      <td>2000s</td>\n",
              "      <td>bell biv devoe</td>\n",
              "    </tr>\n",
              "    <tr>\n",
              "      <th>2</th>\n",
              "      <td>Baby It's Cold Outside (feat. Christina Aguilera)</td>\n",
              "      <td>CeeLo Green</td>\n",
              "      <td>I really can't stay Baby it's cold outside I'v...</td>\n",
              "      <td>2012</td>\n",
              "      <td>41.0</td>\n",
              "      <td>False</td>\n",
              "      <td>False</td>\n",
              "      <td>False</td>\n",
              "      <td>True</td>\n",
              "      <td>False</td>\n",
              "      <td>False</td>\n",
              "      <td>Unknown</td>\n",
              "      <td>2010s</td>\n",
              "      <td>ceelo green</td>\n",
              "    </tr>\n",
              "    <tr>\n",
              "      <th>3</th>\n",
              "      <td>Dumb Litty</td>\n",
              "      <td>KARD</td>\n",
              "      <td>Get up out of my business You don't keep me fr...</td>\n",
              "      <td>2019</td>\n",
              "      <td>65.0</td>\n",
              "      <td>False</td>\n",
              "      <td>False</td>\n",
              "      <td>True</td>\n",
              "      <td>False</td>\n",
              "      <td>False</td>\n",
              "      <td>False</td>\n",
              "      <td>Unknown</td>\n",
              "      <td>2010s</td>\n",
              "      <td>kard</td>\n",
              "    </tr>\n",
              "    <tr>\n",
              "      <th>4</th>\n",
              "      <td>Soldier</td>\n",
              "      <td>James TW</td>\n",
              "      <td>Hold your breath, don't look down, keep trying...</td>\n",
              "      <td>2019</td>\n",
              "      <td>70.0</td>\n",
              "      <td>False</td>\n",
              "      <td>False</td>\n",
              "      <td>False</td>\n",
              "      <td>True</td>\n",
              "      <td>False</td>\n",
              "      <td>False</td>\n",
              "      <td>Unknown</td>\n",
              "      <td>2010s</td>\n",
              "      <td>james tw</td>\n",
              "    </tr>\n",
              "    <tr>\n",
              "      <th>...</th>\n",
              "      <td>...</td>\n",
              "      <td>...</td>\n",
              "      <td>...</td>\n",
              "      <td>...</td>\n",
              "      <td>...</td>\n",
              "      <td>...</td>\n",
              "      <td>...</td>\n",
              "      <td>...</td>\n",
              "      <td>...</td>\n",
              "      <td>...</td>\n",
              "      <td>...</td>\n",
              "      <td>...</td>\n",
              "      <td>...</td>\n",
              "      <td>...</td>\n",
              "    </tr>\n",
              "    <tr>\n",
              "      <th>237131</th>\n",
              "      <td>Who Am I Drinking Tonight</td>\n",
              "      <td>Edens Edge</td>\n",
              "      <td>I gotta say Boy after only just a couple of da...</td>\n",
              "      <td>2012</td>\n",
              "      <td>NaN</td>\n",
              "      <td>False</td>\n",
              "      <td>False</td>\n",
              "      <td>False</td>\n",
              "      <td>False</td>\n",
              "      <td>False</td>\n",
              "      <td>False</td>\n",
              "      <td>Unknown</td>\n",
              "      <td>2010s</td>\n",
              "      <td>edens edge</td>\n",
              "    </tr>\n",
              "    <tr>\n",
              "      <th>237132</th>\n",
              "      <td>Liar</td>\n",
              "      <td>Edens Edge</td>\n",
              "      <td>I helped you find her diamond ring You made me...</td>\n",
              "      <td>2012</td>\n",
              "      <td>NaN</td>\n",
              "      <td>False</td>\n",
              "      <td>False</td>\n",
              "      <td>False</td>\n",
              "      <td>False</td>\n",
              "      <td>False</td>\n",
              "      <td>False</td>\n",
              "      <td>Unknown</td>\n",
              "      <td>2010s</td>\n",
              "      <td>edens edge</td>\n",
              "    </tr>\n",
              "    <tr>\n",
              "      <th>237133</th>\n",
              "      <td>Last Supper</td>\n",
              "      <td>Edens Edge</td>\n",
              "      <td>Look at the couple in the corner booth Looks a...</td>\n",
              "      <td>2012</td>\n",
              "      <td>NaN</td>\n",
              "      <td>False</td>\n",
              "      <td>False</td>\n",
              "      <td>False</td>\n",
              "      <td>False</td>\n",
              "      <td>False</td>\n",
              "      <td>False</td>\n",
              "      <td>Unknown</td>\n",
              "      <td>2010s</td>\n",
              "      <td>edens edge</td>\n",
              "    </tr>\n",
              "    <tr>\n",
              "      <th>237134</th>\n",
              "      <td>Christ Alone Live In Studio</td>\n",
              "      <td>Edens Edge</td>\n",
              "      <td>When I fly off this mortal earth And I'm measu...</td>\n",
              "      <td>2012</td>\n",
              "      <td>NaN</td>\n",
              "      <td>False</td>\n",
              "      <td>False</td>\n",
              "      <td>False</td>\n",
              "      <td>False</td>\n",
              "      <td>False</td>\n",
              "      <td>False</td>\n",
              "      <td>Unknown</td>\n",
              "      <td>2010s</td>\n",
              "      <td>edens edge</td>\n",
              "    </tr>\n",
              "    <tr>\n",
              "      <th>237135</th>\n",
              "      <td>Amen</td>\n",
              "      <td>Edens Edge</td>\n",
              "      <td>I heard from a friend of a friend of a friend ...</td>\n",
              "      <td>2012</td>\n",
              "      <td>NaN</td>\n",
              "      <td>False</td>\n",
              "      <td>False</td>\n",
              "      <td>False</td>\n",
              "      <td>False</td>\n",
              "      <td>False</td>\n",
              "      <td>False</td>\n",
              "      <td>Unknown</td>\n",
              "      <td>2010s</td>\n",
              "      <td>edens edge</td>\n",
              "    </tr>\n",
              "  </tbody>\n",
              "</table>\n",
              "<p>237136 rows × 14 columns</p>\n",
              "</div>\n",
              "      <button class=\"colab-df-convert\" onclick=\"convertToInteractive('df-bc90babd-fd03-4313-b086-35f55d6a6124')\"\n",
              "              title=\"Convert this dataframe to an interactive table.\"\n",
              "              style=\"display:none;\">\n",
              "        \n",
              "  <svg xmlns=\"http://www.w3.org/2000/svg\" height=\"24px\"viewBox=\"0 0 24 24\"\n",
              "       width=\"24px\">\n",
              "    <path d=\"M0 0h24v24H0V0z\" fill=\"none\"/>\n",
              "    <path d=\"M18.56 5.44l.94 2.06.94-2.06 2.06-.94-2.06-.94-.94-2.06-.94 2.06-2.06.94zm-11 1L8.5 8.5l.94-2.06 2.06-.94-2.06-.94L8.5 2.5l-.94 2.06-2.06.94zm10 10l.94 2.06.94-2.06 2.06-.94-2.06-.94-.94-2.06-.94 2.06-2.06.94z\"/><path d=\"M17.41 7.96l-1.37-1.37c-.4-.4-.92-.59-1.43-.59-.52 0-1.04.2-1.43.59L10.3 9.45l-7.72 7.72c-.78.78-.78 2.05 0 2.83L4 21.41c.39.39.9.59 1.41.59.51 0 1.02-.2 1.41-.59l7.78-7.78 2.81-2.81c.8-.78.8-2.07 0-2.86zM5.41 20L4 18.59l7.72-7.72 1.47 1.35L5.41 20z\"/>\n",
              "  </svg>\n",
              "      </button>\n",
              "      \n",
              "  <style>\n",
              "    .colab-df-container {\n",
              "      display:flex;\n",
              "      flex-wrap:wrap;\n",
              "      gap: 12px;\n",
              "    }\n",
              "\n",
              "    .colab-df-convert {\n",
              "      background-color: #E8F0FE;\n",
              "      border: none;\n",
              "      border-radius: 50%;\n",
              "      cursor: pointer;\n",
              "      display: none;\n",
              "      fill: #1967D2;\n",
              "      height: 32px;\n",
              "      padding: 0 0 0 0;\n",
              "      width: 32px;\n",
              "    }\n",
              "\n",
              "    .colab-df-convert:hover {\n",
              "      background-color: #E2EBFA;\n",
              "      box-shadow: 0px 1px 2px rgba(60, 64, 67, 0.3), 0px 1px 3px 1px rgba(60, 64, 67, 0.15);\n",
              "      fill: #174EA6;\n",
              "    }\n",
              "\n",
              "    [theme=dark] .colab-df-convert {\n",
              "      background-color: #3B4455;\n",
              "      fill: #D2E3FC;\n",
              "    }\n",
              "\n",
              "    [theme=dark] .colab-df-convert:hover {\n",
              "      background-color: #434B5C;\n",
              "      box-shadow: 0px 1px 3px 1px rgba(0, 0, 0, 0.15);\n",
              "      filter: drop-shadow(0px 1px 2px rgba(0, 0, 0, 0.3));\n",
              "      fill: #FFFFFF;\n",
              "    }\n",
              "  </style>\n",
              "\n",
              "      <script>\n",
              "        const buttonEl =\n",
              "          document.querySelector('#df-bc90babd-fd03-4313-b086-35f55d6a6124 button.colab-df-convert');\n",
              "        buttonEl.style.display =\n",
              "          google.colab.kernel.accessAllowed ? 'block' : 'none';\n",
              "\n",
              "        async function convertToInteractive(key) {\n",
              "          const element = document.querySelector('#df-bc90babd-fd03-4313-b086-35f55d6a6124');\n",
              "          const dataTable =\n",
              "            await google.colab.kernel.invokeFunction('convertToInteractive',\n",
              "                                                     [key], {});\n",
              "          if (!dataTable) return;\n",
              "\n",
              "          const docLinkHtml = 'Like what you see? Visit the ' +\n",
              "            '<a target=\"_blank\" href=https://colab.research.google.com/notebooks/data_table.ipynb>data table notebook</a>'\n",
              "            + ' to learn more about interactive tables.';\n",
              "          element.innerHTML = '';\n",
              "          dataTable['output_type'] = 'display_data';\n",
              "          await google.colab.output.renderOutput(dataTable, element);\n",
              "          const docLink = document.createElement('div');\n",
              "          docLink.innerHTML = docLinkHtml;\n",
              "          element.appendChild(docLink);\n",
              "        }\n",
              "      </script>\n",
              "    </div>\n",
              "  </div>\n",
              "  "
            ],
            "text/plain": [
              "                                                    title  ...    artist_lower\n",
              "0                                            I Feel Alive  ...   steady rollin\n",
              "1                                                  Poison  ...  bell biv devoe\n",
              "2       Baby It's Cold Outside (feat. Christina Aguilera)  ...     ceelo green\n",
              "3                                              Dumb Litty  ...            kard\n",
              "4                                                 Soldier  ...        james tw\n",
              "...                                                   ...  ...             ...\n",
              "237131                          Who Am I Drinking Tonight  ...      edens edge\n",
              "237132                                               Liar  ...      edens edge\n",
              "237133                                        Last Supper  ...      edens edge\n",
              "237134                        Christ Alone Live In Studio  ...      edens edge\n",
              "237135                                               Amen  ...      edens edge\n",
              "\n",
              "[237136 rows x 14 columns]"
            ]
          },
          "execution_count": 155,
          "metadata": {},
          "output_type": "execute_result"
        }
      ],
      "source": [
        "result"
      ]
    },
    {
      "cell_type": "markdown",
      "metadata": {
        "id": "euCj_d0UUkps"
      },
      "source": [
        "# Record Linkage for Gender"
      ]
    },
    {
      "cell_type": "code",
      "execution_count": null,
      "metadata": {
        "colab": {
          "base_uri": "https://localhost:8080/"
        },
        "id": "lqZ9shl5JewP",
        "outputId": "7795abce-25ed-4304-da0f-4e04547e3e5e"
      },
      "outputs": [
        {
          "data": {
            "text/plain": [
              "2000s    153608\n",
              "2010s     67727\n",
              "1990s      8443\n",
              "1980s      3337\n",
              "1970s      2970\n",
              "Name: year_bin, dtype: int64"
            ]
          },
          "execution_count": 156,
          "metadata": {},
          "output_type": "execute_result"
        }
      ],
      "source": [
        "result[(result.year>1969) & (result.year<2020)].year_bin.value_counts()"
      ]
    },
    {
      "cell_type": "code",
      "execution_count": null,
      "metadata": {
        "id": "eWmzNnxUUQJU"
      },
      "outputs": [],
      "source": [
        "cleaned = result[(result.year>1969) & (result.year<2020)]"
      ]
    },
    {
      "cell_type": "code",
      "execution_count": null,
      "metadata": {
        "id": "O17GaG0tUQJW"
      },
      "outputs": [],
      "source": [
        "gender = pd.read_csv(\"Gender_Dataset_1.3.csv\")"
      ]
    },
    {
      "cell_type": "code",
      "execution_count": null,
      "metadata": {
        "id": "JtgXZ3VoUQJW"
      },
      "outputs": [],
      "source": [
        "gender = gender.dropna(subset = ['name'])"
      ]
    },
    {
      "cell_type": "code",
      "execution_count": null,
      "metadata": {
        "id": "lUy9JDjjUQJX"
      },
      "outputs": [],
      "source": [
        "gender.gender.fillna(gender.is_band, inplace = True)\n",
        "gender = gender[gender.gender != False]"
      ]
    },
    {
      "cell_type": "code",
      "execution_count": null,
      "metadata": {
        "colab": {
          "base_uri": "https://localhost:8080/"
        },
        "id": "2fKQLN2ZUQJX",
        "outputId": "a4c4df77-b584-48f2-9517-ee7b231346e0"
      },
      "outputs": [
        {
          "data": {
            "text/plain": [
              "True                     188053\n",
              "male                       3725\n",
              "female                      898\n",
              "mixed                       324\n",
              "non-binary                  200\n",
              "transgender                  83\n",
              "androgynous                  61\n",
              "transgender woman            49\n",
              "transgender man              23\n",
              "genderfluid                  19\n",
              "genderqueer                  17\n",
              "gender non-conforming        12\n",
              "gender neutral               10\n",
              "agender                       8\n",
              "two-spirit                    5\n",
              "trans-masculine               4\n",
              "trans-feminine                3\n",
              "other gender identity         1\n",
              "Name: gender, dtype: int64"
            ]
          },
          "execution_count": 161,
          "metadata": {},
          "output_type": "execute_result"
        }
      ],
      "source": [
        "gender.gender.value_counts()"
      ]
    },
    {
      "cell_type": "code",
      "execution_count": null,
      "metadata": {
        "colab": {
          "base_uri": "https://localhost:8080/"
        },
        "id": "Af1dzB0eUQJY",
        "outputId": "547dc8d2-4a14-48ff-cafb-8ca1b5039d05"
      },
      "outputs": [
        {
          "data": {
            "text/plain": [
              "193504"
            ]
          },
          "execution_count": 162,
          "metadata": {},
          "output_type": "execute_result"
        }
      ],
      "source": [
        "len(gender)"
      ]
    },
    {
      "cell_type": "code",
      "execution_count": null,
      "metadata": {
        "colab": {
          "base_uri": "https://localhost:8080/"
        },
        "id": "UKlNKE9xUQJY",
        "outputId": "8ca80b73-71fa-44d6-f263-ed3862035e4a"
      },
      "outputs": [
        {
          "data": {
            "text/plain": [
              "186070"
            ]
          },
          "execution_count": 210,
          "metadata": {},
          "output_type": "execute_result"
        }
      ],
      "source": [
        "gender = gender.drop_duplicates(subset = ['name'],ignore_index = True)\n",
        "len(gender)"
      ]
    },
    {
      "cell_type": "code",
      "execution_count": null,
      "metadata": {
        "id": "tqRgloSdUQJY"
      },
      "outputs": [],
      "source": [
        "def convert_gender(gender):\n",
        "    if gender == True or gender == \"mixed\":\n",
        "        return \"Group\"\n",
        "    else:\n",
        "        return gender"
      ]
    },
    {
      "cell_type": "code",
      "execution_count": null,
      "metadata": {
        "id": "zAMKz-YhUQJY"
      },
      "outputs": [],
      "source": [
        "gender['gender_'] = gender.gender.apply(lambda x: convert_gender(x))"
      ]
    },
    {
      "cell_type": "code",
      "execution_count": null,
      "metadata": {
        "colab": {
          "base_uri": "https://localhost:8080/"
        },
        "id": "375GmERHUQJZ",
        "outputId": "ea708f6c-b831-411f-ce59-a92921372101"
      },
      "outputs": [
        {
          "data": {
            "text/plain": [
              "Group                    181013\n",
              "male                       3680\n",
              "female                      882\n",
              "non-binary                  196\n",
              "transgender                  83\n",
              "androgynous                  59\n",
              "transgender woman            48\n",
              "transgender man              21\n",
              "genderfluid                  19\n",
              "genderqueer                  17\n",
              "gender non-conforming        12\n",
              "gender neutral               10\n",
              "agender                       8\n",
              "two-spirit                    5\n",
              "trans-masculine               4\n",
              "trans-feminine                3\n",
              "other gender identity         1\n",
              "Name: gender_, dtype: int64"
            ]
          },
          "execution_count": 166,
          "metadata": {},
          "output_type": "execute_result"
        }
      ],
      "source": [
        "gender.gender_.value_counts()"
      ]
    },
    {
      "cell_type": "code",
      "execution_count": null,
      "metadata": {
        "colab": {
          "base_uri": "https://localhost:8080/"
        },
        "id": "AN8tn9RXUQJZ",
        "outputId": "50de4995-a03d-4f1e-859c-da7552425c61"
      },
      "outputs": [
        {
          "name": "stderr",
          "output_type": "stream",
          "text": [
            "/usr/local/lib/python3.7/dist-packages/recordlinkage/preprocessing/cleaning.py:114: FutureWarning: The default value of regex will change from True to False in a future version.\n",
            "  s = s.str.replace(r'(\\[.*?\\]|\\(.*?\\)|\\{.*?\\})', '')\n",
            "/usr/local/lib/python3.7/dist-packages/recordlinkage/preprocessing/cleaning.py:118: FutureWarning: The default value of regex will change from True to False in a future version.\n",
            "  s = s.str.replace(replace_by_none, '')\n",
            "/usr/local/lib/python3.7/dist-packages/recordlinkage/preprocessing/cleaning.py:121: FutureWarning: The default value of regex will change from True to False in a future version.\n",
            "  s = s.str.replace(replace_by_whitespace, ' ')\n",
            "/usr/local/lib/python3.7/dist-packages/recordlinkage/preprocessing/cleaning.py:124: FutureWarning: The default value of regex will change from True to False in a future version.\n",
            "  s = s.str.replace(r'\\s\\s+', ' ')\n"
          ]
        }
      ],
      "source": [
        "gender['name'] = clean(gender['name'])"
      ]
    },
    {
      "cell_type": "code",
      "execution_count": null,
      "metadata": {
        "colab": {
          "base_uri": "https://localhost:8080/"
        },
        "id": "EqW5l_hBUQJZ",
        "outputId": "7725b656-ed9e-412a-ffc7-e0e1f5abfef7"
      },
      "outputs": [
        {
          "name": "stderr",
          "output_type": "stream",
          "text": [
            "/usr/local/lib/python3.7/dist-packages/recordlinkage/preprocessing/cleaning.py:114: FutureWarning: The default value of regex will change from True to False in a future version.\n",
            "  s = s.str.replace(r'(\\[.*?\\]|\\(.*?\\)|\\{.*?\\})', '')\n",
            "/usr/local/lib/python3.7/dist-packages/recordlinkage/preprocessing/cleaning.py:118: FutureWarning: The default value of regex will change from True to False in a future version.\n",
            "  s = s.str.replace(replace_by_none, '')\n",
            "/usr/local/lib/python3.7/dist-packages/recordlinkage/preprocessing/cleaning.py:121: FutureWarning: The default value of regex will change from True to False in a future version.\n",
            "  s = s.str.replace(replace_by_whitespace, ' ')\n",
            "/usr/local/lib/python3.7/dist-packages/recordlinkage/preprocessing/cleaning.py:124: FutureWarning: The default value of regex will change from True to False in a future version.\n",
            "  s = s.str.replace(r'\\s\\s+', ' ')\n",
            "/usr/local/lib/python3.7/dist-packages/ipykernel_launcher.py:1: SettingWithCopyWarning: \n",
            "A value is trying to be set on a copy of a slice from a DataFrame.\n",
            "Try using .loc[row_indexer,col_indexer] = value instead\n",
            "\n",
            "See the caveats in the documentation: https://pandas.pydata.org/pandas-docs/stable/user_guide/indexing.html#returning-a-view-versus-a-copy\n",
            "  \"\"\"Entry point for launching an IPython kernel.\n"
          ]
        }
      ],
      "source": [
        "cleaned['artist_lower'] = clean(cleaned['artist'])"
      ]
    },
    {
      "cell_type": "code",
      "execution_count": null,
      "metadata": {
        "id": "K4bN7C-hUQJa"
      },
      "outputs": [],
      "source": [
        "cleaned = cleaned.reset_index(drop = True)"
      ]
    },
    {
      "cell_type": "code",
      "execution_count": null,
      "metadata": {
        "id": "2bTK1rKjUQJa"
      },
      "outputs": [],
      "source": [
        "gender = gender[['name', 'gender_']].reset_index(drop = True)"
      ]
    },
    {
      "cell_type": "code",
      "execution_count": null,
      "metadata": {
        "id": "gGbFpkMXUQJb"
      },
      "outputs": [],
      "source": [
        "clean_unknown = cleaned.loc[cleaned.Gender == 'Unknown']"
      ]
    },
    {
      "cell_type": "code",
      "execution_count": null,
      "metadata": {
        "id": "c2Yd4AwMUQJb"
      },
      "outputs": [],
      "source": [
        "# create an indexing object \n",
        "indexer_block = recordlinkage.BlockIndex(left_on = \"artist_lower\", right_on = \"name\")\n",
        "\n",
        "# create a pandas MultiIndex with candidate links\n",
        "candidate_links = indexer_block.index(cleaned, gender)"
      ]
    },
    {
      "cell_type": "code",
      "execution_count": null,
      "metadata": {
        "id": "nA7GUO4ZUQJb"
      },
      "outputs": [],
      "source": [
        "comparison = recordlinkage.Compare()\n",
        "comparison.string(\"artist_lower\", \"name\", method = \"jarowinkler\", label = \"jw_name\")\n",
        "feature = comparison.compute(candidate_links, cleaned, gender)"
      ]
    },
    {
      "cell_type": "code",
      "execution_count": null,
      "metadata": {
        "colab": {
          "base_uri": "https://localhost:8080/",
          "height": 424
        },
        "id": "Dn0L71gSBWHj",
        "outputId": "0acebbf5-c042-408f-b5f2-4b847ef39f3d"
      },
      "outputs": [
        {
          "data": {
            "text/html": [
              "\n",
              "  <div id=\"df-d690717f-59f3-4593-b0a3-9e7a0488c360\">\n",
              "    <div class=\"colab-df-container\">\n",
              "      <div>\n",
              "<style scoped>\n",
              "    .dataframe tbody tr th:only-of-type {\n",
              "        vertical-align: middle;\n",
              "    }\n",
              "\n",
              "    .dataframe tbody tr th {\n",
              "        vertical-align: top;\n",
              "    }\n",
              "\n",
              "    .dataframe thead th {\n",
              "        text-align: right;\n",
              "    }\n",
              "</style>\n",
              "<table border=\"1\" class=\"dataframe\">\n",
              "  <thead>\n",
              "    <tr style=\"text-align: right;\">\n",
              "      <th></th>\n",
              "      <th></th>\n",
              "      <th>jw_name</th>\n",
              "    </tr>\n",
              "  </thead>\n",
              "  <tbody>\n",
              "    <tr>\n",
              "      <th>0</th>\n",
              "      <th>73564</th>\n",
              "      <td>1.0</td>\n",
              "    </tr>\n",
              "    <tr>\n",
              "      <th>1</th>\n",
              "      <th>593</th>\n",
              "      <td>1.0</td>\n",
              "    </tr>\n",
              "    <tr>\n",
              "      <th>190</th>\n",
              "      <th>593</th>\n",
              "      <td>1.0</td>\n",
              "    </tr>\n",
              "    <tr>\n",
              "      <th>502</th>\n",
              "      <th>593</th>\n",
              "      <td>1.0</td>\n",
              "    </tr>\n",
              "    <tr>\n",
              "      <th>1384</th>\n",
              "      <th>593</th>\n",
              "      <td>1.0</td>\n",
              "    </tr>\n",
              "    <tr>\n",
              "      <th>...</th>\n",
              "      <th>...</th>\n",
              "      <td>...</td>\n",
              "    </tr>\n",
              "    <tr>\n",
              "      <th>236045</th>\n",
              "      <th>17553</th>\n",
              "      <td>1.0</td>\n",
              "    </tr>\n",
              "    <tr>\n",
              "      <th>236046</th>\n",
              "      <th>17553</th>\n",
              "      <td>1.0</td>\n",
              "    </tr>\n",
              "    <tr>\n",
              "      <th>236047</th>\n",
              "      <th>17553</th>\n",
              "      <td>1.0</td>\n",
              "    </tr>\n",
              "    <tr>\n",
              "      <th>236048</th>\n",
              "      <th>17553</th>\n",
              "      <td>1.0</td>\n",
              "    </tr>\n",
              "    <tr>\n",
              "      <th>236049</th>\n",
              "      <th>17553</th>\n",
              "      <td>1.0</td>\n",
              "    </tr>\n",
              "  </tbody>\n",
              "</table>\n",
              "<p>128561 rows × 1 columns</p>\n",
              "</div>\n",
              "      <button class=\"colab-df-convert\" onclick=\"convertToInteractive('df-d690717f-59f3-4593-b0a3-9e7a0488c360')\"\n",
              "              title=\"Convert this dataframe to an interactive table.\"\n",
              "              style=\"display:none;\">\n",
              "        \n",
              "  <svg xmlns=\"http://www.w3.org/2000/svg\" height=\"24px\"viewBox=\"0 0 24 24\"\n",
              "       width=\"24px\">\n",
              "    <path d=\"M0 0h24v24H0V0z\" fill=\"none\"/>\n",
              "    <path d=\"M18.56 5.44l.94 2.06.94-2.06 2.06-.94-2.06-.94-.94-2.06-.94 2.06-2.06.94zm-11 1L8.5 8.5l.94-2.06 2.06-.94-2.06-.94L8.5 2.5l-.94 2.06-2.06.94zm10 10l.94 2.06.94-2.06 2.06-.94-2.06-.94-.94-2.06-.94 2.06-2.06.94z\"/><path d=\"M17.41 7.96l-1.37-1.37c-.4-.4-.92-.59-1.43-.59-.52 0-1.04.2-1.43.59L10.3 9.45l-7.72 7.72c-.78.78-.78 2.05 0 2.83L4 21.41c.39.39.9.59 1.41.59.51 0 1.02-.2 1.41-.59l7.78-7.78 2.81-2.81c.8-.78.8-2.07 0-2.86zM5.41 20L4 18.59l7.72-7.72 1.47 1.35L5.41 20z\"/>\n",
              "  </svg>\n",
              "      </button>\n",
              "      \n",
              "  <style>\n",
              "    .colab-df-container {\n",
              "      display:flex;\n",
              "      flex-wrap:wrap;\n",
              "      gap: 12px;\n",
              "    }\n",
              "\n",
              "    .colab-df-convert {\n",
              "      background-color: #E8F0FE;\n",
              "      border: none;\n",
              "      border-radius: 50%;\n",
              "      cursor: pointer;\n",
              "      display: none;\n",
              "      fill: #1967D2;\n",
              "      height: 32px;\n",
              "      padding: 0 0 0 0;\n",
              "      width: 32px;\n",
              "    }\n",
              "\n",
              "    .colab-df-convert:hover {\n",
              "      background-color: #E2EBFA;\n",
              "      box-shadow: 0px 1px 2px rgba(60, 64, 67, 0.3), 0px 1px 3px 1px rgba(60, 64, 67, 0.15);\n",
              "      fill: #174EA6;\n",
              "    }\n",
              "\n",
              "    [theme=dark] .colab-df-convert {\n",
              "      background-color: #3B4455;\n",
              "      fill: #D2E3FC;\n",
              "    }\n",
              "\n",
              "    [theme=dark] .colab-df-convert:hover {\n",
              "      background-color: #434B5C;\n",
              "      box-shadow: 0px 1px 3px 1px rgba(0, 0, 0, 0.15);\n",
              "      filter: drop-shadow(0px 1px 2px rgba(0, 0, 0, 0.3));\n",
              "      fill: #FFFFFF;\n",
              "    }\n",
              "  </style>\n",
              "\n",
              "      <script>\n",
              "        const buttonEl =\n",
              "          document.querySelector('#df-d690717f-59f3-4593-b0a3-9e7a0488c360 button.colab-df-convert');\n",
              "        buttonEl.style.display =\n",
              "          google.colab.kernel.accessAllowed ? 'block' : 'none';\n",
              "\n",
              "        async function convertToInteractive(key) {\n",
              "          const element = document.querySelector('#df-d690717f-59f3-4593-b0a3-9e7a0488c360');\n",
              "          const dataTable =\n",
              "            await google.colab.kernel.invokeFunction('convertToInteractive',\n",
              "                                                     [key], {});\n",
              "          if (!dataTable) return;\n",
              "\n",
              "          const docLinkHtml = 'Like what you see? Visit the ' +\n",
              "            '<a target=\"_blank\" href=https://colab.research.google.com/notebooks/data_table.ipynb>data table notebook</a>'\n",
              "            + ' to learn more about interactive tables.';\n",
              "          element.innerHTML = '';\n",
              "          dataTable['output_type'] = 'display_data';\n",
              "          await google.colab.output.renderOutput(dataTable, element);\n",
              "          const docLink = document.createElement('div');\n",
              "          docLink.innerHTML = docLinkHtml;\n",
              "          element.appendChild(docLink);\n",
              "        }\n",
              "      </script>\n",
              "    </div>\n",
              "  </div>\n",
              "  "
            ],
            "text/plain": [
              "              jw_name\n",
              "0      73564      1.0\n",
              "1      593        1.0\n",
              "190    593        1.0\n",
              "502    593        1.0\n",
              "1384   593        1.0\n",
              "...               ...\n",
              "236045 17553      1.0\n",
              "236046 17553      1.0\n",
              "236047 17553      1.0\n",
              "236048 17553      1.0\n",
              "236049 17553      1.0\n",
              "\n",
              "[128561 rows x 1 columns]"
            ]
          },
          "execution_count": 131,
          "metadata": {},
          "output_type": "execute_result"
        }
      ],
      "source": [
        "feature"
      ]
    },
    {
      "cell_type": "code",
      "execution_count": null,
      "metadata": {
        "id": "d-x0r9S-UQJc"
      },
      "outputs": [],
      "source": [
        "#feature = feature.reset_index()\n",
        "confirm_f = feature.reset_index()"
      ]
    },
    {
      "cell_type": "code",
      "execution_count": null,
      "metadata": {
        "id": "OA479IbuBn5w"
      },
      "outputs": [],
      "source": [
        "confirm_f = confirm_f.loc[confirm_f['jw_name'] >0.8]"
      ]
    },
    {
      "cell_type": "code",
      "execution_count": null,
      "metadata": {
        "colab": {
          "base_uri": "https://localhost:8080/"
        },
        "id": "x5jcoA5NsiBH",
        "outputId": "cf34da8e-b148-4006-feae-98bb0fe3efe3"
      },
      "outputs": [
        {
          "data": {
            "text/plain": [
              "array([  255,  3802, 11731])"
            ]
          },
          "execution_count": 193,
          "metadata": {},
          "output_type": "execute_result"
        }
      ],
      "source": [
        "c = feature.reset_index()\n",
        "np.unique(c.loc[c['jw_name'] <0.8].level_0)"
      ]
    },
    {
      "cell_type": "code",
      "execution_count": null,
      "metadata": {
        "colab": {
          "base_uri": "https://localhost:8080/",
          "height": 572
        },
        "id": "A03rSkCvuUdA",
        "outputId": "95e11b8d-487f-43c9-9c77-fdbe6b375577"
      },
      "outputs": [
        {
          "data": {
            "text/html": [
              "\n",
              "  <div id=\"df-aed9b1d1-31da-4b73-a57b-ebbdb5fd07c8\">\n",
              "    <div class=\"colab-df-container\">\n",
              "      <div>\n",
              "<style scoped>\n",
              "    .dataframe tbody tr th:only-of-type {\n",
              "        vertical-align: middle;\n",
              "    }\n",
              "\n",
              "    .dataframe tbody tr th {\n",
              "        vertical-align: top;\n",
              "    }\n",
              "\n",
              "    .dataframe thead th {\n",
              "        text-align: right;\n",
              "    }\n",
              "</style>\n",
              "<table border=\"1\" class=\"dataframe\">\n",
              "  <thead>\n",
              "    <tr style=\"text-align: right;\">\n",
              "      <th></th>\n",
              "      <th>title</th>\n",
              "      <th>artist</th>\n",
              "      <th>lyrics</th>\n",
              "      <th>year</th>\n",
              "      <th>popularity</th>\n",
              "      <th>edm</th>\n",
              "      <th>latin</th>\n",
              "      <th>pop</th>\n",
              "      <th>r&amp;b</th>\n",
              "      <th>rap</th>\n",
              "      <th>rock</th>\n",
              "      <th>Gender</th>\n",
              "      <th>year_bin</th>\n",
              "      <th>artist_lower</th>\n",
              "      <th>gender_matched</th>\n",
              "    </tr>\n",
              "  </thead>\n",
              "  <tbody>\n",
              "    <tr>\n",
              "      <th>255</th>\n",
              "      <td>Lebensborn - Update</td>\n",
              "      <td>[:SITD:]</td>\n",
              "      <td>His hair was blond His eyes were blue He toed ...</td>\n",
              "      <td>2011</td>\n",
              "      <td>4.0</td>\n",
              "      <td>False</td>\n",
              "      <td>False</td>\n",
              "      <td>True</td>\n",
              "      <td>False</td>\n",
              "      <td>False</td>\n",
              "      <td>False</td>\n",
              "      <td>Unknown</td>\n",
              "      <td>2010s</td>\n",
              "      <td></td>\n",
              "      <td>Unknown</td>\n",
              "    </tr>\n",
              "    <tr>\n",
              "      <th>3802</th>\n",
              "      <td>Cinnamon Girl - Radio Edit</td>\n",
              "      <td>[dunkelbunt]</td>\n",
              "      <td>I met her on the milky way Who she was I could...</td>\n",
              "      <td>2009</td>\n",
              "      <td>47.0</td>\n",
              "      <td>True</td>\n",
              "      <td>False</td>\n",
              "      <td>False</td>\n",
              "      <td>False</td>\n",
              "      <td>False</td>\n",
              "      <td>False</td>\n",
              "      <td>Unknown</td>\n",
              "      <td>2000s</td>\n",
              "      <td></td>\n",
              "      <td>Unknown</td>\n",
              "    </tr>\n",
              "    <tr>\n",
              "      <th>11731</th>\n",
              "      <td>Silver Bombs</td>\n",
              "      <td>[:SITD:]</td>\n",
              "      <td>Silver bombs towards the sky Face to face - ey...</td>\n",
              "      <td>2007</td>\n",
              "      <td>5.0</td>\n",
              "      <td>False</td>\n",
              "      <td>False</td>\n",
              "      <td>True</td>\n",
              "      <td>False</td>\n",
              "      <td>False</td>\n",
              "      <td>False</td>\n",
              "      <td>Unknown</td>\n",
              "      <td>2000s</td>\n",
              "      <td></td>\n",
              "      <td>Unknown</td>\n",
              "    </tr>\n",
              "  </tbody>\n",
              "</table>\n",
              "</div>\n",
              "      <button class=\"colab-df-convert\" onclick=\"convertToInteractive('df-aed9b1d1-31da-4b73-a57b-ebbdb5fd07c8')\"\n",
              "              title=\"Convert this dataframe to an interactive table.\"\n",
              "              style=\"display:none;\">\n",
              "        \n",
              "  <svg xmlns=\"http://www.w3.org/2000/svg\" height=\"24px\"viewBox=\"0 0 24 24\"\n",
              "       width=\"24px\">\n",
              "    <path d=\"M0 0h24v24H0V0z\" fill=\"none\"/>\n",
              "    <path d=\"M18.56 5.44l.94 2.06.94-2.06 2.06-.94-2.06-.94-.94-2.06-.94 2.06-2.06.94zm-11 1L8.5 8.5l.94-2.06 2.06-.94-2.06-.94L8.5 2.5l-.94 2.06-2.06.94zm10 10l.94 2.06.94-2.06 2.06-.94-2.06-.94-.94-2.06-.94 2.06-2.06.94z\"/><path d=\"M17.41 7.96l-1.37-1.37c-.4-.4-.92-.59-1.43-.59-.52 0-1.04.2-1.43.59L10.3 9.45l-7.72 7.72c-.78.78-.78 2.05 0 2.83L4 21.41c.39.39.9.59 1.41.59.51 0 1.02-.2 1.41-.59l7.78-7.78 2.81-2.81c.8-.78.8-2.07 0-2.86zM5.41 20L4 18.59l7.72-7.72 1.47 1.35L5.41 20z\"/>\n",
              "  </svg>\n",
              "      </button>\n",
              "      \n",
              "  <style>\n",
              "    .colab-df-container {\n",
              "      display:flex;\n",
              "      flex-wrap:wrap;\n",
              "      gap: 12px;\n",
              "    }\n",
              "\n",
              "    .colab-df-convert {\n",
              "      background-color: #E8F0FE;\n",
              "      border: none;\n",
              "      border-radius: 50%;\n",
              "      cursor: pointer;\n",
              "      display: none;\n",
              "      fill: #1967D2;\n",
              "      height: 32px;\n",
              "      padding: 0 0 0 0;\n",
              "      width: 32px;\n",
              "    }\n",
              "\n",
              "    .colab-df-convert:hover {\n",
              "      background-color: #E2EBFA;\n",
              "      box-shadow: 0px 1px 2px rgba(60, 64, 67, 0.3), 0px 1px 3px 1px rgba(60, 64, 67, 0.15);\n",
              "      fill: #174EA6;\n",
              "    }\n",
              "\n",
              "    [theme=dark] .colab-df-convert {\n",
              "      background-color: #3B4455;\n",
              "      fill: #D2E3FC;\n",
              "    }\n",
              "\n",
              "    [theme=dark] .colab-df-convert:hover {\n",
              "      background-color: #434B5C;\n",
              "      box-shadow: 0px 1px 3px 1px rgba(0, 0, 0, 0.15);\n",
              "      filter: drop-shadow(0px 1px 2px rgba(0, 0, 0, 0.3));\n",
              "      fill: #FFFFFF;\n",
              "    }\n",
              "  </style>\n",
              "\n",
              "      <script>\n",
              "        const buttonEl =\n",
              "          document.querySelector('#df-aed9b1d1-31da-4b73-a57b-ebbdb5fd07c8 button.colab-df-convert');\n",
              "        buttonEl.style.display =\n",
              "          google.colab.kernel.accessAllowed ? 'block' : 'none';\n",
              "\n",
              "        async function convertToInteractive(key) {\n",
              "          const element = document.querySelector('#df-aed9b1d1-31da-4b73-a57b-ebbdb5fd07c8');\n",
              "          const dataTable =\n",
              "            await google.colab.kernel.invokeFunction('convertToInteractive',\n",
              "                                                     [key], {});\n",
              "          if (!dataTable) return;\n",
              "\n",
              "          const docLinkHtml = 'Like what you see? Visit the ' +\n",
              "            '<a target=\"_blank\" href=https://colab.research.google.com/notebooks/data_table.ipynb>data table notebook</a>'\n",
              "            + ' to learn more about interactive tables.';\n",
              "          element.innerHTML = '';\n",
              "          dataTable['output_type'] = 'display_data';\n",
              "          await google.colab.output.renderOutput(dataTable, element);\n",
              "          const docLink = document.createElement('div');\n",
              "          docLink.innerHTML = docLinkHtml;\n",
              "          element.appendChild(docLink);\n",
              "        }\n",
              "      </script>\n",
              "    </div>\n",
              "  </div>\n",
              "  "
            ],
            "text/plain": [
              "                            title        artist  ... artist_lower  gender_matched\n",
              "255           Lebensborn - Update      [:SITD:]  ...                      Unknown\n",
              "3802   Cinnamon Girl - Radio Edit  [dunkelbunt]  ...                      Unknown\n",
              "11731                Silver Bombs      [:SITD:]  ...                      Unknown\n",
              "\n",
              "[3 rows x 15 columns]"
            ]
          },
          "execution_count": 197,
          "metadata": {},
          "output_type": "execute_result"
        }
      ],
      "source": [
        "cleaned.iloc[np.unique(c.loc[c['jw_name'] <0.8].level_0)] #these three artists does not exist in the gender dataset due to the format of their names\n",
        "#cleaned.iloc[255].artist"
      ]
    },
    {
      "cell_type": "code",
      "execution_count": null,
      "metadata": {
        "colab": {
          "base_uri": "https://localhost:8080/"
        },
        "id": "gAaYcc8q_t1r",
        "outputId": "ee1bb560-2ac8-4723-eba6-5059d5d204de"
      },
      "outputs": [
        {
          "data": {
            "text/plain": [
              "0         Unknown\n",
              "1         Unknown\n",
              "190       Unknown\n",
              "502       Unknown\n",
              "1384      Unknown\n",
              "           ...   \n",
              "236045    Unknown\n",
              "236046    Unknown\n",
              "236047    Unknown\n",
              "236048    Unknown\n",
              "236049    Unknown\n",
              "Name: Gender, Length: 127463, dtype: object"
            ]
          },
          "execution_count": 203,
          "metadata": {},
          "output_type": "execute_result"
        }
      ],
      "source": [
        "cleaned.loc[confirm_f['level_0'], 'Gender'] "
      ]
    },
    {
      "cell_type": "code",
      "execution_count": null,
      "metadata": {
        "id": "KDzbrpac98pz"
      },
      "outputs": [],
      "source": [
        "#cleaned['gender_matched'] = \"Unknown\"\n",
        "cleaned.loc[confirm_f['level_0'], 'gender_matched']  = gender.loc[confirm_f['level_1'], 'gender_'].to_list()"
      ]
    },
    {
      "cell_type": "code",
      "execution_count": null,
      "metadata": {
        "colab": {
          "base_uri": "https://localhost:8080/"
        },
        "id": "UjiWEgB5-xkN",
        "outputId": "8d28388a-b5b6-4d98-ea3c-186ab24c322f"
      },
      "outputs": [
        {
          "data": {
            "text/plain": [
              "Unknown    232800\n",
              "male         1252\n",
              "Group        1247\n",
              "female        786\n",
              "Name: Gender, dtype: int64"
            ]
          },
          "execution_count": 223,
          "metadata": {},
          "output_type": "execute_result"
        }
      ],
      "source": [
        "cleaned.Gender.value_counts()"
      ]
    },
    {
      "cell_type": "code",
      "execution_count": null,
      "metadata": {
        "colab": {
          "base_uri": "https://localhost:8080/"
        },
        "id": "etRilopmCckr",
        "outputId": "90ae5397-92b5-4b65-9708-5a1c76898d27"
      },
      "outputs": [
        {
          "data": {
            "text/plain": [
              "Group                    87065\n",
              "male                     28362\n",
              "female                    7749\n",
              "non-binary                 317\n",
              "androgynous                 76\n",
              "agender                     36\n",
              "genderfluid                 32\n",
              "genderqueer                 12\n",
              "transgender woman           12\n",
              "transgender                  6\n",
              "gender non-conforming        1\n",
              "Name: gender_matched, dtype: int64"
            ]
          },
          "execution_count": 224,
          "metadata": {},
          "output_type": "execute_result"
        }
      ],
      "source": [
        "cleaned.gender_matched.value_counts()"
      ]
    },
    {
      "cell_type": "code",
      "execution_count": null,
      "metadata": {
        "colab": {
          "base_uri": "https://localhost:8080/",
          "height": 455
        },
        "id": "gcm6ZNonUQJc",
        "outputId": "0133ceb6-5da1-4bd0-a595-7290ed8f6a1d"
      },
      "outputs": [
        {
          "data": {
            "text/html": [
              "\n",
              "  <div id=\"df-278f4390-1b55-4e1c-bf0f-811f542dabe1\">\n",
              "    <div class=\"colab-df-container\">\n",
              "      <div>\n",
              "<style scoped>\n",
              "    .dataframe tbody tr th:only-of-type {\n",
              "        vertical-align: middle;\n",
              "    }\n",
              "\n",
              "    .dataframe tbody tr th {\n",
              "        vertical-align: top;\n",
              "    }\n",
              "\n",
              "    .dataframe thead th {\n",
              "        text-align: right;\n",
              "    }\n",
              "</style>\n",
              "<table border=\"1\" class=\"dataframe\">\n",
              "  <thead>\n",
              "    <tr style=\"text-align: right;\">\n",
              "      <th></th>\n",
              "      <th>title</th>\n",
              "      <th>lyrics</th>\n",
              "      <th>year</th>\n",
              "      <th>popularity</th>\n",
              "      <th>edm</th>\n",
              "      <th>latin</th>\n",
              "      <th>pop</th>\n",
              "      <th>r&amp;b</th>\n",
              "      <th>rap</th>\n",
              "      <th>rock</th>\n",
              "      <th>Gender</th>\n",
              "      <th>year_bin</th>\n",
              "      <th>artist_lower</th>\n",
              "      <th>gender_matched</th>\n",
              "    </tr>\n",
              "    <tr>\n",
              "      <th>artist</th>\n",
              "      <th></th>\n",
              "      <th></th>\n",
              "      <th></th>\n",
              "      <th></th>\n",
              "      <th></th>\n",
              "      <th></th>\n",
              "      <th></th>\n",
              "      <th></th>\n",
              "      <th></th>\n",
              "      <th></th>\n",
              "      <th></th>\n",
              "      <th></th>\n",
              "      <th></th>\n",
              "      <th></th>\n",
              "    </tr>\n",
              "  </thead>\n",
              "  <tbody>\n",
              "    <tr>\n",
              "      <th>!deladap</th>\n",
              "      <td>1</td>\n",
              "      <td>1</td>\n",
              "      <td>1</td>\n",
              "      <td>1</td>\n",
              "      <td>1</td>\n",
              "      <td>1</td>\n",
              "      <td>1</td>\n",
              "      <td>1</td>\n",
              "      <td>1</td>\n",
              "      <td>1</td>\n",
              "      <td>1</td>\n",
              "      <td>1</td>\n",
              "      <td>1</td>\n",
              "      <td>1</td>\n",
              "    </tr>\n",
              "    <tr>\n",
              "      <th>'Til Tuesday</th>\n",
              "      <td>1</td>\n",
              "      <td>1</td>\n",
              "      <td>1</td>\n",
              "      <td>1</td>\n",
              "      <td>1</td>\n",
              "      <td>1</td>\n",
              "      <td>1</td>\n",
              "      <td>1</td>\n",
              "      <td>1</td>\n",
              "      <td>1</td>\n",
              "      <td>1</td>\n",
              "      <td>1</td>\n",
              "      <td>1</td>\n",
              "      <td>1</td>\n",
              "    </tr>\n",
              "    <tr>\n",
              "      <th>(Sandy) Alex G</th>\n",
              "      <td>1</td>\n",
              "      <td>1</td>\n",
              "      <td>1</td>\n",
              "      <td>1</td>\n",
              "      <td>1</td>\n",
              "      <td>1</td>\n",
              "      <td>1</td>\n",
              "      <td>1</td>\n",
              "      <td>1</td>\n",
              "      <td>1</td>\n",
              "      <td>1</td>\n",
              "      <td>1</td>\n",
              "      <td>1</td>\n",
              "      <td>1</td>\n",
              "    </tr>\n",
              "    <tr>\n",
              "      <th>009 Sound System</th>\n",
              "      <td>4</td>\n",
              "      <td>4</td>\n",
              "      <td>4</td>\n",
              "      <td>0</td>\n",
              "      <td>4</td>\n",
              "      <td>4</td>\n",
              "      <td>4</td>\n",
              "      <td>4</td>\n",
              "      <td>4</td>\n",
              "      <td>4</td>\n",
              "      <td>4</td>\n",
              "      <td>4</td>\n",
              "      <td>4</td>\n",
              "      <td>4</td>\n",
              "    </tr>\n",
              "    <tr>\n",
              "      <th>03 Greedo</th>\n",
              "      <td>1</td>\n",
              "      <td>1</td>\n",
              "      <td>1</td>\n",
              "      <td>1</td>\n",
              "      <td>1</td>\n",
              "      <td>1</td>\n",
              "      <td>1</td>\n",
              "      <td>1</td>\n",
              "      <td>1</td>\n",
              "      <td>1</td>\n",
              "      <td>1</td>\n",
              "      <td>1</td>\n",
              "      <td>1</td>\n",
              "      <td>1</td>\n",
              "    </tr>\n",
              "    <tr>\n",
              "      <th>...</th>\n",
              "      <td>...</td>\n",
              "      <td>...</td>\n",
              "      <td>...</td>\n",
              "      <td>...</td>\n",
              "      <td>...</td>\n",
              "      <td>...</td>\n",
              "      <td>...</td>\n",
              "      <td>...</td>\n",
              "      <td>...</td>\n",
              "      <td>...</td>\n",
              "      <td>...</td>\n",
              "      <td>...</td>\n",
              "      <td>...</td>\n",
              "      <td>...</td>\n",
              "    </tr>\n",
              "    <tr>\n",
              "      <th>st. august</th>\n",
              "      <td>1</td>\n",
              "      <td>1</td>\n",
              "      <td>1</td>\n",
              "      <td>1</td>\n",
              "      <td>1</td>\n",
              "      <td>1</td>\n",
              "      <td>1</td>\n",
              "      <td>1</td>\n",
              "      <td>1</td>\n",
              "      <td>1</td>\n",
              "      <td>1</td>\n",
              "      <td>1</td>\n",
              "      <td>1</td>\n",
              "      <td>1</td>\n",
              "    </tr>\n",
              "    <tr>\n",
              "      <th>tobi lou</th>\n",
              "      <td>1</td>\n",
              "      <td>1</td>\n",
              "      <td>1</td>\n",
              "      <td>1</td>\n",
              "      <td>1</td>\n",
              "      <td>1</td>\n",
              "      <td>1</td>\n",
              "      <td>1</td>\n",
              "      <td>1</td>\n",
              "      <td>1</td>\n",
              "      <td>1</td>\n",
              "      <td>1</td>\n",
              "      <td>1</td>\n",
              "      <td>1</td>\n",
              "    </tr>\n",
              "    <tr>\n",
              "      <th>twuan</th>\n",
              "      <td>1</td>\n",
              "      <td>1</td>\n",
              "      <td>1</td>\n",
              "      <td>1</td>\n",
              "      <td>1</td>\n",
              "      <td>1</td>\n",
              "      <td>1</td>\n",
              "      <td>1</td>\n",
              "      <td>1</td>\n",
              "      <td>1</td>\n",
              "      <td>1</td>\n",
              "      <td>1</td>\n",
              "      <td>1</td>\n",
              "      <td>1</td>\n",
              "    </tr>\n",
              "    <tr>\n",
              "      <th>updog</th>\n",
              "      <td>2</td>\n",
              "      <td>2</td>\n",
              "      <td>2</td>\n",
              "      <td>2</td>\n",
              "      <td>2</td>\n",
              "      <td>2</td>\n",
              "      <td>2</td>\n",
              "      <td>2</td>\n",
              "      <td>2</td>\n",
              "      <td>2</td>\n",
              "      <td>2</td>\n",
              "      <td>2</td>\n",
              "      <td>2</td>\n",
              "      <td>2</td>\n",
              "    </tr>\n",
              "    <tr>\n",
              "      <th>yetep</th>\n",
              "      <td>1</td>\n",
              "      <td>1</td>\n",
              "      <td>1</td>\n",
              "      <td>1</td>\n",
              "      <td>1</td>\n",
              "      <td>1</td>\n",
              "      <td>1</td>\n",
              "      <td>1</td>\n",
              "      <td>1</td>\n",
              "      <td>1</td>\n",
              "      <td>1</td>\n",
              "      <td>1</td>\n",
              "      <td>1</td>\n",
              "      <td>1</td>\n",
              "    </tr>\n",
              "  </tbody>\n",
              "</table>\n",
              "<p>8919 rows × 14 columns</p>\n",
              "</div>\n",
              "      <button class=\"colab-df-convert\" onclick=\"convertToInteractive('df-278f4390-1b55-4e1c-bf0f-811f542dabe1')\"\n",
              "              title=\"Convert this dataframe to an interactive table.\"\n",
              "              style=\"display:none;\">\n",
              "        \n",
              "  <svg xmlns=\"http://www.w3.org/2000/svg\" height=\"24px\"viewBox=\"0 0 24 24\"\n",
              "       width=\"24px\">\n",
              "    <path d=\"M0 0h24v24H0V0z\" fill=\"none\"/>\n",
              "    <path d=\"M18.56 5.44l.94 2.06.94-2.06 2.06-.94-2.06-.94-.94-2.06-.94 2.06-2.06.94zm-11 1L8.5 8.5l.94-2.06 2.06-.94-2.06-.94L8.5 2.5l-.94 2.06-2.06.94zm10 10l.94 2.06.94-2.06 2.06-.94-2.06-.94-.94-2.06-.94 2.06-2.06.94z\"/><path d=\"M17.41 7.96l-1.37-1.37c-.4-.4-.92-.59-1.43-.59-.52 0-1.04.2-1.43.59L10.3 9.45l-7.72 7.72c-.78.78-.78 2.05 0 2.83L4 21.41c.39.39.9.59 1.41.59.51 0 1.02-.2 1.41-.59l7.78-7.78 2.81-2.81c.8-.78.8-2.07 0-2.86zM5.41 20L4 18.59l7.72-7.72 1.47 1.35L5.41 20z\"/>\n",
              "  </svg>\n",
              "      </button>\n",
              "      \n",
              "  <style>\n",
              "    .colab-df-container {\n",
              "      display:flex;\n",
              "      flex-wrap:wrap;\n",
              "      gap: 12px;\n",
              "    }\n",
              "\n",
              "    .colab-df-convert {\n",
              "      background-color: #E8F0FE;\n",
              "      border: none;\n",
              "      border-radius: 50%;\n",
              "      cursor: pointer;\n",
              "      display: none;\n",
              "      fill: #1967D2;\n",
              "      height: 32px;\n",
              "      padding: 0 0 0 0;\n",
              "      width: 32px;\n",
              "    }\n",
              "\n",
              "    .colab-df-convert:hover {\n",
              "      background-color: #E2EBFA;\n",
              "      box-shadow: 0px 1px 2px rgba(60, 64, 67, 0.3), 0px 1px 3px 1px rgba(60, 64, 67, 0.15);\n",
              "      fill: #174EA6;\n",
              "    }\n",
              "\n",
              "    [theme=dark] .colab-df-convert {\n",
              "      background-color: #3B4455;\n",
              "      fill: #D2E3FC;\n",
              "    }\n",
              "\n",
              "    [theme=dark] .colab-df-convert:hover {\n",
              "      background-color: #434B5C;\n",
              "      box-shadow: 0px 1px 3px 1px rgba(0, 0, 0, 0.15);\n",
              "      filter: drop-shadow(0px 1px 2px rgba(0, 0, 0, 0.3));\n",
              "      fill: #FFFFFF;\n",
              "    }\n",
              "  </style>\n",
              "\n",
              "      <script>\n",
              "        const buttonEl =\n",
              "          document.querySelector('#df-278f4390-1b55-4e1c-bf0f-811f542dabe1 button.colab-df-convert');\n",
              "        buttonEl.style.display =\n",
              "          google.colab.kernel.accessAllowed ? 'block' : 'none';\n",
              "\n",
              "        async function convertToInteractive(key) {\n",
              "          const element = document.querySelector('#df-278f4390-1b55-4e1c-bf0f-811f542dabe1');\n",
              "          const dataTable =\n",
              "            await google.colab.kernel.invokeFunction('convertToInteractive',\n",
              "                                                     [key], {});\n",
              "          if (!dataTable) return;\n",
              "\n",
              "          const docLinkHtml = 'Like what you see? Visit the ' +\n",
              "            '<a target=\"_blank\" href=https://colab.research.google.com/notebooks/data_table.ipynb>data table notebook</a>'\n",
              "            + ' to learn more about interactive tables.';\n",
              "          element.innerHTML = '';\n",
              "          dataTable['output_type'] = 'display_data';\n",
              "          await google.colab.output.renderOutput(dataTable, element);\n",
              "          const docLink = document.createElement('div');\n",
              "          docLink.innerHTML = docLinkHtml;\n",
              "          element.appendChild(docLink);\n",
              "        }\n",
              "      </script>\n",
              "    </div>\n",
              "  </div>\n",
              "  "
            ],
            "text/plain": [
              "                  title  lyrics  year  ...  year_bin  artist_lower  gender_matched\n",
              "artist                                 ...                                        \n",
              "!deladap              1       1     1  ...         1             1               1\n",
              "'Til Tuesday          1       1     1  ...         1             1               1\n",
              "(Sandy) Alex G        1       1     1  ...         1             1               1\n",
              "009 Sound System      4       4     4  ...         4             4               4\n",
              "03 Greedo             1       1     1  ...         1             1               1\n",
              "...                 ...     ...   ...  ...       ...           ...             ...\n",
              "st. august            1       1     1  ...         1             1               1\n",
              "tobi lou              1       1     1  ...         1             1               1\n",
              "twuan                 1       1     1  ...         1             1               1\n",
              "updog                 2       2     2  ...         2             2               2\n",
              "yetep                 1       1     1  ...         1             1               1\n",
              "\n",
              "[8919 rows x 14 columns]"
            ]
          },
          "execution_count": 234,
          "metadata": {},
          "output_type": "execute_result"
        }
      ],
      "source": [
        "cleaned[cleaned.gender_matched == \"Unknown\"].groupby(\"artist\").count()"
      ]
    },
    {
      "cell_type": "code",
      "execution_count": null,
      "metadata": {
        "id": "eOV-KyrZDIvC"
      },
      "outputs": [],
      "source": [
        "cleaned.loc[cleaned.gender_matched.isna(), \"gender_matched\"] = cleaned.loc[cleaned.gender_matched.isna(), \"Gender\"]\n",
        "#For those unknown from the gender dataset (NaN), impute with known gender class"
      ]
    },
    {
      "cell_type": "code",
      "execution_count": null,
      "metadata": {
        "colab": {
          "base_uri": "https://localhost:8080/"
        },
        "id": "Mujn1uAxUQJc",
        "outputId": "986e544b-689e-4bdb-d15c-afad1a0a7069"
      },
      "outputs": [
        {
          "data": {
            "text/plain": [
              "Unknown                  111201\n",
              "Group                     87401\n",
              "male                      28900\n",
              "female                     8091\n",
              "non-binary                  317\n",
              "androgynous                  76\n",
              "agender                      36\n",
              "genderfluid                  32\n",
              "genderqueer                  12\n",
              "transgender woman            12\n",
              "transgender                   6\n",
              "gender non-conforming         1\n",
              "Name: gender_matched, dtype: int64"
            ]
          },
          "execution_count": 231,
          "metadata": {},
          "output_type": "execute_result"
        }
      ],
      "source": [
        "cleaned.gender_matched.value_counts()"
      ]
    },
    {
      "cell_type": "code",
      "execution_count": null,
      "metadata": {
        "colab": {
          "base_uri": "https://localhost:8080/",
          "height": 49
        },
        "id": "5-RmdUcwrE2y",
        "outputId": "ab7e4f5b-c823-4dfc-f993-d0598d540f39"
      },
      "outputs": [
        {
          "data": {
            "text/html": [
              "\n",
              "  <div id=\"df-763a000a-6aaf-47f2-a28a-892c38855e80\">\n",
              "    <div class=\"colab-df-container\">\n",
              "      <div>\n",
              "<style scoped>\n",
              "    .dataframe tbody tr th:only-of-type {\n",
              "        vertical-align: middle;\n",
              "    }\n",
              "\n",
              "    .dataframe tbody tr th {\n",
              "        vertical-align: top;\n",
              "    }\n",
              "\n",
              "    .dataframe thead th {\n",
              "        text-align: right;\n",
              "    }\n",
              "</style>\n",
              "<table border=\"1\" class=\"dataframe\">\n",
              "  <thead>\n",
              "    <tr style=\"text-align: right;\">\n",
              "      <th></th>\n",
              "      <th>title</th>\n",
              "      <th>artist</th>\n",
              "      <th>lyrics</th>\n",
              "      <th>year</th>\n",
              "      <th>popularity</th>\n",
              "      <th>edm</th>\n",
              "      <th>latin</th>\n",
              "      <th>pop</th>\n",
              "      <th>r&amp;b</th>\n",
              "      <th>rap</th>\n",
              "      <th>rock</th>\n",
              "      <th>Gender</th>\n",
              "      <th>year_bin</th>\n",
              "      <th>artist_lower</th>\n",
              "      <th>gender_matched</th>\n",
              "    </tr>\n",
              "  </thead>\n",
              "  <tbody>\n",
              "  </tbody>\n",
              "</table>\n",
              "</div>\n",
              "      <button class=\"colab-df-convert\" onclick=\"convertToInteractive('df-763a000a-6aaf-47f2-a28a-892c38855e80')\"\n",
              "              title=\"Convert this dataframe to an interactive table.\"\n",
              "              style=\"display:none;\">\n",
              "        \n",
              "  <svg xmlns=\"http://www.w3.org/2000/svg\" height=\"24px\"viewBox=\"0 0 24 24\"\n",
              "       width=\"24px\">\n",
              "    <path d=\"M0 0h24v24H0V0z\" fill=\"none\"/>\n",
              "    <path d=\"M18.56 5.44l.94 2.06.94-2.06 2.06-.94-2.06-.94-.94-2.06-.94 2.06-2.06.94zm-11 1L8.5 8.5l.94-2.06 2.06-.94-2.06-.94L8.5 2.5l-.94 2.06-2.06.94zm10 10l.94 2.06.94-2.06 2.06-.94-2.06-.94-.94-2.06-.94 2.06-2.06.94z\"/><path d=\"M17.41 7.96l-1.37-1.37c-.4-.4-.92-.59-1.43-.59-.52 0-1.04.2-1.43.59L10.3 9.45l-7.72 7.72c-.78.78-.78 2.05 0 2.83L4 21.41c.39.39.9.59 1.41.59.51 0 1.02-.2 1.41-.59l7.78-7.78 2.81-2.81c.8-.78.8-2.07 0-2.86zM5.41 20L4 18.59l7.72-7.72 1.47 1.35L5.41 20z\"/>\n",
              "  </svg>\n",
              "      </button>\n",
              "      \n",
              "  <style>\n",
              "    .colab-df-container {\n",
              "      display:flex;\n",
              "      flex-wrap:wrap;\n",
              "      gap: 12px;\n",
              "    }\n",
              "\n",
              "    .colab-df-convert {\n",
              "      background-color: #E8F0FE;\n",
              "      border: none;\n",
              "      border-radius: 50%;\n",
              "      cursor: pointer;\n",
              "      display: none;\n",
              "      fill: #1967D2;\n",
              "      height: 32px;\n",
              "      padding: 0 0 0 0;\n",
              "      width: 32px;\n",
              "    }\n",
              "\n",
              "    .colab-df-convert:hover {\n",
              "      background-color: #E2EBFA;\n",
              "      box-shadow: 0px 1px 2px rgba(60, 64, 67, 0.3), 0px 1px 3px 1px rgba(60, 64, 67, 0.15);\n",
              "      fill: #174EA6;\n",
              "    }\n",
              "\n",
              "    [theme=dark] .colab-df-convert {\n",
              "      background-color: #3B4455;\n",
              "      fill: #D2E3FC;\n",
              "    }\n",
              "\n",
              "    [theme=dark] .colab-df-convert:hover {\n",
              "      background-color: #434B5C;\n",
              "      box-shadow: 0px 1px 3px 1px rgba(0, 0, 0, 0.15);\n",
              "      filter: drop-shadow(0px 1px 2px rgba(0, 0, 0, 0.3));\n",
              "      fill: #FFFFFF;\n",
              "    }\n",
              "  </style>\n",
              "\n",
              "      <script>\n",
              "        const buttonEl =\n",
              "          document.querySelector('#df-763a000a-6aaf-47f2-a28a-892c38855e80 button.colab-df-convert');\n",
              "        buttonEl.style.display =\n",
              "          google.colab.kernel.accessAllowed ? 'block' : 'none';\n",
              "\n",
              "        async function convertToInteractive(key) {\n",
              "          const element = document.querySelector('#df-763a000a-6aaf-47f2-a28a-892c38855e80');\n",
              "          const dataTable =\n",
              "            await google.colab.kernel.invokeFunction('convertToInteractive',\n",
              "                                                     [key], {});\n",
              "          if (!dataTable) return;\n",
              "\n",
              "          const docLinkHtml = 'Like what you see? Visit the ' +\n",
              "            '<a target=\"_blank\" href=https://colab.research.google.com/notebooks/data_table.ipynb>data table notebook</a>'\n",
              "            + ' to learn more about interactive tables.';\n",
              "          element.innerHTML = '';\n",
              "          dataTable['output_type'] = 'display_data';\n",
              "          await google.colab.output.renderOutput(dataTable, element);\n",
              "          const docLink = document.createElement('div');\n",
              "          docLink.innerHTML = docLinkHtml;\n",
              "          element.appendChild(docLink);\n",
              "        }\n",
              "      </script>\n",
              "    </div>\n",
              "  </div>\n",
              "  "
            ],
            "text/plain": [
              "Empty DataFrame\n",
              "Columns: [title, artist, lyrics, year, popularity, edm, latin, pop, r&b, rap, rock, Gender, year_bin, artist_lower, gender_matched]\n",
              "Index: []"
            ]
          },
          "execution_count": 232,
          "metadata": {},
          "output_type": "execute_result"
        }
      ],
      "source": [
        "is_str = cleaned.gender_matched.apply(lambda x: isinstance(x, str))\n",
        "cleaned[~is_str]"
      ]
    },
    {
      "cell_type": "code",
      "execution_count": null,
      "metadata": {
        "colab": {
          "base_uri": "https://localhost:8080/"
        },
        "id": "6xppnjQTUQJd",
        "outputId": "b21d7b9b-fbe5-4f03-bf51-3d952c1f1153"
      },
      "outputs": [
        {
          "data": {
            "text/plain": [
              "unknown                  111201\n",
              "group                     87401\n",
              "male                      28900\n",
              "female                     8091\n",
              "non-binary                  317\n",
              "androgynous                  76\n",
              "agender                      36\n",
              "genderfluid                  32\n",
              "genderqueer                  12\n",
              "transgender woman            12\n",
              "transgender                   6\n",
              "gender non-conforming         1\n",
              "Name: gender_matched, dtype: int64"
            ]
          },
          "execution_count": 235,
          "metadata": {},
          "output_type": "execute_result"
        }
      ],
      "source": [
        "cleaned['gender_matched'] = cleaned['gender_matched'].apply(lambda x: x.lower())\n",
        "cleaned['gender_matched'].value_counts()"
      ]
    },
    {
      "cell_type": "code",
      "execution_count": null,
      "metadata": {
        "id": "G2FccvSHUQJd"
      },
      "outputs": [],
      "source": [
        "cleaned.to_csv(\"sp_bb_metro_matched.csv\", index = False)"
      ]
    },
    {
      "cell_type": "markdown",
      "metadata": {
        "id": "NfJtNMBNavap"
      },
      "source": [
        "#Exploratory"
      ]
    },
    {
      "cell_type": "code",
      "execution_count": null,
      "metadata": {
        "id": "thdWKoGLqcOm"
      },
      "outputs": [],
      "source": [
        "GENDER_SLURS = [\"bitch\", \"slut\",  \"sissy\", \"whore\", \"ho\", \"hoe\", \"skeezer\", \"shawty\", \"shorty\"]"
      ]
    },
    {
      "cell_type": "code",
      "execution_count": null,
      "metadata": {
        "id": "5_-fOcdyyZu9"
      },
      "outputs": [],
      "source": [
        "cleaned = pd.read_csv(\"sp_bb_metro_matched.csv\")"
      ]
    },
    {
      "cell_type": "code",
      "execution_count": null,
      "metadata": {
        "colab": {
          "base_uri": "https://localhost:8080/"
        },
        "id": "koZ03G6ZrDlI",
        "outputId": "2e9348a4-9a89-4630-9193-523d57764511"
      },
      "outputs": [
        {
          "name": "stdout",
          "output_type": "stream",
          "text": [
            "Num of edm songs: 9076\n",
            "Num of latin songs: 869\n",
            "Num of pop songs: 40116\n",
            "Num of r&b songs: 6851\n",
            "Num of rap songs: 25836\n",
            "Num of rock songs: 104946\n"
          ]
        }
      ],
      "source": [
        "print(\"Num of edm songs:\", sum(cleaned.edm))\n",
        "print(\"Num of latin songs:\", sum(cleaned.latin))\n",
        "print(\"Num of pop songs:\", sum(cleaned['pop']))\n",
        "print(\"Num of r&b songs:\", sum(cleaned['r&b']))\n",
        "print(\"Num of rap songs:\", sum(cleaned.rap))\n",
        "print(\"Num of rock songs:\", sum(cleaned.rock))"
      ]
    },
    {
      "cell_type": "code",
      "execution_count": null,
      "metadata": {
        "colab": {
          "base_uri": "https://localhost:8080/"
        },
        "id": "m9_89Ozaaxk2",
        "outputId": "9d4d803a-f065-4e74-e4f8-7ef77979ec89"
      },
      "outputs": [
        {
          "name": "stdout",
          "output_type": "stream",
          "text": [
            "<class 'pandas.core.frame.DataFrame'>\n",
            "RangeIndex: 236085 entries, 0 to 236084\n",
            "Data columns (total 15 columns):\n",
            " #   Column          Non-Null Count   Dtype  \n",
            "---  ------          --------------   -----  \n",
            " 0   title           236085 non-null  object \n",
            " 1   artist          236085 non-null  object \n",
            " 2   lyrics          236085 non-null  object \n",
            " 3   year            236085 non-null  int64  \n",
            " 4   popularity      14598 non-null   float64\n",
            " 5   edm             236085 non-null  bool   \n",
            " 6   latin           236085 non-null  bool   \n",
            " 7   pop             236085 non-null  bool   \n",
            " 8   r&b             236085 non-null  bool   \n",
            " 9   rap             236085 non-null  bool   \n",
            " 10  rock            236085 non-null  bool   \n",
            " 11  Gender          236085 non-null  object \n",
            " 12  year_bin        236085 non-null  object \n",
            " 13  artist_lower    236082 non-null  object \n",
            " 14  gender_matched  236085 non-null  object \n",
            "dtypes: bool(6), float64(1), int64(1), object(7)\n",
            "memory usage: 17.6+ MB\n"
          ]
        }
      ],
      "source": [
        "cleaned.info()"
      ]
    },
    {
      "cell_type": "code",
      "execution_count": null,
      "metadata": {
        "colab": {
          "base_uri": "https://localhost:8080/"
        },
        "id": "pbHNrbp0azb_",
        "outputId": "7560c52e-c46b-48ec-c5c9-d0071839ae2d"
      },
      "outputs": [
        {
          "data": {
            "text/plain": [
              "Unknown    232800\n",
              "male         1252\n",
              "Group        1247\n",
              "female        786\n",
              "Name: Gender, dtype: int64"
            ]
          },
          "execution_count": 27,
          "metadata": {},
          "output_type": "execute_result"
        }
      ],
      "source": [
        "cleaned.Gender.value_counts()"
      ]
    },
    {
      "cell_type": "code",
      "execution_count": null,
      "metadata": {
        "colab": {
          "base_uri": "https://localhost:8080/"
        },
        "id": "uCSDGCRFbN4Y",
        "outputId": "1af7e182-d994-46f8-e163-dadf9bcba481"
      },
      "outputs": [
        {
          "data": {
            "text/plain": [
              "unknown                  111201\n",
              "group                     87401\n",
              "male                      28900\n",
              "female                     8091\n",
              "non-binary                  317\n",
              "androgynous                  76\n",
              "agender                      36\n",
              "genderfluid                  32\n",
              "genderqueer                  12\n",
              "transgender woman            12\n",
              "transgender                   6\n",
              "gender non-conforming         1\n",
              "Name: gender_matched, dtype: int64"
            ]
          },
          "execution_count": 28,
          "metadata": {},
          "output_type": "execute_result"
        }
      ],
      "source": [
        "cleaned.gender_matched.value_counts()"
      ]
    },
    {
      "cell_type": "code",
      "execution_count": null,
      "metadata": {
        "colab": {
          "base_uri": "https://localhost:8080/"
        },
        "id": "IYy6_JqobrVF",
        "outputId": "81680cb0-939f-4157-acef-cc670db7c9dd"
      },
      "outputs": [
        {
          "data": {
            "text/plain": [
              "2006    59881\n",
              "2007    56108\n",
              "2008    15827\n",
              "2014    11217\n",
              "2016     9818\n",
              "2015     8770\n",
              "2012     8721\n",
              "2010     8532\n",
              "2009     8423\n",
              "2013     7948\n",
              "2011     7916\n",
              "2005     4534\n",
              "2004     2616\n",
              "2019     2403\n",
              "2003     1899\n",
              "2002     1628\n",
              "2001     1393\n",
              "2000     1299\n",
              "2018     1247\n",
              "1990     1195\n",
              "2017     1155\n",
              "1999     1089\n",
              "1998      897\n",
              "1996      890\n",
              "1997      882\n",
              "1995      864\n",
              "1993      731\n",
              "1994      730\n",
              "1992      689\n",
              "1991      476\n",
              "1973      374\n",
              "1982      370\n",
              "1989      370\n",
              "1977      364\n",
              "1988      363\n",
              "1986      343\n",
              "1980      341\n",
              "1978      329\n",
              "1984      325\n",
              "1985      316\n",
              "1987      316\n",
              "1981      302\n",
              "1979      294\n",
              "1983      291\n",
              "1974      288\n",
              "1972      287\n",
              "1971      286\n",
              "1975      263\n",
              "1970      263\n",
              "1976      222\n",
              "Name: year, dtype: int64"
            ]
          },
          "execution_count": 29,
          "metadata": {},
          "output_type": "execute_result"
        }
      ],
      "source": [
        "cleaned.year.value_counts()"
      ]
    },
    {
      "cell_type": "markdown",
      "metadata": {
        "id": "CZxonv7doIxS"
      },
      "source": [
        "## Counts of gendered slurs"
      ]
    },
    {
      "cell_type": "code",
      "execution_count": null,
      "metadata": {
        "id": "KJd4xGGRs3xW"
      },
      "outputs": [],
      "source": [
        "import spacy\n",
        "import nltk\n",
        "from matplotlib import rcParams\n",
        "\n",
        "# figure size in inches\n",
        "rcParams['figure.figsize'] = 11.7,8.27"
      ]
    },
    {
      "cell_type": "code",
      "execution_count": null,
      "metadata": {
        "id": "JzUL2LOVsz1Q"
      },
      "outputs": [],
      "source": [
        "nlp = spacy.load(\"en\")\n",
        "\n",
        "\n",
        "def word_tokenize(word_list):\n",
        "    tokenized = []\n",
        "    # pass word list through language model.\n",
        "    doc = nlp(word_list)\n",
        "    for token in doc:\n",
        "        if not token.is_punct and len(token.text.strip()) > 0:\n",
        "            tokenized.append(token.text)\n",
        "    return tokenized\n",
        "\n",
        "def normalizeTokens(word_list, extra_stop=[]):\n",
        "    #We can use a generator here as we just need to iterate over it\n",
        "    normalized = []\n",
        "    if type(word_list) == list and len(word_list) == 1:\n",
        "        word_list = word_list[0]\n",
        "\n",
        "    if type(word_list) == list:\n",
        "        word_list = ' '.join([str(elem) for elem in word_list]) \n",
        "\n",
        "    doc = nlp(word_list.lower())\n",
        "    \n",
        "    # add the property of stop word to words considered as stop words\n",
        "    if len(extra_stop) > 0:\n",
        "        for stopword in extra_stop:\n",
        "            lexeme = nlp.vocab[stopword]\n",
        "            lexeme.is_stop = True\n",
        "\n",
        "    for w in doc:\n",
        "        # if it's not a stop word or punctuation mark, add it to our article\n",
        "        if w.text != '\\n' and not w.is_stop and not w.is_punct and not w.like_num and len(w.text.strip()) > 0:\n",
        "            # we add the lematized version of the word\n",
        "            normalized.append(str(w.lemma_))\n",
        "\n",
        "    return normalized"
      ]
    },
    {
      "cell_type": "code",
      "execution_count": null,
      "metadata": {
        "colab": {
          "base_uri": "https://localhost:8080/"
        },
        "id": "dQoDJjILeI9G",
        "outputId": "3241b987-77ed-4996-ccc1-038457161ee9"
      },
      "outputs": [
        {
          "data": {
            "text/plain": [
              "2000s    153608\n",
              "2010s     67727\n",
              "1990s      8443\n",
              "1980s      3337\n",
              "1970s      2970\n",
              "Name: year_bin, dtype: int64"
            ]
          },
          "execution_count": 30,
          "metadata": {},
          "output_type": "execute_result"
        }
      ],
      "source": [
        "cleaned.year_bin.value_counts()"
      ]
    },
    {
      "cell_type": "code",
      "execution_count": null,
      "metadata": {
        "colab": {
          "base_uri": "https://localhost:8080/",
          "height": 659
        },
        "id": "h15uw6oWpm1D",
        "outputId": "88b2a830-4983-4d7a-c616-29a61880e20c"
      },
      "outputs": [
        {
          "data": {
            "text/html": [
              "\n",
              "  <div id=\"df-e5ecdd7c-bd78-414a-a43e-8b88b3ed3dab\">\n",
              "    <div class=\"colab-df-container\">\n",
              "      <div>\n",
              "<style scoped>\n",
              "    .dataframe tbody tr th:only-of-type {\n",
              "        vertical-align: middle;\n",
              "    }\n",
              "\n",
              "    .dataframe tbody tr th {\n",
              "        vertical-align: top;\n",
              "    }\n",
              "\n",
              "    .dataframe thead th {\n",
              "        text-align: right;\n",
              "    }\n",
              "</style>\n",
              "<table border=\"1\" class=\"dataframe\">\n",
              "  <thead>\n",
              "    <tr style=\"text-align: right;\">\n",
              "      <th></th>\n",
              "      <th>title</th>\n",
              "      <th>artist</th>\n",
              "      <th>lyrics</th>\n",
              "      <th>year</th>\n",
              "      <th>popularity</th>\n",
              "      <th>edm</th>\n",
              "      <th>latin</th>\n",
              "      <th>pop</th>\n",
              "      <th>r&amp;b</th>\n",
              "      <th>rap</th>\n",
              "      <th>rock</th>\n",
              "      <th>Gender</th>\n",
              "      <th>year_bin</th>\n",
              "      <th>artist_lower</th>\n",
              "      <th>gender_matched</th>\n",
              "    </tr>\n",
              "  </thead>\n",
              "  <tbody>\n",
              "    <tr>\n",
              "      <th>14791</th>\n",
              "      <td>Love Train</td>\n",
              "      <td>O'Jays</td>\n",
              "      <td>People all over the world (everybody)\\nJoin ha...</td>\n",
              "      <td>1973</td>\n",
              "      <td>NaN</td>\n",
              "      <td>False</td>\n",
              "      <td>False</td>\n",
              "      <td>True</td>\n",
              "      <td>True</td>\n",
              "      <td>False</td>\n",
              "      <td>True</td>\n",
              "      <td>Group</td>\n",
              "      <td>1970s</td>\n",
              "      <td>ojays</td>\n",
              "      <td>group</td>\n",
              "    </tr>\n",
              "    <tr>\n",
              "      <th>2118</th>\n",
              "      <td>Leaving Home Ain't Easy - Remastered 2011</td>\n",
              "      <td>Queen</td>\n",
              "      <td>I take a step outside and I breathe the air An...</td>\n",
              "      <td>1978</td>\n",
              "      <td>37.0</td>\n",
              "      <td>False</td>\n",
              "      <td>False</td>\n",
              "      <td>False</td>\n",
              "      <td>False</td>\n",
              "      <td>False</td>\n",
              "      <td>True</td>\n",
              "      <td>Unknown</td>\n",
              "      <td>1970s</td>\n",
              "      <td>queen</td>\n",
              "      <td>male</td>\n",
              "    </tr>\n",
              "    <tr>\n",
              "      <th>14782</th>\n",
              "      <td>Half Breed</td>\n",
              "      <td>Cher</td>\n",
              "      <td>My father married a pure Cherokee\\nMy mother's...</td>\n",
              "      <td>1973</td>\n",
              "      <td>NaN</td>\n",
              "      <td>False</td>\n",
              "      <td>False</td>\n",
              "      <td>True</td>\n",
              "      <td>False</td>\n",
              "      <td>False</td>\n",
              "      <td>True</td>\n",
              "      <td>female</td>\n",
              "      <td>1970s</td>\n",
              "      <td>cher</td>\n",
              "      <td>female</td>\n",
              "    </tr>\n",
              "    <tr>\n",
              "      <th>151</th>\n",
              "      <td>Rhiannon</td>\n",
              "      <td>Fleetwood Mac</td>\n",
              "      <td>Rhiannon rings like a bell through the night A...</td>\n",
              "      <td>1975</td>\n",
              "      <td>68.0</td>\n",
              "      <td>False</td>\n",
              "      <td>False</td>\n",
              "      <td>False</td>\n",
              "      <td>False</td>\n",
              "      <td>False</td>\n",
              "      <td>True</td>\n",
              "      <td>Unknown</td>\n",
              "      <td>1970s</td>\n",
              "      <td>fleetwood mac</td>\n",
              "      <td>group</td>\n",
              "    </tr>\n",
              "    <tr>\n",
              "      <th>137407</th>\n",
              "      <td>Please Don T Turn Out The Lights</td>\n",
              "      <td>Bee Gees</td>\n",
              "      <td>Every time I need reality in jeopardy of losin...</td>\n",
              "      <td>1972</td>\n",
              "      <td>NaN</td>\n",
              "      <td>False</td>\n",
              "      <td>False</td>\n",
              "      <td>True</td>\n",
              "      <td>False</td>\n",
              "      <td>False</td>\n",
              "      <td>False</td>\n",
              "      <td>Unknown</td>\n",
              "      <td>1970s</td>\n",
              "      <td>bee gees</td>\n",
              "      <td>male</td>\n",
              "    </tr>\n",
              "    <tr>\n",
              "      <th>...</th>\n",
              "      <td>...</td>\n",
              "      <td>...</td>\n",
              "      <td>...</td>\n",
              "      <td>...</td>\n",
              "      <td>...</td>\n",
              "      <td>...</td>\n",
              "      <td>...</td>\n",
              "      <td>...</td>\n",
              "      <td>...</td>\n",
              "      <td>...</td>\n",
              "      <td>...</td>\n",
              "      <td>...</td>\n",
              "      <td>...</td>\n",
              "      <td>...</td>\n",
              "      <td>...</td>\n",
              "    </tr>\n",
              "    <tr>\n",
              "      <th>68074</th>\n",
              "      <td>Do Something</td>\n",
              "      <td>Dipset</td>\n",
              "      <td>Niggas mad cause every other month man I pop i...</td>\n",
              "      <td>2015</td>\n",
              "      <td>NaN</td>\n",
              "      <td>False</td>\n",
              "      <td>False</td>\n",
              "      <td>False</td>\n",
              "      <td>False</td>\n",
              "      <td>True</td>\n",
              "      <td>False</td>\n",
              "      <td>Unknown</td>\n",
              "      <td>2010s</td>\n",
              "      <td>dipset</td>\n",
              "      <td>group</td>\n",
              "    </tr>\n",
              "    <tr>\n",
              "      <th>171820</th>\n",
              "      <td>Lend Myself To The Night</td>\n",
              "      <td>Devildriver</td>\n",
              "      <td>These spirits exact a heavy toll I've had it T...</td>\n",
              "      <td>2011</td>\n",
              "      <td>NaN</td>\n",
              "      <td>False</td>\n",
              "      <td>False</td>\n",
              "      <td>False</td>\n",
              "      <td>False</td>\n",
              "      <td>False</td>\n",
              "      <td>False</td>\n",
              "      <td>Unknown</td>\n",
              "      <td>2010s</td>\n",
              "      <td>devildriver</td>\n",
              "      <td>group</td>\n",
              "    </tr>\n",
              "    <tr>\n",
              "      <th>218515</th>\n",
              "      <td>Rayon Drive</td>\n",
              "      <td>Game Theory</td>\n",
              "      <td>Fair Oaks hot spot between Howe and Watt Sell ...</td>\n",
              "      <td>2015</td>\n",
              "      <td>NaN</td>\n",
              "      <td>False</td>\n",
              "      <td>False</td>\n",
              "      <td>True</td>\n",
              "      <td>False</td>\n",
              "      <td>False</td>\n",
              "      <td>False</td>\n",
              "      <td>Unknown</td>\n",
              "      <td>2010s</td>\n",
              "      <td>game theory</td>\n",
              "      <td>group</td>\n",
              "    </tr>\n",
              "    <tr>\n",
              "      <th>118845</th>\n",
              "      <td>Crazy Rhythm</td>\n",
              "      <td>Chico Hamilton</td>\n",
              "      <td>Crazy rhythm here's the doorway I'll go my way...</td>\n",
              "      <td>2015</td>\n",
              "      <td>NaN</td>\n",
              "      <td>False</td>\n",
              "      <td>False</td>\n",
              "      <td>False</td>\n",
              "      <td>False</td>\n",
              "      <td>False</td>\n",
              "      <td>False</td>\n",
              "      <td>Unknown</td>\n",
              "      <td>2010s</td>\n",
              "      <td>chico hamilton</td>\n",
              "      <td>unknown</td>\n",
              "    </tr>\n",
              "    <tr>\n",
              "      <th>161577</th>\n",
              "      <td>What S New</td>\n",
              "      <td>Boz Scaggs</td>\n",
              "      <td>What's new How is the world treating you You h...</td>\n",
              "      <td>2015</td>\n",
              "      <td>NaN</td>\n",
              "      <td>False</td>\n",
              "      <td>False</td>\n",
              "      <td>False</td>\n",
              "      <td>False</td>\n",
              "      <td>False</td>\n",
              "      <td>True</td>\n",
              "      <td>Unknown</td>\n",
              "      <td>2010s</td>\n",
              "      <td>boz scaggs</td>\n",
              "      <td>unknown</td>\n",
              "    </tr>\n",
              "  </tbody>\n",
              "</table>\n",
              "<p>2500 rows × 15 columns</p>\n",
              "</div>\n",
              "      <button class=\"colab-df-convert\" onclick=\"convertToInteractive('df-e5ecdd7c-bd78-414a-a43e-8b88b3ed3dab')\"\n",
              "              title=\"Convert this dataframe to an interactive table.\"\n",
              "              style=\"display:none;\">\n",
              "        \n",
              "  <svg xmlns=\"http://www.w3.org/2000/svg\" height=\"24px\"viewBox=\"0 0 24 24\"\n",
              "       width=\"24px\">\n",
              "    <path d=\"M0 0h24v24H0V0z\" fill=\"none\"/>\n",
              "    <path d=\"M18.56 5.44l.94 2.06.94-2.06 2.06-.94-2.06-.94-.94-2.06-.94 2.06-2.06.94zm-11 1L8.5 8.5l.94-2.06 2.06-.94-2.06-.94L8.5 2.5l-.94 2.06-2.06.94zm10 10l.94 2.06.94-2.06 2.06-.94-2.06-.94-.94-2.06-.94 2.06-2.06.94z\"/><path d=\"M17.41 7.96l-1.37-1.37c-.4-.4-.92-.59-1.43-.59-.52 0-1.04.2-1.43.59L10.3 9.45l-7.72 7.72c-.78.78-.78 2.05 0 2.83L4 21.41c.39.39.9.59 1.41.59.51 0 1.02-.2 1.41-.59l7.78-7.78 2.81-2.81c.8-.78.8-2.07 0-2.86zM5.41 20L4 18.59l7.72-7.72 1.47 1.35L5.41 20z\"/>\n",
              "  </svg>\n",
              "      </button>\n",
              "      \n",
              "  <style>\n",
              "    .colab-df-container {\n",
              "      display:flex;\n",
              "      flex-wrap:wrap;\n",
              "      gap: 12px;\n",
              "    }\n",
              "\n",
              "    .colab-df-convert {\n",
              "      background-color: #E8F0FE;\n",
              "      border: none;\n",
              "      border-radius: 50%;\n",
              "      cursor: pointer;\n",
              "      display: none;\n",
              "      fill: #1967D2;\n",
              "      height: 32px;\n",
              "      padding: 0 0 0 0;\n",
              "      width: 32px;\n",
              "    }\n",
              "\n",
              "    .colab-df-convert:hover {\n",
              "      background-color: #E2EBFA;\n",
              "      box-shadow: 0px 1px 2px rgba(60, 64, 67, 0.3), 0px 1px 3px 1px rgba(60, 64, 67, 0.15);\n",
              "      fill: #174EA6;\n",
              "    }\n",
              "\n",
              "    [theme=dark] .colab-df-convert {\n",
              "      background-color: #3B4455;\n",
              "      fill: #D2E3FC;\n",
              "    }\n",
              "\n",
              "    [theme=dark] .colab-df-convert:hover {\n",
              "      background-color: #434B5C;\n",
              "      box-shadow: 0px 1px 3px 1px rgba(0, 0, 0, 0.15);\n",
              "      filter: drop-shadow(0px 1px 2px rgba(0, 0, 0, 0.3));\n",
              "      fill: #FFFFFF;\n",
              "    }\n",
              "  </style>\n",
              "\n",
              "      <script>\n",
              "        const buttonEl =\n",
              "          document.querySelector('#df-e5ecdd7c-bd78-414a-a43e-8b88b3ed3dab button.colab-df-convert');\n",
              "        buttonEl.style.display =\n",
              "          google.colab.kernel.accessAllowed ? 'block' : 'none';\n",
              "\n",
              "        async function convertToInteractive(key) {\n",
              "          const element = document.querySelector('#df-e5ecdd7c-bd78-414a-a43e-8b88b3ed3dab');\n",
              "          const dataTable =\n",
              "            await google.colab.kernel.invokeFunction('convertToInteractive',\n",
              "                                                     [key], {});\n",
              "          if (!dataTable) return;\n",
              "\n",
              "          const docLinkHtml = 'Like what you see? Visit the ' +\n",
              "            '<a target=\"_blank\" href=https://colab.research.google.com/notebooks/data_table.ipynb>data table notebook</a>'\n",
              "            + ' to learn more about interactive tables.';\n",
              "          element.innerHTML = '';\n",
              "          dataTable['output_type'] = 'display_data';\n",
              "          await google.colab.output.renderOutput(dataTable, element);\n",
              "          const docLink = document.createElement('div');\n",
              "          docLink.innerHTML = docLinkHtml;\n",
              "          element.appendChild(docLink);\n",
              "        }\n",
              "      </script>\n",
              "    </div>\n",
              "  </div>\n",
              "  "
            ],
            "text/plain": [
              "                                            title          artist  \\\n",
              "14791                                  Love Train          O'Jays   \n",
              "2118    Leaving Home Ain't Easy - Remastered 2011           Queen   \n",
              "14782                                  Half Breed            Cher   \n",
              "151                                      Rhiannon   Fleetwood Mac   \n",
              "137407           Please Don T Turn Out The Lights        Bee Gees   \n",
              "...                                           ...             ...   \n",
              "68074                                Do Something          Dipset   \n",
              "171820                   Lend Myself To The Night     Devildriver   \n",
              "218515                                Rayon Drive     Game Theory   \n",
              "118845                               Crazy Rhythm  Chico Hamilton   \n",
              "161577                                 What S New      Boz Scaggs   \n",
              "\n",
              "                                                   lyrics  year  popularity  \\\n",
              "14791   People all over the world (everybody)\\nJoin ha...  1973         NaN   \n",
              "2118    I take a step outside and I breathe the air An...  1978        37.0   \n",
              "14782   My father married a pure Cherokee\\nMy mother's...  1973         NaN   \n",
              "151     Rhiannon rings like a bell through the night A...  1975        68.0   \n",
              "137407  Every time I need reality in jeopardy of losin...  1972         NaN   \n",
              "...                                                   ...   ...         ...   \n",
              "68074   Niggas mad cause every other month man I pop i...  2015         NaN   \n",
              "171820  These spirits exact a heavy toll I've had it T...  2011         NaN   \n",
              "218515  Fair Oaks hot spot between Howe and Watt Sell ...  2015         NaN   \n",
              "118845  Crazy rhythm here's the doorway I'll go my way...  2015         NaN   \n",
              "161577  What's new How is the world treating you You h...  2015         NaN   \n",
              "\n",
              "          edm  latin    pop    r&b    rap   rock   Gender year_bin  \\\n",
              "14791   False  False   True   True  False   True    Group    1970s   \n",
              "2118    False  False  False  False  False   True  Unknown    1970s   \n",
              "14782   False  False   True  False  False   True   female    1970s   \n",
              "151     False  False  False  False  False   True  Unknown    1970s   \n",
              "137407  False  False   True  False  False  False  Unknown    1970s   \n",
              "...       ...    ...    ...    ...    ...    ...      ...      ...   \n",
              "68074   False  False  False  False   True  False  Unknown    2010s   \n",
              "171820  False  False  False  False  False  False  Unknown    2010s   \n",
              "218515  False  False   True  False  False  False  Unknown    2010s   \n",
              "118845  False  False  False  False  False  False  Unknown    2010s   \n",
              "161577  False  False  False  False  False   True  Unknown    2010s   \n",
              "\n",
              "          artist_lower gender_matched  \n",
              "14791            ojays          group  \n",
              "2118             queen           male  \n",
              "14782             cher         female  \n",
              "151      fleetwood mac          group  \n",
              "137407        bee gees           male  \n",
              "...                ...            ...  \n",
              "68074           dipset          group  \n",
              "171820     devildriver          group  \n",
              "218515     game theory          group  \n",
              "118845  chico hamilton        unknown  \n",
              "161577      boz scaggs        unknown  \n",
              "\n",
              "[2500 rows x 15 columns]"
            ]
          },
          "execution_count": 51,
          "metadata": {},
          "output_type": "execute_result"
        }
      ],
      "source": [
        "year_samp = cleaned.groupby(\"year_bin\").sample(500, random_state=2970)\n",
        "year_samp"
      ]
    },
    {
      "cell_type": "code",
      "execution_count": null,
      "metadata": {
        "id": "rgQ2acYzsYEi"
      },
      "outputs": [],
      "source": [
        "cnt_dic = {}\n",
        "for w in GENDER_SLURS:\n",
        "    cnt_dic[w] = []"
      ]
    },
    {
      "cell_type": "code",
      "execution_count": null,
      "metadata": {
        "colab": {
          "base_uri": "https://localhost:8080/"
        },
        "id": "7g4JQA27oQiH",
        "outputId": "43618a3f-e77d-4998-d849-a36f3b75983e"
      },
      "outputs": [
        {
          "name": "stdout",
          "output_type": "stream",
          "text": [
            "Finish counting  1970s\n",
            "Finish counting  1980s\n",
            "Finish counting  1990s\n",
            "Finish counting  2000s\n",
            "Finish counting  2010s\n"
          ]
        }
      ],
      "source": [
        "for y in np.unique(cleaned.year_bin).tolist():\n",
        "    df = year_samp.loc[year_samp.year_bin == y]\n",
        "    corpus = df.lyrics.sum()\n",
        "    lyric_tokens = word_tokenize(corpus)\n",
        "    lyricText = nltk.Text(lyric_tokens)\n",
        "    for w in GENDER_SLURS:\n",
        "        cnt_dic[w].append(lyricText.count(w))\n",
        "    print(\"Finish counting \", y)"
      ]
    },
    {
      "cell_type": "code",
      "execution_count": null,
      "metadata": {
        "colab": {
          "base_uri": "https://localhost:8080/"
        },
        "id": "O_jjXuK4xy26",
        "outputId": "0871db03-8a30-4fef-f755-887c74348934"
      },
      "outputs": [
        {
          "data": {
            "text/plain": [
              "{'bitch': [38, 3, 43, 32, 138],\n",
              " 'ho': [16, 13, 17, 5, 25],\n",
              " 'hoe': [0, 0, 0, 12, 10],\n",
              " 'shawty': [0, 0, 0, 4, 4],\n",
              " 'shorty': [0, 0, 1, 3, 7],\n",
              " 'sissy': [0, 0, 0, 0, 0],\n",
              " 'skeezer': [0, 0, 0, 0, 0],\n",
              " 'slut': [0, 0, 0, 3, 6],\n",
              " 'whore': [0, 2, 1, 4, 3]}"
            ]
          },
          "execution_count": 81,
          "metadata": {},
          "output_type": "execute_result"
        }
      ],
      "source": [
        "cnt_dic"
      ]
    },
    {
      "cell_type": "code",
      "execution_count": null,
      "metadata": {
        "id": "cEn1vnFxpHIG"
      },
      "outputs": [],
      "source": [
        "year_dic = {}\n",
        "col = {}\n",
        "for i, y in enumerate(np.unique(cleaned.year_bin).tolist()):\n",
        "    col[i] = y\n",
        "\n",
        "_ = pd.DataFrame(cnt_dic)\n",
        "for i in range(len(_)):\n",
        "    year_dic[i] = _.loc[i,:].values"
      ]
    },
    {
      "cell_type": "code",
      "execution_count": null,
      "metadata": {
        "colab": {
          "base_uri": "https://localhost:8080/",
          "height": 332
        },
        "id": "o_QBoHU2vM0V",
        "outputId": "b8161f23-7a12-4793-effa-a73ceab0be24"
      },
      "outputs": [
        {
          "data": {
            "text/html": [
              "\n",
              "  <div id=\"df-802573ac-b22d-4228-9706-ee7305894070\">\n",
              "    <div class=\"colab-df-container\">\n",
              "      <div>\n",
              "<style scoped>\n",
              "    .dataframe tbody tr th:only-of-type {\n",
              "        vertical-align: middle;\n",
              "    }\n",
              "\n",
              "    .dataframe tbody tr th {\n",
              "        vertical-align: top;\n",
              "    }\n",
              "\n",
              "    .dataframe thead th {\n",
              "        text-align: right;\n",
              "    }\n",
              "</style>\n",
              "<table border=\"1\" class=\"dataframe\">\n",
              "  <thead>\n",
              "    <tr style=\"text-align: right;\">\n",
              "      <th></th>\n",
              "      <th>1970s</th>\n",
              "      <th>1980s</th>\n",
              "      <th>1990s</th>\n",
              "      <th>2000s</th>\n",
              "      <th>2010s</th>\n",
              "    </tr>\n",
              "  </thead>\n",
              "  <tbody>\n",
              "    <tr>\n",
              "      <th>0</th>\n",
              "      <td>38</td>\n",
              "      <td>3</td>\n",
              "      <td>43</td>\n",
              "      <td>32</td>\n",
              "      <td>138</td>\n",
              "    </tr>\n",
              "    <tr>\n",
              "      <th>1</th>\n",
              "      <td>0</td>\n",
              "      <td>0</td>\n",
              "      <td>0</td>\n",
              "      <td>3</td>\n",
              "      <td>6</td>\n",
              "    </tr>\n",
              "    <tr>\n",
              "      <th>2</th>\n",
              "      <td>0</td>\n",
              "      <td>0</td>\n",
              "      <td>0</td>\n",
              "      <td>0</td>\n",
              "      <td>0</td>\n",
              "    </tr>\n",
              "    <tr>\n",
              "      <th>3</th>\n",
              "      <td>0</td>\n",
              "      <td>2</td>\n",
              "      <td>1</td>\n",
              "      <td>4</td>\n",
              "      <td>3</td>\n",
              "    </tr>\n",
              "    <tr>\n",
              "      <th>4</th>\n",
              "      <td>16</td>\n",
              "      <td>13</td>\n",
              "      <td>17</td>\n",
              "      <td>5</td>\n",
              "      <td>25</td>\n",
              "    </tr>\n",
              "    <tr>\n",
              "      <th>5</th>\n",
              "      <td>0</td>\n",
              "      <td>0</td>\n",
              "      <td>0</td>\n",
              "      <td>12</td>\n",
              "      <td>10</td>\n",
              "    </tr>\n",
              "    <tr>\n",
              "      <th>6</th>\n",
              "      <td>0</td>\n",
              "      <td>0</td>\n",
              "      <td>0</td>\n",
              "      <td>0</td>\n",
              "      <td>0</td>\n",
              "    </tr>\n",
              "    <tr>\n",
              "      <th>7</th>\n",
              "      <td>0</td>\n",
              "      <td>0</td>\n",
              "      <td>0</td>\n",
              "      <td>4</td>\n",
              "      <td>4</td>\n",
              "    </tr>\n",
              "    <tr>\n",
              "      <th>8</th>\n",
              "      <td>0</td>\n",
              "      <td>0</td>\n",
              "      <td>1</td>\n",
              "      <td>3</td>\n",
              "      <td>7</td>\n",
              "    </tr>\n",
              "  </tbody>\n",
              "</table>\n",
              "</div>\n",
              "      <button class=\"colab-df-convert\" onclick=\"convertToInteractive('df-802573ac-b22d-4228-9706-ee7305894070')\"\n",
              "              title=\"Convert this dataframe to an interactive table.\"\n",
              "              style=\"display:none;\">\n",
              "        \n",
              "  <svg xmlns=\"http://www.w3.org/2000/svg\" height=\"24px\"viewBox=\"0 0 24 24\"\n",
              "       width=\"24px\">\n",
              "    <path d=\"M0 0h24v24H0V0z\" fill=\"none\"/>\n",
              "    <path d=\"M18.56 5.44l.94 2.06.94-2.06 2.06-.94-2.06-.94-.94-2.06-.94 2.06-2.06.94zm-11 1L8.5 8.5l.94-2.06 2.06-.94-2.06-.94L8.5 2.5l-.94 2.06-2.06.94zm10 10l.94 2.06.94-2.06 2.06-.94-2.06-.94-.94-2.06-.94 2.06-2.06.94z\"/><path d=\"M17.41 7.96l-1.37-1.37c-.4-.4-.92-.59-1.43-.59-.52 0-1.04.2-1.43.59L10.3 9.45l-7.72 7.72c-.78.78-.78 2.05 0 2.83L4 21.41c.39.39.9.59 1.41.59.51 0 1.02-.2 1.41-.59l7.78-7.78 2.81-2.81c.8-.78.8-2.07 0-2.86zM5.41 20L4 18.59l7.72-7.72 1.47 1.35L5.41 20z\"/>\n",
              "  </svg>\n",
              "      </button>\n",
              "      \n",
              "  <style>\n",
              "    .colab-df-container {\n",
              "      display:flex;\n",
              "      flex-wrap:wrap;\n",
              "      gap: 12px;\n",
              "    }\n",
              "\n",
              "    .colab-df-convert {\n",
              "      background-color: #E8F0FE;\n",
              "      border: none;\n",
              "      border-radius: 50%;\n",
              "      cursor: pointer;\n",
              "      display: none;\n",
              "      fill: #1967D2;\n",
              "      height: 32px;\n",
              "      padding: 0 0 0 0;\n",
              "      width: 32px;\n",
              "    }\n",
              "\n",
              "    .colab-df-convert:hover {\n",
              "      background-color: #E2EBFA;\n",
              "      box-shadow: 0px 1px 2px rgba(60, 64, 67, 0.3), 0px 1px 3px 1px rgba(60, 64, 67, 0.15);\n",
              "      fill: #174EA6;\n",
              "    }\n",
              "\n",
              "    [theme=dark] .colab-df-convert {\n",
              "      background-color: #3B4455;\n",
              "      fill: #D2E3FC;\n",
              "    }\n",
              "\n",
              "    [theme=dark] .colab-df-convert:hover {\n",
              "      background-color: #434B5C;\n",
              "      box-shadow: 0px 1px 3px 1px rgba(0, 0, 0, 0.15);\n",
              "      filter: drop-shadow(0px 1px 2px rgba(0, 0, 0, 0.3));\n",
              "      fill: #FFFFFF;\n",
              "    }\n",
              "  </style>\n",
              "\n",
              "      <script>\n",
              "        const buttonEl =\n",
              "          document.querySelector('#df-802573ac-b22d-4228-9706-ee7305894070 button.colab-df-convert');\n",
              "        buttonEl.style.display =\n",
              "          google.colab.kernel.accessAllowed ? 'block' : 'none';\n",
              "\n",
              "        async function convertToInteractive(key) {\n",
              "          const element = document.querySelector('#df-802573ac-b22d-4228-9706-ee7305894070');\n",
              "          const dataTable =\n",
              "            await google.colab.kernel.invokeFunction('convertToInteractive',\n",
              "                                                     [key], {});\n",
              "          if (!dataTable) return;\n",
              "\n",
              "          const docLinkHtml = 'Like what you see? Visit the ' +\n",
              "            '<a target=\"_blank\" href=https://colab.research.google.com/notebooks/data_table.ipynb>data table notebook</a>'\n",
              "            + ' to learn more about interactive tables.';\n",
              "          element.innerHTML = '';\n",
              "          dataTable['output_type'] = 'display_data';\n",
              "          await google.colab.output.renderOutput(dataTable, element);\n",
              "          const docLink = document.createElement('div');\n",
              "          docLink.innerHTML = docLinkHtml;\n",
              "          element.appendChild(docLink);\n",
              "        }\n",
              "      </script>\n",
              "    </div>\n",
              "  </div>\n",
              "  "
            ],
            "text/plain": [
              "   1970s  1980s  1990s  2000s  2010s\n",
              "0     38      3     43     32    138\n",
              "1      0      0      0      3      6\n",
              "2      0      0      0      0      0\n",
              "3      0      2      1      4      3\n",
              "4     16     13     17      5     25\n",
              "5      0      0      0     12     10\n",
              "6      0      0      0      0      0\n",
              "7      0      0      0      4      4\n",
              "8      0      0      1      3      7"
            ]
          },
          "execution_count": 80,
          "metadata": {},
          "output_type": "execute_result"
        }
      ],
      "source": [
        "slurs_df = pd.DataFrame(year_dic)\n",
        "slurs_df.rename(columns = col)"
      ]
    },
    {
      "cell_type": "code",
      "execution_count": null,
      "metadata": {
        "id": "_VOfQVJmwEal"
      },
      "outputs": [],
      "source": [
        "slurs_df = pd.DataFrame(cnt_dic)\n",
        "slurs_df['year_bin'] = np.unique(cleaned.year_bin).tolist()"
      ]
    },
    {
      "cell_type": "code",
      "execution_count": null,
      "metadata": {
        "colab": {
          "base_uri": "https://localhost:8080/",
          "height": 206
        },
        "id": "p5KmrAhOx9Xn",
        "outputId": "85c82c95-a43a-4f81-dbce-f0827d68773e"
      },
      "outputs": [
        {
          "data": {
            "text/html": [
              "\n",
              "  <div id=\"df-5d69534d-96ca-422e-9618-dc106bb6b1b7\">\n",
              "    <div class=\"colab-df-container\">\n",
              "      <div>\n",
              "<style scoped>\n",
              "    .dataframe tbody tr th:only-of-type {\n",
              "        vertical-align: middle;\n",
              "    }\n",
              "\n",
              "    .dataframe tbody tr th {\n",
              "        vertical-align: top;\n",
              "    }\n",
              "\n",
              "    .dataframe thead th {\n",
              "        text-align: right;\n",
              "    }\n",
              "</style>\n",
              "<table border=\"1\" class=\"dataframe\">\n",
              "  <thead>\n",
              "    <tr style=\"text-align: right;\">\n",
              "      <th></th>\n",
              "      <th>bitch</th>\n",
              "      <th>slut</th>\n",
              "      <th>sissy</th>\n",
              "      <th>whore</th>\n",
              "      <th>ho</th>\n",
              "      <th>hoe</th>\n",
              "      <th>skeezer</th>\n",
              "      <th>shawty</th>\n",
              "      <th>shorty</th>\n",
              "      <th>year_bin</th>\n",
              "    </tr>\n",
              "  </thead>\n",
              "  <tbody>\n",
              "    <tr>\n",
              "      <th>0</th>\n",
              "      <td>38</td>\n",
              "      <td>0</td>\n",
              "      <td>0</td>\n",
              "      <td>0</td>\n",
              "      <td>16</td>\n",
              "      <td>0</td>\n",
              "      <td>0</td>\n",
              "      <td>0</td>\n",
              "      <td>0</td>\n",
              "      <td>1970s</td>\n",
              "    </tr>\n",
              "    <tr>\n",
              "      <th>1</th>\n",
              "      <td>3</td>\n",
              "      <td>0</td>\n",
              "      <td>0</td>\n",
              "      <td>2</td>\n",
              "      <td>13</td>\n",
              "      <td>0</td>\n",
              "      <td>0</td>\n",
              "      <td>0</td>\n",
              "      <td>0</td>\n",
              "      <td>1980s</td>\n",
              "    </tr>\n",
              "    <tr>\n",
              "      <th>2</th>\n",
              "      <td>43</td>\n",
              "      <td>0</td>\n",
              "      <td>0</td>\n",
              "      <td>1</td>\n",
              "      <td>17</td>\n",
              "      <td>0</td>\n",
              "      <td>0</td>\n",
              "      <td>0</td>\n",
              "      <td>1</td>\n",
              "      <td>1990s</td>\n",
              "    </tr>\n",
              "    <tr>\n",
              "      <th>3</th>\n",
              "      <td>32</td>\n",
              "      <td>3</td>\n",
              "      <td>0</td>\n",
              "      <td>4</td>\n",
              "      <td>5</td>\n",
              "      <td>12</td>\n",
              "      <td>0</td>\n",
              "      <td>4</td>\n",
              "      <td>3</td>\n",
              "      <td>2000s</td>\n",
              "    </tr>\n",
              "    <tr>\n",
              "      <th>4</th>\n",
              "      <td>138</td>\n",
              "      <td>6</td>\n",
              "      <td>0</td>\n",
              "      <td>3</td>\n",
              "      <td>25</td>\n",
              "      <td>10</td>\n",
              "      <td>0</td>\n",
              "      <td>4</td>\n",
              "      <td>7</td>\n",
              "      <td>2010s</td>\n",
              "    </tr>\n",
              "  </tbody>\n",
              "</table>\n",
              "</div>\n",
              "      <button class=\"colab-df-convert\" onclick=\"convertToInteractive('df-5d69534d-96ca-422e-9618-dc106bb6b1b7')\"\n",
              "              title=\"Convert this dataframe to an interactive table.\"\n",
              "              style=\"display:none;\">\n",
              "        \n",
              "  <svg xmlns=\"http://www.w3.org/2000/svg\" height=\"24px\"viewBox=\"0 0 24 24\"\n",
              "       width=\"24px\">\n",
              "    <path d=\"M0 0h24v24H0V0z\" fill=\"none\"/>\n",
              "    <path d=\"M18.56 5.44l.94 2.06.94-2.06 2.06-.94-2.06-.94-.94-2.06-.94 2.06-2.06.94zm-11 1L8.5 8.5l.94-2.06 2.06-.94-2.06-.94L8.5 2.5l-.94 2.06-2.06.94zm10 10l.94 2.06.94-2.06 2.06-.94-2.06-.94-.94-2.06-.94 2.06-2.06.94z\"/><path d=\"M17.41 7.96l-1.37-1.37c-.4-.4-.92-.59-1.43-.59-.52 0-1.04.2-1.43.59L10.3 9.45l-7.72 7.72c-.78.78-.78 2.05 0 2.83L4 21.41c.39.39.9.59 1.41.59.51 0 1.02-.2 1.41-.59l7.78-7.78 2.81-2.81c.8-.78.8-2.07 0-2.86zM5.41 20L4 18.59l7.72-7.72 1.47 1.35L5.41 20z\"/>\n",
              "  </svg>\n",
              "      </button>\n",
              "      \n",
              "  <style>\n",
              "    .colab-df-container {\n",
              "      display:flex;\n",
              "      flex-wrap:wrap;\n",
              "      gap: 12px;\n",
              "    }\n",
              "\n",
              "    .colab-df-convert {\n",
              "      background-color: #E8F0FE;\n",
              "      border: none;\n",
              "      border-radius: 50%;\n",
              "      cursor: pointer;\n",
              "      display: none;\n",
              "      fill: #1967D2;\n",
              "      height: 32px;\n",
              "      padding: 0 0 0 0;\n",
              "      width: 32px;\n",
              "    }\n",
              "\n",
              "    .colab-df-convert:hover {\n",
              "      background-color: #E2EBFA;\n",
              "      box-shadow: 0px 1px 2px rgba(60, 64, 67, 0.3), 0px 1px 3px 1px rgba(60, 64, 67, 0.15);\n",
              "      fill: #174EA6;\n",
              "    }\n",
              "\n",
              "    [theme=dark] .colab-df-convert {\n",
              "      background-color: #3B4455;\n",
              "      fill: #D2E3FC;\n",
              "    }\n",
              "\n",
              "    [theme=dark] .colab-df-convert:hover {\n",
              "      background-color: #434B5C;\n",
              "      box-shadow: 0px 1px 3px 1px rgba(0, 0, 0, 0.15);\n",
              "      filter: drop-shadow(0px 1px 2px rgba(0, 0, 0, 0.3));\n",
              "      fill: #FFFFFF;\n",
              "    }\n",
              "  </style>\n",
              "\n",
              "      <script>\n",
              "        const buttonEl =\n",
              "          document.querySelector('#df-5d69534d-96ca-422e-9618-dc106bb6b1b7 button.colab-df-convert');\n",
              "        buttonEl.style.display =\n",
              "          google.colab.kernel.accessAllowed ? 'block' : 'none';\n",
              "\n",
              "        async function convertToInteractive(key) {\n",
              "          const element = document.querySelector('#df-5d69534d-96ca-422e-9618-dc106bb6b1b7');\n",
              "          const dataTable =\n",
              "            await google.colab.kernel.invokeFunction('convertToInteractive',\n",
              "                                                     [key], {});\n",
              "          if (!dataTable) return;\n",
              "\n",
              "          const docLinkHtml = 'Like what you see? Visit the ' +\n",
              "            '<a target=\"_blank\" href=https://colab.research.google.com/notebooks/data_table.ipynb>data table notebook</a>'\n",
              "            + ' to learn more about interactive tables.';\n",
              "          element.innerHTML = '';\n",
              "          dataTable['output_type'] = 'display_data';\n",
              "          await google.colab.output.renderOutput(dataTable, element);\n",
              "          const docLink = document.createElement('div');\n",
              "          docLink.innerHTML = docLinkHtml;\n",
              "          element.appendChild(docLink);\n",
              "        }\n",
              "      </script>\n",
              "    </div>\n",
              "  </div>\n",
              "  "
            ],
            "text/plain": [
              "   bitch  slut  sissy  whore  ho  hoe  skeezer  shawty  shorty year_bin\n",
              "0     38     0      0      0  16    0        0       0       0    1970s\n",
              "1      3     0      0      2  13    0        0       0       0    1980s\n",
              "2     43     0      0      1  17    0        0       0       1    1990s\n",
              "3     32     3      0      4   5   12        0       4       3    2000s\n",
              "4    138     6      0      3  25   10        0       4       7    2010s"
            ]
          },
          "execution_count": 87,
          "metadata": {},
          "output_type": "execute_result"
        }
      ],
      "source": [
        "slurs_df"
      ]
    },
    {
      "cell_type": "code",
      "execution_count": null,
      "metadata": {
        "colab": {
          "base_uri": "https://localhost:8080/",
          "height": 567
        },
        "id": "AcW-0ruhySd_",
        "outputId": "01f365ba-7488-45a3-aa3f-caafc4f0fe67"
      },
      "outputs": [
        {
          "output_type": "display_data",
          "data": {
            "text/plain": [
              "<Figure size 842.4x595.44 with 1 Axes>"
            ],
            "image/png": "[encoded data removed]"
          },
          "metadata": {}
        },
        {
          "output_type": "display_data",
          "data": {
            "text/plain": [
              "<Figure size 842.4x595.44 with 0 Axes>"
            ]
          },
          "metadata": {}
        }
      ],
      "source": [
        "from seaborn.palettes import color_palette\n",
        "sns.set(font_scale=1.5)\n",
        "fig, ax = plt.subplots()\n",
        "\n",
        "sns.lineplot(x=\"year_bin\", y = \"value\",hue = 'variable', data = pd.melt(slurs_df, 'year_bin'), linewidth = 5,\\\n",
        "             color= \"tab10\").set_title(\"Counts of Gendered Slurs Over Time (n=2500)\")\n",
        "leg = ax.legend()\n",
        "\n",
        "for line in leg.get_lines():\n",
        "    line.set_linewidth(4.0)\n",
        "\n",
        "plt.show()\n",
        "plt.savefig(\"count_slurs.png\")"
      ]
    },
    {
      "cell_type": "markdown",
      "source": [
        "## Word Cloud"
      ],
      "metadata": {
        "id": "wIQW1MXeL7xD"
      }
    },
    {
      "cell_type": "code",
      "source": [
        "import wordcloud"
      ],
      "metadata": {
        "id": "SMAOj9quL9cp"
      },
      "execution_count": null,
      "outputs": []
    },
    {
      "cell_type": "code",
      "execution_count": null,
      "metadata": {
        "colab": {
          "background_save": true
        },
        "id": "JHc4ZQ3F0HLh"
      },
      "outputs": [],
      "source": [
        "year_samp['tokenized_text'] = year_samp.lyrics.apply(lambda x: word_tokenize(x.lower()))\n",
        "year_samp['word_counts'] = year_samp['tokenized_text'].apply(lambda x: len(x))"
      ]
    },
    {
      "cell_type": "code",
      "execution_count": null,
      "metadata": {
        "colab": {
          "base_uri": "https://localhost:8080/"
        },
        "id": "PikQYviV7CDw",
        "outputId": "a2f28df7-51ab-4a01-a886-b579f59558db"
      },
      "outputs": [
        {
          "output_type": "execute_result",
          "data": {
            "text/plain": [
              "[('i', 29965),\n",
              " ('you', 25196),\n",
              " ('the', 24570),\n",
              " ('to', 14060),\n",
              " ('and', 13777),\n",
              " ('a', 12822),\n",
              " ('it', 11307),\n",
              " ('me', 10615),\n",
              " (\"'s\", 9134),\n",
              " (\"n't\", 9107),\n",
              " ('my', 8848),\n",
              " ('in', 8129),\n",
              " ('do', 7080),\n",
              " ('that', 6881),\n",
              " ('of', 6550),\n",
              " ('on', 6198),\n",
              " ('your', 5649),\n",
              " (\"'m\", 5548),\n",
              " ('we', 5358),\n",
              " ('love', 4654)]"
            ]
          },
          "metadata": {},
          "execution_count": 111
        }
      ],
      "source": [
        "countsDict = {}\n",
        "for word in year_samp['tokenized_text'].sum():\n",
        "    if word in countsDict:\n",
        "        countsDict[word] += 1\n",
        "    else:\n",
        "        countsDict[word] = 1\n",
        "word_counts = sorted(countsDict.items(), key = lambda x : x[1], reverse = True)\n",
        "word_counts[:20]"
      ]
    },
    {
      "cell_type": "code",
      "execution_count": null,
      "metadata": {
        "id": "zQundLhp7HTM"
      },
      "outputs": [],
      "source": [
        "stop_words_freq = []\n",
        "for word, count in word_counts:\n",
        "    if word == 'we':\n",
        "        break\n",
        "    else:\n",
        "        stop_words_freq.append(word)\n",
        "year_samp['normalized_tokens'] = year_samp['tokenized_text'].apply(lambda x: normalizeTokens(x,stop_words_freq))\n",
        "\n",
        "year_samp['normalized_tokens_count'] = year_samp['normalized_tokens'].apply(lambda x: len(x))"
      ]
    },
    {
      "cell_type": "code",
      "source": [
        "for y in np.unique(cleaned.year_bin).tolist():\n",
        "    df = year_samp.loc[year_samp.year_bin == y]\n",
        "    wc = wordcloud.WordCloud(background_color=\"white\", max_words=500, width= 1000, height = 1000, mode ='RGBA', scale=.5).generate(' '.join(df['normalized_tokens'].sum()))\n",
        "    plt.imshow(wc)\n",
        "    plt.axis(\"off\")\n",
        "    plt.savefig(f\"lyric_wc{y}.pdf\", format = 'pdf')"
      ],
      "metadata": {
        "colab": {
          "base_uri": "https://localhost:8080/",
          "height": 480
        },
        "id": "4fZp7FIsJJie",
        "outputId": "60139a22-a5c2-4911-b85d-2b206107f360"
      },
      "execution_count": null,
      "outputs": [
        {
          "output_type": "display_data",
          "data": {
            "text/plain": [
              "<Figure size 842.4x595.44 with 1 Axes>"
            ],
            "image/png": "[encoded data removed]"
          },
          "metadata": {}
        }
      ]
    },
    {
      "cell_type": "code",
      "source": [
        ""
      ],
      "metadata": {
        "id": "OYvjTpvLMB_G"
      },
      "execution_count": null,
      "outputs": []
    },
    {
      "cell_type": "markdown",
      "source": [
        "# Segmented Data"
      ],
      "metadata": {
        "id": "Rwzzg4rj5drk"
      }
    },
    {
      "cell_type": "code",
      "source": [
        "from ast import literal_eval"
      ],
      "metadata": {
        "id": "mbzayqJ-56i-"
      },
      "execution_count": null,
      "outputs": []
    },
    {
      "cell_type": "code",
      "source": [
        "df = pd.read_csv(\"mlm_lyrics.csv\", index_col = 0)\n",
        "df"
      ],
      "metadata": {
        "colab": {
          "base_uri": "https://localhost:8080/",
          "height": 1000
        },
        "id": "W6o0ANyy5fEL",
        "outputId": "c0573cc9-5f81-4107-a6d0-1fe0cf774070"
      },
      "execution_count": null,
      "outputs": [
        {
          "output_type": "execute_result",
          "data": {
            "text/plain": [
              "                                                   title       artist  \\\n",
              "0      Baby It's Cold Outside (feat. Christina Aguilera)  CeeLo Green   \n",
              "1                                                Soldier     James TW   \n",
              "2                                            Satisfy You        Diddy   \n",
              "3                                                Changes         2Pac   \n",
              "4                 Let Me Entertain You - Remastered 2011        Queen   \n",
              "...                                                  ...          ...   \n",
              "37478                           Lay Some Happiness On Me  Dean Martin   \n",
              "37479                                             Baby O  Dean Martin   \n",
              "37480                                          Blue Moon  Dean Martin   \n",
              "37481                                Nobody S Baby Again  Dean Martin   \n",
              "37482                                    Brahm S Lullaby  Dean Martin   \n",
              "\n",
              "                                                  lyrics  year  popularity  \\\n",
              "0      I really can't stay Baby it's cold outside I'v...  2012        41.0   \n",
              "1      Hold your breath, don't look down, keep trying...  2019        70.0   \n",
              "2      All I want is somebody who's gonna love me for...  1999        52.0   \n",
              "3      I see no changes, wake up in the morning and I...  2007        72.0   \n",
              "4      Hey, it's a sellout! Hey! Let me welcome you, ...  1978        41.0   \n",
              "...                                                  ...   ...         ...   \n",
              "37478  Lay some happiness on me So the brighter side ...  2014         NaN   \n",
              "37479  Baby O You I dig Like a the most Ooh really bi...  2014         NaN   \n",
              "37480  Blue moon you saw me standing alone Without a ...  2014         NaN   \n",
              "37481  People used to call me nobody's baby Up until ...  2014         NaN   \n",
              "37482  Lullaby and good night with pink roses bed lig...  2014         NaN   \n",
              "\n",
              "         edm  latin    pop    r&b    rap   rock   Gender year_bin  \\\n",
              "0      False  False  False   True  False  False  Unknown    2010s   \n",
              "1      False  False  False   True  False  False  Unknown    2010s   \n",
              "2      False  False  False   True  False  False  Unknown    1990s   \n",
              "3      False  False  False  False   True  False  Unknown    2000s   \n",
              "4      False  False  False  False  False   True  Unknown    1970s   \n",
              "...      ...    ...    ...    ...    ...    ...      ...      ...   \n",
              "37478  False  False  False  False  False  False  Unknown    2010s   \n",
              "37479  False  False  False  False  False  False  Unknown    2010s   \n",
              "37480  False  False  False  False  False  False  Unknown    2010s   \n",
              "37481  False  False  False  False  False  False  Unknown    2010s   \n",
              "37482  False  False  False  False  False  False  Unknown    2010s   \n",
              "\n",
              "      artist_lower  gender_matched  \\\n",
              "0      ceelo green               0   \n",
              "1         james tw               0   \n",
              "2            diddy               0   \n",
              "3             2pac               0   \n",
              "4            queen               0   \n",
              "...            ...             ...   \n",
              "37478  dean martin               0   \n",
              "37479  dean martin               0   \n",
              "37480  dean martin               0   \n",
              "37481  dean martin               0   \n",
              "37482  dean martin               0   \n",
              "\n",
              "                                               segmented  song_index  \n",
              "0      [\"I really can't stay Baby\", \"it's cold outsid...           0  \n",
              "1      [\"Hold your breath, don't look down, keep tryi...           1  \n",
              "2      [\"All I want is somebody who's gonna love me f...           2  \n",
              "3      ['I see no changes, wake up in the morning', \"...           3  \n",
              "4      [\"Hey, it's a sellout!\", 'Hey!', 'Let me welco...           4  \n",
              "...                                                  ...         ...  \n",
              "37478  ['Lay some happiness on me', \"So the brighter ...       37478  \n",
              "37479  ['Baby', 'O You', 'I dig Like a the most Ooh r...       37479  \n",
              "37480  ['Blue moon you saw me standing alone Without ...       37480  \n",
              "37481  [\"People used to call me nobody's baby Up unti...       37481  \n",
              "37482  [\"Lullaby and good night with pink roses bed l...       37482  \n",
              "\n",
              "[37483 rows x 17 columns]"
            ],
            "text/html": [
              "\n",
              "  <div id=\"df-12d417d2-af44-4e28-907b-03e99f2e6c87\">\n",
              "    <div class=\"colab-df-container\">\n",
              "      <div>\n",
              "<style scoped>\n",
              "    .dataframe tbody tr th:only-of-type {\n",
              "        vertical-align: middle;\n",
              "    }\n",
              "\n",
              "    .dataframe tbody tr th {\n",
              "        vertical-align: top;\n",
              "    }\n",
              "\n",
              "    .dataframe thead th {\n",
              "        text-align: right;\n",
              "    }\n",
              "</style>\n",
              "<table border=\"1\" class=\"dataframe\">\n",
              "  <thead>\n",
              "    <tr style=\"text-align: right;\">\n",
              "      <th></th>\n",
              "      <th>title</th>\n",
              "      <th>artist</th>\n",
              "      <th>lyrics</th>\n",
              "      <th>year</th>\n",
              "      <th>popularity</th>\n",
              "      <th>edm</th>\n",
              "      <th>latin</th>\n",
              "      <th>pop</th>\n",
              "      <th>r&amp;b</th>\n",
              "      <th>rap</th>\n",
              "      <th>rock</th>\n",
              "      <th>Gender</th>\n",
              "      <th>year_bin</th>\n",
              "      <th>artist_lower</th>\n",
              "      <th>gender_matched</th>\n",
              "      <th>segmented</th>\n",
              "      <th>song_index</th>\n",
              "    </tr>\n",
              "  </thead>\n",
              "  <tbody>\n",
              "    <tr>\n",
              "      <th>0</th>\n",
              "      <td>Baby It's Cold Outside (feat. Christina Aguilera)</td>\n",
              "      <td>CeeLo Green</td>\n",
              "      <td>I really can't stay Baby it's cold outside I'v...</td>\n",
              "      <td>2012</td>\n",
              "      <td>41.0</td>\n",
              "      <td>False</td>\n",
              "      <td>False</td>\n",
              "      <td>False</td>\n",
              "      <td>True</td>\n",
              "      <td>False</td>\n",
              "      <td>False</td>\n",
              "      <td>Unknown</td>\n",
              "      <td>2010s</td>\n",
              "      <td>ceelo green</td>\n",
              "      <td>0</td>\n",
              "      <td>[\"I really can't stay Baby\", \"it's cold outsid...</td>\n",
              "      <td>0</td>\n",
              "    </tr>\n",
              "    <tr>\n",
              "      <th>1</th>\n",
              "      <td>Soldier</td>\n",
              "      <td>James TW</td>\n",
              "      <td>Hold your breath, don't look down, keep trying...</td>\n",
              "      <td>2019</td>\n",
              "      <td>70.0</td>\n",
              "      <td>False</td>\n",
              "      <td>False</td>\n",
              "      <td>False</td>\n",
              "      <td>True</td>\n",
              "      <td>False</td>\n",
              "      <td>False</td>\n",
              "      <td>Unknown</td>\n",
              "      <td>2010s</td>\n",
              "      <td>james tw</td>\n",
              "      <td>0</td>\n",
              "      <td>[\"Hold your breath, don't look down, keep tryi...</td>\n",
              "      <td>1</td>\n",
              "    </tr>\n",
              "    <tr>\n",
              "      <th>2</th>\n",
              "      <td>Satisfy You</td>\n",
              "      <td>Diddy</td>\n",
              "      <td>All I want is somebody who's gonna love me for...</td>\n",
              "      <td>1999</td>\n",
              "      <td>52.0</td>\n",
              "      <td>False</td>\n",
              "      <td>False</td>\n",
              "      <td>False</td>\n",
              "      <td>True</td>\n",
              "      <td>False</td>\n",
              "      <td>False</td>\n",
              "      <td>Unknown</td>\n",
              "      <td>1990s</td>\n",
              "      <td>diddy</td>\n",
              "      <td>0</td>\n",
              "      <td>[\"All I want is somebody who's gonna love me f...</td>\n",
              "      <td>2</td>\n",
              "    </tr>\n",
              "    <tr>\n",
              "      <th>3</th>\n",
              "      <td>Changes</td>\n",
              "      <td>2Pac</td>\n",
              "      <td>I see no changes, wake up in the morning and I...</td>\n",
              "      <td>2007</td>\n",
              "      <td>72.0</td>\n",
              "      <td>False</td>\n",
              "      <td>False</td>\n",
              "      <td>False</td>\n",
              "      <td>False</td>\n",
              "      <td>True</td>\n",
              "      <td>False</td>\n",
              "      <td>Unknown</td>\n",
              "      <td>2000s</td>\n",
              "      <td>2pac</td>\n",
              "      <td>0</td>\n",
              "      <td>['I see no changes, wake up in the morning', \"...</td>\n",
              "      <td>3</td>\n",
              "    </tr>\n",
              "    <tr>\n",
              "      <th>4</th>\n",
              "      <td>Let Me Entertain You - Remastered 2011</td>\n",
              "      <td>Queen</td>\n",
              "      <td>Hey, it's a sellout! Hey! Let me welcome you, ...</td>\n",
              "      <td>1978</td>\n",
              "      <td>41.0</td>\n",
              "      <td>False</td>\n",
              "      <td>False</td>\n",
              "      <td>False</td>\n",
              "      <td>False</td>\n",
              "      <td>False</td>\n",
              "      <td>True</td>\n",
              "      <td>Unknown</td>\n",
              "      <td>1970s</td>\n",
              "      <td>queen</td>\n",
              "      <td>0</td>\n",
              "      <td>[\"Hey, it's a sellout!\", 'Hey!', 'Let me welco...</td>\n",
              "      <td>4</td>\n",
              "    </tr>\n",
              "    <tr>\n",
              "      <th>...</th>\n",
              "      <td>...</td>\n",
              "      <td>...</td>\n",
              "      <td>...</td>\n",
              "      <td>...</td>\n",
              "      <td>...</td>\n",
              "      <td>...</td>\n",
              "      <td>...</td>\n",
              "      <td>...</td>\n",
              "      <td>...</td>\n",
              "      <td>...</td>\n",
              "      <td>...</td>\n",
              "      <td>...</td>\n",
              "      <td>...</td>\n",
              "      <td>...</td>\n",
              "      <td>...</td>\n",
              "      <td>...</td>\n",
              "      <td>...</td>\n",
              "    </tr>\n",
              "    <tr>\n",
              "      <th>37478</th>\n",
              "      <td>Lay Some Happiness On Me</td>\n",
              "      <td>Dean Martin</td>\n",
              "      <td>Lay some happiness on me So the brighter side ...</td>\n",
              "      <td>2014</td>\n",
              "      <td>NaN</td>\n",
              "      <td>False</td>\n",
              "      <td>False</td>\n",
              "      <td>False</td>\n",
              "      <td>False</td>\n",
              "      <td>False</td>\n",
              "      <td>False</td>\n",
              "      <td>Unknown</td>\n",
              "      <td>2010s</td>\n",
              "      <td>dean martin</td>\n",
              "      <td>0</td>\n",
              "      <td>['Lay some happiness on me', \"So the brighter ...</td>\n",
              "      <td>37478</td>\n",
              "    </tr>\n",
              "    <tr>\n",
              "      <th>37479</th>\n",
              "      <td>Baby O</td>\n",
              "      <td>Dean Martin</td>\n",
              "      <td>Baby O You I dig Like a the most Ooh really bi...</td>\n",
              "      <td>2014</td>\n",
              "      <td>NaN</td>\n",
              "      <td>False</td>\n",
              "      <td>False</td>\n",
              "      <td>False</td>\n",
              "      <td>False</td>\n",
              "      <td>False</td>\n",
              "      <td>False</td>\n",
              "      <td>Unknown</td>\n",
              "      <td>2010s</td>\n",
              "      <td>dean martin</td>\n",
              "      <td>0</td>\n",
              "      <td>['Baby', 'O You', 'I dig Like a the most Ooh r...</td>\n",
              "      <td>37479</td>\n",
              "    </tr>\n",
              "    <tr>\n",
              "      <th>37480</th>\n",
              "      <td>Blue Moon</td>\n",
              "      <td>Dean Martin</td>\n",
              "      <td>Blue moon you saw me standing alone Without a ...</td>\n",
              "      <td>2014</td>\n",
              "      <td>NaN</td>\n",
              "      <td>False</td>\n",
              "      <td>False</td>\n",
              "      <td>False</td>\n",
              "      <td>False</td>\n",
              "      <td>False</td>\n",
              "      <td>False</td>\n",
              "      <td>Unknown</td>\n",
              "      <td>2010s</td>\n",
              "      <td>dean martin</td>\n",
              "      <td>0</td>\n",
              "      <td>['Blue moon you saw me standing alone Without ...</td>\n",
              "      <td>37480</td>\n",
              "    </tr>\n",
              "    <tr>\n",
              "      <th>37481</th>\n",
              "      <td>Nobody S Baby Again</td>\n",
              "      <td>Dean Martin</td>\n",
              "      <td>People used to call me nobody's baby Up until ...</td>\n",
              "      <td>2014</td>\n",
              "      <td>NaN</td>\n",
              "      <td>False</td>\n",
              "      <td>False</td>\n",
              "      <td>False</td>\n",
              "      <td>False</td>\n",
              "      <td>False</td>\n",
              "      <td>False</td>\n",
              "      <td>Unknown</td>\n",
              "      <td>2010s</td>\n",
              "      <td>dean martin</td>\n",
              "      <td>0</td>\n",
              "      <td>[\"People used to call me nobody's baby Up unti...</td>\n",
              "      <td>37481</td>\n",
              "    </tr>\n",
              "    <tr>\n",
              "      <th>37482</th>\n",
              "      <td>Brahm S Lullaby</td>\n",
              "      <td>Dean Martin</td>\n",
              "      <td>Lullaby and good night with pink roses bed lig...</td>\n",
              "      <td>2014</td>\n",
              "      <td>NaN</td>\n",
              "      <td>False</td>\n",
              "      <td>False</td>\n",
              "      <td>False</td>\n",
              "      <td>False</td>\n",
              "      <td>False</td>\n",
              "      <td>False</td>\n",
              "      <td>Unknown</td>\n",
              "      <td>2010s</td>\n",
              "      <td>dean martin</td>\n",
              "      <td>0</td>\n",
              "      <td>[\"Lullaby and good night with pink roses bed l...</td>\n",
              "      <td>37482</td>\n",
              "    </tr>\n",
              "  </tbody>\n",
              "</table>\n",
              "<p>37483 rows × 17 columns</p>\n",
              "</div>\n",
              "      <button class=\"colab-df-convert\" onclick=\"convertToInteractive('df-12d417d2-af44-4e28-907b-03e99f2e6c87')\"\n",
              "              title=\"Convert this dataframe to an interactive table.\"\n",
              "              style=\"display:none;\">\n",
              "        \n",
              "  <svg xmlns=\"http://www.w3.org/2000/svg\" height=\"24px\"viewBox=\"0 0 24 24\"\n",
              "       width=\"24px\">\n",
              "    <path d=\"M0 0h24v24H0V0z\" fill=\"none\"/>\n",
              "    <path d=\"M18.56 5.44l.94 2.06.94-2.06 2.06-.94-2.06-.94-.94-2.06-.94 2.06-2.06.94zm-11 1L8.5 8.5l.94-2.06 2.06-.94-2.06-.94L8.5 2.5l-.94 2.06-2.06.94zm10 10l.94 2.06.94-2.06 2.06-.94-2.06-.94-.94-2.06-.94 2.06-2.06.94z\"/><path d=\"M17.41 7.96l-1.37-1.37c-.4-.4-.92-.59-1.43-.59-.52 0-1.04.2-1.43.59L10.3 9.45l-7.72 7.72c-.78.78-.78 2.05 0 2.83L4 21.41c.39.39.9.59 1.41.59.51 0 1.02-.2 1.41-.59l7.78-7.78 2.81-2.81c.8-.78.8-2.07 0-2.86zM5.41 20L4 18.59l7.72-7.72 1.47 1.35L5.41 20z\"/>\n",
              "  </svg>\n",
              "      </button>\n",
              "      \n",
              "  <style>\n",
              "    .colab-df-container {\n",
              "      display:flex;\n",
              "      flex-wrap:wrap;\n",
              "      gap: 12px;\n",
              "    }\n",
              "\n",
              "    .colab-df-convert {\n",
              "      background-color: #E8F0FE;\n",
              "      border: none;\n",
              "      border-radius: 50%;\n",
              "      cursor: pointer;\n",
              "      display: none;\n",
              "      fill: #1967D2;\n",
              "      height: 32px;\n",
              "      padding: 0 0 0 0;\n",
              "      width: 32px;\n",
              "    }\n",
              "\n",
              "    .colab-df-convert:hover {\n",
              "      background-color: #E2EBFA;\n",
              "      box-shadow: 0px 1px 2px rgba(60, 64, 67, 0.3), 0px 1px 3px 1px rgba(60, 64, 67, 0.15);\n",
              "      fill: #174EA6;\n",
              "    }\n",
              "\n",
              "    [theme=dark] .colab-df-convert {\n",
              "      background-color: #3B4455;\n",
              "      fill: #D2E3FC;\n",
              "    }\n",
              "\n",
              "    [theme=dark] .colab-df-convert:hover {\n",
              "      background-color: #434B5C;\n",
              "      box-shadow: 0px 1px 3px 1px rgba(0, 0, 0, 0.15);\n",
              "      filter: drop-shadow(0px 1px 2px rgba(0, 0, 0, 0.3));\n",
              "      fill: #FFFFFF;\n",
              "    }\n",
              "  </style>\n",
              "\n",
              "      <script>\n",
              "        const buttonEl =\n",
              "          document.querySelector('#df-12d417d2-af44-4e28-907b-03e99f2e6c87 button.colab-df-convert');\n",
              "        buttonEl.style.display =\n",
              "          google.colab.kernel.accessAllowed ? 'block' : 'none';\n",
              "\n",
              "        async function convertToInteractive(key) {\n",
              "          const element = document.querySelector('#df-12d417d2-af44-4e28-907b-03e99f2e6c87');\n",
              "          const dataTable =\n",
              "            await google.colab.kernel.invokeFunction('convertToInteractive',\n",
              "                                                     [key], {});\n",
              "          if (!dataTable) return;\n",
              "\n",
              "          const docLinkHtml = 'Like what you see? Visit the ' +\n",
              "            '<a target=\"_blank\" href=https://colab.research.google.com/notebooks/data_table.ipynb>data table notebook</a>'\n",
              "            + ' to learn more about interactive tables.';\n",
              "          element.innerHTML = '';\n",
              "          dataTable['output_type'] = 'display_data';\n",
              "          await google.colab.output.renderOutput(dataTable, element);\n",
              "          const docLink = document.createElement('div');\n",
              "          docLink.innerHTML = docLinkHtml;\n",
              "          element.appendChild(docLink);\n",
              "        }\n",
              "      </script>\n",
              "    </div>\n",
              "  </div>\n",
              "  "
            ]
          },
          "metadata": {},
          "execution_count": 5
        }
      ]
    },
    {
      "cell_type": "code",
      "source": [
        "segmented = [literal_eval(x) for x in df.segmented.to_list()]"
      ],
      "metadata": {
        "id": "BHLUQQGq5iz7"
      },
      "execution_count": null,
      "outputs": []
    },
    {
      "cell_type": "code",
      "source": [
        "df['segmented'] = segmented\n",
        "df = df.explode('segmented')"
      ],
      "metadata": {
        "id": "glwzZtk96HvD"
      },
      "execution_count": null,
      "outputs": []
    },
    {
      "cell_type": "code",
      "source": [
        "len(df)"
      ],
      "metadata": {
        "colab": {
          "base_uri": "https://localhost:8080/"
        },
        "id": "9N3bi6xd6PmI",
        "outputId": "215a5bea-f593-4d31-96bf-1f32b8425e75"
      },
      "execution_count": null,
      "outputs": [
        {
          "output_type": "execute_result",
          "data": {
            "text/plain": [
              "1647695"
            ]
          },
          "metadata": {},
          "execution_count": 10
        }
      ]
    },
    {
      "cell_type": "code",
      "source": [
        "df.gender_matched.value_counts(normalize=True)"
      ],
      "metadata": {
        "colab": {
          "base_uri": "https://localhost:8080/"
        },
        "id": "ZiBHPuvd6NBH",
        "outputId": "393555fd-0f9c-47c6-88c6-4a3d39d53046"
      },
      "execution_count": null,
      "outputs": [
        {
          "output_type": "execute_result",
          "data": {
            "text/plain": [
              "0    0.785884\n",
              "1    0.202616\n",
              "2    0.011500\n",
              "Name: gender_matched, dtype: float64"
            ]
          },
          "metadata": {},
          "execution_count": 12
        }
      ]
    },
    {
      "cell_type": "code",
      "source": [
        ""
      ],
      "metadata": {
        "id": "6qdkdeWk6T87"
      },
      "execution_count": null,
      "outputs": []
    }
  ],
  "metadata": {
    "colab": {
      "collapsed_sections": [
        "ytNTQBppkE_9",
        "euCj_d0UUkps"
      ],
      "machine_shape": "hm",
      "name": "preprocessing.ipynb",
      "provenance": [],
      "include_colab_link": true
    },
    "kernelspec": {
      "display_name": "Python 3",
      "language": "python",
      "name": "python3"
    },
    "language_info": {
      "codemirror_mode": {
        "name": "ipython",
        "version": 3
      },
      "file_extension": ".py",
      "mimetype": "text/x-python",
      "name": "python",
      "nbconvert_exporter": "python",
      "pygments_lexer": "ipython3",
      "version": "3.8.5"
    }
  },
  "nbformat": 4,
  "nbformat_minor": 0
}